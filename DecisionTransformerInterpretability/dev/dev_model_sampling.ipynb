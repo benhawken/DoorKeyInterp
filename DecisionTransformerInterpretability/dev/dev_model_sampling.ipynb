{
 "cells": [
  {
   "attachments": {},
   "cell_type": "markdown",
   "metadata": {},
   "source": [
    "# https://github.com/jbloomAus/DecisionTransformerInterpretability/issues/33\n"
   ]
  },
  {
   "cell_type": "code",
   "execution_count": 1,
   "metadata": {},
   "outputs": [
    {
     "name": "stderr",
     "output_type": "stream",
     "text": [
      "\u001b[34m\u001b[1mwandb\u001b[0m: Currently logged in as: \u001b[33mjbloomaus\u001b[0m (\u001b[33marena-ldn\u001b[0m). Use \u001b[1m`wandb login --relogin`\u001b[0m to force relogin\n"
     ]
    },
    {
     "data": {
      "text/html": [
       "wandb version 0.14.1 is available!  To upgrade, please run:\n",
       " $ pip install wandb --upgrade"
      ],
      "text/plain": [
       "<IPython.core.display.HTML object>"
      ]
     },
     "metadata": {},
     "output_type": "display_data"
    },
    {
     "data": {
      "text/html": [
       "Tracking run with wandb version 0.13.7"
      ],
      "text/plain": [
       "<IPython.core.display.HTML object>"
      ]
     },
     "metadata": {},
     "output_type": "display_data"
    },
    {
     "data": {
      "text/html": [
       "Run data is saved locally in <code>/Users/josephbloom/GithubRepositories/DecisionTransformerInterpretability/wandb/run-20230406_123528-2zg8zkcr</code>"
      ],
      "text/plain": [
       "<IPython.core.display.HTML object>"
      ]
     },
     "metadata": {},
     "output_type": "display_data"
    },
    {
     "data": {
      "text/html": [
       "Syncing run <strong><a href=\"https://wandb.ai/arena-ldn/DecisionTransformerInterpretability/runs/2zg8zkcr\" target=\"_blank\">nemesis-first-contact-264</a></strong> to <a href=\"https://wandb.ai/arena-ldn/DecisionTransformerInterpretability\" target=\"_blank\">Weights & Biases</a> (<a href=\"https://wandb.me/run\" target=\"_blank\">docs</a>)<br/>"
      ],
      "text/plain": [
       "<IPython.core.display.HTML object>"
      ]
     },
     "metadata": {},
     "output_type": "display_data"
    },
    {
     "name": "stderr",
     "output_type": "stream",
     "text": [
      "\u001b[34m\u001b[1mwandb\u001b[0m:   11 of 11 files downloaded.  \n"
     ]
    }
   ],
   "source": [
    "import wandb\n",
    "run = wandb.init()\n",
    "artifact = run.use_artifact('arena-ldn/PPO-MiniGrid/Test-PPO-LSTM_checkpoints:v16', type='model')\n",
    "artifact_dir = artifact.download()"
   ]
  },
  {
   "cell_type": "code",
   "execution_count": 7,
   "metadata": {},
   "outputs": [
    {
     "name": "stderr",
     "output_type": "stream",
     "text": [
      "/Users/josephbloom/miniforge3/envs/decision_transformer_interpretability/lib/python3.10/site-packages/gymnasium/envs/registration.py:693: UserWarning: \u001b[33mWARN: Overriding environment DynamicObstaclesMultiEnv-v0 already in registry.\u001b[0m\n",
      "  logger.warn(f\"Overriding environment {new_spec.id} already in registry.\")\n",
      "/Users/josephbloom/miniforge3/envs/decision_transformer_interpretability/lib/python3.10/site-packages/gymnasium/envs/registration.py:693: UserWarning: \u001b[33mWARN: Overriding environment CrossingMultiEnv-v0 already in registry.\u001b[0m\n",
      "  logger.warn(f\"Overriding environment {new_spec.id} already in registry.\")\n",
      "/Users/josephbloom/miniforge3/envs/decision_transformer_interpretability/lib/python3.10/site-packages/gymnasium/envs/registration.py:693: UserWarning: \u001b[33mWARN: Overriding environment MultiRoomMultiEnv-v0 already in registry.\u001b[0m\n",
      "  logger.warn(f\"Overriding environment {new_spec.id} already in registry.\")\n",
      "/Users/josephbloom/miniforge3/envs/decision_transformer_interpretability/lib/python3.10/site-packages/gymnasium/envs/registration.py:693: UserWarning: \u001b[33mWARN: Overriding environment Probe1-v0 already in registry.\u001b[0m\n",
      "  logger.warn(f\"Overriding environment {new_spec.id} already in registry.\")\n",
      "/Users/josephbloom/miniforge3/envs/decision_transformer_interpretability/lib/python3.10/site-packages/gymnasium/envs/registration.py:693: UserWarning: \u001b[33mWARN: Overriding environment Probe2-v0 already in registry.\u001b[0m\n",
      "  logger.warn(f\"Overriding environment {new_spec.id} already in registry.\")\n",
      "/Users/josephbloom/miniforge3/envs/decision_transformer_interpretability/lib/python3.10/site-packages/gymnasium/envs/registration.py:693: UserWarning: \u001b[33mWARN: Overriding environment Probe3-v0 already in registry.\u001b[0m\n",
      "  logger.warn(f\"Overriding environment {new_spec.id} already in registry.\")\n",
      "/Users/josephbloom/miniforge3/envs/decision_transformer_interpretability/lib/python3.10/site-packages/gymnasium/envs/registration.py:693: UserWarning: \u001b[33mWARN: Overriding environment Probe4-v0 already in registry.\u001b[0m\n",
      "  logger.warn(f\"Overriding environment {new_spec.id} already in registry.\")\n",
      "/Users/josephbloom/miniforge3/envs/decision_transformer_interpretability/lib/python3.10/site-packages/gymnasium/envs/registration.py:693: UserWarning: \u001b[33mWARN: Overriding environment Probe5-v0 already in registry.\u001b[0m\n",
      "  logger.warn(f\"Overriding environment {new_spec.id} already in registry.\")\n",
      "/Users/josephbloom/miniforge3/envs/decision_transformer_interpretability/lib/python3.10/site-packages/gymnasium/envs/registration.py:693: UserWarning: \u001b[33mWARN: Overriding environment Probe6-v0 already in registry.\u001b[0m\n",
      "  logger.warn(f\"Overriding environment {new_spec.id} already in registry.\")\n",
      "/Users/josephbloom/miniforge3/envs/decision_transformer_interpretability/lib/python3.10/site-packages/gymnasium/envs/registration.py:693: UserWarning: \u001b[33mWARN: Overriding environment MiniGrid-MemoryS7RandomDirection-v0 already in registry.\u001b[0m\n",
      "  logger.warn(f\"Overriding environment {new_spec.id} already in registry.\")\n",
      "/Users/josephbloom/miniforge3/envs/decision_transformer_interpretability/lib/python3.10/site-packages/gymnasium/envs/registration.py:693: UserWarning: \u001b[33mWARN: Overriding environment MiniGrid-MemoryS7FixedStart-v0 already in registry.\u001b[0m\n",
      "  logger.warn(f\"Overriding environment {new_spec.id} already in registry.\")\n",
      "/Users/josephbloom/miniforge3/envs/decision_transformer_interpretability/lib/python3.10/site-packages/gymnasium/wrappers/record_video.py:87: UserWarning: \u001b[33mWARN: Overwriting existing videos at /Users/josephbloom/GithubRepositories/DecisionTransformerInterpretability/dev/videos/test folder (try specifying a different `video_folder` for the `RecordVideo` wrapper if this is not desired)\u001b[0m\n",
      "  logger.warn(\n"
     ]
    }
   ],
   "source": [
    "\n",
    "import torch\n",
    "import gymnasium as gym \n",
    "from src.environments.environments import make_env\n",
    "from src.config import LSTMModelConfig, EnvironmentConfig, RunConfig, ConfigJsonEncoder\n",
    "from src.ppo.agent import load_saved_checkpoint\n",
    "from src.environments.registration import register_envs\n",
    "\n",
    "register_envs()\n",
    "\n",
    "path = \"../artifacts/Test-PPO-LSTM_checkpoints:v16/Test-PPO-LSTM_10.pt\"\n",
    "agent = load_saved_checkpoint(path, 10)\n"
   ]
  },
  {
   "cell_type": "code",
   "execution_count": 4,
   "metadata": {},
   "outputs": [
    {
     "data": {
      "application/vnd.plotly.v1+json": {
       "config": {
        "plotlyServerURL": "https://plotly.com"
       },
       "data": [
        {
         "hovertemplate": "x: %{x}<br>y: %{y}<br>color: [%{z[0]}, %{z[1]}, %{z[2]}]<extra></extra>",
         "name": "0",
         "source": "data:image/png;base64,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",
         "type": "image",
         "xaxis": "x",
         "yaxis": "y"
        }
       ],
       "layout": {
        "margin": {
         "t": 60
        },
        "template": {
         "data": {
          "bar": [
           {
            "error_x": {
             "color": "#2a3f5f"
            },
            "error_y": {
             "color": "#2a3f5f"
            },
            "marker": {
             "line": {
              "color": "#E5ECF6",
              "width": 0.5
             },
             "pattern": {
              "fillmode": "overlay",
              "size": 10,
              "solidity": 0.2
             }
            },
            "type": "bar"
           }
          ],
          "barpolar": [
           {
            "marker": {
             "line": {
              "color": "#E5ECF6",
              "width": 0.5
             },
             "pattern": {
              "fillmode": "overlay",
              "size": 10,
              "solidity": 0.2
             }
            },
            "type": "barpolar"
           }
          ],
          "carpet": [
           {
            "aaxis": {
             "endlinecolor": "#2a3f5f",
             "gridcolor": "white",
             "linecolor": "white",
             "minorgridcolor": "white",
             "startlinecolor": "#2a3f5f"
            },
            "baxis": {
             "endlinecolor": "#2a3f5f",
             "gridcolor": "white",
             "linecolor": "white",
             "minorgridcolor": "white",
             "startlinecolor": "#2a3f5f"
            },
            "type": "carpet"
           }
          ],
          "choropleth": [
           {
            "colorbar": {
             "outlinewidth": 0,
             "ticks": ""
            },
            "type": "choropleth"
           }
          ],
          "contour": [
           {
            "colorbar": {
             "outlinewidth": 0,
             "ticks": ""
            },
            "colorscale": [
             [
              0,
              "#0d0887"
             ],
             [
              0.1111111111111111,
              "#46039f"
             ],
             [
              0.2222222222222222,
              "#7201a8"
             ],
             [
              0.3333333333333333,
              "#9c179e"
             ],
             [
              0.4444444444444444,
              "#bd3786"
             ],
             [
              0.5555555555555556,
              "#d8576b"
             ],
             [
              0.6666666666666666,
              "#ed7953"
             ],
             [
              0.7777777777777778,
              "#fb9f3a"
             ],
             [
              0.8888888888888888,
              "#fdca26"
             ],
             [
              1,
              "#f0f921"
             ]
            ],
            "type": "contour"
           }
          ],
          "contourcarpet": [
           {
            "colorbar": {
             "outlinewidth": 0,
             "ticks": ""
            },
            "type": "contourcarpet"
           }
          ],
          "heatmap": [
           {
            "colorbar": {
             "outlinewidth": 0,
             "ticks": ""
            },
            "colorscale": [
             [
              0,
              "#0d0887"
             ],
             [
              0.1111111111111111,
              "#46039f"
             ],
             [
              0.2222222222222222,
              "#7201a8"
             ],
             [
              0.3333333333333333,
              "#9c179e"
             ],
             [
              0.4444444444444444,
              "#bd3786"
             ],
             [
              0.5555555555555556,
              "#d8576b"
             ],
             [
              0.6666666666666666,
              "#ed7953"
             ],
             [
              0.7777777777777778,
              "#fb9f3a"
             ],
             [
              0.8888888888888888,
              "#fdca26"
             ],
             [
              1,
              "#f0f921"
             ]
            ],
            "type": "heatmap"
           }
          ],
          "heatmapgl": [
           {
            "colorbar": {
             "outlinewidth": 0,
             "ticks": ""
            },
            "colorscale": [
             [
              0,
              "#0d0887"
             ],
             [
              0.1111111111111111,
              "#46039f"
             ],
             [
              0.2222222222222222,
              "#7201a8"
             ],
             [
              0.3333333333333333,
              "#9c179e"
             ],
             [
              0.4444444444444444,
              "#bd3786"
             ],
             [
              0.5555555555555556,
              "#d8576b"
             ],
             [
              0.6666666666666666,
              "#ed7953"
             ],
             [
              0.7777777777777778,
              "#fb9f3a"
             ],
             [
              0.8888888888888888,
              "#fdca26"
             ],
             [
              1,
              "#f0f921"
             ]
            ],
            "type": "heatmapgl"
           }
          ],
          "histogram": [
           {
            "marker": {
             "pattern": {
              "fillmode": "overlay",
              "size": 10,
              "solidity": 0.2
             }
            },
            "type": "histogram"
           }
          ],
          "histogram2d": [
           {
            "colorbar": {
             "outlinewidth": 0,
             "ticks": ""
            },
            "colorscale": [
             [
              0,
              "#0d0887"
             ],
             [
              0.1111111111111111,
              "#46039f"
             ],
             [
              0.2222222222222222,
              "#7201a8"
             ],
             [
              0.3333333333333333,
              "#9c179e"
             ],
             [
              0.4444444444444444,
              "#bd3786"
             ],
             [
              0.5555555555555556,
              "#d8576b"
             ],
             [
              0.6666666666666666,
              "#ed7953"
             ],
             [
              0.7777777777777778,
              "#fb9f3a"
             ],
             [
              0.8888888888888888,
              "#fdca26"
             ],
             [
              1,
              "#f0f921"
             ]
            ],
            "type": "histogram2d"
           }
          ],
          "histogram2dcontour": [
           {
            "colorbar": {
             "outlinewidth": 0,
             "ticks": ""
            },
            "colorscale": [
             [
              0,
              "#0d0887"
             ],
             [
              0.1111111111111111,
              "#46039f"
             ],
             [
              0.2222222222222222,
              "#7201a8"
             ],
             [
              0.3333333333333333,
              "#9c179e"
             ],
             [
              0.4444444444444444,
              "#bd3786"
             ],
             [
              0.5555555555555556,
              "#d8576b"
             ],
             [
              0.6666666666666666,
              "#ed7953"
             ],
             [
              0.7777777777777778,
              "#fb9f3a"
             ],
             [
              0.8888888888888888,
              "#fdca26"
             ],
             [
              1,
              "#f0f921"
             ]
            ],
            "type": "histogram2dcontour"
           }
          ],
          "mesh3d": [
           {
            "colorbar": {
             "outlinewidth": 0,
             "ticks": ""
            },
            "type": "mesh3d"
           }
          ],
          "parcoords": [
           {
            "line": {
             "colorbar": {
              "outlinewidth": 0,
              "ticks": ""
             }
            },
            "type": "parcoords"
           }
          ],
          "pie": [
           {
            "automargin": true,
            "type": "pie"
           }
          ],
          "scatter": [
           {
            "fillpattern": {
             "fillmode": "overlay",
             "size": 10,
             "solidity": 0.2
            },
            "type": "scatter"
           }
          ],
          "scatter3d": [
           {
            "line": {
             "colorbar": {
              "outlinewidth": 0,
              "ticks": ""
             }
            },
            "marker": {
             "colorbar": {
              "outlinewidth": 0,
              "ticks": ""
             }
            },
            "type": "scatter3d"
           }
          ],
          "scattercarpet": [
           {
            "marker": {
             "colorbar": {
              "outlinewidth": 0,
              "ticks": ""
             }
            },
            "type": "scattercarpet"
           }
          ],
          "scattergeo": [
           {
            "marker": {
             "colorbar": {
              "outlinewidth": 0,
              "ticks": ""
             }
            },
            "type": "scattergeo"
           }
          ],
          "scattergl": [
           {
            "marker": {
             "colorbar": {
              "outlinewidth": 0,
              "ticks": ""
             }
            },
            "type": "scattergl"
           }
          ],
          "scattermapbox": [
           {
            "marker": {
             "colorbar": {
              "outlinewidth": 0,
              "ticks": ""
             }
            },
            "type": "scattermapbox"
           }
          ],
          "scatterpolar": [
           {
            "marker": {
             "colorbar": {
              "outlinewidth": 0,
              "ticks": ""
             }
            },
            "type": "scatterpolar"
           }
          ],
          "scatterpolargl": [
           {
            "marker": {
             "colorbar": {
              "outlinewidth": 0,
              "ticks": ""
             }
            },
            "type": "scatterpolargl"
           }
          ],
          "scatterternary": [
           {
            "marker": {
             "colorbar": {
              "outlinewidth": 0,
              "ticks": ""
             }
            },
            "type": "scatterternary"
           }
          ],
          "surface": [
           {
            "colorbar": {
             "outlinewidth": 0,
             "ticks": ""
            },
            "colorscale": [
             [
              0,
              "#0d0887"
             ],
             [
              0.1111111111111111,
              "#46039f"
             ],
             [
              0.2222222222222222,
              "#7201a8"
             ],
             [
              0.3333333333333333,
              "#9c179e"
             ],
             [
              0.4444444444444444,
              "#bd3786"
             ],
             [
              0.5555555555555556,
              "#d8576b"
             ],
             [
              0.6666666666666666,
              "#ed7953"
             ],
             [
              0.7777777777777778,
              "#fb9f3a"
             ],
             [
              0.8888888888888888,
              "#fdca26"
             ],
             [
              1,
              "#f0f921"
             ]
            ],
            "type": "surface"
           }
          ],
          "table": [
           {
            "cells": {
             "fill": {
              "color": "#EBF0F8"
             },
             "line": {
              "color": "white"
             }
            },
            "header": {
             "fill": {
              "color": "#C8D4E3"
             },
             "line": {
              "color": "white"
             }
            },
            "type": "table"
           }
          ]
         },
         "layout": {
          "annotationdefaults": {
           "arrowcolor": "#2a3f5f",
           "arrowhead": 0,
           "arrowwidth": 1
          },
          "autotypenumbers": "strict",
          "coloraxis": {
           "colorbar": {
            "outlinewidth": 0,
            "ticks": ""
           }
          },
          "colorscale": {
           "diverging": [
            [
             0,
             "#8e0152"
            ],
            [
             0.1,
             "#c51b7d"
            ],
            [
             0.2,
             "#de77ae"
            ],
            [
             0.3,
             "#f1b6da"
            ],
            [
             0.4,
             "#fde0ef"
            ],
            [
             0.5,
             "#f7f7f7"
            ],
            [
             0.6,
             "#e6f5d0"
            ],
            [
             0.7,
             "#b8e186"
            ],
            [
             0.8,
             "#7fbc41"
            ],
            [
             0.9,
             "#4d9221"
            ],
            [
             1,
             "#276419"
            ]
           ],
           "sequential": [
            [
             0,
             "#0d0887"
            ],
            [
             0.1111111111111111,
             "#46039f"
            ],
            [
             0.2222222222222222,
             "#7201a8"
            ],
            [
             0.3333333333333333,
             "#9c179e"
            ],
            [
             0.4444444444444444,
             "#bd3786"
            ],
            [
             0.5555555555555556,
             "#d8576b"
            ],
            [
             0.6666666666666666,
             "#ed7953"
            ],
            [
             0.7777777777777778,
             "#fb9f3a"
            ],
            [
             0.8888888888888888,
             "#fdca26"
            ],
            [
             1,
             "#f0f921"
            ]
           ],
           "sequentialminus": [
            [
             0,
             "#0d0887"
            ],
            [
             0.1111111111111111,
             "#46039f"
            ],
            [
             0.2222222222222222,
             "#7201a8"
            ],
            [
             0.3333333333333333,
             "#9c179e"
            ],
            [
             0.4444444444444444,
             "#bd3786"
            ],
            [
             0.5555555555555556,
             "#d8576b"
            ],
            [
             0.6666666666666666,
             "#ed7953"
            ],
            [
             0.7777777777777778,
             "#fb9f3a"
            ],
            [
             0.8888888888888888,
             "#fdca26"
            ],
            [
             1,
             "#f0f921"
            ]
           ]
          },
          "colorway": [
           "#636efa",
           "#EF553B",
           "#00cc96",
           "#ab63fa",
           "#FFA15A",
           "#19d3f3",
           "#FF6692",
           "#B6E880",
           "#FF97FF",
           "#FECB52"
          ],
          "font": {
           "color": "#2a3f5f"
          },
          "geo": {
           "bgcolor": "white",
           "lakecolor": "white",
           "landcolor": "#E5ECF6",
           "showlakes": true,
           "showland": true,
           "subunitcolor": "white"
          },
          "hoverlabel": {
           "align": "left"
          },
          "hovermode": "closest",
          "mapbox": {
           "style": "light"
          },
          "paper_bgcolor": "white",
          "plot_bgcolor": "#E5ECF6",
          "polar": {
           "angularaxis": {
            "gridcolor": "white",
            "linecolor": "white",
            "ticks": ""
           },
           "bgcolor": "#E5ECF6",
           "radialaxis": {
            "gridcolor": "white",
            "linecolor": "white",
            "ticks": ""
           }
          },
          "scene": {
           "xaxis": {
            "backgroundcolor": "#E5ECF6",
            "gridcolor": "white",
            "gridwidth": 2,
            "linecolor": "white",
            "showbackground": true,
            "ticks": "",
            "zerolinecolor": "white"
           },
           "yaxis": {
            "backgroundcolor": "#E5ECF6",
            "gridcolor": "white",
            "gridwidth": 2,
            "linecolor": "white",
            "showbackground": true,
            "ticks": "",
            "zerolinecolor": "white"
           },
           "zaxis": {
            "backgroundcolor": "#E5ECF6",
            "gridcolor": "white",
            "gridwidth": 2,
            "linecolor": "white",
            "showbackground": true,
            "ticks": "",
            "zerolinecolor": "white"
           }
          },
          "shapedefaults": {
           "line": {
            "color": "#2a3f5f"
           }
          },
          "ternary": {
           "aaxis": {
            "gridcolor": "white",
            "linecolor": "white",
            "ticks": ""
           },
           "baxis": {
            "gridcolor": "white",
            "linecolor": "white",
            "ticks": ""
           },
           "bgcolor": "#E5ECF6",
           "caxis": {
            "gridcolor": "white",
            "linecolor": "white",
            "ticks": ""
           }
          },
          "title": {
           "x": 0.05
          },
          "xaxis": {
           "automargin": true,
           "gridcolor": "white",
           "linecolor": "white",
           "ticks": "",
           "title": {
            "standoff": 15
           },
           "zerolinecolor": "white",
           "zerolinewidth": 2
          },
          "yaxis": {
           "automargin": true,
           "gridcolor": "white",
           "linecolor": "white",
           "ticks": "",
           "title": {
            "standoff": 15
           },
           "zerolinecolor": "white",
           "zerolinewidth": 2
          }
         }
        },
        "xaxis": {
         "anchor": "y",
         "domain": [
          0,
          1
         ]
        },
        "yaxis": {
         "anchor": "x",
         "domain": [
          0,
          1
         ]
        }
       }
      }
     },
     "metadata": {},
     "output_type": "display_data"
    }
   ],
   "source": [
    "import plotly.express as px \n",
    "obs, info = agent.envs.reset()\n",
    "render = agent.envs.envs[0].env.render()\n",
    "px.imshow(render)"
   ]
  },
  {
   "attachments": {},
   "cell_type": "markdown",
   "metadata": {},
   "source": [
    "# Goals\n",
    "\n",
    "1. Assess the checkpoint performance\n",
    "- Report on the episodic return and episode lengths\n",
    "2. Sample trajectories for training of the decision transformer model\n",
    "- Generate a trajectory file\n",
    "\n"
   ]
  },
  {
   "cell_type": "code",
   "execution_count": 6,
   "metadata": {},
   "outputs": [
    {
     "name": "stderr",
     "output_type": "stream",
     "text": [
      "/Users/josephbloom/miniforge3/envs/decision_transformer_interpretability/lib/python3.10/site-packages/gymnasium/envs/registration.py:693: UserWarning: \u001b[33mWARN: Overriding environment DynamicObstaclesMultiEnv-v0 already in registry.\u001b[0m\n",
      "  logger.warn(f\"Overriding environment {new_spec.id} already in registry.\")\n",
      "/Users/josephbloom/miniforge3/envs/decision_transformer_interpretability/lib/python3.10/site-packages/gymnasium/envs/registration.py:693: UserWarning: \u001b[33mWARN: Overriding environment CrossingMultiEnv-v0 already in registry.\u001b[0m\n",
      "  logger.warn(f\"Overriding environment {new_spec.id} already in registry.\")\n",
      "/Users/josephbloom/miniforge3/envs/decision_transformer_interpretability/lib/python3.10/site-packages/gymnasium/envs/registration.py:693: UserWarning: \u001b[33mWARN: Overriding environment MultiRoomMultiEnv-v0 already in registry.\u001b[0m\n",
      "  logger.warn(f\"Overriding environment {new_spec.id} already in registry.\")\n",
      "/Users/josephbloom/miniforge3/envs/decision_transformer_interpretability/lib/python3.10/site-packages/gymnasium/envs/registration.py:693: UserWarning: \u001b[33mWARN: Overriding environment Probe1-v0 already in registry.\u001b[0m\n",
      "  logger.warn(f\"Overriding environment {new_spec.id} already in registry.\")\n",
      "/Users/josephbloom/miniforge3/envs/decision_transformer_interpretability/lib/python3.10/site-packages/gymnasium/envs/registration.py:693: UserWarning: \u001b[33mWARN: Overriding environment Probe2-v0 already in registry.\u001b[0m\n",
      "  logger.warn(f\"Overriding environment {new_spec.id} already in registry.\")\n",
      "/Users/josephbloom/miniforge3/envs/decision_transformer_interpretability/lib/python3.10/site-packages/gymnasium/envs/registration.py:693: UserWarning: \u001b[33mWARN: Overriding environment Probe3-v0 already in registry.\u001b[0m\n",
      "  logger.warn(f\"Overriding environment {new_spec.id} already in registry.\")\n",
      "/Users/josephbloom/miniforge3/envs/decision_transformer_interpretability/lib/python3.10/site-packages/gymnasium/envs/registration.py:693: UserWarning: \u001b[33mWARN: Overriding environment Probe4-v0 already in registry.\u001b[0m\n",
      "  logger.warn(f\"Overriding environment {new_spec.id} already in registry.\")\n",
      "/Users/josephbloom/miniforge3/envs/decision_transformer_interpretability/lib/python3.10/site-packages/gymnasium/envs/registration.py:693: UserWarning: \u001b[33mWARN: Overriding environment Probe5-v0 already in registry.\u001b[0m\n",
      "  logger.warn(f\"Overriding environment {new_spec.id} already in registry.\")\n",
      "/Users/josephbloom/miniforge3/envs/decision_transformer_interpretability/lib/python3.10/site-packages/gymnasium/envs/registration.py:693: UserWarning: \u001b[33mWARN: Overriding environment Probe6-v0 already in registry.\u001b[0m\n",
      "  logger.warn(f\"Overriding environment {new_spec.id} already in registry.\")\n",
      "/Users/josephbloom/miniforge3/envs/decision_transformer_interpretability/lib/python3.10/site-packages/gymnasium/envs/registration.py:693: UserWarning: \u001b[33mWARN: Overriding environment MiniGrid-MemoryS7RandomDirection-v0 already in registry.\u001b[0m\n",
      "  logger.warn(f\"Overriding environment {new_spec.id} already in registry.\")\n",
      "/Users/josephbloom/miniforge3/envs/decision_transformer_interpretability/lib/python3.10/site-packages/gymnasium/envs/registration.py:693: UserWarning: \u001b[33mWARN: Overriding environment MiniGrid-MemoryS7FixedStart-v0 already in registry.\u001b[0m\n",
      "  logger.warn(f\"Overriding environment {new_spec.id} already in registry.\")\n",
      "/Users/josephbloom/miniforge3/envs/decision_transformer_interpretability/lib/python3.10/site-packages/gymnasium/wrappers/record_video.py:87: UserWarning: \u001b[33mWARN: Overwriting existing videos at /Users/josephbloom/GithubRepositories/DecisionTransformerInterpretability/dev/videos/test folder (try specifying a different `video_folder` for the `RecordVideo` wrapper if this is not desired)\u001b[0m\n",
      "  logger.warn(\n"
     ]
    }
   ],
   "source": [
    "import sys \n",
    "sys.path.append(\"..\")\n",
    "from src.ppo.agent import load_all_agents_from_checkpoints, sample_from_agents\n",
    "from src.environments.registration import register_envs\n",
    "register_envs()\n",
    "\n",
    "checkpoint_folder_path = \"../artifacts/Test-PPO-LSTM_checkpoints:v16\"\n",
    "agents = load_all_agents_from_checkpoints(checkpoint_folder_path)\n",
    "all_episode_lengths, all_episode_returns = sample_from_agents(agents, rollout_length=300, num_envs=16)"
   ]
  },
  {
   "cell_type": "code",
   "execution_count": null,
   "metadata": {},
   "outputs": [],
   "source": []
  },
  {
   "cell_type": "code",
   "execution_count": 7,
   "metadata": {},
   "outputs": [
    {
     "data": {
      "application/vnd.plotly.v1+json": {
       "config": {
        "plotlyServerURL": "https://plotly.com"
       },
       "data": [
        {
         "boxpoints": "all",
         "jitter": 0.3,
         "name": "0.0: (9.54, +- 4.20)",
         "pointpos": -1.8,
         "type": "box",
         "y": [
          7,
          7,
          7,
          8,
          8,
          9,
          9,
          11,
          7,
          7,
          7,
          9,
          9,
          17,
          18,
          10,
          10,
          9,
          6,
          9,
          9,
          6,
          8,
          12,
          7,
          12,
          11,
          6,
          6,
          10,
          13,
          8,
          10,
          12,
          6,
          6,
          11,
          9,
          6,
          8,
          6,
          8,
          8,
          13,
          9,
          8,
          12,
          7,
          10,
          11,
          8,
          9,
          10,
          15,
          10,
          8,
          9,
          7,
          12,
          7,
          9,
          9,
          12,
          10,
          8,
          9,
          9,
          6,
          8,
          18,
          10,
          11,
          11,
          8,
          8,
          17,
          8,
          7,
          10,
          8,
          10,
          7,
          11,
          9,
          11,
          9,
          8,
          9,
          9,
          8,
          10,
          7,
          9,
          7,
          9,
          10,
          8,
          8,
          10,
          6,
          10,
          8,
          11,
          6,
          8,
          7,
          10,
          10,
          9,
          9,
          8,
          7,
          8,
          7,
          9,
          13,
          6,
          7,
          6,
          8,
          8,
          11,
          9,
          7,
          9,
          13,
          8,
          6,
          9,
          11,
          11,
          7,
          9,
          11,
          6,
          16,
          8,
          11,
          6,
          10,
          7,
          11,
          8,
          7,
          8,
          7,
          8,
          8,
          8,
          9,
          8,
          8,
          6,
          12,
          7,
          8,
          11,
          10,
          8,
          9,
          9,
          7,
          17,
          8,
          8,
          15,
          9,
          6,
          10,
          9,
          10,
          10,
          8,
          15,
          7,
          8,
          8,
          8,
          8,
          7,
          50,
          14,
          8,
          7,
          8,
          9,
          9,
          14,
          8,
          9,
          7,
          10,
          13,
          8,
          6,
          9,
          11,
          8,
          6,
          6,
          10,
          8,
          10,
          9,
          9,
          11,
          12,
          11,
          6,
          9,
          19,
          8,
          13,
          16,
          7,
          10,
          7,
          12,
          12,
          9,
          12,
          7,
          11,
          10,
          11,
          13,
          8,
          7,
          11,
          9,
          10,
          50,
          9,
          8,
          13,
          7,
          9,
          10,
          7,
          6,
          8,
          6,
          11,
          14,
          8,
          9,
          10,
          13,
          10,
          8,
          17,
          8,
          6,
          11,
          9,
          8,
          10,
          8,
          7,
          6,
          8,
          9,
          13,
          10,
          10,
          7,
          9,
          8,
          8,
          8,
          13,
          12,
          9,
          8,
          13,
          9,
          7,
          16,
          8,
          6,
          7,
          7,
          8,
          12,
          7,
          6,
          22,
          7,
          10,
          9,
          12,
          8,
          13,
          6,
          9,
          9,
          10,
          6,
          8,
          8,
          6,
          10,
          10,
          18,
          17,
          10,
          14,
          10,
          8,
          9
         ]
        },
        {
         "boxpoints": "all",
         "jitter": 0.3,
         "name": "1.0: (34.62, +- 15.70)",
         "pointpos": -1.8,
         "type": "box",
         "y": [
          11,
          17,
          18,
          18,
          21,
          25,
          14,
          20,
          18,
          12,
          26,
          21,
          50,
          50,
          50,
          50,
          12,
          50,
          16,
          20,
          9,
          29,
          33,
          50,
          39,
          50,
          13,
          50,
          50,
          27,
          50,
          50,
          16,
          50,
          9,
          50,
          50,
          50,
          50,
          50,
          50,
          50,
          42,
          30,
          27,
          27,
          28,
          50,
          50,
          50,
          50,
          18,
          50,
          15,
          50,
          9,
          31,
          50,
          23,
          50,
          15,
          18,
          41,
          14,
          50,
          50,
          50,
          50,
          50,
          31,
          14,
          44,
          50,
          50,
          50,
          30,
          15
         ]
        },
        {
         "boxpoints": "all",
         "jitter": 0.3,
         "name": "2.0: (27.96, +- 15.22)",
         "pointpos": -1.8,
         "type": "box",
         "y": [
          6,
          6,
          8,
          10,
          18,
          14,
          20,
          10,
          22,
          23,
          27,
          27,
          6,
          18,
          14,
          18,
          44,
          22,
          26,
          15,
          14,
          50,
          22,
          22,
          10,
          36,
          50,
          30,
          30,
          14,
          42,
          6,
          10,
          24,
          50,
          10,
          20,
          50,
          34,
          50,
          14,
          50,
          20,
          14,
          19,
          34,
          50,
          50,
          10,
          14,
          42,
          50,
          10,
          50,
          16,
          18,
          32,
          38,
          50,
          46,
          27,
          35,
          50,
          22,
          50,
          15,
          18,
          20,
          30,
          22,
          10,
          50,
          12,
          26,
          50,
          50,
          26,
          30,
          50,
          46,
          22,
          50,
          16,
          18,
          50,
          50,
          22,
          50,
          50,
          20,
          20,
          50,
          16,
          18,
          18,
          22,
          50,
          26,
          6
         ]
        },
        {
         "boxpoints": "all",
         "jitter": 0.3,
         "name": "3.0: (24.83, +- 20.86)",
         "pointpos": -1.8,
         "type": "box",
         "y": [
          6,
          6,
          6,
          8,
          8,
          8,
          6,
          6,
          6,
          8,
          8,
          8,
          12,
          6,
          6,
          50,
          50,
          50,
          50,
          8,
          6,
          50,
          50,
          50,
          50,
          10,
          6,
          6,
          12,
          50,
          6,
          6,
          6,
          6,
          8,
          6,
          50,
          50,
          50,
          8,
          50,
          6,
          50,
          6,
          6,
          10,
          8,
          8,
          50,
          6,
          6,
          50,
          50,
          8,
          13,
          8,
          50,
          50,
          40,
          6,
          50,
          6,
          50,
          50,
          50,
          8,
          8,
          50,
          6,
          50,
          50,
          50,
          8,
          8,
          6,
          50,
          50,
          7,
          50,
          8,
          50,
          50,
          50,
          50,
          50,
          8,
          50,
          13,
          6,
          50,
          6,
          8,
          8,
          30,
          8,
          6,
          6,
          50,
          50,
          50,
          12,
          6,
          8,
          50,
          50,
          50,
          50,
          50,
          26,
          6,
          8,
          6,
          6,
          6
         ]
        },
        {
         "boxpoints": "all",
         "jitter": 0.3,
         "name": "4.0: (7.86, +- 2.16)",
         "pointpos": -1.8,
         "type": "box",
         "y": [
          6,
          6,
          6,
          6,
          6,
          6,
          8,
          8,
          9,
          10,
          6,
          8,
          8,
          6,
          9,
          10,
          9,
          8,
          6,
          12,
          9,
          6,
          6,
          6,
          8,
          7,
          8,
          8,
          8,
          8,
          9,
          14,
          7,
          8,
          6,
          6,
          6,
          7,
          16,
          6,
          6,
          8,
          8,
          6,
          9,
          8,
          6,
          7,
          6,
          8,
          6,
          7,
          7,
          7,
          8,
          8,
          6,
          16,
          7,
          7,
          6,
          7,
          8,
          6,
          8,
          8,
          6,
          10,
          7,
          6,
          6,
          8,
          6,
          6,
          10,
          8,
          6,
          8,
          8,
          7,
          6,
          6,
          13,
          6,
          8,
          8,
          10,
          6,
          17,
          8,
          6,
          8,
          11,
          8,
          6,
          6,
          8,
          6,
          6,
          8,
          8,
          6,
          6,
          6,
          7,
          7,
          8,
          8,
          7,
          9,
          6,
          9,
          9,
          13,
          8,
          6,
          6,
          6,
          6,
          8,
          6,
          6,
          7,
          11,
          8,
          7,
          6,
          8,
          8,
          8,
          10,
          9,
          12,
          6,
          9,
          8,
          8,
          9,
          8,
          11,
          8,
          6,
          26,
          6,
          6,
          6,
          7,
          19,
          8,
          7,
          10,
          9,
          11,
          6,
          8,
          11,
          6,
          8,
          8,
          8,
          8,
          8,
          9,
          7,
          8,
          9,
          8,
          6,
          6,
          10,
          7,
          9,
          8,
          8,
          6,
          8,
          6,
          6,
          8,
          6,
          10,
          8,
          10,
          7,
          8,
          6,
          8,
          9,
          6,
          8,
          8,
          8,
          9,
          6,
          8,
          9,
          7,
          7,
          6,
          7,
          11,
          8,
          8,
          6,
          8,
          7,
          12,
          8,
          6,
          8,
          10,
          9,
          11,
          9,
          6,
          9,
          10,
          6,
          8,
          9,
          12,
          8,
          6,
          6,
          7,
          10,
          6,
          8,
          6,
          8,
          7,
          7,
          6,
          7,
          9,
          6,
          6,
          7,
          9,
          8,
          6,
          9,
          6,
          8,
          7,
          8,
          7,
          8,
          8,
          7,
          6,
          6,
          9,
          8,
          8,
          6,
          6,
          6,
          15,
          8,
          9,
          6,
          8,
          6,
          10,
          11,
          9,
          7,
          9,
          8,
          7,
          6,
          6,
          6,
          6,
          7,
          7,
          10,
          9,
          7,
          8,
          8,
          8,
          8,
          11,
          8,
          9,
          8,
          7,
          6,
          7,
          6,
          8,
          7,
          6,
          8,
          7,
          7,
          9,
          6,
          6,
          9,
          8,
          8,
          7,
          7,
          8,
          6,
          6,
          12,
          6,
          8,
          6,
          6,
          6,
          8,
          10,
          6,
          8,
          9,
          11,
          7,
          6,
          7,
          8,
          6,
          6,
          8,
          8,
          6,
          8,
          8,
          7,
          7,
          8,
          6,
          8,
          9,
          7,
          8,
          6,
          12,
          8,
          6,
          6,
          7,
          9,
          6,
          8,
          7,
          6,
          12,
          9,
          15,
          12,
          10,
          8,
          11,
          9,
          7,
          11,
          6,
          8,
          12,
          7,
          6,
          8,
          8,
          10,
          6,
          11,
          7,
          8,
          7,
          6,
          6,
          13,
          9
         ]
        },
        {
         "boxpoints": "all",
         "jitter": 0.3,
         "name": "5.0: (7.85, +- 2.33)",
         "pointpos": -1.8,
         "type": "box",
         "y": [
          7,
          8,
          10,
          10,
          11,
          12,
          12,
          6,
          14,
          15,
          15,
          6,
          6,
          9,
          6,
          8,
          6,
          6,
          6,
          7,
          11,
          6,
          8,
          6,
          6,
          6,
          10,
          6,
          13,
          6,
          8,
          6,
          8,
          6,
          8,
          6,
          6,
          9,
          9,
          13,
          7,
          6,
          6,
          6,
          6,
          6,
          6,
          7,
          7,
          6,
          9,
          6,
          6,
          11,
          8,
          8,
          6,
          6,
          10,
          11,
          6,
          10,
          9,
          6,
          6,
          6,
          8,
          7,
          7,
          6,
          6,
          10,
          6,
          6,
          15,
          8,
          7,
          8,
          6,
          6,
          6,
          11,
          16,
          8,
          12,
          6,
          6,
          6,
          8,
          6,
          7,
          8,
          8,
          8,
          6,
          6,
          7,
          10,
          10,
          6,
          6,
          6,
          6,
          10,
          7,
          8,
          6,
          6,
          6,
          6,
          22,
          9,
          6,
          6,
          9,
          8,
          8,
          11,
          8,
          6,
          6,
          10,
          6,
          6,
          7,
          8,
          6,
          8,
          12,
          6,
          6,
          12,
          9,
          6,
          6,
          8,
          6,
          9,
          8,
          10,
          6,
          8,
          9,
          6,
          6,
          16,
          11,
          11,
          6,
          7,
          6,
          10,
          6,
          6,
          6,
          8,
          10,
          7,
          8,
          9,
          8,
          6,
          16,
          10,
          6,
          8,
          10,
          6,
          9,
          8,
          8,
          7,
          6,
          8,
          6,
          8,
          6,
          7,
          6,
          6,
          8,
          7,
          6,
          6,
          7,
          8,
          7,
          8,
          6,
          8,
          8,
          8,
          6,
          7,
          8,
          9,
          6,
          10,
          8,
          8,
          6,
          6,
          6,
          9,
          8,
          6,
          6,
          8,
          7,
          10,
          9,
          6,
          6,
          6,
          6,
          8,
          8,
          10,
          6,
          6,
          6,
          7,
          8,
          12,
          9,
          6,
          6,
          11,
          6,
          8,
          8,
          9,
          9,
          10,
          8,
          6,
          7,
          7,
          7,
          9,
          6,
          9,
          6,
          6,
          19,
          6,
          8,
          6,
          17,
          6,
          8,
          6,
          8,
          7,
          9,
          6,
          6,
          6,
          12,
          8,
          10,
          7,
          6,
          9,
          6,
          8,
          8,
          8,
          6,
          6,
          6,
          6,
          10,
          9,
          7,
          6,
          12,
          8,
          6,
          11,
          8,
          7,
          8,
          9,
          6,
          9,
          7,
          9,
          10,
          6,
          11,
          6,
          9,
          6,
          12,
          6,
          7,
          9,
          8,
          8,
          6,
          6,
          6,
          7,
          6,
          11,
          7,
          10,
          8,
          8,
          11,
          12,
          9,
          8,
          7,
          9,
          6,
          8,
          6,
          8,
          6,
          6,
          7,
          6,
          6,
          8,
          6,
          8,
          7,
          15,
          10,
          8,
          8,
          6,
          9,
          6,
          10,
          10,
          6,
          9,
          8,
          11,
          10,
          8,
          10,
          6,
          6,
          6,
          6,
          6,
          6,
          12,
          6,
          9,
          9,
          6,
          6,
          14,
          13,
          6,
          9,
          8,
          6,
          9,
          6,
          6,
          6,
          7,
          9,
          10,
          10,
          6,
          7,
          6,
          6,
          6,
          8,
          9
         ]
        },
        {
         "boxpoints": "all",
         "jitter": 0.3,
         "name": "6.0: (47.62, +- 8.12)",
         "pointpos": -1.8,
         "type": "box",
         "y": [
          31,
          48,
          50,
          50,
          50,
          50,
          50,
          50,
          50,
          50,
          50,
          50,
          50,
          50,
          50,
          50,
          50,
          50,
          50,
          50,
          17,
          50,
          50,
          50,
          50,
          50,
          50,
          50,
          50,
          50,
          50,
          26,
          50,
          20,
          50,
          50,
          50,
          50,
          50,
          50,
          50,
          13,
          50,
          50,
          50,
          50,
          50,
          50,
          50,
          50,
          50,
          50,
          50,
          50,
          50,
          50,
          50,
          50,
          50,
          50,
          50
         ]
        },
        {
         "boxpoints": "all",
         "jitter": 0.3,
         "name": "7.0: (9.17, +- 2.81)",
         "pointpos": -1.8,
         "type": "box",
         "y": [
          6,
          6,
          6,
          7,
          7,
          8,
          9,
          10,
          12,
          6,
          6,
          6,
          6,
          9,
          9,
          17,
          8,
          6,
          7,
          8,
          11,
          8,
          6,
          7,
          8,
          6,
          7,
          8,
          6,
          8,
          11,
          12,
          10,
          8,
          8,
          6,
          11,
          8,
          8,
          7,
          7,
          8,
          10,
          11,
          9,
          10,
          8,
          7,
          7,
          6,
          12,
          9,
          8,
          8,
          6,
          8,
          11,
          15,
          6,
          18,
          7,
          8,
          9,
          7,
          6,
          11,
          6,
          8,
          7,
          10,
          7,
          7,
          9,
          6,
          8,
          10,
          11,
          6,
          9,
          9,
          9,
          7,
          8,
          12,
          12,
          8,
          10,
          7,
          12,
          7,
          12,
          7,
          8,
          7,
          7,
          8,
          9,
          13,
          9,
          8,
          9,
          6,
          16,
          7,
          9,
          8,
          8,
          7,
          13,
          7,
          9,
          30,
          6,
          8,
          13,
          8,
          9,
          7,
          11,
          13,
          7,
          12,
          11,
          12,
          6,
          14,
          9,
          10,
          9,
          7,
          14,
          13,
          7,
          20,
          10,
          8,
          6,
          7,
          10,
          14,
          6,
          8,
          10,
          13,
          11,
          11,
          10,
          9,
          9,
          6,
          10,
          14,
          10,
          8,
          8,
          7,
          8,
          6,
          12,
          12,
          9,
          9,
          12,
          10,
          11,
          9,
          7,
          7,
          10,
          6,
          8,
          6,
          10,
          8,
          7,
          7,
          12,
          14,
          15,
          8,
          9,
          10,
          7,
          9,
          8,
          12,
          9,
          11,
          9,
          15,
          9,
          8,
          9,
          10,
          7,
          11,
          11,
          8,
          8,
          9,
          7,
          6,
          9,
          15,
          6,
          8,
          9,
          10,
          14,
          10,
          9,
          9,
          10,
          6,
          10,
          7,
          12,
          8,
          11,
          12,
          10,
          7,
          8,
          11,
          10,
          9,
          9,
          8,
          8,
          7,
          10,
          8,
          9,
          12,
          8,
          11,
          11,
          7,
          6,
          12,
          7,
          11,
          9,
          8,
          9,
          7,
          6,
          14,
          11,
          8,
          9,
          9,
          9,
          7,
          6,
          10,
          12,
          8,
          13,
          9,
          8,
          6,
          7,
          14,
          6,
          9,
          15,
          13,
          7,
          13,
          7,
          9,
          8,
          9,
          6,
          7,
          9,
          12,
          8,
          13,
          8,
          7,
          9,
          7,
          6,
          7,
          8,
          11,
          9,
          9,
          14,
          9,
          21,
          6,
          6,
          10,
          10,
          6,
          13,
          11,
          15,
          6,
          8,
          9,
          9,
          10,
          10,
          10,
          7,
          9,
          9,
          7,
          14,
          9,
          12,
          12,
          6,
          11,
          6,
          10,
          9,
          12
         ]
        },
        {
         "boxpoints": "all",
         "jitter": 0.3,
         "name": "8.0: (23.69, +- 20.82)",
         "pointpos": -1.8,
         "type": "box",
         "y": [
          6,
          8,
          8,
          8,
          8,
          6,
          6,
          6,
          21,
          14,
          8,
          8,
          6,
          8,
          8,
          8,
          12,
          50,
          50,
          50,
          50,
          6,
          50,
          50,
          8,
          50,
          50,
          50,
          8,
          6,
          50,
          8,
          6,
          50,
          50,
          50,
          8,
          6,
          8,
          50,
          50,
          50,
          8,
          8,
          8,
          8,
          50,
          8,
          50,
          8,
          50,
          6,
          8,
          50,
          50,
          6,
          8,
          50,
          50,
          6,
          8,
          8,
          50,
          50,
          6,
          50,
          6,
          6,
          6,
          8,
          8,
          50,
          50,
          50,
          8,
          50,
          6,
          50,
          50,
          8,
          50,
          6,
          8,
          6,
          6,
          50,
          50,
          50,
          8,
          50,
          6,
          50,
          8,
          50,
          50,
          12,
          8,
          6,
          6,
          50,
          50,
          50,
          8,
          6,
          50,
          6,
          6,
          8,
          6,
          6,
          8,
          50,
          6,
          6,
          6,
          8,
          6,
          6
         ]
        },
        {
         "boxpoints": "all",
         "jitter": 0.3,
         "name": "9.0: (28.00, +- 21.32)",
         "pointpos": -1.8,
         "type": "box",
         "y": [
          6,
          6,
          6,
          8,
          8,
          12,
          50,
          50,
          50,
          50,
          50,
          50,
          6,
          50,
          50,
          8,
          8,
          6,
          50,
          8,
          50,
          6,
          8,
          50,
          50,
          50,
          50,
          6,
          50,
          10,
          6,
          50,
          50,
          6,
          50,
          50,
          6,
          50,
          14,
          6,
          6,
          50,
          50,
          6,
          50,
          6,
          8,
          50,
          50,
          50,
          50,
          6,
          8,
          6,
          50,
          6,
          50,
          6,
          8,
          6,
          50,
          18,
          8,
          6,
          6,
          50,
          50,
          50,
          8,
          50,
          50,
          50,
          6,
          50,
          50,
          8,
          8,
          12,
          8,
          50,
          6,
          50,
          50,
          8,
          8,
          7,
          50,
          8,
          8,
          50,
          50,
          11,
          50,
          8,
          8,
          50,
          50,
          50,
          8,
          8,
          8,
          50
         ]
        },
        {
         "boxpoints": "all",
         "jitter": 0.3,
         "name": "10.0: (8.97, +- 2.79)",
         "pointpos": -1.8,
         "type": "box",
         "y": [
          8,
          8,
          8,
          8,
          8,
          8,
          9,
          9,
          9,
          10,
          6,
          8,
          8,
          6,
          8,
          7,
          7,
          9,
          9,
          6,
          13,
          6,
          10,
          9,
          9,
          9,
          8,
          11,
          6,
          7,
          6,
          9,
          7,
          8,
          9,
          10,
          19,
          9,
          7,
          9,
          6,
          9,
          15,
          12,
          7,
          14,
          11,
          8,
          6,
          12,
          9,
          8,
          6,
          17,
          9,
          9,
          10,
          8,
          8,
          7,
          9,
          8,
          10,
          10,
          9,
          19,
          8,
          10,
          12,
          7,
          7,
          8,
          13,
          6,
          9,
          6,
          7,
          7,
          8,
          9,
          11,
          8,
          11,
          9,
          7,
          6,
          13,
          11,
          7,
          6,
          9,
          8,
          8,
          7,
          6,
          12,
          9,
          9,
          15,
          8,
          7,
          6,
          7,
          18,
          9,
          11,
          8,
          9,
          12,
          9,
          6,
          10,
          8,
          16,
          6,
          17,
          17,
          6,
          6,
          8,
          6,
          9,
          6,
          7,
          10,
          8,
          11,
          8,
          8,
          11,
          15,
          10,
          9,
          13,
          7,
          9,
          9,
          16,
          6,
          9,
          7,
          15,
          10,
          10,
          7,
          11,
          6,
          6,
          9,
          7,
          7,
          13,
          6,
          8,
          9,
          13,
          10,
          10,
          8,
          9,
          6,
          8,
          6,
          9,
          11,
          9,
          6,
          12,
          8,
          24,
          7,
          10,
          9,
          8,
          14,
          12,
          11,
          8,
          7,
          10,
          10,
          7,
          8,
          11,
          12,
          7,
          10,
          6,
          10,
          6,
          10,
          9,
          9,
          9,
          9,
          9,
          10,
          8,
          11,
          7,
          7,
          7,
          15,
          7,
          8,
          6,
          10,
          8,
          9,
          9,
          12,
          11,
          6,
          7,
          12,
          6,
          6,
          7,
          7,
          7,
          11,
          7,
          8,
          7,
          7,
          9,
          12,
          7,
          6,
          7,
          8,
          8,
          7,
          10,
          8,
          12,
          10,
          7,
          8,
          10,
          9,
          9,
          15,
          8,
          11,
          6,
          6,
          6,
          7,
          6,
          10,
          12,
          6,
          7,
          6,
          10,
          7,
          13,
          15,
          6,
          18,
          7,
          8,
          9,
          13,
          15,
          10,
          8,
          7,
          11,
          6,
          12,
          8,
          12,
          12,
          10,
          10,
          8,
          11,
          16,
          8,
          8,
          11,
          8,
          11,
          7,
          10,
          9,
          7,
          8,
          7,
          11,
          6,
          9,
          6,
          11,
          6,
          8,
          7,
          6,
          7,
          9,
          10,
          8,
          7,
          6,
          6,
          7,
          8,
          6,
          6,
          9,
          7,
          6,
          12,
          19,
          9,
          9,
          7,
          7,
          6,
          8,
          6,
          8,
          8,
          11,
          10,
          6,
          7
         ]
        }
       ],
       "layout": {
        "template": {
         "data": {
          "bar": [
           {
            "error_x": {
             "color": "#2a3f5f"
            },
            "error_y": {
             "color": "#2a3f5f"
            },
            "marker": {
             "line": {
              "color": "#E5ECF6",
              "width": 0.5
             },
             "pattern": {
              "fillmode": "overlay",
              "size": 10,
              "solidity": 0.2
             }
            },
            "type": "bar"
           }
          ],
          "barpolar": [
           {
            "marker": {
             "line": {
              "color": "#E5ECF6",
              "width": 0.5
             },
             "pattern": {
              "fillmode": "overlay",
              "size": 10,
              "solidity": 0.2
             }
            },
            "type": "barpolar"
           }
          ],
          "carpet": [
           {
            "aaxis": {
             "endlinecolor": "#2a3f5f",
             "gridcolor": "white",
             "linecolor": "white",
             "minorgridcolor": "white",
             "startlinecolor": "#2a3f5f"
            },
            "baxis": {
             "endlinecolor": "#2a3f5f",
             "gridcolor": "white",
             "linecolor": "white",
             "minorgridcolor": "white",
             "startlinecolor": "#2a3f5f"
            },
            "type": "carpet"
           }
          ],
          "choropleth": [
           {
            "colorbar": {
             "outlinewidth": 0,
             "ticks": ""
            },
            "type": "choropleth"
           }
          ],
          "contour": [
           {
            "colorbar": {
             "outlinewidth": 0,
             "ticks": ""
            },
            "colorscale": [
             [
              0,
              "#0d0887"
             ],
             [
              0.1111111111111111,
              "#46039f"
             ],
             [
              0.2222222222222222,
              "#7201a8"
             ],
             [
              0.3333333333333333,
              "#9c179e"
             ],
             [
              0.4444444444444444,
              "#bd3786"
             ],
             [
              0.5555555555555556,
              "#d8576b"
             ],
             [
              0.6666666666666666,
              "#ed7953"
             ],
             [
              0.7777777777777778,
              "#fb9f3a"
             ],
             [
              0.8888888888888888,
              "#fdca26"
             ],
             [
              1,
              "#f0f921"
             ]
            ],
            "type": "contour"
           }
          ],
          "contourcarpet": [
           {
            "colorbar": {
             "outlinewidth": 0,
             "ticks": ""
            },
            "type": "contourcarpet"
           }
          ],
          "heatmap": [
           {
            "colorbar": {
             "outlinewidth": 0,
             "ticks": ""
            },
            "colorscale": [
             [
              0,
              "#0d0887"
             ],
             [
              0.1111111111111111,
              "#46039f"
             ],
             [
              0.2222222222222222,
              "#7201a8"
             ],
             [
              0.3333333333333333,
              "#9c179e"
             ],
             [
              0.4444444444444444,
              "#bd3786"
             ],
             [
              0.5555555555555556,
              "#d8576b"
             ],
             [
              0.6666666666666666,
              "#ed7953"
             ],
             [
              0.7777777777777778,
              "#fb9f3a"
             ],
             [
              0.8888888888888888,
              "#fdca26"
             ],
             [
              1,
              "#f0f921"
             ]
            ],
            "type": "heatmap"
           }
          ],
          "heatmapgl": [
           {
            "colorbar": {
             "outlinewidth": 0,
             "ticks": ""
            },
            "colorscale": [
             [
              0,
              "#0d0887"
             ],
             [
              0.1111111111111111,
              "#46039f"
             ],
             [
              0.2222222222222222,
              "#7201a8"
             ],
             [
              0.3333333333333333,
              "#9c179e"
             ],
             [
              0.4444444444444444,
              "#bd3786"
             ],
             [
              0.5555555555555556,
              "#d8576b"
             ],
             [
              0.6666666666666666,
              "#ed7953"
             ],
             [
              0.7777777777777778,
              "#fb9f3a"
             ],
             [
              0.8888888888888888,
              "#fdca26"
             ],
             [
              1,
              "#f0f921"
             ]
            ],
            "type": "heatmapgl"
           }
          ],
          "histogram": [
           {
            "marker": {
             "pattern": {
              "fillmode": "overlay",
              "size": 10,
              "solidity": 0.2
             }
            },
            "type": "histogram"
           }
          ],
          "histogram2d": [
           {
            "colorbar": {
             "outlinewidth": 0,
             "ticks": ""
            },
            "colorscale": [
             [
              0,
              "#0d0887"
             ],
             [
              0.1111111111111111,
              "#46039f"
             ],
             [
              0.2222222222222222,
              "#7201a8"
             ],
             [
              0.3333333333333333,
              "#9c179e"
             ],
             [
              0.4444444444444444,
              "#bd3786"
             ],
             [
              0.5555555555555556,
              "#d8576b"
             ],
             [
              0.6666666666666666,
              "#ed7953"
             ],
             [
              0.7777777777777778,
              "#fb9f3a"
             ],
             [
              0.8888888888888888,
              "#fdca26"
             ],
             [
              1,
              "#f0f921"
             ]
            ],
            "type": "histogram2d"
           }
          ],
          "histogram2dcontour": [
           {
            "colorbar": {
             "outlinewidth": 0,
             "ticks": ""
            },
            "colorscale": [
             [
              0,
              "#0d0887"
             ],
             [
              0.1111111111111111,
              "#46039f"
             ],
             [
              0.2222222222222222,
              "#7201a8"
             ],
             [
              0.3333333333333333,
              "#9c179e"
             ],
             [
              0.4444444444444444,
              "#bd3786"
             ],
             [
              0.5555555555555556,
              "#d8576b"
             ],
             [
              0.6666666666666666,
              "#ed7953"
             ],
             [
              0.7777777777777778,
              "#fb9f3a"
             ],
             [
              0.8888888888888888,
              "#fdca26"
             ],
             [
              1,
              "#f0f921"
             ]
            ],
            "type": "histogram2dcontour"
           }
          ],
          "mesh3d": [
           {
            "colorbar": {
             "outlinewidth": 0,
             "ticks": ""
            },
            "type": "mesh3d"
           }
          ],
          "parcoords": [
           {
            "line": {
             "colorbar": {
              "outlinewidth": 0,
              "ticks": ""
             }
            },
            "type": "parcoords"
           }
          ],
          "pie": [
           {
            "automargin": true,
            "type": "pie"
           }
          ],
          "scatter": [
           {
            "fillpattern": {
             "fillmode": "overlay",
             "size": 10,
             "solidity": 0.2
            },
            "type": "scatter"
           }
          ],
          "scatter3d": [
           {
            "line": {
             "colorbar": {
              "outlinewidth": 0,
              "ticks": ""
             }
            },
            "marker": {
             "colorbar": {
              "outlinewidth": 0,
              "ticks": ""
             }
            },
            "type": "scatter3d"
           }
          ],
          "scattercarpet": [
           {
            "marker": {
             "colorbar": {
              "outlinewidth": 0,
              "ticks": ""
             }
            },
            "type": "scattercarpet"
           }
          ],
          "scattergeo": [
           {
            "marker": {
             "colorbar": {
              "outlinewidth": 0,
              "ticks": ""
             }
            },
            "type": "scattergeo"
           }
          ],
          "scattergl": [
           {
            "marker": {
             "colorbar": {
              "outlinewidth": 0,
              "ticks": ""
             }
            },
            "type": "scattergl"
           }
          ],
          "scattermapbox": [
           {
            "marker": {
             "colorbar": {
              "outlinewidth": 0,
              "ticks": ""
             }
            },
            "type": "scattermapbox"
           }
          ],
          "scatterpolar": [
           {
            "marker": {
             "colorbar": {
              "outlinewidth": 0,
              "ticks": ""
             }
            },
            "type": "scatterpolar"
           }
          ],
          "scatterpolargl": [
           {
            "marker": {
             "colorbar": {
              "outlinewidth": 0,
              "ticks": ""
             }
            },
            "type": "scatterpolargl"
           }
          ],
          "scatterternary": [
           {
            "marker": {
             "colorbar": {
              "outlinewidth": 0,
              "ticks": ""
             }
            },
            "type": "scatterternary"
           }
          ],
          "surface": [
           {
            "colorbar": {
             "outlinewidth": 0,
             "ticks": ""
            },
            "colorscale": [
             [
              0,
              "#0d0887"
             ],
             [
              0.1111111111111111,
              "#46039f"
             ],
             [
              0.2222222222222222,
              "#7201a8"
             ],
             [
              0.3333333333333333,
              "#9c179e"
             ],
             [
              0.4444444444444444,
              "#bd3786"
             ],
             [
              0.5555555555555556,
              "#d8576b"
             ],
             [
              0.6666666666666666,
              "#ed7953"
             ],
             [
              0.7777777777777778,
              "#fb9f3a"
             ],
             [
              0.8888888888888888,
              "#fdca26"
             ],
             [
              1,
              "#f0f921"
             ]
            ],
            "type": "surface"
           }
          ],
          "table": [
           {
            "cells": {
             "fill": {
              "color": "#EBF0F8"
             },
             "line": {
              "color": "white"
             }
            },
            "header": {
             "fill": {
              "color": "#C8D4E3"
             },
             "line": {
              "color": "white"
             }
            },
            "type": "table"
           }
          ]
         },
         "layout": {
          "annotationdefaults": {
           "arrowcolor": "#2a3f5f",
           "arrowhead": 0,
           "arrowwidth": 1
          },
          "autotypenumbers": "strict",
          "coloraxis": {
           "colorbar": {
            "outlinewidth": 0,
            "ticks": ""
           }
          },
          "colorscale": {
           "diverging": [
            [
             0,
             "#8e0152"
            ],
            [
             0.1,
             "#c51b7d"
            ],
            [
             0.2,
             "#de77ae"
            ],
            [
             0.3,
             "#f1b6da"
            ],
            [
             0.4,
             "#fde0ef"
            ],
            [
             0.5,
             "#f7f7f7"
            ],
            [
             0.6,
             "#e6f5d0"
            ],
            [
             0.7,
             "#b8e186"
            ],
            [
             0.8,
             "#7fbc41"
            ],
            [
             0.9,
             "#4d9221"
            ],
            [
             1,
             "#276419"
            ]
           ],
           "sequential": [
            [
             0,
             "#0d0887"
            ],
            [
             0.1111111111111111,
             "#46039f"
            ],
            [
             0.2222222222222222,
             "#7201a8"
            ],
            [
             0.3333333333333333,
             "#9c179e"
            ],
            [
             0.4444444444444444,
             "#bd3786"
            ],
            [
             0.5555555555555556,
             "#d8576b"
            ],
            [
             0.6666666666666666,
             "#ed7953"
            ],
            [
             0.7777777777777778,
             "#fb9f3a"
            ],
            [
             0.8888888888888888,
             "#fdca26"
            ],
            [
             1,
             "#f0f921"
            ]
           ],
           "sequentialminus": [
            [
             0,
             "#0d0887"
            ],
            [
             0.1111111111111111,
             "#46039f"
            ],
            [
             0.2222222222222222,
             "#7201a8"
            ],
            [
             0.3333333333333333,
             "#9c179e"
            ],
            [
             0.4444444444444444,
             "#bd3786"
            ],
            [
             0.5555555555555556,
             "#d8576b"
            ],
            [
             0.6666666666666666,
             "#ed7953"
            ],
            [
             0.7777777777777778,
             "#fb9f3a"
            ],
            [
             0.8888888888888888,
             "#fdca26"
            ],
            [
             1,
             "#f0f921"
            ]
           ]
          },
          "colorway": [
           "#636efa",
           "#EF553B",
           "#00cc96",
           "#ab63fa",
           "#FFA15A",
           "#19d3f3",
           "#FF6692",
           "#B6E880",
           "#FF97FF",
           "#FECB52"
          ],
          "font": {
           "color": "#2a3f5f"
          },
          "geo": {
           "bgcolor": "white",
           "lakecolor": "white",
           "landcolor": "#E5ECF6",
           "showlakes": true,
           "showland": true,
           "subunitcolor": "white"
          },
          "hoverlabel": {
           "align": "left"
          },
          "hovermode": "closest",
          "mapbox": {
           "style": "light"
          },
          "paper_bgcolor": "white",
          "plot_bgcolor": "#E5ECF6",
          "polar": {
           "angularaxis": {
            "gridcolor": "white",
            "linecolor": "white",
            "ticks": ""
           },
           "bgcolor": "#E5ECF6",
           "radialaxis": {
            "gridcolor": "white",
            "linecolor": "white",
            "ticks": ""
           }
          },
          "scene": {
           "xaxis": {
            "backgroundcolor": "#E5ECF6",
            "gridcolor": "white",
            "gridwidth": 2,
            "linecolor": "white",
            "showbackground": true,
            "ticks": "",
            "zerolinecolor": "white"
           },
           "yaxis": {
            "backgroundcolor": "#E5ECF6",
            "gridcolor": "white",
            "gridwidth": 2,
            "linecolor": "white",
            "showbackground": true,
            "ticks": "",
            "zerolinecolor": "white"
           },
           "zaxis": {
            "backgroundcolor": "#E5ECF6",
            "gridcolor": "white",
            "gridwidth": 2,
            "linecolor": "white",
            "showbackground": true,
            "ticks": "",
            "zerolinecolor": "white"
           }
          },
          "shapedefaults": {
           "line": {
            "color": "#2a3f5f"
           }
          },
          "ternary": {
           "aaxis": {
            "gridcolor": "white",
            "linecolor": "white",
            "ticks": ""
           },
           "baxis": {
            "gridcolor": "white",
            "linecolor": "white",
            "ticks": ""
           },
           "bgcolor": "#E5ECF6",
           "caxis": {
            "gridcolor": "white",
            "linecolor": "white",
            "ticks": ""
           }
          },
          "title": {
           "x": 0.05
          },
          "xaxis": {
           "automargin": true,
           "gridcolor": "white",
           "linecolor": "white",
           "ticks": "",
           "title": {
            "standoff": 15
           },
           "zerolinecolor": "white",
           "zerolinewidth": 2
          },
          "yaxis": {
           "automargin": true,
           "gridcolor": "white",
           "linecolor": "white",
           "ticks": "",
           "title": {
            "standoff": 15
           },
           "zerolinecolor": "white",
           "zerolinewidth": 2
          }
         }
        },
        "title": {
         "text": "Episode Lengths"
        }
       }
      }
     },
     "metadata": {},
     "output_type": "display_data"
    },
    {
     "data": {
      "application/vnd.plotly.v1+json": {
       "config": {
        "plotlyServerURL": "https://plotly.com"
       },
       "data": [
        {
         "boxpoints": "all",
         "jitter": 0.3,
         "name": "0.0: (0.74, +- 0.27)",
         "pointpos": -1.8,
         "type": "box",
         "y": [
          0.8740000128746033,
          0.8740000128746033,
          0.8740000128746033,
          0.8560000061988831,
          0,
          0.8379999995231628,
          0.8379999995231628,
          0.8019999861717224,
          0.8740000128746033,
          0.8740000128746033,
          0.8740000128746033,
          0.8379999995231628,
          0.8379999995231628,
          0.6940000057220459,
          0.6759999990463257,
          0.8199999928474426,
          0.8199999928474426,
          0.8379999995231628,
          0.8920000195503235,
          0.8379999995231628,
          0.8379999995231628,
          0,
          0,
          0.7839999794960022,
          0.8740000128746033,
          0.7839999794960022,
          0.8019999861717224,
          0.8920000195503235,
          0.8920000195503235,
          0.8199999928474426,
          0.765999972820282,
          0.8560000061988831,
          0.8199999928474426,
          0.7839999794960022,
          0.8920000195503235,
          0.8920000195503235,
          0.8019999861717224,
          0.8379999995231628,
          0.8920000195503235,
          0.8560000061988831,
          0.8920000195503235,
          0.8560000061988831,
          0.8560000061988831,
          0.765999972820282,
          0.8379999995231628,
          0.8560000061988831,
          0.7839999794960022,
          0.8740000128746033,
          0.8199999928474426,
          0.8019999861717224,
          0.8560000061988831,
          0.8379999995231628,
          0.8199999928474426,
          0.7300000190734863,
          0.8199999928474426,
          0.8560000061988831,
          0.8379999995231628,
          0.8740000128746033,
          0.7839999794960022,
          0.8740000128746033,
          0.8379999995231628,
          0.8379999995231628,
          0.7839999794960022,
          0.8199999928474426,
          0.8560000061988831,
          0.8379999995231628,
          0.8379999995231628,
          0,
          0.8560000061988831,
          0.6759999990463257,
          0.8199999928474426,
          0.8019999861717224,
          0.8019999861717224,
          0.8560000061988831,
          0.8560000061988831,
          0.6940000057220459,
          0.8560000061988831,
          0.8740000128746033,
          0.8199999928474426,
          0,
          0.8199999928474426,
          0,
          0.8019999861717224,
          0.8379999995231628,
          0.8019999861717224,
          0.8379999995231628,
          0.8560000061988831,
          0.8379999995231628,
          0.8379999995231628,
          0.8560000061988831,
          0.8199999928474426,
          0.8740000128746033,
          0.8379999995231628,
          0.8740000128746033,
          0.8379999995231628,
          0.8199999928474426,
          0.8560000061988831,
          0.8560000061988831,
          0.8199999928474426,
          0.8920000195503235,
          0.8199999928474426,
          0.8560000061988831,
          0.8019999861717224,
          0.8920000195503235,
          0.8560000061988831,
          0.8740000128746033,
          0.8199999928474426,
          0.8199999928474426,
          0.8379999995231628,
          0.8379999995231628,
          0.8560000061988831,
          0.8740000128746033,
          0.8560000061988831,
          0.8740000128746033,
          0.8379999995231628,
          0.765999972820282,
          0.8920000195503235,
          0.8740000128746033,
          0.8920000195503235,
          0.8560000061988831,
          0.8560000061988831,
          0.8019999861717224,
          0.8379999995231628,
          0.8740000128746033,
          0.8379999995231628,
          0.765999972820282,
          0.8560000061988831,
          0.8920000195503235,
          0,
          0.8019999861717224,
          0.8019999861717224,
          0.8740000128746033,
          0.8379999995231628,
          0.8019999861717224,
          0,
          0.7120000123977661,
          0.8560000061988831,
          0.8019999861717224,
          0.8920000195503235,
          0.8199999928474426,
          0.8740000128746033,
          0.8019999861717224,
          0.8560000061988831,
          0.8740000128746033,
          0.8560000061988831,
          0,
          0.8560000061988831,
          0.8560000061988831,
          0.8560000061988831,
          0.8379999995231628,
          0,
          0.8560000061988831,
          0,
          0.7839999794960022,
          0.8740000128746033,
          0.8560000061988831,
          0.8019999861717224,
          0.8199999928474426,
          0.8560000061988831,
          0.8379999995231628,
          0.8379999995231628,
          0.8740000128746033,
          0.6940000057220459,
          0.8560000061988831,
          0.8560000061988831,
          0.7300000190734863,
          0.8379999995231628,
          0,
          0,
          0.8379999995231628,
          0.8199999928474426,
          0.8199999928474426,
          0.8560000061988831,
          0.7300000190734863,
          0.8740000128746033,
          0.8560000061988831,
          0.8560000061988831,
          0.8560000061988831,
          0.8560000061988831,
          0.8740000128746033,
          0,
          0.7480000257492065,
          0.8560000061988831,
          0.8740000128746033,
          0.8560000061988831,
          0.8379999995231628,
          0.8379999995231628,
          0.7480000257492065,
          0,
          0,
          0.8740000128746033,
          0.8199999928474426,
          0,
          0.8560000061988831,
          0.8920000195503235,
          0.8379999995231628,
          0.8019999861717224,
          0.8560000061988831,
          0.8920000195503235,
          0.8920000195503235,
          0.8199999928474426,
          0.8560000061988831,
          0.8199999928474426,
          0,
          0.8379999995231628,
          0.8019999861717224,
          0.7839999794960022,
          0.8019999861717224,
          0,
          0.8379999995231628,
          0,
          0.8560000061988831,
          0.765999972820282,
          0.7120000123977661,
          0.8740000128746033,
          0.8199999928474426,
          0.8740000128746033,
          0,
          0,
          0.8379999995231628,
          0.7839999794960022,
          0.8740000128746033,
          0.8019999861717224,
          0.8199999928474426,
          0.8019999861717224,
          0.765999972820282,
          0.8560000061988831,
          0.8740000128746033,
          0,
          0.8379999995231628,
          0.8199999928474426,
          0,
          0.8379999995231628,
          0.8560000061988831,
          0.765999972820282,
          0.8740000128746033,
          0.8379999995231628,
          0.8199999928474426,
          0.8740000128746033,
          0.8920000195503235,
          0,
          0.8920000195503235,
          0.8019999861717224,
          0.7480000257492065,
          0.8560000061988831,
          0.8379999995231628,
          0.8199999928474426,
          0.765999972820282,
          0.8199999928474426,
          0.8560000061988831,
          0.6940000057220459,
          0.8560000061988831,
          0.8920000195503235,
          0.8019999861717224,
          0.8379999995231628,
          0.8560000061988831,
          0.8199999928474426,
          0.8560000061988831,
          0.8740000128746033,
          0,
          0.8560000061988831,
          0.8379999995231628,
          0,
          0.8199999928474426,
          0.8199999928474426,
          0.8740000128746033,
          0.8379999995231628,
          0.8560000061988831,
          0.8560000061988831,
          0.8560000061988831,
          0.765999972820282,
          0.7839999794960022,
          0.8379999995231628,
          0,
          0.765999972820282,
          0.8379999995231628,
          0.8740000128746033,
          0.7120000123977661,
          0,
          0.8920000195503235,
          0.8740000128746033,
          0.8740000128746033,
          0.8560000061988831,
          0.7839999794960022,
          0,
          0.8920000195503235,
          0.6039999723434448,
          0.8740000128746033,
          0,
          0.8379999995231628,
          0.7839999794960022,
          0.8560000061988831,
          0.765999972820282,
          0.8920000195503235,
          0,
          0.8379999995231628,
          0.8199999928474426,
          0.8920000195503235,
          0.8560000061988831,
          0.8560000061988831,
          0,
          0.8199999928474426,
          0,
          0.6759999990463257,
          0.6940000057220459,
          0.8199999928474426,
          0.7480000257492065,
          0.8199999928474426,
          0,
          0.8379999995231628
         ]
        },
        {
         "boxpoints": "all",
         "jitter": 0.3,
         "name": "1.0: (0.30, +- 0.33)",
         "pointpos": -1.8,
         "type": "box",
         "y": [
          0.8019999861717224,
          0.6940000057220459,
          0.6759999990463257,
          0.6759999990463257,
          0.621999979019165,
          0.550000011920929,
          0.7480000257492065,
          0,
          0.6759999990463257,
          0.7839999794960022,
          0,
          0.621999979019165,
          0,
          0,
          0,
          0,
          0.7839999794960022,
          0,
          0.7120000123977661,
          0.6399999856948853,
          0.8379999995231628,
          0.4779999852180481,
          0.4059999883174896,
          0,
          0,
          0,
          0.765999972820282,
          0,
          0,
          0,
          0,
          0,
          0.7120000123977661,
          0,
          0.8379999995231628,
          0,
          0,
          0,
          0,
          0,
          0,
          0,
          0.24400000274181366,
          0.46000000834465027,
          0.5139999985694885,
          0.5139999985694885,
          0,
          0,
          0,
          0,
          0,
          0.6759999990463257,
          0,
          0.7300000190734863,
          0,
          0.8379999995231628,
          0.44200000166893005,
          0,
          0.5860000252723694,
          0,
          0.7300000190734863,
          0.6759999990463257,
          0.2619999945163727,
          0.7480000257492065,
          0,
          0,
          0,
          0,
          0,
          0.44200000166893005,
          0.7480000257492065,
          0.20800000429153442,
          0,
          0,
          0,
          0.46000000834465027,
          0.7300000190734863
         ]
        },
        {
         "boxpoints": "all",
         "jitter": 0.3,
         "name": "2.0: (0.23, +- 0.32)",
         "pointpos": -1.8,
         "type": "box",
         "y": [
          0.8920000195503235,
          0,
          0,
          0,
          0,
          0.7480000257492065,
          0.6399999856948853,
          0.8199999928474426,
          0.6039999723434448,
          0.5860000252723694,
          0.5139999985694885,
          0.5139999985694885,
          0,
          0,
          0.7480000257492065,
          0.6759999990463257,
          0.20800000429153442,
          0.6039999723434448,
          0.5320000052452087,
          0.7300000190734863,
          0.7480000257492065,
          0,
          0,
          0,
          0.8199999928474426,
          0.35199999809265137,
          0,
          0,
          0,
          0,
          0,
          0,
          0.8199999928474426,
          0.5680000185966492,
          0,
          0.8199999928474426,
          0,
          0,
          0.3880000114440918,
          0,
          0,
          0,
          0.6399999856948853,
          0.7480000257492065,
          0,
          0.3880000114440918,
          0,
          0,
          0,
          0,
          0,
          0,
          0,
          0,
          0.7120000123977661,
          0.6759999990463257,
          0,
          0,
          0,
          0.1720000058412552,
          0,
          0,
          0,
          0.6039999723434448,
          0,
          0.7300000190734863,
          0.6759999990463257,
          0,
          0,
          0,
          0,
          0,
          0,
          0,
          0,
          0,
          0.5320000052452087,
          0,
          0,
          0,
          0,
          0,
          0.7120000123977661,
          0.6759999990463257,
          0,
          0,
          0,
          0,
          0,
          0.6399999856948853,
          0,
          0,
          0,
          0.6759999990463257,
          0,
          0,
          0,
          0,
          0.8920000195503235
         ]
        },
        {
         "boxpoints": "all",
         "jitter": 0.3,
         "name": "3.0: (0.50, +- 0.43)",
         "pointpos": -1.8,
         "type": "box",
         "y": [
          0.8920000195503235,
          0.8920000195503235,
          0.8920000195503235,
          0.8560000061988831,
          0.8560000061988831,
          0.8560000061988831,
          0.8920000195503235,
          0.8920000195503235,
          0.8920000195503235,
          0.8560000061988831,
          0.8560000061988831,
          0.8560000061988831,
          0.7839999794960022,
          0.8920000195503235,
          0.8920000195503235,
          0,
          0,
          0,
          0,
          0.8560000061988831,
          0.8920000195503235,
          0,
          0,
          0,
          0,
          0.8199999928474426,
          0.8920000195503235,
          0.8920000195503235,
          0.7839999794960022,
          0,
          0.8920000195503235,
          0.8920000195503235,
          0.8920000195503235,
          0.8920000195503235,
          0.8560000061988831,
          0.8920000195503235,
          0,
          0,
          0,
          0.8560000061988831,
          0,
          0.8920000195503235,
          0,
          0.8920000195503235,
          0.8920000195503235,
          0.8199999928474426,
          0.8560000061988831,
          0.8560000061988831,
          0,
          0.8920000195503235,
          0.8920000195503235,
          0,
          0,
          0.8560000061988831,
          0.765999972820282,
          0.8560000061988831,
          0,
          0,
          0,
          0.8920000195503235,
          0,
          0.8920000195503235,
          0,
          0,
          0,
          0.8560000061988831,
          0.8560000061988831,
          0,
          0.8920000195503235,
          0,
          0,
          0,
          0.8560000061988831,
          0.8560000061988831,
          0.8920000195503235,
          0,
          0,
          0.8740000128746033,
          0,
          0.8560000061988831,
          0,
          0,
          0,
          0,
          0,
          0.8560000061988831,
          0,
          0.765999972820282,
          0.8920000195503235,
          0,
          0.8920000195503235,
          0.8560000061988831,
          0.8560000061988831,
          0,
          0.8560000061988831,
          0.8920000195503235,
          0.8920000195503235,
          0,
          0,
          0,
          0.7839999794960022,
          0.8920000195503235,
          0.8560000061988831,
          0,
          0,
          0,
          0,
          0,
          0,
          0.8920000195503235,
          0.8560000061988831,
          0.8920000195503235,
          0.8920000195503235,
          0.8920000195503235
         ]
        },
        {
         "boxpoints": "all",
         "jitter": 0.3,
         "name": "4.0: (0.79, +- 0.23)",
         "pointpos": -1.8,
         "type": "box",
         "y": [
          0.8920000195503235,
          0.8920000195503235,
          0.8920000195503235,
          0.8920000195503235,
          0.8920000195503235,
          0.8920000195503235,
          0.8560000061988831,
          0.8560000061988831,
          0.8379999995231628,
          0.8199999928474426,
          0.8920000195503235,
          0.8560000061988831,
          0.8560000061988831,
          0.8920000195503235,
          0.8379999995231628,
          0.8199999928474426,
          0.8379999995231628,
          0.8560000061988831,
          0.8920000195503235,
          0.7839999794960022,
          0.8379999995231628,
          0.8920000195503235,
          0.8920000195503235,
          0.8920000195503235,
          0.8560000061988831,
          0.8740000128746033,
          0.8560000061988831,
          0.8560000061988831,
          0.8560000061988831,
          0.8560000061988831,
          0.8379999995231628,
          0.7480000257492065,
          0.8740000128746033,
          0.8560000061988831,
          0.8920000195503235,
          0,
          0.8920000195503235,
          0.8740000128746033,
          0.7120000123977661,
          0,
          0.8920000195503235,
          0.8560000061988831,
          0.8560000061988831,
          0.8920000195503235,
          0.8379999995231628,
          0.8560000061988831,
          0.8920000195503235,
          0,
          0.8920000195503235,
          0.8560000061988831,
          0.8920000195503235,
          0.8740000128746033,
          0.8740000128746033,
          0.8740000128746033,
          0.8560000061988831,
          0.8560000061988831,
          0,
          0.7120000123977661,
          0.8740000128746033,
          0.8740000128746033,
          0.8920000195503235,
          0.8740000128746033,
          0.8560000061988831,
          0.8920000195503235,
          0.8560000061988831,
          0.8560000061988831,
          0.8920000195503235,
          0.8199999928474426,
          0,
          0.8920000195503235,
          0.8920000195503235,
          0.8560000061988831,
          0.8920000195503235,
          0.8920000195503235,
          0.8199999928474426,
          0.8560000061988831,
          0.8920000195503235,
          0.8560000061988831,
          0.8560000061988831,
          0.8740000128746033,
          0.8920000195503235,
          0.8920000195503235,
          0.765999972820282,
          0.8920000195503235,
          0.8560000061988831,
          0.8560000061988831,
          0.8199999928474426,
          0.8920000195503235,
          0,
          0.8560000061988831,
          0.8920000195503235,
          0.8560000061988831,
          0.8019999861717224,
          0.8560000061988831,
          0.8920000195503235,
          0.8920000195503235,
          0.8560000061988831,
          0.8920000195503235,
          0.8920000195503235,
          0.8560000061988831,
          0.8560000061988831,
          0.8920000195503235,
          0.8920000195503235,
          0.8920000195503235,
          0.8740000128746033,
          0.8740000128746033,
          0.8560000061988831,
          0.8560000061988831,
          0.8740000128746033,
          0.8379999995231628,
          0.8920000195503235,
          0.8379999995231628,
          0.8379999995231628,
          0.765999972820282,
          0.8560000061988831,
          0.8920000195503235,
          0.8920000195503235,
          0,
          0.8920000195503235,
          0.8560000061988831,
          0.8920000195503235,
          0.8920000195503235,
          0.8740000128746033,
          0.8019999861717224,
          0.8560000061988831,
          0.8740000128746033,
          0.8920000195503235,
          0.8560000061988831,
          0.8560000061988831,
          0.8560000061988831,
          0.8199999928474426,
          0,
          0.7839999794960022,
          0.8920000195503235,
          0.8379999995231628,
          0.8560000061988831,
          0.8560000061988831,
          0.8379999995231628,
          0.8560000061988831,
          0.8019999861717224,
          0.8560000061988831,
          0.8920000195503235,
          0.5320000052452087,
          0.8920000195503235,
          0,
          0.8920000195503235,
          0,
          0.6579999923706055,
          0.8560000061988831,
          0.8740000128746033,
          0.8199999928474426,
          0.8379999995231628,
          0.8019999861717224,
          0.8920000195503235,
          0.8560000061988831,
          0.8019999861717224,
          0,
          0.8560000061988831,
          0.8560000061988831,
          0,
          0.8560000061988831,
          0.8560000061988831,
          0.8379999995231628,
          0.8740000128746033,
          0.8560000061988831,
          0.8379999995231628,
          0,
          0.8920000195503235,
          0.8920000195503235,
          0.8199999928474426,
          0.8740000128746033,
          0.8379999995231628,
          0.8560000061988831,
          0.8560000061988831,
          0.8920000195503235,
          0.8560000061988831,
          0.8920000195503235,
          0.8920000195503235,
          0,
          0.8920000195503235,
          0.8199999928474426,
          0.8560000061988831,
          0.8199999928474426,
          0,
          0.8560000061988831,
          0.8920000195503235,
          0.8560000061988831,
          0.8379999995231628,
          0,
          0.8560000061988831,
          0.8560000061988831,
          0.8560000061988831,
          0.8379999995231628,
          0.8920000195503235,
          0.8560000061988831,
          0.8379999995231628,
          0,
          0.8740000128746033,
          0.8920000195503235,
          0.8740000128746033,
          0,
          0.8560000061988831,
          0.8560000061988831,
          0.8920000195503235,
          0.8560000061988831,
          0.8740000128746033,
          0.7839999794960022,
          0.8560000061988831,
          0.8920000195503235,
          0,
          0.8199999928474426,
          0.8379999995231628,
          0.8019999861717224,
          0.8379999995231628,
          0.8920000195503235,
          0.8379999995231628,
          0.8199999928474426,
          0,
          0.8560000061988831,
          0.8379999995231628,
          0.7839999794960022,
          0.8560000061988831,
          0.8920000195503235,
          0.8920000195503235,
          0.8740000128746033,
          0.8199999928474426,
          0.8920000195503235,
          0.8560000061988831,
          0.8920000195503235,
          0.8560000061988831,
          0.8740000128746033,
          0.8740000128746033,
          0.8920000195503235,
          0.8740000128746033,
          0.8379999995231628,
          0,
          0.8920000195503235,
          0.8740000128746033,
          0.8379999995231628,
          0.8560000061988831,
          0.8920000195503235,
          0.8379999995231628,
          0,
          0.8560000061988831,
          0.8740000128746033,
          0.8560000061988831,
          0.8740000128746033,
          0.8560000061988831,
          0.8560000061988831,
          0.8740000128746033,
          0.8920000195503235,
          0.8920000195503235,
          0.8379999995231628,
          0.8560000061988831,
          0.8560000061988831,
          0,
          0.8920000195503235,
          0.8920000195503235,
          0.7300000190734863,
          0.8560000061988831,
          0.8379999995231628,
          0.8920000195503235,
          0.8560000061988831,
          0.8920000195503235,
          0.8199999928474426,
          0.8019999861717224,
          0.8379999995231628,
          0.8740000128746033,
          0.8379999995231628,
          0.8560000061988831,
          0.8740000128746033,
          0.8920000195503235,
          0.8920000195503235,
          0,
          0.8920000195503235,
          0.8740000128746033,
          0.8740000128746033,
          0.8199999928474426,
          0.8379999995231628,
          0.8740000128746033,
          0.8560000061988831,
          0.8560000061988831,
          0.8560000061988831,
          0.8560000061988831,
          0.8019999861717224,
          0.8560000061988831,
          0.8379999995231628,
          0.8560000061988831,
          0.8740000128746033,
          0.8920000195503235,
          0.8740000128746033,
          0.8920000195503235,
          0.8560000061988831,
          0.8740000128746033,
          0.8920000195503235,
          0.8560000061988831,
          0.8740000128746033,
          0.8740000128746033,
          0.8379999995231628,
          0.8920000195503235,
          0.8920000195503235,
          0.8379999995231628,
          0.8560000061988831,
          0.8560000061988831,
          0.8740000128746033,
          0.8740000128746033,
          0.8560000061988831,
          0.8920000195503235,
          0.8920000195503235,
          0.7839999794960022,
          0.8920000195503235,
          0.8560000061988831,
          0.8920000195503235,
          0.8920000195503235,
          0,
          0.8560000061988831,
          0.8199999928474426,
          0.8920000195503235,
          0.8560000061988831,
          0.8379999995231628,
          0.8019999861717224,
          0.8740000128746033,
          0.8920000195503235,
          0.8740000128746033,
          0.8560000061988831,
          0,
          0.8920000195503235,
          0.8560000061988831,
          0.8560000061988831,
          0.8920000195503235,
          0.8560000061988831,
          0.8560000061988831,
          0.8740000128746033,
          0.8740000128746033,
          0.8560000061988831,
          0.8920000195503235,
          0.8560000061988831,
          0.8379999995231628,
          0.8740000128746033,
          0.8560000061988831,
          0.8920000195503235,
          0.7839999794960022,
          0.8560000061988831,
          0.8920000195503235,
          0.8920000195503235,
          0.8740000128746033,
          0.8379999995231628,
          0.8920000195503235,
          0.8560000061988831,
          0.8740000128746033,
          0.8920000195503235,
          0.7839999794960022,
          0.8379999995231628,
          0.7300000190734863,
          0.7839999794960022,
          0.8199999928474426,
          0.8560000061988831,
          0.8019999861717224,
          0.8379999995231628,
          0.8740000128746033,
          0,
          0,
          0.8560000061988831,
          0.7839999794960022,
          0.8740000128746033,
          0.8920000195503235,
          0.8560000061988831,
          0.8560000061988831,
          0.8199999928474426,
          0,
          0.8019999861717224,
          0.8740000128746033,
          0.8560000061988831,
          0.8740000128746033,
          0.8920000195503235,
          0.8920000195503235,
          0.765999972820282,
          0.8379999995231628
         ]
        },
        {
         "boxpoints": "all",
         "jitter": 0.3,
         "name": "5.0: (0.85, +- 0.11)",
         "pointpos": -1.8,
         "type": "box",
         "y": [
          0.8740000128746033,
          0.8560000061988831,
          0.8199999928474426,
          0.8199999928474426,
          0.8019999861717224,
          0.7839999794960022,
          0.7839999794960022,
          0.8920000195503235,
          0.7480000257492065,
          0.7300000190734863,
          0.7300000190734863,
          0.8920000195503235,
          0.8920000195503235,
          0.8379999995231628,
          0.8920000195503235,
          0.8560000061988831,
          0.8920000195503235,
          0.8920000195503235,
          0,
          0.8740000128746033,
          0.8019999861717224,
          0.8920000195503235,
          0.8560000061988831,
          0.8920000195503235,
          0.8920000195503235,
          0.8920000195503235,
          0.8199999928474426,
          0.8920000195503235,
          0.765999972820282,
          0.8920000195503235,
          0.8560000061988831,
          0.8920000195503235,
          0.8560000061988831,
          0.8920000195503235,
          0.8560000061988831,
          0.8920000195503235,
          0.8920000195503235,
          0.8379999995231628,
          0.8379999995231628,
          0.765999972820282,
          0.8740000128746033,
          0.8920000195503235,
          0.8920000195503235,
          0.8920000195503235,
          0.8920000195503235,
          0.8920000195503235,
          0.8920000195503235,
          0.8740000128746033,
          0,
          0.8920000195503235,
          0.8379999995231628,
          0.8920000195503235,
          0.8920000195503235,
          0.8019999861717224,
          0.8560000061988831,
          0.8560000061988831,
          0.8920000195503235,
          0.8920000195503235,
          0.8199999928474426,
          0.8019999861717224,
          0.8920000195503235,
          0.8199999928474426,
          0.8379999995231628,
          0.8920000195503235,
          0.8920000195503235,
          0.8920000195503235,
          0.8560000061988831,
          0.8740000128746033,
          0.8740000128746033,
          0.8920000195503235,
          0.8920000195503235,
          0.8199999928474426,
          0.8920000195503235,
          0.8920000195503235,
          0.7300000190734863,
          0.8560000061988831,
          0.8740000128746033,
          0.8560000061988831,
          0.8920000195503235,
          0.8920000195503235,
          0.8920000195503235,
          0.8019999861717224,
          0.7120000123977661,
          0.8560000061988831,
          0.7839999794960022,
          0.8920000195503235,
          0.8920000195503235,
          0.8920000195503235,
          0.8560000061988831,
          0.8920000195503235,
          0.8740000128746033,
          0.8560000061988831,
          0.8560000061988831,
          0.8560000061988831,
          0.8920000195503235,
          0.8920000195503235,
          0.8740000128746033,
          0.8199999928474426,
          0.8199999928474426,
          0.8920000195503235,
          0.8920000195503235,
          0.8920000195503235,
          0.8920000195503235,
          0.8199999928474426,
          0.8740000128746033,
          0.8560000061988831,
          0.8920000195503235,
          0.8920000195503235,
          0.8920000195503235,
          0.8920000195503235,
          0.6039999723434448,
          0.8379999995231628,
          0.8920000195503235,
          0.8920000195503235,
          0.8379999995231628,
          0.8560000061988831,
          0.8560000061988831,
          0.8019999861717224,
          0.8560000061988831,
          0.8920000195503235,
          0.8920000195503235,
          0.8199999928474426,
          0.8920000195503235,
          0.8920000195503235,
          0.8740000128746033,
          0.8560000061988831,
          0,
          0.8560000061988831,
          0.7839999794960022,
          0.8920000195503235,
          0.8920000195503235,
          0.7839999794960022,
          0.8379999995231628,
          0.8920000195503235,
          0.8920000195503235,
          0.8560000061988831,
          0.8920000195503235,
          0.8379999995231628,
          0.8560000061988831,
          0.8199999928474426,
          0.8920000195503235,
          0.8560000061988831,
          0.8379999995231628,
          0.8920000195503235,
          0.8920000195503235,
          0.7120000123977661,
          0.8019999861717224,
          0.8019999861717224,
          0.8920000195503235,
          0.8740000128746033,
          0.8920000195503235,
          0.8199999928474426,
          0.8920000195503235,
          0.8920000195503235,
          0.8920000195503235,
          0.8560000061988831,
          0.8199999928474426,
          0.8740000128746033,
          0.8560000061988831,
          0.8379999995231628,
          0.8560000061988831,
          0.8920000195503235,
          0.7120000123977661,
          0.8199999928474426,
          0.8920000195503235,
          0.8560000061988831,
          0.8199999928474426,
          0.8920000195503235,
          0.8379999995231628,
          0.8560000061988831,
          0.8560000061988831,
          0.8740000128746033,
          0.8920000195503235,
          0.8560000061988831,
          0.8920000195503235,
          0.8560000061988831,
          0.8920000195503235,
          0.8740000128746033,
          0.8920000195503235,
          0.8920000195503235,
          0.8560000061988831,
          0.8740000128746033,
          0.8920000195503235,
          0.8920000195503235,
          0.8740000128746033,
          0.8560000061988831,
          0.8740000128746033,
          0.8560000061988831,
          0.8920000195503235,
          0.8560000061988831,
          0.8560000061988831,
          0.8560000061988831,
          0.8920000195503235,
          0.8740000128746033,
          0.8560000061988831,
          0.8379999995231628,
          0.8920000195503235,
          0.8199999928474426,
          0.8560000061988831,
          0.8560000061988831,
          0.8920000195503235,
          0.8920000195503235,
          0.8920000195503235,
          0.8379999995231628,
          0.8560000061988831,
          0.8920000195503235,
          0.8920000195503235,
          0.8560000061988831,
          0.8740000128746033,
          0.8199999928474426,
          0.8379999995231628,
          0.8920000195503235,
          0.8920000195503235,
          0.8920000195503235,
          0.8920000195503235,
          0.8560000061988831,
          0.8560000061988831,
          0.8199999928474426,
          0.8920000195503235,
          0,
          0.8920000195503235,
          0.8740000128746033,
          0.8560000061988831,
          0.7839999794960022,
          0.8379999995231628,
          0,
          0.8920000195503235,
          0.8019999861717224,
          0.8920000195503235,
          0.8560000061988831,
          0.8560000061988831,
          0.8379999995231628,
          0.8379999995231628,
          0.8199999928474426,
          0.8560000061988831,
          0.8920000195503235,
          0.8740000128746033,
          0.8740000128746033,
          0.8740000128746033,
          0.8379999995231628,
          0.8920000195503235,
          0.8379999995231628,
          0.8920000195503235,
          0.8920000195503235,
          0.6579999923706055,
          0.8920000195503235,
          0.8560000061988831,
          0.8920000195503235,
          0.6940000057220459,
          0.8920000195503235,
          0.8560000061988831,
          0.8920000195503235,
          0.8560000061988831,
          0.8740000128746033,
          0.8379999995231628,
          0.8920000195503235,
          0.8920000195503235,
          0.8920000195503235,
          0.7839999794960022,
          0.8560000061988831,
          0.8199999928474426,
          0.8740000128746033,
          0.8920000195503235,
          0.8379999995231628,
          0.8920000195503235,
          0.8560000061988831,
          0.8560000061988831,
          0.8560000061988831,
          0.8920000195503235,
          0.8920000195503235,
          0.8920000195503235,
          0.8920000195503235,
          0.8199999928474426,
          0.8379999995231628,
          0.8740000128746033,
          0.8920000195503235,
          0.7839999794960022,
          0.8560000061988831,
          0.8920000195503235,
          0.8019999861717224,
          0.8560000061988831,
          0.8740000128746033,
          0.8560000061988831,
          0.8379999995231628,
          0.8920000195503235,
          0.8379999995231628,
          0.8740000128746033,
          0.8379999995231628,
          0.8199999928474426,
          0.8920000195503235,
          0.8019999861717224,
          0.8920000195503235,
          0.8379999995231628,
          0.8920000195503235,
          0.7839999794960022,
          0.8920000195503235,
          0.8740000128746033,
          0.8379999995231628,
          0.8560000061988831,
          0.8560000061988831,
          0.8920000195503235,
          0.8920000195503235,
          0.8920000195503235,
          0.8740000128746033,
          0.8920000195503235,
          0.8019999861717224,
          0.8740000128746033,
          0.8199999928474426,
          0.8560000061988831,
          0.8560000061988831,
          0.8019999861717224,
          0.7839999794960022,
          0.8379999995231628,
          0.8560000061988831,
          0.8740000128746033,
          0.8379999995231628,
          0.8920000195503235,
          0.8560000061988831,
          0.8920000195503235,
          0.8560000061988831,
          0.8920000195503235,
          0.8920000195503235,
          0.8740000128746033,
          0.8920000195503235,
          0.8920000195503235,
          0.8560000061988831,
          0.8920000195503235,
          0.8560000061988831,
          0.8740000128746033,
          0.7300000190734863,
          0.8199999928474426,
          0.8560000061988831,
          0.8560000061988831,
          0.8920000195503235,
          0.8379999995231628,
          0.8920000195503235,
          0.8199999928474426,
          0.8199999928474426,
          0.8920000195503235,
          0.8379999995231628,
          0.8560000061988831,
          0.8019999861717224,
          0.8199999928474426,
          0.8560000061988831,
          0.8199999928474426,
          0.8920000195503235,
          0.8920000195503235,
          0.8920000195503235,
          0.8920000195503235,
          0.8920000195503235,
          0.8920000195503235,
          0.7839999794960022,
          0.8920000195503235,
          0.8379999995231628,
          0.8379999995231628,
          0.8920000195503235,
          0.8920000195503235,
          0.7480000257492065,
          0.765999972820282,
          0.8920000195503235,
          0.8379999995231628,
          0.8560000061988831,
          0.8920000195503235,
          0.8379999995231628,
          0.8920000195503235,
          0.8920000195503235,
          0.8920000195503235,
          0.8740000128746033,
          0.8379999995231628,
          0.8199999928474426,
          0.8199999928474426,
          0.8920000195503235,
          0.8740000128746033,
          0.8920000195503235,
          0.8920000195503235,
          0.8920000195503235,
          0.8560000061988831,
          0.8379999995231628
         ]
        },
        {
         "boxpoints": "all",
         "jitter": 0.3,
         "name": "6.0: (0.03, +- 0.13)",
         "pointpos": -1.8,
         "type": "box",
         "y": [
          0,
          0.13600000739097595,
          0,
          0,
          0,
          0,
          0,
          0,
          0,
          0,
          0,
          0,
          0,
          0,
          0,
          0,
          0,
          0,
          0,
          0,
          0,
          0,
          0,
          0,
          0,
          0,
          0,
          0,
          0,
          0,
          0,
          0,
          0,
          0.6399999856948853,
          0,
          0,
          0,
          0,
          0,
          0,
          0,
          0.765999972820282,
          0,
          0,
          0,
          0,
          0,
          0,
          0,
          0,
          0,
          0,
          0,
          0,
          0,
          0,
          0,
          0,
          0,
          0,
          0
         ]
        },
        {
         "boxpoints": "all",
         "jitter": 0.3,
         "name": "7.0: (0.75, +- 0.25)",
         "pointpos": -1.8,
         "type": "box",
         "y": [
          0.8920000195503235,
          0.8920000195503235,
          0.8920000195503235,
          0.8740000128746033,
          0.8740000128746033,
          0.8560000061988831,
          0.8379999995231628,
          0.8199999928474426,
          0.7839999794960022,
          0.8920000195503235,
          0.8920000195503235,
          0,
          0,
          0.8379999995231628,
          0.8379999995231628,
          0.6940000057220459,
          0,
          0,
          0,
          0.8560000061988831,
          0.8019999861717224,
          0.8560000061988831,
          0.8920000195503235,
          0.8740000128746033,
          0.8560000061988831,
          0.8920000195503235,
          0.8740000128746033,
          0.8560000061988831,
          0.8920000195503235,
          0,
          0.8019999861717224,
          0.7839999794960022,
          0.8199999928474426,
          0.8560000061988831,
          0.8560000061988831,
          0.8920000195503235,
          0.8019999861717224,
          0,
          0.8560000061988831,
          0.8740000128746033,
          0.8740000128746033,
          0.8560000061988831,
          0.8199999928474426,
          0.8019999861717224,
          0.8379999995231628,
          0.8199999928474426,
          0.8560000061988831,
          0,
          0.8740000128746033,
          0.8920000195503235,
          0.7839999794960022,
          0.8379999995231628,
          0.8560000061988831,
          0.8560000061988831,
          0.8920000195503235,
          0.8560000061988831,
          0.8019999861717224,
          0.7300000190734863,
          0.8920000195503235,
          0.6759999990463257,
          0.8740000128746033,
          0.8560000061988831,
          0.8379999995231628,
          0.8740000128746033,
          0.8920000195503235,
          0.8019999861717224,
          0.8920000195503235,
          0.8560000061988831,
          0.8740000128746033,
          0.8199999928474426,
          0.8740000128746033,
          0,
          0.8379999995231628,
          0,
          0.8560000061988831,
          0.8199999928474426,
          0.8019999861717224,
          0.8920000195503235,
          0.8379999995231628,
          0.8379999995231628,
          0.8379999995231628,
          0.8740000128746033,
          0.8560000061988831,
          0.7839999794960022,
          0.7839999794960022,
          0.8560000061988831,
          0.8199999928474426,
          0.8740000128746033,
          0.7839999794960022,
          0.8740000128746033,
          0.7839999794960022,
          0.8740000128746033,
          0,
          0.8740000128746033,
          0.8740000128746033,
          0.8560000061988831,
          0.8379999995231628,
          0.765999972820282,
          0.8379999995231628,
          0.8560000061988831,
          0.8379999995231628,
          0.8920000195503235,
          0.7120000123977661,
          0.8740000128746033,
          0.8379999995231628,
          0.8560000061988831,
          0,
          0.8740000128746033,
          0.765999972820282,
          0,
          0.8379999995231628,
          0.46000000834465027,
          0.8920000195503235,
          0.8560000061988831,
          0.765999972820282,
          0,
          0.8379999995231628,
          0.8740000128746033,
          0.8019999861717224,
          0.765999972820282,
          0,
          0.7839999794960022,
          0.8019999861717224,
          0.7839999794960022,
          0.8920000195503235,
          0.7480000257492065,
          0.8379999995231628,
          0.8199999928474426,
          0.8379999995231628,
          0.8740000128746033,
          0.7480000257492065,
          0.765999972820282,
          0.8740000128746033,
          0.6399999856948853,
          0.8199999928474426,
          0,
          0,
          0.8740000128746033,
          0.8199999928474426,
          0.7480000257492065,
          0,
          0.8560000061988831,
          0.8199999928474426,
          0.765999972820282,
          0.8019999861717224,
          0.8019999861717224,
          0.8199999928474426,
          0.8379999995231628,
          0.8379999995231628,
          0.8920000195503235,
          0.8199999928474426,
          0.7480000257492065,
          0.8199999928474426,
          0.8560000061988831,
          0.8560000061988831,
          0.8740000128746033,
          0.8560000061988831,
          0.8920000195503235,
          0.7839999794960022,
          0.7839999794960022,
          0.8379999995231628,
          0.8379999995231628,
          0.7839999794960022,
          0.8199999928474426,
          0.8019999861717224,
          0,
          0.8740000128746033,
          0.8740000128746033,
          0.8199999928474426,
          0.8920000195503235,
          0.8560000061988831,
          0.8920000195503235,
          0.8199999928474426,
          0.8560000061988831,
          0.8740000128746033,
          0.8740000128746033,
          0.7839999794960022,
          0.7480000257492065,
          0.7300000190734863,
          0.8560000061988831,
          0.8379999995231628,
          0.8199999928474426,
          0.8740000128746033,
          0.8379999995231628,
          0.8560000061988831,
          0.7839999794960022,
          0.8379999995231628,
          0.8019999861717224,
          0.8379999995231628,
          0.7300000190734863,
          0.8379999995231628,
          0.8560000061988831,
          0.8379999995231628,
          0.8199999928474426,
          0.8740000128746033,
          0,
          0.8019999861717224,
          0,
          0.8560000061988831,
          0.8379999995231628,
          0.8740000128746033,
          0.8920000195503235,
          0.8379999995231628,
          0.7300000190734863,
          0.8920000195503235,
          0.8560000061988831,
          0.8379999995231628,
          0.8199999928474426,
          0.7480000257492065,
          0.8199999928474426,
          0.8379999995231628,
          0.8379999995231628,
          0.8199999928474426,
          0.8920000195503235,
          0.8199999928474426,
          0.8740000128746033,
          0.7839999794960022,
          0.8560000061988831,
          0.8019999861717224,
          0.7839999794960022,
          0,
          0.8740000128746033,
          0.8560000061988831,
          0.8019999861717224,
          0.8199999928474426,
          0.8379999995231628,
          0.8379999995231628,
          0.8560000061988831,
          0.8560000061988831,
          0.8740000128746033,
          0.8199999928474426,
          0.8560000061988831,
          0.8379999995231628,
          0.7839999794960022,
          0.8560000061988831,
          0.8019999861717224,
          0.8019999861717224,
          0,
          0.8920000195503235,
          0.7839999794960022,
          0.8740000128746033,
          0.8019999861717224,
          0.8379999995231628,
          0,
          0.8379999995231628,
          0,
          0.8920000195503235,
          0.7480000257492065,
          0,
          0.8560000061988831,
          0.8379999995231628,
          0.8379999995231628,
          0,
          0.8740000128746033,
          0.8920000195503235,
          0.8199999928474426,
          0.7839999794960022,
          0,
          0.765999972820282,
          0.8379999995231628,
          0.8560000061988831,
          0.8920000195503235,
          0.8740000128746033,
          0.7480000257492065,
          0,
          0.8379999995231628,
          0.7300000190734863,
          0.765999972820282,
          0.8740000128746033,
          0.765999972820282,
          0.8740000128746033,
          0.8379999995231628,
          0.8560000061988831,
          0.8379999995231628,
          0.8920000195503235,
          0.8740000128746033,
          0.8379999995231628,
          0.7839999794960022,
          0.8560000061988831,
          0.765999972820282,
          0.8560000061988831,
          0.8740000128746033,
          0.8379999995231628,
          0.8740000128746033,
          0,
          0.8740000128746033,
          0.8560000061988831,
          0.8019999861717224,
          0.8379999995231628,
          0.8379999995231628,
          0.7480000257492065,
          0.8379999995231628,
          0.621999979019165,
          0.8920000195503235,
          0.8920000195503235,
          0.8199999928474426,
          0.8199999928474426,
          0.8920000195503235,
          0.765999972820282,
          0.8019999861717224,
          0.7300000190734863,
          0,
          0.8560000061988831,
          0.8379999995231628,
          0.8379999995231628,
          0.8199999928474426,
          0.8199999928474426,
          0.8199999928474426,
          0.8740000128746033,
          0.8379999995231628,
          0.8379999995231628,
          0,
          0.7480000257492065,
          0.8379999995231628,
          0.7839999794960022,
          0.7839999794960022,
          0.8920000195503235,
          0.8019999861717224,
          0.8920000195503235,
          0.8199999928474426,
          0.8379999995231628,
          0.7839999794960022
         ]
        },
        {
         "boxpoints": "all",
         "jitter": 0.3,
         "name": "8.0: (0.53, +- 0.43)",
         "pointpos": -1.8,
         "type": "box",
         "y": [
          0.8920000195503235,
          0.8560000061988831,
          0.8560000061988831,
          0.8560000061988831,
          0.8560000061988831,
          0.8920000195503235,
          0.8920000195503235,
          0.8920000195503235,
          0,
          0.7480000257492065,
          0.8560000061988831,
          0.8560000061988831,
          0.8920000195503235,
          0.8560000061988831,
          0.8560000061988831,
          0.8560000061988831,
          0.7839999794960022,
          0,
          0,
          0,
          0,
          0.8920000195503235,
          0,
          0,
          0.8560000061988831,
          0,
          0,
          0,
          0.8560000061988831,
          0.8920000195503235,
          0,
          0.8560000061988831,
          0.8920000195503235,
          0,
          0,
          0,
          0.8560000061988831,
          0.8920000195503235,
          0.8560000061988831,
          0,
          0,
          0,
          0.8560000061988831,
          0.8560000061988831,
          0.8560000061988831,
          0.8560000061988831,
          0,
          0.8560000061988831,
          0,
          0.8560000061988831,
          0,
          0.8920000195503235,
          0.8560000061988831,
          0,
          0,
          0.8920000195503235,
          0.8560000061988831,
          0,
          0,
          0.8920000195503235,
          0.8560000061988831,
          0.8560000061988831,
          0,
          0,
          0.8920000195503235,
          0,
          0.8920000195503235,
          0.8920000195503235,
          0.8920000195503235,
          0.8560000061988831,
          0.8560000061988831,
          0,
          0,
          0,
          0.8560000061988831,
          0,
          0.8920000195503235,
          0,
          0,
          0.8560000061988831,
          0,
          0.8920000195503235,
          0.8560000061988831,
          0.8920000195503235,
          0.8920000195503235,
          0,
          0,
          0,
          0.8560000061988831,
          0,
          0.8920000195503235,
          0,
          0.8560000061988831,
          0,
          0,
          0.7839999794960022,
          0.8560000061988831,
          0.8920000195503235,
          0.8920000195503235,
          0,
          0,
          0,
          0.8560000061988831,
          0.8920000195503235,
          0,
          0.8920000195503235,
          0.8920000195503235,
          0.8560000061988831,
          0.8920000195503235,
          0.8920000195503235,
          0.8560000061988831,
          0,
          0.8920000195503235,
          0.8920000195503235,
          0.8920000195503235,
          0.8560000061988831,
          0.8920000195503235,
          0.8920000195503235
         ]
        },
        {
         "boxpoints": "all",
         "jitter": 0.3,
         "name": "9.0: (0.44, +- 0.44)",
         "pointpos": -1.8,
         "type": "box",
         "y": [
          0.8920000195503235,
          0.8920000195503235,
          0.8920000195503235,
          0.8560000061988831,
          0.8560000061988831,
          0.7839999794960022,
          0,
          0,
          0,
          0,
          0,
          0,
          0.8920000195503235,
          0,
          0,
          0.8560000061988831,
          0.8560000061988831,
          0.8920000195503235,
          0,
          0.8560000061988831,
          0,
          0.8920000195503235,
          0.8560000061988831,
          0,
          0,
          0,
          0,
          0.8920000195503235,
          0,
          0.8199999928474426,
          0.8920000195503235,
          0,
          0,
          0.8920000195503235,
          0,
          0,
          0.8920000195503235,
          0,
          0.7480000257492065,
          0.8920000195503235,
          0.8920000195503235,
          0,
          0,
          0.8920000195503235,
          0,
          0.8920000195503235,
          0.8560000061988831,
          0,
          0,
          0,
          0,
          0.8920000195503235,
          0.8560000061988831,
          0.8920000195503235,
          0,
          0.8920000195503235,
          0,
          0.8920000195503235,
          0.8560000061988831,
          0.8920000195503235,
          0,
          0,
          0.8560000061988831,
          0.8920000195503235,
          0.8920000195503235,
          0,
          0,
          0,
          0.8560000061988831,
          0,
          0,
          0,
          0.8920000195503235,
          0,
          0,
          0.8560000061988831,
          0.8560000061988831,
          0.7839999794960022,
          0.8560000061988831,
          0,
          0.8920000195503235,
          0,
          0,
          0.8560000061988831,
          0.8560000061988831,
          0.8740000128746033,
          0,
          0.8560000061988831,
          0.8560000061988831,
          0,
          0,
          0.8019999861717224,
          0,
          0.8560000061988831,
          0.8560000061988831,
          0,
          0,
          0,
          0.8560000061988831,
          0.8560000061988831,
          0.8560000061988831,
          0
         ]
        },
        {
         "boxpoints": "all",
         "jitter": 0.3,
         "name": "10.0: (0.81, +- 0.16)",
         "pointpos": -1.8,
         "type": "box",
         "y": [
          0.8560000061988831,
          0.8560000061988831,
          0.8560000061988831,
          0.8560000061988831,
          0.8560000061988831,
          0.8560000061988831,
          0.8379999995231628,
          0.8379999995231628,
          0.8379999995231628,
          0.8199999928474426,
          0.8920000195503235,
          0.8560000061988831,
          0.8560000061988831,
          0.8920000195503235,
          0.8560000061988831,
          0.8740000128746033,
          0.8740000128746033,
          0.8379999995231628,
          0.8379999995231628,
          0.8920000195503235,
          0.765999972820282,
          0.8920000195503235,
          0.8199999928474426,
          0.8379999995231628,
          0.8379999995231628,
          0.8379999995231628,
          0.8560000061988831,
          0.8019999861717224,
          0.8920000195503235,
          0.8740000128746033,
          0.8920000195503235,
          0.8379999995231628,
          0.8740000128746033,
          0.8560000061988831,
          0.8379999995231628,
          0.8199999928474426,
          0.6579999923706055,
          0.8379999995231628,
          0.8740000128746033,
          0.8379999995231628,
          0.8920000195503235,
          0.8379999995231628,
          0.7300000190734863,
          0.7839999794960022,
          0.8740000128746033,
          0.7480000257492065,
          0.8019999861717224,
          0.8560000061988831,
          0.8920000195503235,
          0.7839999794960022,
          0.8379999995231628,
          0.8560000061988831,
          0.8920000195503235,
          0.6940000057220459,
          0.8379999995231628,
          0.8379999995231628,
          0.8199999928474426,
          0.8560000061988831,
          0.8560000061988831,
          0.8740000128746033,
          0.8379999995231628,
          0.8560000061988831,
          0.8199999928474426,
          0.8199999928474426,
          0.8379999995231628,
          0.6579999923706055,
          0.8560000061988831,
          0.8199999928474426,
          0.7839999794960022,
          0.8740000128746033,
          0.8740000128746033,
          0.8560000061988831,
          0.765999972820282,
          0.8920000195503235,
          0.8379999995231628,
          0.8920000195503235,
          0.8740000128746033,
          0.8740000128746033,
          0.8560000061988831,
          0.8379999995231628,
          0.8019999861717224,
          0.8560000061988831,
          0.8019999861717224,
          0.8379999995231628,
          0.8740000128746033,
          0.8920000195503235,
          0.765999972820282,
          0.8019999861717224,
          0.8740000128746033,
          0,
          0.8379999995231628,
          0.8560000061988831,
          0.8560000061988831,
          0.8740000128746033,
          0.8920000195503235,
          0.7839999794960022,
          0.8379999995231628,
          0.8379999995231628,
          0.7300000190734863,
          0.8560000061988831,
          0.8740000128746033,
          0,
          0.8740000128746033,
          0.6759999990463257,
          0.8379999995231628,
          0.8019999861717224,
          0.8560000061988831,
          0.8379999995231628,
          0.7839999794960022,
          0.8379999995231628,
          0.8920000195503235,
          0.8199999928474426,
          0.8560000061988831,
          0.7120000123977661,
          0.8920000195503235,
          0.6940000057220459,
          0.6940000057220459,
          0.8920000195503235,
          0.8920000195503235,
          0.8560000061988831,
          0,
          0.8379999995231628,
          0.8920000195503235,
          0.8740000128746033,
          0.8199999928474426,
          0.8560000061988831,
          0.8019999861717224,
          0.8560000061988831,
          0.8560000061988831,
          0.8019999861717224,
          0.7300000190734863,
          0.8199999928474426,
          0.8379999995231628,
          0.765999972820282,
          0.8740000128746033,
          0.8379999995231628,
          0.8379999995231628,
          0.7120000123977661,
          0.8920000195503235,
          0.8379999995231628,
          0.8740000128746033,
          0.7300000190734863,
          0.8199999928474426,
          0.8199999928474426,
          0.8740000128746033,
          0.8019999861717224,
          0.8920000195503235,
          0.8920000195503235,
          0.8379999995231628,
          0.8740000128746033,
          0,
          0.765999972820282,
          0.8920000195503235,
          0.8560000061988831,
          0.8379999995231628,
          0.765999972820282,
          0.8199999928474426,
          0.8199999928474426,
          0.8560000061988831,
          0.8379999995231628,
          0.8920000195503235,
          0.8560000061988831,
          0.8920000195503235,
          0.8379999995231628,
          0.8019999861717224,
          0.8379999995231628,
          0.8920000195503235,
          0.7839999794960022,
          0.8560000061988831,
          0.5680000185966492,
          0.8740000128746033,
          0.8199999928474426,
          0.8379999995231628,
          0.8560000061988831,
          0.7480000257492065,
          0.7839999794960022,
          0.8019999861717224,
          0.8560000061988831,
          0.8740000128746033,
          0.8199999928474426,
          0.8199999928474426,
          0.8740000128746033,
          0.8560000061988831,
          0.8019999861717224,
          0.7839999794960022,
          0.8740000128746033,
          0.8199999928474426,
          0.8920000195503235,
          0.8199999928474426,
          0.8920000195503235,
          0.8199999928474426,
          0.8379999995231628,
          0.8379999995231628,
          0.8379999995231628,
          0.8379999995231628,
          0.8379999995231628,
          0,
          0.8560000061988831,
          0.8019999861717224,
          0,
          0.8740000128746033,
          0.8740000128746033,
          0.7300000190734863,
          0.8740000128746033,
          0.8560000061988831,
          0.8920000195503235,
          0.8199999928474426,
          0.8560000061988831,
          0.8379999995231628,
          0.8379999995231628,
          0.7839999794960022,
          0.8019999861717224,
          0.8920000195503235,
          0.8740000128746033,
          0.7839999794960022,
          0.8920000195503235,
          0.8920000195503235,
          0.8740000128746033,
          0.8740000128746033,
          0.8740000128746033,
          0.8019999861717224,
          0.8740000128746033,
          0.8560000061988831,
          0.8740000128746033,
          0.8740000128746033,
          0.8379999995231628,
          0.7839999794960022,
          0.8740000128746033,
          0.8920000195503235,
          0.8740000128746033,
          0.8560000061988831,
          0.8560000061988831,
          0.8740000128746033,
          0.8199999928474426,
          0.8560000061988831,
          0.7839999794960022,
          0.8199999928474426,
          0.8740000128746033,
          0.8560000061988831,
          0.8199999928474426,
          0.8379999995231628,
          0.8379999995231628,
          0.7300000190734863,
          0.8560000061988831,
          0.8019999861717224,
          0,
          0.8920000195503235,
          0.8920000195503235,
          0.8740000128746033,
          0,
          0.8199999928474426,
          0.7839999794960022,
          0.8920000195503235,
          0.8740000128746033,
          0.8920000195503235,
          0.8199999928474426,
          0.8740000128746033,
          0.765999972820282,
          0.7300000190734863,
          0.8920000195503235,
          0.6759999990463257,
          0.8740000128746033,
          0.8560000061988831,
          0.8379999995231628,
          0.765999972820282,
          0.7300000190734863,
          0.8199999928474426,
          0.8560000061988831,
          0.8740000128746033,
          0.8019999861717224,
          0.8920000195503235,
          0.7839999794960022,
          0.8560000061988831,
          0.7839999794960022,
          0.7839999794960022,
          0.8199999928474426,
          0.8199999928474426,
          0.8560000061988831,
          0.8019999861717224,
          0.7120000123977661,
          0.8560000061988831,
          0.8560000061988831,
          0.8019999861717224,
          0.8560000061988831,
          0.8019999861717224,
          0.8740000128746033,
          0.8199999928474426,
          0,
          0.8740000128746033,
          0.8560000061988831,
          0.8740000128746033,
          0.8019999861717224,
          0.8920000195503235,
          0.8379999995231628,
          0.8920000195503235,
          0.8019999861717224,
          0.8920000195503235,
          0.8560000061988831,
          0,
          0.8920000195503235,
          0.8740000128746033,
          0.8379999995231628,
          0.8199999928474426,
          0.8560000061988831,
          0.8740000128746033,
          0.8920000195503235,
          0.8920000195503235,
          0.8740000128746033,
          0.8560000061988831,
          0.8920000195503235,
          0.8920000195503235,
          0.8379999995231628,
          0.8740000128746033,
          0.8920000195503235,
          0.7839999794960022,
          0.6579999923706055,
          0.8379999995231628,
          0.8379999995231628,
          0.8740000128746033,
          0.8740000128746033,
          0.8920000195503235,
          0.8560000061988831,
          0.8920000195503235,
          0.8560000061988831,
          0.8560000061988831,
          0.8019999861717224,
          0.8199999928474426,
          0.8920000195503235,
          0
         ]
        }
       ],
       "layout": {
        "template": {
         "data": {
          "bar": [
           {
            "error_x": {
             "color": "#2a3f5f"
            },
            "error_y": {
             "color": "#2a3f5f"
            },
            "marker": {
             "line": {
              "color": "#E5ECF6",
              "width": 0.5
             },
             "pattern": {
              "fillmode": "overlay",
              "size": 10,
              "solidity": 0.2
             }
            },
            "type": "bar"
           }
          ],
          "barpolar": [
           {
            "marker": {
             "line": {
              "color": "#E5ECF6",
              "width": 0.5
             },
             "pattern": {
              "fillmode": "overlay",
              "size": 10,
              "solidity": 0.2
             }
            },
            "type": "barpolar"
           }
          ],
          "carpet": [
           {
            "aaxis": {
             "endlinecolor": "#2a3f5f",
             "gridcolor": "white",
             "linecolor": "white",
             "minorgridcolor": "white",
             "startlinecolor": "#2a3f5f"
            },
            "baxis": {
             "endlinecolor": "#2a3f5f",
             "gridcolor": "white",
             "linecolor": "white",
             "minorgridcolor": "white",
             "startlinecolor": "#2a3f5f"
            },
            "type": "carpet"
           }
          ],
          "choropleth": [
           {
            "colorbar": {
             "outlinewidth": 0,
             "ticks": ""
            },
            "type": "choropleth"
           }
          ],
          "contour": [
           {
            "colorbar": {
             "outlinewidth": 0,
             "ticks": ""
            },
            "colorscale": [
             [
              0,
              "#0d0887"
             ],
             [
              0.1111111111111111,
              "#46039f"
             ],
             [
              0.2222222222222222,
              "#7201a8"
             ],
             [
              0.3333333333333333,
              "#9c179e"
             ],
             [
              0.4444444444444444,
              "#bd3786"
             ],
             [
              0.5555555555555556,
              "#d8576b"
             ],
             [
              0.6666666666666666,
              "#ed7953"
             ],
             [
              0.7777777777777778,
              "#fb9f3a"
             ],
             [
              0.8888888888888888,
              "#fdca26"
             ],
             [
              1,
              "#f0f921"
             ]
            ],
            "type": "contour"
           }
          ],
          "contourcarpet": [
           {
            "colorbar": {
             "outlinewidth": 0,
             "ticks": ""
            },
            "type": "contourcarpet"
           }
          ],
          "heatmap": [
           {
            "colorbar": {
             "outlinewidth": 0,
             "ticks": ""
            },
            "colorscale": [
             [
              0,
              "#0d0887"
             ],
             [
              0.1111111111111111,
              "#46039f"
             ],
             [
              0.2222222222222222,
              "#7201a8"
             ],
             [
              0.3333333333333333,
              "#9c179e"
             ],
             [
              0.4444444444444444,
              "#bd3786"
             ],
             [
              0.5555555555555556,
              "#d8576b"
             ],
             [
              0.6666666666666666,
              "#ed7953"
             ],
             [
              0.7777777777777778,
              "#fb9f3a"
             ],
             [
              0.8888888888888888,
              "#fdca26"
             ],
             [
              1,
              "#f0f921"
             ]
            ],
            "type": "heatmap"
           }
          ],
          "heatmapgl": [
           {
            "colorbar": {
             "outlinewidth": 0,
             "ticks": ""
            },
            "colorscale": [
             [
              0,
              "#0d0887"
             ],
             [
              0.1111111111111111,
              "#46039f"
             ],
             [
              0.2222222222222222,
              "#7201a8"
             ],
             [
              0.3333333333333333,
              "#9c179e"
             ],
             [
              0.4444444444444444,
              "#bd3786"
             ],
             [
              0.5555555555555556,
              "#d8576b"
             ],
             [
              0.6666666666666666,
              "#ed7953"
             ],
             [
              0.7777777777777778,
              "#fb9f3a"
             ],
             [
              0.8888888888888888,
              "#fdca26"
             ],
             [
              1,
              "#f0f921"
             ]
            ],
            "type": "heatmapgl"
           }
          ],
          "histogram": [
           {
            "marker": {
             "pattern": {
              "fillmode": "overlay",
              "size": 10,
              "solidity": 0.2
             }
            },
            "type": "histogram"
           }
          ],
          "histogram2d": [
           {
            "colorbar": {
             "outlinewidth": 0,
             "ticks": ""
            },
            "colorscale": [
             [
              0,
              "#0d0887"
             ],
             [
              0.1111111111111111,
              "#46039f"
             ],
             [
              0.2222222222222222,
              "#7201a8"
             ],
             [
              0.3333333333333333,
              "#9c179e"
             ],
             [
              0.4444444444444444,
              "#bd3786"
             ],
             [
              0.5555555555555556,
              "#d8576b"
             ],
             [
              0.6666666666666666,
              "#ed7953"
             ],
             [
              0.7777777777777778,
              "#fb9f3a"
             ],
             [
              0.8888888888888888,
              "#fdca26"
             ],
             [
              1,
              "#f0f921"
             ]
            ],
            "type": "histogram2d"
           }
          ],
          "histogram2dcontour": [
           {
            "colorbar": {
             "outlinewidth": 0,
             "ticks": ""
            },
            "colorscale": [
             [
              0,
              "#0d0887"
             ],
             [
              0.1111111111111111,
              "#46039f"
             ],
             [
              0.2222222222222222,
              "#7201a8"
             ],
             [
              0.3333333333333333,
              "#9c179e"
             ],
             [
              0.4444444444444444,
              "#bd3786"
             ],
             [
              0.5555555555555556,
              "#d8576b"
             ],
             [
              0.6666666666666666,
              "#ed7953"
             ],
             [
              0.7777777777777778,
              "#fb9f3a"
             ],
             [
              0.8888888888888888,
              "#fdca26"
             ],
             [
              1,
              "#f0f921"
             ]
            ],
            "type": "histogram2dcontour"
           }
          ],
          "mesh3d": [
           {
            "colorbar": {
             "outlinewidth": 0,
             "ticks": ""
            },
            "type": "mesh3d"
           }
          ],
          "parcoords": [
           {
            "line": {
             "colorbar": {
              "outlinewidth": 0,
              "ticks": ""
             }
            },
            "type": "parcoords"
           }
          ],
          "pie": [
           {
            "automargin": true,
            "type": "pie"
           }
          ],
          "scatter": [
           {
            "fillpattern": {
             "fillmode": "overlay",
             "size": 10,
             "solidity": 0.2
            },
            "type": "scatter"
           }
          ],
          "scatter3d": [
           {
            "line": {
             "colorbar": {
              "outlinewidth": 0,
              "ticks": ""
             }
            },
            "marker": {
             "colorbar": {
              "outlinewidth": 0,
              "ticks": ""
             }
            },
            "type": "scatter3d"
           }
          ],
          "scattercarpet": [
           {
            "marker": {
             "colorbar": {
              "outlinewidth": 0,
              "ticks": ""
             }
            },
            "type": "scattercarpet"
           }
          ],
          "scattergeo": [
           {
            "marker": {
             "colorbar": {
              "outlinewidth": 0,
              "ticks": ""
             }
            },
            "type": "scattergeo"
           }
          ],
          "scattergl": [
           {
            "marker": {
             "colorbar": {
              "outlinewidth": 0,
              "ticks": ""
             }
            },
            "type": "scattergl"
           }
          ],
          "scattermapbox": [
           {
            "marker": {
             "colorbar": {
              "outlinewidth": 0,
              "ticks": ""
             }
            },
            "type": "scattermapbox"
           }
          ],
          "scatterpolar": [
           {
            "marker": {
             "colorbar": {
              "outlinewidth": 0,
              "ticks": ""
             }
            },
            "type": "scatterpolar"
           }
          ],
          "scatterpolargl": [
           {
            "marker": {
             "colorbar": {
              "outlinewidth": 0,
              "ticks": ""
             }
            },
            "type": "scatterpolargl"
           }
          ],
          "scatterternary": [
           {
            "marker": {
             "colorbar": {
              "outlinewidth": 0,
              "ticks": ""
             }
            },
            "type": "scatterternary"
           }
          ],
          "surface": [
           {
            "colorbar": {
             "outlinewidth": 0,
             "ticks": ""
            },
            "colorscale": [
             [
              0,
              "#0d0887"
             ],
             [
              0.1111111111111111,
              "#46039f"
             ],
             [
              0.2222222222222222,
              "#7201a8"
             ],
             [
              0.3333333333333333,
              "#9c179e"
             ],
             [
              0.4444444444444444,
              "#bd3786"
             ],
             [
              0.5555555555555556,
              "#d8576b"
             ],
             [
              0.6666666666666666,
              "#ed7953"
             ],
             [
              0.7777777777777778,
              "#fb9f3a"
             ],
             [
              0.8888888888888888,
              "#fdca26"
             ],
             [
              1,
              "#f0f921"
             ]
            ],
            "type": "surface"
           }
          ],
          "table": [
           {
            "cells": {
             "fill": {
              "color": "#EBF0F8"
             },
             "line": {
              "color": "white"
             }
            },
            "header": {
             "fill": {
              "color": "#C8D4E3"
             },
             "line": {
              "color": "white"
             }
            },
            "type": "table"
           }
          ]
         },
         "layout": {
          "annotationdefaults": {
           "arrowcolor": "#2a3f5f",
           "arrowhead": 0,
           "arrowwidth": 1
          },
          "autotypenumbers": "strict",
          "coloraxis": {
           "colorbar": {
            "outlinewidth": 0,
            "ticks": ""
           }
          },
          "colorscale": {
           "diverging": [
            [
             0,
             "#8e0152"
            ],
            [
             0.1,
             "#c51b7d"
            ],
            [
             0.2,
             "#de77ae"
            ],
            [
             0.3,
             "#f1b6da"
            ],
            [
             0.4,
             "#fde0ef"
            ],
            [
             0.5,
             "#f7f7f7"
            ],
            [
             0.6,
             "#e6f5d0"
            ],
            [
             0.7,
             "#b8e186"
            ],
            [
             0.8,
             "#7fbc41"
            ],
            [
             0.9,
             "#4d9221"
            ],
            [
             1,
             "#276419"
            ]
           ],
           "sequential": [
            [
             0,
             "#0d0887"
            ],
            [
             0.1111111111111111,
             "#46039f"
            ],
            [
             0.2222222222222222,
             "#7201a8"
            ],
            [
             0.3333333333333333,
             "#9c179e"
            ],
            [
             0.4444444444444444,
             "#bd3786"
            ],
            [
             0.5555555555555556,
             "#d8576b"
            ],
            [
             0.6666666666666666,
             "#ed7953"
            ],
            [
             0.7777777777777778,
             "#fb9f3a"
            ],
            [
             0.8888888888888888,
             "#fdca26"
            ],
            [
             1,
             "#f0f921"
            ]
           ],
           "sequentialminus": [
            [
             0,
             "#0d0887"
            ],
            [
             0.1111111111111111,
             "#46039f"
            ],
            [
             0.2222222222222222,
             "#7201a8"
            ],
            [
             0.3333333333333333,
             "#9c179e"
            ],
            [
             0.4444444444444444,
             "#bd3786"
            ],
            [
             0.5555555555555556,
             "#d8576b"
            ],
            [
             0.6666666666666666,
             "#ed7953"
            ],
            [
             0.7777777777777778,
             "#fb9f3a"
            ],
            [
             0.8888888888888888,
             "#fdca26"
            ],
            [
             1,
             "#f0f921"
            ]
           ]
          },
          "colorway": [
           "#636efa",
           "#EF553B",
           "#00cc96",
           "#ab63fa",
           "#FFA15A",
           "#19d3f3",
           "#FF6692",
           "#B6E880",
           "#FF97FF",
           "#FECB52"
          ],
          "font": {
           "color": "#2a3f5f"
          },
          "geo": {
           "bgcolor": "white",
           "lakecolor": "white",
           "landcolor": "#E5ECF6",
           "showlakes": true,
           "showland": true,
           "subunitcolor": "white"
          },
          "hoverlabel": {
           "align": "left"
          },
          "hovermode": "closest",
          "mapbox": {
           "style": "light"
          },
          "paper_bgcolor": "white",
          "plot_bgcolor": "#E5ECF6",
          "polar": {
           "angularaxis": {
            "gridcolor": "white",
            "linecolor": "white",
            "ticks": ""
           },
           "bgcolor": "#E5ECF6",
           "radialaxis": {
            "gridcolor": "white",
            "linecolor": "white",
            "ticks": ""
           }
          },
          "scene": {
           "xaxis": {
            "backgroundcolor": "#E5ECF6",
            "gridcolor": "white",
            "gridwidth": 2,
            "linecolor": "white",
            "showbackground": true,
            "ticks": "",
            "zerolinecolor": "white"
           },
           "yaxis": {
            "backgroundcolor": "#E5ECF6",
            "gridcolor": "white",
            "gridwidth": 2,
            "linecolor": "white",
            "showbackground": true,
            "ticks": "",
            "zerolinecolor": "white"
           },
           "zaxis": {
            "backgroundcolor": "#E5ECF6",
            "gridcolor": "white",
            "gridwidth": 2,
            "linecolor": "white",
            "showbackground": true,
            "ticks": "",
            "zerolinecolor": "white"
           }
          },
          "shapedefaults": {
           "line": {
            "color": "#2a3f5f"
           }
          },
          "ternary": {
           "aaxis": {
            "gridcolor": "white",
            "linecolor": "white",
            "ticks": ""
           },
           "baxis": {
            "gridcolor": "white",
            "linecolor": "white",
            "ticks": ""
           },
           "bgcolor": "#E5ECF6",
           "caxis": {
            "gridcolor": "white",
            "linecolor": "white",
            "ticks": ""
           }
          },
          "title": {
           "x": 0.05
          },
          "xaxis": {
           "automargin": true,
           "gridcolor": "white",
           "linecolor": "white",
           "ticks": "",
           "title": {
            "standoff": 15
           },
           "zerolinecolor": "white",
           "zerolinewidth": 2
          },
          "yaxis": {
           "automargin": true,
           "gridcolor": "white",
           "linecolor": "white",
           "ticks": "",
           "title": {
            "standoff": 15
           },
           "zerolinecolor": "white",
           "zerolinewidth": 2
          }
         }
        },
        "title": {
         "text": "Episode Returns"
        }
       }
      }
     },
     "metadata": {},
     "output_type": "display_data"
    }
   ],
   "source": [
    "\n",
    "import pandas as pd\n",
    "import plotly.graph_objects as go\n",
    "\n",
    "def plot_checkpoints_stats(all_episode_lengths, all_episode_returns):\n",
    "\n",
    "    # stack df's but label them with the agent number\n",
    "    lengths = pd.concat(all_episode_lengths, keys=range(len(all_episode_lengths))).reset_index(level=0, drop=False)\n",
    "    # rename level 0 to checkpoint\n",
    "    lengths = lengths.rename(columns={'level_0': 'checkpoint'})\n",
    "\n",
    "    # Compute mean and std of episode lengths\n",
    "    length_stats = lengths.groupby('checkpoint')['episode_length'].agg(['mean', 'std']).reset_index()\n",
    "\n",
    "    # histogram of all episode lengths\n",
    "    fig1 = go.Figure()\n",
    "    for idx, stats in length_stats.iterrows():\n",
    "        fig1.add_trace(go.Box(y=lengths[lengths['checkpoint'] == stats['checkpoint']]['episode_length'],\n",
    "                              name=f\"{stats['checkpoint']}: ({stats['mean']:.2f}, +- {stats['std']:.2f})\",\n",
    "                              boxpoints='all', jitter=0.3, pointpos=-1.8))\n",
    "\n",
    "    fig1.update_layout(title='Episode Lengths')\n",
    "\n",
    "    # stack df's but label them with the agent number\n",
    "    returns = pd.concat(all_episode_returns, keys=range(len(all_episode_lengths))).reset_index(level=0, drop=False)\n",
    "    # rename level 0 to checkpoint\n",
    "    returns = returns.rename(columns={'level_0': 'checkpoint'})\n",
    "\n",
    "    # Compute mean and std of episode returns\n",
    "    return_stats = returns.groupby('checkpoint')['episode_return'].agg(['mean', 'std']).reset_index()\n",
    "\n",
    "    # histogram of all episode lengths\n",
    "    fig2 = go.Figure()\n",
    "    for idx, stats in return_stats.iterrows():\n",
    "        fig2.add_trace(go.Box(y=returns[returns['checkpoint'] == stats['checkpoint']]['episode_return'],\n",
    "                              name=f\"{stats['checkpoint']}: ({stats['mean']:.2f}, +- {stats['std']:.2f})\",\n",
    "                              boxpoints='all', jitter=0.3, pointpos=-1.8))\n",
    "\n",
    "    fig2.update_layout(title='Episode Returns')\n",
    "\n",
    "    return fig1, fig2\n",
    "\n",
    "\n",
    "trajectory_path = \"rollouts\"\n",
    "num_envs = 5\n",
    "# all_episode_lengths, all_episode_returns = sample_from_agents(agents, rollout_length=2000, trajectory_path=trajectory_path, num_envs=num_envs)\n",
    "fig1, fig2 = plot_checkpoints_stats(all_episode_lengths, all_episode_returns)\n",
    "fig1.show()\n",
    "fig2.show()"
   ]
  },
  {
   "attachments": {},
   "cell_type": "markdown",
   "metadata": {},
   "source": [
    "## Let's see if we can train a model that on one of the best checkpoints\n",
    "\n",
    "rollout agent 5 was pretty good so let's generate some data from that one and then call a Decision Transformer Training Script on it. "
   ]
  },
  {
   "cell_type": "code",
   "execution_count": 9,
   "metadata": {},
   "outputs": [
    {
     "name": "stderr",
     "output_type": "stream",
     "text": [
      "/Users/josephbloom/miniforge3/envs/decision_transformer_interpretability/lib/python3.10/site-packages/gymnasium/wrappers/record_video.py:87: UserWarning:\n",
      "\n",
      "\u001b[33mWARN: Overwriting existing videos at /Users/josephbloom/GithubRepositories/DecisionTransformerInterpretability/dev/videos/test folder (try specifying a different `video_folder` for the `RecordVideo` wrapper if this is not desired)\u001b[0m\n",
      "\n"
     ]
    },
    {
     "name": "stdout",
     "output_type": "stream",
     "text": [
      "Writing to ../trajectories/MiniGrid-MemoryS7FixedStart-v0-Checkpoint11.gz, using gzip compression\n",
      "Trajectory written to ../trajectories/MiniGrid-MemoryS7FixedStart-v0-Checkpoint11.gz\n"
     ]
    }
   ],
   "source": [
    "import sys \n",
    "sys.path.append('..')\n",
    "from src.ppo.agent import load_saved_checkpoint, process_memory_vars_to_log\n",
    "from src.utils import TrajectoryWriter\n",
    "from src.config import RunConfig, OnlineTrainConfig\n",
    "from src.ppo.memory import Memory\n",
    "\n",
    "trajectory_path = \"../trajectories/MiniGrid-MemoryS7FixedStart-v0-Checkpoint11.gz\"\n",
    "agent = load_saved_checkpoint(\"../artifacts/Test-PPO-LSTM_checkpoints:v16/Test-PPO-LSTM_11.pt\", 16)\n",
    "num_envs = 16\n",
    "rollout_length = 60000 # seems like a good amount\n",
    "memory = Memory(agent.envs, OnlineTrainConfig(num_envs=num_envs), device=agent.device)\n",
    "if trajectory_path:\n",
    "    trajectory_writer = TrajectoryWriter(\n",
    "        path= trajectory_path,\n",
    "        run_config=RunConfig(track=False),\n",
    "        environment_config=agent.environment_config,\n",
    "        online_config=OnlineTrainConfig(num_envs=num_envs),\n",
    "        model_config=agent.model_config\n",
    "    )\n",
    "else:\n",
    "    trajectory_writer = None\n",
    "agent.rollout(memory, rollout_length, agent.envs, trajectory_writer)\n",
    "if trajectory_writer:\n",
    "    trajectory_writer.tag_terminated_trajectories()\n",
    "    trajectory_writer.write(upload_to_wandb=False)"
   ]
  },
  {
   "cell_type": "code",
   "execution_count": null,
   "metadata": {},
   "outputs": [],
   "source": [
    "# let's load the trajectories and take a look at them:\n",
    "# important questions:\n",
    "# 1. are the trajectories terminated correctly?\n",
    "# 2. are the trajectories the correct length?\n",
    "# 3. of the ones that fail to succeed, is the RTG labelled  correctly? \n",
    "\n"
   ]
  },
  {
   "cell_type": "code",
   "execution_count": 1,
   "metadata": {},
   "outputs": [
    {
     "name": "stderr",
     "output_type": "stream",
     "text": [
      "Failed to detect the name of this notebook, you can set it manually with the WANDB_NOTEBOOK_NAME environment variable to enable code saving.\n",
      "\u001b[34m\u001b[1mwandb\u001b[0m: Currently logged in as: \u001b[33mjbloom\u001b[0m. Use \u001b[1m`wandb login --relogin`\u001b[0m to force relogin\n"
     ]
    },
    {
     "data": {
      "text/html": [
       "wandb version 0.15.0 is available!  To upgrade, please run:\n",
       " $ pip install wandb --upgrade"
      ],
      "text/plain": [
       "<IPython.core.display.HTML object>"
      ]
     },
     "metadata": {},
     "output_type": "display_data"
    },
    {
     "data": {
      "text/html": [
       "Tracking run with wandb version 0.13.7"
      ],
      "text/plain": [
       "<IPython.core.display.HTML object>"
      ]
     },
     "metadata": {},
     "output_type": "display_data"
    },
    {
     "data": {
      "text/html": [
       "Run data is saved locally in <code>/Users/josephbloom/GithubRepositories/DecisionTransformerInterpretability/dev/wandb/run-20230427_113228-1ujgj2j7</code>"
      ],
      "text/plain": [
       "<IPython.core.display.HTML object>"
      ]
     },
     "metadata": {},
     "output_type": "display_data"
    },
    {
     "data": {
      "text/html": [
       "Syncing run <strong><a href=\"https://wandb.ai/jbloom/DecisionTransformerInterpretability-dev/runs/1ujgj2j7\" target=\"_blank\">lunar-pond-9</a></strong> to <a href=\"https://wandb.ai/jbloom/DecisionTransformerInterpretability-dev\" target=\"_blank\">Weights & Biases</a> (<a href=\"https://wandb.me/run\" target=\"_blank\">docs</a>)<br/>"
      ],
      "text/plain": [
       "<IPython.core.display.HTML object>"
      ]
     },
     "metadata": {},
     "output_type": "display_data"
    },
    {
     "name": "stderr",
     "output_type": "stream",
     "text": [
      "\u001b[34m\u001b[1mwandb\u001b[0m:   1 of 1 files downloaded.  \n"
     ]
    }
   ],
   "source": [
    "import wandb\n",
    "run = wandb.init()\n",
    "artifact = run.use_artifact('jbloom/DecisionTransformerInterpretability/MiniGrid-MemoryS7FixedStart-v0__Memory-VariedSamplingStrategies__1__1682558253:v0', type='model')\n",
    "artifact_dir = artifact.download()"
   ]
  },
  {
   "cell_type": "code",
   "execution_count": null,
   "metadata": {},
   "outputs": [],
   "source": []
  }
 ],
 "metadata": {
  "kernelspec": {
   "display_name": "decision_transformer_interpretability",
   "language": "python",
   "name": "python3"
  },
  "language_info": {
   "codemirror_mode": {
    "name": "ipython",
    "version": 3
   },
   "file_extension": ".py",
   "mimetype": "text/x-python",
   "name": "python",
   "nbconvert_exporter": "python",
   "pygments_lexer": "ipython3",
   "version": "3.10.9"
  },
  "orig_nbformat": 4,
  "vscode": {
   "interpreter": {
    "hash": "0be95f1efa079bcf597630754731f3dc2b2137553763cb34bfd5652600bd2735"
   }
  }
 },
 "nbformat": 4,
 "nbformat_minor": 2
}
