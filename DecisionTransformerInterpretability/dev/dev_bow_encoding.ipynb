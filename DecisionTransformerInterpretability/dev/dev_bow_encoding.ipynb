{
 "cells": [
  {
   "attachments": {},
   "cell_type": "markdown",
   "metadata": {},
   "source": [
    "# Bag of Words Encoding and Vision Transformer Notebook\n",
    "\n",
    "Previously, I have been using relatively simplistic schemes for encoding images. I have been using a linear layer and then later a CNN encode images into a vector. However, I suspect a ViT will actually work very well here. Moreover, since there is little/no actual feature recognition to be done and more just combining/projecting into a space, I think a ViT will work well. I haven't see any examples of people working with a ViT in offline-RL so it could be cool to do it. "
   ]
  },
  {
   "attachments": {},
   "cell_type": "markdown",
   "metadata": {},
   "source": [
    "## Visualizing the Bag of Word Embeddings"
   ]
  },
  {
   "cell_type": "code",
   "execution_count": 1,
   "metadata": {},
   "outputs": [
    {
     "name": "stdout",
     "output_type": "stream",
     "text": [
      "MiniGridBOWEmbedding(\n",
      "  (embedding): Embedding(33, 32)\n",
      "  (position_encoding): Summer(\n",
      "    (penc): PositionalEncoding2D()\n",
      "  )\n",
      ")\n",
      "torch.Size([1, 32, 7, 7])\n",
      "--\n",
      "torch.Size([11, 32])\n",
      "torch.Size([6, 32])\n",
      "torch.Size([3, 32])\n",
      "torch.Size([20, 32])\n",
      "torch.Size([1, 7, 7, 32])\n",
      "--\n",
      "average norm channel embeddings: tensor(1.0078, grad_fn=<MeanBackward0>)\n",
      "average norm positional encoding: tensor(1.4963)\n"
     ]
    },
    {
     "data": {
      "application/vnd.plotly.v1+json": {
       "config": {
        "plotlyServerURL": "https://plotly.com"
       },
       "data": [
        {
         "coloraxis": "coloraxis",
         "hovertemplate": "x: %{x}<br>y: %{y}<br>color: %{z}<extra></extra>",
         "name": "0",
         "type": "heatmap",
         "x": [
          0,
          1,
          2,
          3,
          4,
          5,
          6,
          7,
          8,
          9,
          10
         ],
         "xaxis": "x",
         "y": [
          0,
          1,
          2,
          3,
          4,
          5,
          6,
          7,
          8,
          9,
          10
         ],
         "yaxis": "y",
         "z": [
          [
           0.9999998807907104,
           -0.08611362427473068,
           -0.18147605657577515,
           0.007492648437619209,
           0.13198599219322205,
           -0.24902497231960297,
           -0.01157892495393753,
           -0.1976451575756073,
           -0.1901574283838272,
           0.3319210410118103,
           -0.23681677877902985
          ],
          [
           -0.08611362427473068,
           0.9999998211860657,
           0.154814675450325,
           -0.49419206380844116,
           0.13353924453258514,
           0.16273805499076843,
           0.037086863070726395,
           0.44369983673095703,
           0.5024686455726624,
           -0.07976376265287399,
           0.04325822368264198
          ],
          [
           -0.18147605657577515,
           0.154814675450325,
           0.9999998807907104,
           -0.08882970362901688,
           -0.045663755387067795,
           0.07690205425024033,
           -0.0016106816474348307,
           0.07015533745288849,
           0.3362847566604614,
           -0.016123004257678986,
           -0.18393507599830627
          ],
          [
           0.007492648437619209,
           -0.49419206380844116,
           -0.08882970362901688,
           1.0000001192092896,
           -0.19603919982910156,
           -0.0979115217924118,
           -0.16082412004470825,
           -0.20331113040447235,
           -0.4209921956062317,
           0.2647625803947449,
           0.0516882948577404
          ],
          [
           0.13198599219322205,
           0.13353924453258514,
           -0.045663755387067795,
           -0.19603919982910156,
           1.0000001192092896,
           0.32276350259780884,
           0.0856688916683197,
           0.050581224262714386,
           -0.09258352965116501,
           -0.24612613022327423,
           -0.1803571879863739
          ],
          [
           -0.24902497231960297,
           0.16273805499076843,
           0.07690205425024033,
           -0.0979115217924118,
           0.32276350259780884,
           0.9999999403953552,
           0.0674026682972908,
           0.04914141818881035,
           0.16605737805366516,
           -0.12082163989543915,
           -0.06520302593708038
          ],
          [
           -0.01157892495393753,
           0.037086863070726395,
           -0.0016106816474348307,
           -0.16082412004470825,
           0.0856688916683197,
           0.0674026682972908,
           1,
           0.3226289749145508,
           0.2549043893814087,
           -0.5965344309806824,
           -0.10535477101802826
          ],
          [
           -0.1976451575756073,
           0.44369983673095703,
           0.07015533745288849,
           -0.20331113040447235,
           0.050581224262714386,
           0.04914141818881035,
           0.3226289749145508,
           1,
           0.26404163241386414,
           -0.11891129612922668,
           -0.14518612623214722
          ],
          [
           -0.1901574283838272,
           0.5024686455726624,
           0.3362847566604614,
           -0.4209921956062317,
           -0.09258352965116501,
           0.16605737805366516,
           0.2549043893814087,
           0.26404163241386414,
           1,
           0.021587476134300232,
           -0.1324344277381897
          ],
          [
           0.3319210410118103,
           -0.07976376265287399,
           -0.016123004257678986,
           0.2647625803947449,
           -0.24612613022327423,
           -0.12082163989543915,
           -0.5965344309806824,
           -0.11891129612922668,
           0.021587476134300232,
           1.0000001192092896,
           -0.10570917278528214
          ],
          [
           -0.23681677877902985,
           0.04325822368264198,
           -0.18393507599830627,
           0.0516882948577404,
           -0.1803571879863739,
           -0.06520302593708038,
           -0.10535477101802826,
           -0.14518612623214722,
           -0.1324344277381897,
           -0.10570917278528214,
           1
          ]
         ]
        }
       ],
       "layout": {
        "coloraxis": {
         "colorscale": [
          [
           0,
           "#440154"
          ],
          [
           0.1111111111111111,
           "#482878"
          ],
          [
           0.2222222222222222,
           "#3e4989"
          ],
          [
           0.3333333333333333,
           "#31688e"
          ],
          [
           0.4444444444444444,
           "#26828e"
          ],
          [
           0.5555555555555556,
           "#1f9e89"
          ],
          [
           0.6666666666666666,
           "#35b779"
          ],
          [
           0.7777777777777778,
           "#6ece58"
          ],
          [
           0.8888888888888888,
           "#b5de2b"
          ],
          [
           1,
           "#fde725"
          ]
         ]
        },
        "template": {
         "data": {
          "bar": [
           {
            "error_x": {
             "color": "#2a3f5f"
            },
            "error_y": {
             "color": "#2a3f5f"
            },
            "marker": {
             "line": {
              "color": "#E5ECF6",
              "width": 0.5
             },
             "pattern": {
              "fillmode": "overlay",
              "size": 10,
              "solidity": 0.2
             }
            },
            "type": "bar"
           }
          ],
          "barpolar": [
           {
            "marker": {
             "line": {
              "color": "#E5ECF6",
              "width": 0.5
             },
             "pattern": {
              "fillmode": "overlay",
              "size": 10,
              "solidity": 0.2
             }
            },
            "type": "barpolar"
           }
          ],
          "carpet": [
           {
            "aaxis": {
             "endlinecolor": "#2a3f5f",
             "gridcolor": "white",
             "linecolor": "white",
             "minorgridcolor": "white",
             "startlinecolor": "#2a3f5f"
            },
            "baxis": {
             "endlinecolor": "#2a3f5f",
             "gridcolor": "white",
             "linecolor": "white",
             "minorgridcolor": "white",
             "startlinecolor": "#2a3f5f"
            },
            "type": "carpet"
           }
          ],
          "choropleth": [
           {
            "colorbar": {
             "outlinewidth": 0,
             "ticks": ""
            },
            "type": "choropleth"
           }
          ],
          "contour": [
           {
            "colorbar": {
             "outlinewidth": 0,
             "ticks": ""
            },
            "colorscale": [
             [
              0,
              "#0d0887"
             ],
             [
              0.1111111111111111,
              "#46039f"
             ],
             [
              0.2222222222222222,
              "#7201a8"
             ],
             [
              0.3333333333333333,
              "#9c179e"
             ],
             [
              0.4444444444444444,
              "#bd3786"
             ],
             [
              0.5555555555555556,
              "#d8576b"
             ],
             [
              0.6666666666666666,
              "#ed7953"
             ],
             [
              0.7777777777777778,
              "#fb9f3a"
             ],
             [
              0.8888888888888888,
              "#fdca26"
             ],
             [
              1,
              "#f0f921"
             ]
            ],
            "type": "contour"
           }
          ],
          "contourcarpet": [
           {
            "colorbar": {
             "outlinewidth": 0,
             "ticks": ""
            },
            "type": "contourcarpet"
           }
          ],
          "heatmap": [
           {
            "colorbar": {
             "outlinewidth": 0,
             "ticks": ""
            },
            "colorscale": [
             [
              0,
              "#0d0887"
             ],
             [
              0.1111111111111111,
              "#46039f"
             ],
             [
              0.2222222222222222,
              "#7201a8"
             ],
             [
              0.3333333333333333,
              "#9c179e"
             ],
             [
              0.4444444444444444,
              "#bd3786"
             ],
             [
              0.5555555555555556,
              "#d8576b"
             ],
             [
              0.6666666666666666,
              "#ed7953"
             ],
             [
              0.7777777777777778,
              "#fb9f3a"
             ],
             [
              0.8888888888888888,
              "#fdca26"
             ],
             [
              1,
              "#f0f921"
             ]
            ],
            "type": "heatmap"
           }
          ],
          "heatmapgl": [
           {
            "colorbar": {
             "outlinewidth": 0,
             "ticks": ""
            },
            "colorscale": [
             [
              0,
              "#0d0887"
             ],
             [
              0.1111111111111111,
              "#46039f"
             ],
             [
              0.2222222222222222,
              "#7201a8"
             ],
             [
              0.3333333333333333,
              "#9c179e"
             ],
             [
              0.4444444444444444,
              "#bd3786"
             ],
             [
              0.5555555555555556,
              "#d8576b"
             ],
             [
              0.6666666666666666,
              "#ed7953"
             ],
             [
              0.7777777777777778,
              "#fb9f3a"
             ],
             [
              0.8888888888888888,
              "#fdca26"
             ],
             [
              1,
              "#f0f921"
             ]
            ],
            "type": "heatmapgl"
           }
          ],
          "histogram": [
           {
            "marker": {
             "pattern": {
              "fillmode": "overlay",
              "size": 10,
              "solidity": 0.2
             }
            },
            "type": "histogram"
           }
          ],
          "histogram2d": [
           {
            "colorbar": {
             "outlinewidth": 0,
             "ticks": ""
            },
            "colorscale": [
             [
              0,
              "#0d0887"
             ],
             [
              0.1111111111111111,
              "#46039f"
             ],
             [
              0.2222222222222222,
              "#7201a8"
             ],
             [
              0.3333333333333333,
              "#9c179e"
             ],
             [
              0.4444444444444444,
              "#bd3786"
             ],
             [
              0.5555555555555556,
              "#d8576b"
             ],
             [
              0.6666666666666666,
              "#ed7953"
             ],
             [
              0.7777777777777778,
              "#fb9f3a"
             ],
             [
              0.8888888888888888,
              "#fdca26"
             ],
             [
              1,
              "#f0f921"
             ]
            ],
            "type": "histogram2d"
           }
          ],
          "histogram2dcontour": [
           {
            "colorbar": {
             "outlinewidth": 0,
             "ticks": ""
            },
            "colorscale": [
             [
              0,
              "#0d0887"
             ],
             [
              0.1111111111111111,
              "#46039f"
             ],
             [
              0.2222222222222222,
              "#7201a8"
             ],
             [
              0.3333333333333333,
              "#9c179e"
             ],
             [
              0.4444444444444444,
              "#bd3786"
             ],
             [
              0.5555555555555556,
              "#d8576b"
             ],
             [
              0.6666666666666666,
              "#ed7953"
             ],
             [
              0.7777777777777778,
              "#fb9f3a"
             ],
             [
              0.8888888888888888,
              "#fdca26"
             ],
             [
              1,
              "#f0f921"
             ]
            ],
            "type": "histogram2dcontour"
           }
          ],
          "mesh3d": [
           {
            "colorbar": {
             "outlinewidth": 0,
             "ticks": ""
            },
            "type": "mesh3d"
           }
          ],
          "parcoords": [
           {
            "line": {
             "colorbar": {
              "outlinewidth": 0,
              "ticks": ""
             }
            },
            "type": "parcoords"
           }
          ],
          "pie": [
           {
            "automargin": true,
            "type": "pie"
           }
          ],
          "scatter": [
           {
            "fillpattern": {
             "fillmode": "overlay",
             "size": 10,
             "solidity": 0.2
            },
            "type": "scatter"
           }
          ],
          "scatter3d": [
           {
            "line": {
             "colorbar": {
              "outlinewidth": 0,
              "ticks": ""
             }
            },
            "marker": {
             "colorbar": {
              "outlinewidth": 0,
              "ticks": ""
             }
            },
            "type": "scatter3d"
           }
          ],
          "scattercarpet": [
           {
            "marker": {
             "colorbar": {
              "outlinewidth": 0,
              "ticks": ""
             }
            },
            "type": "scattercarpet"
           }
          ],
          "scattergeo": [
           {
            "marker": {
             "colorbar": {
              "outlinewidth": 0,
              "ticks": ""
             }
            },
            "type": "scattergeo"
           }
          ],
          "scattergl": [
           {
            "marker": {
             "colorbar": {
              "outlinewidth": 0,
              "ticks": ""
             }
            },
            "type": "scattergl"
           }
          ],
          "scattermapbox": [
           {
            "marker": {
             "colorbar": {
              "outlinewidth": 0,
              "ticks": ""
             }
            },
            "type": "scattermapbox"
           }
          ],
          "scatterpolar": [
           {
            "marker": {
             "colorbar": {
              "outlinewidth": 0,
              "ticks": ""
             }
            },
            "type": "scatterpolar"
           }
          ],
          "scatterpolargl": [
           {
            "marker": {
             "colorbar": {
              "outlinewidth": 0,
              "ticks": ""
             }
            },
            "type": "scatterpolargl"
           }
          ],
          "scatterternary": [
           {
            "marker": {
             "colorbar": {
              "outlinewidth": 0,
              "ticks": ""
             }
            },
            "type": "scatterternary"
           }
          ],
          "surface": [
           {
            "colorbar": {
             "outlinewidth": 0,
             "ticks": ""
            },
            "colorscale": [
             [
              0,
              "#0d0887"
             ],
             [
              0.1111111111111111,
              "#46039f"
             ],
             [
              0.2222222222222222,
              "#7201a8"
             ],
             [
              0.3333333333333333,
              "#9c179e"
             ],
             [
              0.4444444444444444,
              "#bd3786"
             ],
             [
              0.5555555555555556,
              "#d8576b"
             ],
             [
              0.6666666666666666,
              "#ed7953"
             ],
             [
              0.7777777777777778,
              "#fb9f3a"
             ],
             [
              0.8888888888888888,
              "#fdca26"
             ],
             [
              1,
              "#f0f921"
             ]
            ],
            "type": "surface"
           }
          ],
          "table": [
           {
            "cells": {
             "fill": {
              "color": "#EBF0F8"
             },
             "line": {
              "color": "white"
             }
            },
            "header": {
             "fill": {
              "color": "#C8D4E3"
             },
             "line": {
              "color": "white"
             }
            },
            "type": "table"
           }
          ]
         },
         "layout": {
          "annotationdefaults": {
           "arrowcolor": "#2a3f5f",
           "arrowhead": 0,
           "arrowwidth": 1
          },
          "autotypenumbers": "strict",
          "coloraxis": {
           "colorbar": {
            "outlinewidth": 0,
            "ticks": ""
           }
          },
          "colorscale": {
           "diverging": [
            [
             0,
             "#8e0152"
            ],
            [
             0.1,
             "#c51b7d"
            ],
            [
             0.2,
             "#de77ae"
            ],
            [
             0.3,
             "#f1b6da"
            ],
            [
             0.4,
             "#fde0ef"
            ],
            [
             0.5,
             "#f7f7f7"
            ],
            [
             0.6,
             "#e6f5d0"
            ],
            [
             0.7,
             "#b8e186"
            ],
            [
             0.8,
             "#7fbc41"
            ],
            [
             0.9,
             "#4d9221"
            ],
            [
             1,
             "#276419"
            ]
           ],
           "sequential": [
            [
             0,
             "#0d0887"
            ],
            [
             0.1111111111111111,
             "#46039f"
            ],
            [
             0.2222222222222222,
             "#7201a8"
            ],
            [
             0.3333333333333333,
             "#9c179e"
            ],
            [
             0.4444444444444444,
             "#bd3786"
            ],
            [
             0.5555555555555556,
             "#d8576b"
            ],
            [
             0.6666666666666666,
             "#ed7953"
            ],
            [
             0.7777777777777778,
             "#fb9f3a"
            ],
            [
             0.8888888888888888,
             "#fdca26"
            ],
            [
             1,
             "#f0f921"
            ]
           ],
           "sequentialminus": [
            [
             0,
             "#0d0887"
            ],
            [
             0.1111111111111111,
             "#46039f"
            ],
            [
             0.2222222222222222,
             "#7201a8"
            ],
            [
             0.3333333333333333,
             "#9c179e"
            ],
            [
             0.4444444444444444,
             "#bd3786"
            ],
            [
             0.5555555555555556,
             "#d8576b"
            ],
            [
             0.6666666666666666,
             "#ed7953"
            ],
            [
             0.7777777777777778,
             "#fb9f3a"
            ],
            [
             0.8888888888888888,
             "#fdca26"
            ],
            [
             1,
             "#f0f921"
            ]
           ]
          },
          "colorway": [
           "#636efa",
           "#EF553B",
           "#00cc96",
           "#ab63fa",
           "#FFA15A",
           "#19d3f3",
           "#FF6692",
           "#B6E880",
           "#FF97FF",
           "#FECB52"
          ],
          "font": {
           "color": "#2a3f5f"
          },
          "geo": {
           "bgcolor": "white",
           "lakecolor": "white",
           "landcolor": "#E5ECF6",
           "showlakes": true,
           "showland": true,
           "subunitcolor": "white"
          },
          "hoverlabel": {
           "align": "left"
          },
          "hovermode": "closest",
          "mapbox": {
           "style": "light"
          },
          "paper_bgcolor": "white",
          "plot_bgcolor": "#E5ECF6",
          "polar": {
           "angularaxis": {
            "gridcolor": "white",
            "linecolor": "white",
            "ticks": ""
           },
           "bgcolor": "#E5ECF6",
           "radialaxis": {
            "gridcolor": "white",
            "linecolor": "white",
            "ticks": ""
           }
          },
          "scene": {
           "xaxis": {
            "backgroundcolor": "#E5ECF6",
            "gridcolor": "white",
            "gridwidth": 2,
            "linecolor": "white",
            "showbackground": true,
            "ticks": "",
            "zerolinecolor": "white"
           },
           "yaxis": {
            "backgroundcolor": "#E5ECF6",
            "gridcolor": "white",
            "gridwidth": 2,
            "linecolor": "white",
            "showbackground": true,
            "ticks": "",
            "zerolinecolor": "white"
           },
           "zaxis": {
            "backgroundcolor": "#E5ECF6",
            "gridcolor": "white",
            "gridwidth": 2,
            "linecolor": "white",
            "showbackground": true,
            "ticks": "",
            "zerolinecolor": "white"
           }
          },
          "shapedefaults": {
           "line": {
            "color": "#2a3f5f"
           }
          },
          "ternary": {
           "aaxis": {
            "gridcolor": "white",
            "linecolor": "white",
            "ticks": ""
           },
           "baxis": {
            "gridcolor": "white",
            "linecolor": "white",
            "ticks": ""
           },
           "bgcolor": "#E5ECF6",
           "caxis": {
            "gridcolor": "white",
            "linecolor": "white",
            "ticks": ""
           }
          },
          "title": {
           "x": 0.05
          },
          "xaxis": {
           "automargin": true,
           "gridcolor": "white",
           "linecolor": "white",
           "ticks": "",
           "title": {
            "standoff": 15
           },
           "zerolinecolor": "white",
           "zerolinewidth": 2
          },
          "yaxis": {
           "automargin": true,
           "gridcolor": "white",
           "linecolor": "white",
           "ticks": "",
           "title": {
            "standoff": 15
           },
           "zerolinecolor": "white",
           "zerolinewidth": 2
          }
         }
        },
        "title": {
         "text": "Pairwise Cosine Similarity Heatmap"
        },
        "xaxis": {
         "anchor": "y",
         "constrain": "domain",
         "domain": [
          0,
          1
         ],
         "scaleanchor": "y"
        },
        "yaxis": {
         "anchor": "x",
         "autorange": "reversed",
         "constrain": "domain",
         "domain": [
          0,
          1
         ]
        }
       }
      }
     },
     "metadata": {},
     "output_type": "display_data"
    },
    {
     "data": {
      "application/vnd.plotly.v1+json": {
       "config": {
        "plotlyServerURL": "https://plotly.com"
       },
       "data": [
        {
         "coloraxis": "coloraxis",
         "hovertemplate": "x: %{x}<br>y: %{y}<br>color: %{z}<extra></extra>",
         "name": "0",
         "type": "heatmap",
         "x": [
          0,
          1,
          2,
          3,
          4,
          5
         ],
         "xaxis": "x",
         "y": [
          0,
          1,
          2,
          3,
          4,
          5
         ],
         "yaxis": "y",
         "z": [
          [
           0.9999999403953552,
           0.4314291179180145,
           -0.07358194142580032,
           0.06305085122585297,
           -0.12067971378564835,
           0.079245425760746
          ],
          [
           0.4314291179180145,
           1,
           -0.1614236831665039,
           -0.008262718096375465,
           0.14754009246826172,
           0.05399277061223984
          ],
          [
           -0.07358194142580032,
           -0.1614236831665039,
           1.0000001192092896,
           -0.3289068639278412,
           0.03934241831302643,
           0.026027057319879532
          ],
          [
           0.06305085122585297,
           -0.008262718096375465,
           -0.3289068639278412,
           1,
           -0.028782326728105545,
           0.37222525477409363
          ],
          [
           -0.12067971378564835,
           0.14754009246826172,
           0.03934241831302643,
           -0.028782326728105545,
           0.9999999403953552,
           -0.10533121973276138
          ],
          [
           0.079245425760746,
           0.05399277061223984,
           0.026027057319879532,
           0.37222525477409363,
           -0.10533121973276138,
           0.9999999403953552
          ]
         ]
        }
       ],
       "layout": {
        "coloraxis": {
         "colorscale": [
          [
           0,
           "#440154"
          ],
          [
           0.1111111111111111,
           "#482878"
          ],
          [
           0.2222222222222222,
           "#3e4989"
          ],
          [
           0.3333333333333333,
           "#31688e"
          ],
          [
           0.4444444444444444,
           "#26828e"
          ],
          [
           0.5555555555555556,
           "#1f9e89"
          ],
          [
           0.6666666666666666,
           "#35b779"
          ],
          [
           0.7777777777777778,
           "#6ece58"
          ],
          [
           0.8888888888888888,
           "#b5de2b"
          ],
          [
           1,
           "#fde725"
          ]
         ]
        },
        "template": {
         "data": {
          "bar": [
           {
            "error_x": {
             "color": "#2a3f5f"
            },
            "error_y": {
             "color": "#2a3f5f"
            },
            "marker": {
             "line": {
              "color": "#E5ECF6",
              "width": 0.5
             },
             "pattern": {
              "fillmode": "overlay",
              "size": 10,
              "solidity": 0.2
             }
            },
            "type": "bar"
           }
          ],
          "barpolar": [
           {
            "marker": {
             "line": {
              "color": "#E5ECF6",
              "width": 0.5
             },
             "pattern": {
              "fillmode": "overlay",
              "size": 10,
              "solidity": 0.2
             }
            },
            "type": "barpolar"
           }
          ],
          "carpet": [
           {
            "aaxis": {
             "endlinecolor": "#2a3f5f",
             "gridcolor": "white",
             "linecolor": "white",
             "minorgridcolor": "white",
             "startlinecolor": "#2a3f5f"
            },
            "baxis": {
             "endlinecolor": "#2a3f5f",
             "gridcolor": "white",
             "linecolor": "white",
             "minorgridcolor": "white",
             "startlinecolor": "#2a3f5f"
            },
            "type": "carpet"
           }
          ],
          "choropleth": [
           {
            "colorbar": {
             "outlinewidth": 0,
             "ticks": ""
            },
            "type": "choropleth"
           }
          ],
          "contour": [
           {
            "colorbar": {
             "outlinewidth": 0,
             "ticks": ""
            },
            "colorscale": [
             [
              0,
              "#0d0887"
             ],
             [
              0.1111111111111111,
              "#46039f"
             ],
             [
              0.2222222222222222,
              "#7201a8"
             ],
             [
              0.3333333333333333,
              "#9c179e"
             ],
             [
              0.4444444444444444,
              "#bd3786"
             ],
             [
              0.5555555555555556,
              "#d8576b"
             ],
             [
              0.6666666666666666,
              "#ed7953"
             ],
             [
              0.7777777777777778,
              "#fb9f3a"
             ],
             [
              0.8888888888888888,
              "#fdca26"
             ],
             [
              1,
              "#f0f921"
             ]
            ],
            "type": "contour"
           }
          ],
          "contourcarpet": [
           {
            "colorbar": {
             "outlinewidth": 0,
             "ticks": ""
            },
            "type": "contourcarpet"
           }
          ],
          "heatmap": [
           {
            "colorbar": {
             "outlinewidth": 0,
             "ticks": ""
            },
            "colorscale": [
             [
              0,
              "#0d0887"
             ],
             [
              0.1111111111111111,
              "#46039f"
             ],
             [
              0.2222222222222222,
              "#7201a8"
             ],
             [
              0.3333333333333333,
              "#9c179e"
             ],
             [
              0.4444444444444444,
              "#bd3786"
             ],
             [
              0.5555555555555556,
              "#d8576b"
             ],
             [
              0.6666666666666666,
              "#ed7953"
             ],
             [
              0.7777777777777778,
              "#fb9f3a"
             ],
             [
              0.8888888888888888,
              "#fdca26"
             ],
             [
              1,
              "#f0f921"
             ]
            ],
            "type": "heatmap"
           }
          ],
          "heatmapgl": [
           {
            "colorbar": {
             "outlinewidth": 0,
             "ticks": ""
            },
            "colorscale": [
             [
              0,
              "#0d0887"
             ],
             [
              0.1111111111111111,
              "#46039f"
             ],
             [
              0.2222222222222222,
              "#7201a8"
             ],
             [
              0.3333333333333333,
              "#9c179e"
             ],
             [
              0.4444444444444444,
              "#bd3786"
             ],
             [
              0.5555555555555556,
              "#d8576b"
             ],
             [
              0.6666666666666666,
              "#ed7953"
             ],
             [
              0.7777777777777778,
              "#fb9f3a"
             ],
             [
              0.8888888888888888,
              "#fdca26"
             ],
             [
              1,
              "#f0f921"
             ]
            ],
            "type": "heatmapgl"
           }
          ],
          "histogram": [
           {
            "marker": {
             "pattern": {
              "fillmode": "overlay",
              "size": 10,
              "solidity": 0.2
             }
            },
            "type": "histogram"
           }
          ],
          "histogram2d": [
           {
            "colorbar": {
             "outlinewidth": 0,
             "ticks": ""
            },
            "colorscale": [
             [
              0,
              "#0d0887"
             ],
             [
              0.1111111111111111,
              "#46039f"
             ],
             [
              0.2222222222222222,
              "#7201a8"
             ],
             [
              0.3333333333333333,
              "#9c179e"
             ],
             [
              0.4444444444444444,
              "#bd3786"
             ],
             [
              0.5555555555555556,
              "#d8576b"
             ],
             [
              0.6666666666666666,
              "#ed7953"
             ],
             [
              0.7777777777777778,
              "#fb9f3a"
             ],
             [
              0.8888888888888888,
              "#fdca26"
             ],
             [
              1,
              "#f0f921"
             ]
            ],
            "type": "histogram2d"
           }
          ],
          "histogram2dcontour": [
           {
            "colorbar": {
             "outlinewidth": 0,
             "ticks": ""
            },
            "colorscale": [
             [
              0,
              "#0d0887"
             ],
             [
              0.1111111111111111,
              "#46039f"
             ],
             [
              0.2222222222222222,
              "#7201a8"
             ],
             [
              0.3333333333333333,
              "#9c179e"
             ],
             [
              0.4444444444444444,
              "#bd3786"
             ],
             [
              0.5555555555555556,
              "#d8576b"
             ],
             [
              0.6666666666666666,
              "#ed7953"
             ],
             [
              0.7777777777777778,
              "#fb9f3a"
             ],
             [
              0.8888888888888888,
              "#fdca26"
             ],
             [
              1,
              "#f0f921"
             ]
            ],
            "type": "histogram2dcontour"
           }
          ],
          "mesh3d": [
           {
            "colorbar": {
             "outlinewidth": 0,
             "ticks": ""
            },
            "type": "mesh3d"
           }
          ],
          "parcoords": [
           {
            "line": {
             "colorbar": {
              "outlinewidth": 0,
              "ticks": ""
             }
            },
            "type": "parcoords"
           }
          ],
          "pie": [
           {
            "automargin": true,
            "type": "pie"
           }
          ],
          "scatter": [
           {
            "fillpattern": {
             "fillmode": "overlay",
             "size": 10,
             "solidity": 0.2
            },
            "type": "scatter"
           }
          ],
          "scatter3d": [
           {
            "line": {
             "colorbar": {
              "outlinewidth": 0,
              "ticks": ""
             }
            },
            "marker": {
             "colorbar": {
              "outlinewidth": 0,
              "ticks": ""
             }
            },
            "type": "scatter3d"
           }
          ],
          "scattercarpet": [
           {
            "marker": {
             "colorbar": {
              "outlinewidth": 0,
              "ticks": ""
             }
            },
            "type": "scattercarpet"
           }
          ],
          "scattergeo": [
           {
            "marker": {
             "colorbar": {
              "outlinewidth": 0,
              "ticks": ""
             }
            },
            "type": "scattergeo"
           }
          ],
          "scattergl": [
           {
            "marker": {
             "colorbar": {
              "outlinewidth": 0,
              "ticks": ""
             }
            },
            "type": "scattergl"
           }
          ],
          "scattermapbox": [
           {
            "marker": {
             "colorbar": {
              "outlinewidth": 0,
              "ticks": ""
             }
            },
            "type": "scattermapbox"
           }
          ],
          "scatterpolar": [
           {
            "marker": {
             "colorbar": {
              "outlinewidth": 0,
              "ticks": ""
             }
            },
            "type": "scatterpolar"
           }
          ],
          "scatterpolargl": [
           {
            "marker": {
             "colorbar": {
              "outlinewidth": 0,
              "ticks": ""
             }
            },
            "type": "scatterpolargl"
           }
          ],
          "scatterternary": [
           {
            "marker": {
             "colorbar": {
              "outlinewidth": 0,
              "ticks": ""
             }
            },
            "type": "scatterternary"
           }
          ],
          "surface": [
           {
            "colorbar": {
             "outlinewidth": 0,
             "ticks": ""
            },
            "colorscale": [
             [
              0,
              "#0d0887"
             ],
             [
              0.1111111111111111,
              "#46039f"
             ],
             [
              0.2222222222222222,
              "#7201a8"
             ],
             [
              0.3333333333333333,
              "#9c179e"
             ],
             [
              0.4444444444444444,
              "#bd3786"
             ],
             [
              0.5555555555555556,
              "#d8576b"
             ],
             [
              0.6666666666666666,
              "#ed7953"
             ],
             [
              0.7777777777777778,
              "#fb9f3a"
             ],
             [
              0.8888888888888888,
              "#fdca26"
             ],
             [
              1,
              "#f0f921"
             ]
            ],
            "type": "surface"
           }
          ],
          "table": [
           {
            "cells": {
             "fill": {
              "color": "#EBF0F8"
             },
             "line": {
              "color": "white"
             }
            },
            "header": {
             "fill": {
              "color": "#C8D4E3"
             },
             "line": {
              "color": "white"
             }
            },
            "type": "table"
           }
          ]
         },
         "layout": {
          "annotationdefaults": {
           "arrowcolor": "#2a3f5f",
           "arrowhead": 0,
           "arrowwidth": 1
          },
          "autotypenumbers": "strict",
          "coloraxis": {
           "colorbar": {
            "outlinewidth": 0,
            "ticks": ""
           }
          },
          "colorscale": {
           "diverging": [
            [
             0,
             "#8e0152"
            ],
            [
             0.1,
             "#c51b7d"
            ],
            [
             0.2,
             "#de77ae"
            ],
            [
             0.3,
             "#f1b6da"
            ],
            [
             0.4,
             "#fde0ef"
            ],
            [
             0.5,
             "#f7f7f7"
            ],
            [
             0.6,
             "#e6f5d0"
            ],
            [
             0.7,
             "#b8e186"
            ],
            [
             0.8,
             "#7fbc41"
            ],
            [
             0.9,
             "#4d9221"
            ],
            [
             1,
             "#276419"
            ]
           ],
           "sequential": [
            [
             0,
             "#0d0887"
            ],
            [
             0.1111111111111111,
             "#46039f"
            ],
            [
             0.2222222222222222,
             "#7201a8"
            ],
            [
             0.3333333333333333,
             "#9c179e"
            ],
            [
             0.4444444444444444,
             "#bd3786"
            ],
            [
             0.5555555555555556,
             "#d8576b"
            ],
            [
             0.6666666666666666,
             "#ed7953"
            ],
            [
             0.7777777777777778,
             "#fb9f3a"
            ],
            [
             0.8888888888888888,
             "#fdca26"
            ],
            [
             1,
             "#f0f921"
            ]
           ],
           "sequentialminus": [
            [
             0,
             "#0d0887"
            ],
            [
             0.1111111111111111,
             "#46039f"
            ],
            [
             0.2222222222222222,
             "#7201a8"
            ],
            [
             0.3333333333333333,
             "#9c179e"
            ],
            [
             0.4444444444444444,
             "#bd3786"
            ],
            [
             0.5555555555555556,
             "#d8576b"
            ],
            [
             0.6666666666666666,
             "#ed7953"
            ],
            [
             0.7777777777777778,
             "#fb9f3a"
            ],
            [
             0.8888888888888888,
             "#fdca26"
            ],
            [
             1,
             "#f0f921"
            ]
           ]
          },
          "colorway": [
           "#636efa",
           "#EF553B",
           "#00cc96",
           "#ab63fa",
           "#FFA15A",
           "#19d3f3",
           "#FF6692",
           "#B6E880",
           "#FF97FF",
           "#FECB52"
          ],
          "font": {
           "color": "#2a3f5f"
          },
          "geo": {
           "bgcolor": "white",
           "lakecolor": "white",
           "landcolor": "#E5ECF6",
           "showlakes": true,
           "showland": true,
           "subunitcolor": "white"
          },
          "hoverlabel": {
           "align": "left"
          },
          "hovermode": "closest",
          "mapbox": {
           "style": "light"
          },
          "paper_bgcolor": "white",
          "plot_bgcolor": "#E5ECF6",
          "polar": {
           "angularaxis": {
            "gridcolor": "white",
            "linecolor": "white",
            "ticks": ""
           },
           "bgcolor": "#E5ECF6",
           "radialaxis": {
            "gridcolor": "white",
            "linecolor": "white",
            "ticks": ""
           }
          },
          "scene": {
           "xaxis": {
            "backgroundcolor": "#E5ECF6",
            "gridcolor": "white",
            "gridwidth": 2,
            "linecolor": "white",
            "showbackground": true,
            "ticks": "",
            "zerolinecolor": "white"
           },
           "yaxis": {
            "backgroundcolor": "#E5ECF6",
            "gridcolor": "white",
            "gridwidth": 2,
            "linecolor": "white",
            "showbackground": true,
            "ticks": "",
            "zerolinecolor": "white"
           },
           "zaxis": {
            "backgroundcolor": "#E5ECF6",
            "gridcolor": "white",
            "gridwidth": 2,
            "linecolor": "white",
            "showbackground": true,
            "ticks": "",
            "zerolinecolor": "white"
           }
          },
          "shapedefaults": {
           "line": {
            "color": "#2a3f5f"
           }
          },
          "ternary": {
           "aaxis": {
            "gridcolor": "white",
            "linecolor": "white",
            "ticks": ""
           },
           "baxis": {
            "gridcolor": "white",
            "linecolor": "white",
            "ticks": ""
           },
           "bgcolor": "#E5ECF6",
           "caxis": {
            "gridcolor": "white",
            "linecolor": "white",
            "ticks": ""
           }
          },
          "title": {
           "x": 0.05
          },
          "xaxis": {
           "automargin": true,
           "gridcolor": "white",
           "linecolor": "white",
           "ticks": "",
           "title": {
            "standoff": 15
           },
           "zerolinecolor": "white",
           "zerolinewidth": 2
          },
          "yaxis": {
           "automargin": true,
           "gridcolor": "white",
           "linecolor": "white",
           "ticks": "",
           "title": {
            "standoff": 15
           },
           "zerolinecolor": "white",
           "zerolinewidth": 2
          }
         }
        },
        "title": {
         "text": "Pairwise Cosine Similarity Heatmap"
        },
        "xaxis": {
         "anchor": "y",
         "constrain": "domain",
         "domain": [
          0,
          1
         ],
         "scaleanchor": "y"
        },
        "yaxis": {
         "anchor": "x",
         "autorange": "reversed",
         "constrain": "domain",
         "domain": [
          0,
          1
         ]
        }
       }
      }
     },
     "metadata": {},
     "output_type": "display_data"
    },
    {
     "data": {
      "application/vnd.plotly.v1+json": {
       "config": {
        "plotlyServerURL": "https://plotly.com"
       },
       "data": [
        {
         "coloraxis": "coloraxis",
         "hovertemplate": "x: %{x}<br>y: %{y}<br>color: %{z}<extra></extra>",
         "name": "0",
         "type": "heatmap",
         "x": [
          0,
          1,
          2
         ],
         "xaxis": "x",
         "y": [
          0,
          1,
          2
         ],
         "yaxis": "y",
         "z": [
          [
           0.9999998807907104,
           0.1029822826385498,
           -0.17865107953548431
          ],
          [
           0.1029822826385498,
           0.9999997615814209,
           0.159286767244339
          ],
          [
           -0.17865107953548431,
           0.159286767244339,
           1.0000001192092896
          ]
         ]
        }
       ],
       "layout": {
        "coloraxis": {
         "colorscale": [
          [
           0,
           "#440154"
          ],
          [
           0.1111111111111111,
           "#482878"
          ],
          [
           0.2222222222222222,
           "#3e4989"
          ],
          [
           0.3333333333333333,
           "#31688e"
          ],
          [
           0.4444444444444444,
           "#26828e"
          ],
          [
           0.5555555555555556,
           "#1f9e89"
          ],
          [
           0.6666666666666666,
           "#35b779"
          ],
          [
           0.7777777777777778,
           "#6ece58"
          ],
          [
           0.8888888888888888,
           "#b5de2b"
          ],
          [
           1,
           "#fde725"
          ]
         ]
        },
        "template": {
         "data": {
          "bar": [
           {
            "error_x": {
             "color": "#2a3f5f"
            },
            "error_y": {
             "color": "#2a3f5f"
            },
            "marker": {
             "line": {
              "color": "#E5ECF6",
              "width": 0.5
             },
             "pattern": {
              "fillmode": "overlay",
              "size": 10,
              "solidity": 0.2
             }
            },
            "type": "bar"
           }
          ],
          "barpolar": [
           {
            "marker": {
             "line": {
              "color": "#E5ECF6",
              "width": 0.5
             },
             "pattern": {
              "fillmode": "overlay",
              "size": 10,
              "solidity": 0.2
             }
            },
            "type": "barpolar"
           }
          ],
          "carpet": [
           {
            "aaxis": {
             "endlinecolor": "#2a3f5f",
             "gridcolor": "white",
             "linecolor": "white",
             "minorgridcolor": "white",
             "startlinecolor": "#2a3f5f"
            },
            "baxis": {
             "endlinecolor": "#2a3f5f",
             "gridcolor": "white",
             "linecolor": "white",
             "minorgridcolor": "white",
             "startlinecolor": "#2a3f5f"
            },
            "type": "carpet"
           }
          ],
          "choropleth": [
           {
            "colorbar": {
             "outlinewidth": 0,
             "ticks": ""
            },
            "type": "choropleth"
           }
          ],
          "contour": [
           {
            "colorbar": {
             "outlinewidth": 0,
             "ticks": ""
            },
            "colorscale": [
             [
              0,
              "#0d0887"
             ],
             [
              0.1111111111111111,
              "#46039f"
             ],
             [
              0.2222222222222222,
              "#7201a8"
             ],
             [
              0.3333333333333333,
              "#9c179e"
             ],
             [
              0.4444444444444444,
              "#bd3786"
             ],
             [
              0.5555555555555556,
              "#d8576b"
             ],
             [
              0.6666666666666666,
              "#ed7953"
             ],
             [
              0.7777777777777778,
              "#fb9f3a"
             ],
             [
              0.8888888888888888,
              "#fdca26"
             ],
             [
              1,
              "#f0f921"
             ]
            ],
            "type": "contour"
           }
          ],
          "contourcarpet": [
           {
            "colorbar": {
             "outlinewidth": 0,
             "ticks": ""
            },
            "type": "contourcarpet"
           }
          ],
          "heatmap": [
           {
            "colorbar": {
             "outlinewidth": 0,
             "ticks": ""
            },
            "colorscale": [
             [
              0,
              "#0d0887"
             ],
             [
              0.1111111111111111,
              "#46039f"
             ],
             [
              0.2222222222222222,
              "#7201a8"
             ],
             [
              0.3333333333333333,
              "#9c179e"
             ],
             [
              0.4444444444444444,
              "#bd3786"
             ],
             [
              0.5555555555555556,
              "#d8576b"
             ],
             [
              0.6666666666666666,
              "#ed7953"
             ],
             [
              0.7777777777777778,
              "#fb9f3a"
             ],
             [
              0.8888888888888888,
              "#fdca26"
             ],
             [
              1,
              "#f0f921"
             ]
            ],
            "type": "heatmap"
           }
          ],
          "heatmapgl": [
           {
            "colorbar": {
             "outlinewidth": 0,
             "ticks": ""
            },
            "colorscale": [
             [
              0,
              "#0d0887"
             ],
             [
              0.1111111111111111,
              "#46039f"
             ],
             [
              0.2222222222222222,
              "#7201a8"
             ],
             [
              0.3333333333333333,
              "#9c179e"
             ],
             [
              0.4444444444444444,
              "#bd3786"
             ],
             [
              0.5555555555555556,
              "#d8576b"
             ],
             [
              0.6666666666666666,
              "#ed7953"
             ],
             [
              0.7777777777777778,
              "#fb9f3a"
             ],
             [
              0.8888888888888888,
              "#fdca26"
             ],
             [
              1,
              "#f0f921"
             ]
            ],
            "type": "heatmapgl"
           }
          ],
          "histogram": [
           {
            "marker": {
             "pattern": {
              "fillmode": "overlay",
              "size": 10,
              "solidity": 0.2
             }
            },
            "type": "histogram"
           }
          ],
          "histogram2d": [
           {
            "colorbar": {
             "outlinewidth": 0,
             "ticks": ""
            },
            "colorscale": [
             [
              0,
              "#0d0887"
             ],
             [
              0.1111111111111111,
              "#46039f"
             ],
             [
              0.2222222222222222,
              "#7201a8"
             ],
             [
              0.3333333333333333,
              "#9c179e"
             ],
             [
              0.4444444444444444,
              "#bd3786"
             ],
             [
              0.5555555555555556,
              "#d8576b"
             ],
             [
              0.6666666666666666,
              "#ed7953"
             ],
             [
              0.7777777777777778,
              "#fb9f3a"
             ],
             [
              0.8888888888888888,
              "#fdca26"
             ],
             [
              1,
              "#f0f921"
             ]
            ],
            "type": "histogram2d"
           }
          ],
          "histogram2dcontour": [
           {
            "colorbar": {
             "outlinewidth": 0,
             "ticks": ""
            },
            "colorscale": [
             [
              0,
              "#0d0887"
             ],
             [
              0.1111111111111111,
              "#46039f"
             ],
             [
              0.2222222222222222,
              "#7201a8"
             ],
             [
              0.3333333333333333,
              "#9c179e"
             ],
             [
              0.4444444444444444,
              "#bd3786"
             ],
             [
              0.5555555555555556,
              "#d8576b"
             ],
             [
              0.6666666666666666,
              "#ed7953"
             ],
             [
              0.7777777777777778,
              "#fb9f3a"
             ],
             [
              0.8888888888888888,
              "#fdca26"
             ],
             [
              1,
              "#f0f921"
             ]
            ],
            "type": "histogram2dcontour"
           }
          ],
          "mesh3d": [
           {
            "colorbar": {
             "outlinewidth": 0,
             "ticks": ""
            },
            "type": "mesh3d"
           }
          ],
          "parcoords": [
           {
            "line": {
             "colorbar": {
              "outlinewidth": 0,
              "ticks": ""
             }
            },
            "type": "parcoords"
           }
          ],
          "pie": [
           {
            "automargin": true,
            "type": "pie"
           }
          ],
          "scatter": [
           {
            "fillpattern": {
             "fillmode": "overlay",
             "size": 10,
             "solidity": 0.2
            },
            "type": "scatter"
           }
          ],
          "scatter3d": [
           {
            "line": {
             "colorbar": {
              "outlinewidth": 0,
              "ticks": ""
             }
            },
            "marker": {
             "colorbar": {
              "outlinewidth": 0,
              "ticks": ""
             }
            },
            "type": "scatter3d"
           }
          ],
          "scattercarpet": [
           {
            "marker": {
             "colorbar": {
              "outlinewidth": 0,
              "ticks": ""
             }
            },
            "type": "scattercarpet"
           }
          ],
          "scattergeo": [
           {
            "marker": {
             "colorbar": {
              "outlinewidth": 0,
              "ticks": ""
             }
            },
            "type": "scattergeo"
           }
          ],
          "scattergl": [
           {
            "marker": {
             "colorbar": {
              "outlinewidth": 0,
              "ticks": ""
             }
            },
            "type": "scattergl"
           }
          ],
          "scattermapbox": [
           {
            "marker": {
             "colorbar": {
              "outlinewidth": 0,
              "ticks": ""
             }
            },
            "type": "scattermapbox"
           }
          ],
          "scatterpolar": [
           {
            "marker": {
             "colorbar": {
              "outlinewidth": 0,
              "ticks": ""
             }
            },
            "type": "scatterpolar"
           }
          ],
          "scatterpolargl": [
           {
            "marker": {
             "colorbar": {
              "outlinewidth": 0,
              "ticks": ""
             }
            },
            "type": "scatterpolargl"
           }
          ],
          "scatterternary": [
           {
            "marker": {
             "colorbar": {
              "outlinewidth": 0,
              "ticks": ""
             }
            },
            "type": "scatterternary"
           }
          ],
          "surface": [
           {
            "colorbar": {
             "outlinewidth": 0,
             "ticks": ""
            },
            "colorscale": [
             [
              0,
              "#0d0887"
             ],
             [
              0.1111111111111111,
              "#46039f"
             ],
             [
              0.2222222222222222,
              "#7201a8"
             ],
             [
              0.3333333333333333,
              "#9c179e"
             ],
             [
              0.4444444444444444,
              "#bd3786"
             ],
             [
              0.5555555555555556,
              "#d8576b"
             ],
             [
              0.6666666666666666,
              "#ed7953"
             ],
             [
              0.7777777777777778,
              "#fb9f3a"
             ],
             [
              0.8888888888888888,
              "#fdca26"
             ],
             [
              1,
              "#f0f921"
             ]
            ],
            "type": "surface"
           }
          ],
          "table": [
           {
            "cells": {
             "fill": {
              "color": "#EBF0F8"
             },
             "line": {
              "color": "white"
             }
            },
            "header": {
             "fill": {
              "color": "#C8D4E3"
             },
             "line": {
              "color": "white"
             }
            },
            "type": "table"
           }
          ]
         },
         "layout": {
          "annotationdefaults": {
           "arrowcolor": "#2a3f5f",
           "arrowhead": 0,
           "arrowwidth": 1
          },
          "autotypenumbers": "strict",
          "coloraxis": {
           "colorbar": {
            "outlinewidth": 0,
            "ticks": ""
           }
          },
          "colorscale": {
           "diverging": [
            [
             0,
             "#8e0152"
            ],
            [
             0.1,
             "#c51b7d"
            ],
            [
             0.2,
             "#de77ae"
            ],
            [
             0.3,
             "#f1b6da"
            ],
            [
             0.4,
             "#fde0ef"
            ],
            [
             0.5,
             "#f7f7f7"
            ],
            [
             0.6,
             "#e6f5d0"
            ],
            [
             0.7,
             "#b8e186"
            ],
            [
             0.8,
             "#7fbc41"
            ],
            [
             0.9,
             "#4d9221"
            ],
            [
             1,
             "#276419"
            ]
           ],
           "sequential": [
            [
             0,
             "#0d0887"
            ],
            [
             0.1111111111111111,
             "#46039f"
            ],
            [
             0.2222222222222222,
             "#7201a8"
            ],
            [
             0.3333333333333333,
             "#9c179e"
            ],
            [
             0.4444444444444444,
             "#bd3786"
            ],
            [
             0.5555555555555556,
             "#d8576b"
            ],
            [
             0.6666666666666666,
             "#ed7953"
            ],
            [
             0.7777777777777778,
             "#fb9f3a"
            ],
            [
             0.8888888888888888,
             "#fdca26"
            ],
            [
             1,
             "#f0f921"
            ]
           ],
           "sequentialminus": [
            [
             0,
             "#0d0887"
            ],
            [
             0.1111111111111111,
             "#46039f"
            ],
            [
             0.2222222222222222,
             "#7201a8"
            ],
            [
             0.3333333333333333,
             "#9c179e"
            ],
            [
             0.4444444444444444,
             "#bd3786"
            ],
            [
             0.5555555555555556,
             "#d8576b"
            ],
            [
             0.6666666666666666,
             "#ed7953"
            ],
            [
             0.7777777777777778,
             "#fb9f3a"
            ],
            [
             0.8888888888888888,
             "#fdca26"
            ],
            [
             1,
             "#f0f921"
            ]
           ]
          },
          "colorway": [
           "#636efa",
           "#EF553B",
           "#00cc96",
           "#ab63fa",
           "#FFA15A",
           "#19d3f3",
           "#FF6692",
           "#B6E880",
           "#FF97FF",
           "#FECB52"
          ],
          "font": {
           "color": "#2a3f5f"
          },
          "geo": {
           "bgcolor": "white",
           "lakecolor": "white",
           "landcolor": "#E5ECF6",
           "showlakes": true,
           "showland": true,
           "subunitcolor": "white"
          },
          "hoverlabel": {
           "align": "left"
          },
          "hovermode": "closest",
          "mapbox": {
           "style": "light"
          },
          "paper_bgcolor": "white",
          "plot_bgcolor": "#E5ECF6",
          "polar": {
           "angularaxis": {
            "gridcolor": "white",
            "linecolor": "white",
            "ticks": ""
           },
           "bgcolor": "#E5ECF6",
           "radialaxis": {
            "gridcolor": "white",
            "linecolor": "white",
            "ticks": ""
           }
          },
          "scene": {
           "xaxis": {
            "backgroundcolor": "#E5ECF6",
            "gridcolor": "white",
            "gridwidth": 2,
            "linecolor": "white",
            "showbackground": true,
            "ticks": "",
            "zerolinecolor": "white"
           },
           "yaxis": {
            "backgroundcolor": "#E5ECF6",
            "gridcolor": "white",
            "gridwidth": 2,
            "linecolor": "white",
            "showbackground": true,
            "ticks": "",
            "zerolinecolor": "white"
           },
           "zaxis": {
            "backgroundcolor": "#E5ECF6",
            "gridcolor": "white",
            "gridwidth": 2,
            "linecolor": "white",
            "showbackground": true,
            "ticks": "",
            "zerolinecolor": "white"
           }
          },
          "shapedefaults": {
           "line": {
            "color": "#2a3f5f"
           }
          },
          "ternary": {
           "aaxis": {
            "gridcolor": "white",
            "linecolor": "white",
            "ticks": ""
           },
           "baxis": {
            "gridcolor": "white",
            "linecolor": "white",
            "ticks": ""
           },
           "bgcolor": "#E5ECF6",
           "caxis": {
            "gridcolor": "white",
            "linecolor": "white",
            "ticks": ""
           }
          },
          "title": {
           "x": 0.05
          },
          "xaxis": {
           "automargin": true,
           "gridcolor": "white",
           "linecolor": "white",
           "ticks": "",
           "title": {
            "standoff": 15
           },
           "zerolinecolor": "white",
           "zerolinewidth": 2
          },
          "yaxis": {
           "automargin": true,
           "gridcolor": "white",
           "linecolor": "white",
           "ticks": "",
           "title": {
            "standoff": 15
           },
           "zerolinecolor": "white",
           "zerolinewidth": 2
          }
         }
        },
        "title": {
         "text": "Pairwise Cosine Similarity Heatmap"
        },
        "xaxis": {
         "anchor": "y",
         "constrain": "domain",
         "domain": [
          0,
          1
         ],
         "scaleanchor": "y"
        },
        "yaxis": {
         "anchor": "x",
         "autorange": "reversed",
         "constrain": "domain",
         "domain": [
          0,
          1
         ]
        }
       }
      }
     },
     "metadata": {},
     "output_type": "display_data"
    },
    {
     "data": {
      "application/vnd.plotly.v1+json": {
       "config": {
        "plotlyServerURL": "https://plotly.com"
       },
       "data": [
        {
         "coloraxis": "coloraxis",
         "hovertemplate": "x: %{x}<br>y: %{y}<br>color: %{z}<extra></extra>",
         "name": "0",
         "type": "heatmap",
         "x": [
          0,
          1,
          2,
          3,
          4,
          5,
          6,
          7,
          8,
          9,
          10,
          11,
          12,
          13,
          14,
          15,
          16,
          17,
          18,
          19
         ],
         "xaxis": "x",
         "y": [
          0,
          1,
          2,
          3,
          4,
          5,
          6,
          7,
          8,
          9,
          10,
          11,
          12,
          13,
          14,
          15,
          16,
          17,
          18,
          19
         ],
         "yaxis": "y",
         "z": [
          [
           0.9999998807907104,
           -0.08611362427473068,
           -0.18147605657577515,
           0.007492648437619209,
           0.13198599219322205,
           -0.24902497231960297,
           -0.01157892495393753,
           -0.1976451575756073,
           -0.1901574283838272,
           0.3319210410118103,
           -0.23681677877902985,
           0.14072608947753906,
           -0.08122339844703674,
           -0.036676328629255295,
           0.13259439170360565,
           0.23711974918842316,
           0.09228979051113129,
           0.08285577595233917,
           -0.15904229879379272,
           -0.20868831872940063
          ],
          [
           -0.08611362427473068,
           0.9999998211860657,
           0.154814675450325,
           -0.49419206380844116,
           0.13353924453258514,
           0.16273805499076843,
           0.037086863070726395,
           0.44369983673095703,
           0.5024686455726624,
           -0.07976376265287399,
           0.04325822368264198,
           -0.20123431086540222,
           0.009868067689239979,
           -0.05242763087153435,
           -0.1932062953710556,
           -0.02108432911336422,
           -0.12138916552066803,
           -0.19623027741909027,
           -0.1825607717037201,
           0.052322279661893845
          ],
          [
           -0.18147605657577515,
           0.154814675450325,
           0.9999998807907104,
           -0.08882970362901688,
           -0.045663755387067795,
           0.07690205425024033,
           -0.0016106816474348307,
           0.07015533745288849,
           0.3362847566604614,
           -0.016123004257678986,
           -0.18393507599830627,
           0.1429719775915146,
           0.2165067046880722,
           -0.18749821186065674,
           -0.1174602210521698,
           -0.015155215747654438,
           -0.08384909480810165,
           0.2772027850151062,
           0.1659124493598938,
           0.1649128943681717
          ],
          [
           0.007492648437619209,
           -0.49419206380844116,
           -0.08882970362901688,
           1.0000001192092896,
           -0.19603919982910156,
           -0.0979115217924118,
           -0.16082412004470825,
           -0.20331113040447235,
           -0.4209921956062317,
           0.2647625803947449,
           0.0516882948577404,
           0.5481332540512085,
           0.1785391867160797,
           0.0010295893298462033,
           0.16399815678596497,
           0.2279903143644333,
           0.12071038782596588,
           0.1369297057390213,
           0.2152530401945114,
           -0.18179450929164886
          ],
          [
           0.13198599219322205,
           0.13353924453258514,
           -0.045663755387067795,
           -0.19603919982910156,
           1.0000001192092896,
           0.32276350259780884,
           0.0856688916683197,
           0.050581224262714386,
           -0.09258352965116501,
           -0.24612613022327423,
           -0.1803571879863739,
           0.0481448769569397,
           -0.08354898542165756,
           0.13398370146751404,
           0.14600422978401184,
           -0.30267810821533203,
           0.16400663554668427,
           -0.05634768679738045,
           -0.04265900328755379,
           -0.24518612027168274
          ],
          [
           -0.24902497231960297,
           0.16273805499076843,
           0.07690205425024033,
           -0.0979115217924118,
           0.32276350259780884,
           0.9999999403953552,
           0.0674026682972908,
           0.04914141818881035,
           0.16605737805366516,
           -0.12082163989543915,
           -0.06520302593708038,
           -0.0612233504652977,
           0.15120801329612732,
           0.2279575616121292,
           0.007520885206758976,
           0.06155950203537941,
           0.18025049567222595,
           -0.18654471635818481,
           -0.053389035165309906,
           0.032345257699489594
          ],
          [
           -0.01157892495393753,
           0.037086863070726395,
           -0.0016106816474348307,
           -0.16082412004470825,
           0.0856688916683197,
           0.0674026682972908,
           1,
           0.3226289749145508,
           0.2549043893814087,
           -0.5965344309806824,
           -0.10535477101802826,
           0.1315426230430603,
           0.2625649571418762,
           -0.10069622099399567,
           0.1326919049024582,
           0.11458033323287964,
           -0.10055608302354813,
           0.174141988158226,
           -0.05375608056783676,
           -0.23210641741752625
          ],
          [
           -0.1976451575756073,
           0.44369983673095703,
           0.07015533745288849,
           -0.20331113040447235,
           0.050581224262714386,
           0.04914141818881035,
           0.3226289749145508,
           1,
           0.26404163241386414,
           -0.11891129612922668,
           -0.14518612623214722,
           -0.09028703719377518,
           0.06019774079322815,
           -0.041976604610681534,
           -0.08203884214162827,
           0.008379769511520863,
           0.14536777138710022,
           0.01914222724735737,
           -0.028440626338124275,
           0.053416959941387177
          ],
          [
           -0.1901574283838272,
           0.5024686455726624,
           0.3362847566604614,
           -0.4209921956062317,
           -0.09258352965116501,
           0.16605737805366516,
           0.2549043893814087,
           0.26404163241386414,
           1,
           0.021587476134300232,
           -0.1324344277381897,
           -0.2658828794956207,
           0.233510360121727,
           -0.16870297491550446,
           -0.08843402564525604,
           0.26641032099723816,
           0.09531913697719574,
           -0.2151142954826355,
           -0.12426027655601501,
           0.1229812353849411
          ],
          [
           0.3319210410118103,
           -0.07976376265287399,
           -0.016123004257678986,
           0.2647625803947449,
           -0.24612613022327423,
           -0.12082163989543915,
           -0.5965344309806824,
           -0.11891129612922668,
           0.021587476134300232,
           1.0000001192092896,
           -0.10570917278528214,
           0.06180776283144951,
           0.1306619942188263,
           0.027266403660178185,
           -0.08687321841716766,
           0.35314616560935974,
           0.32210615277290344,
           -0.10390395671129227,
           -0.13684161007404327,
           -0.06956318765878677
          ],
          [
           -0.23681677877902985,
           0.04325822368264198,
           -0.18393507599830627,
           0.0516882948577404,
           -0.1803571879863739,
           -0.06520302593708038,
           -0.10535477101802826,
           -0.14518612623214722,
           -0.1324344277381897,
           -0.10570917278528214,
           1,
           -0.01196067500859499,
           -0.33178916573524475,
           -0.05108358711004257,
           0.10337679088115692,
           -0.096979521214962,
           -0.13977427780628204,
           -0.014997064135968685,
           0.056143518537282944,
           -0.03842298686504364
          ],
          [
           0.14072608947753906,
           -0.20123431086540222,
           0.1429719775915146,
           0.5481332540512085,
           0.0481448769569397,
           -0.0612233504652977,
           0.1315426230430603,
           -0.09028703719377518,
           -0.2658828794956207,
           0.06180776283144951,
           -0.01196067500859499,
           0.9999999403953552,
           0.4314291179180145,
           -0.07358194142580032,
           0.06305085122585297,
           -0.12067971378564835,
           0.079245425760746,
           0.24108119308948517,
           0.2422761768102646,
           -0.20459797978401184
          ],
          [
           -0.08122339844703674,
           0.009868067689239979,
           0.2165067046880722,
           0.1785391867160797,
           -0.08354898542165756,
           0.15120801329612732,
           0.2625649571418762,
           0.06019774079322815,
           0.233510360121727,
           0.1306619942188263,
           -0.33178916573524475,
           0.4314291179180145,
           1,
           -0.1614236831665039,
           -0.008262718096375465,
           0.14754009246826172,
           0.05399277061223984,
           0.2130713164806366,
           0.1776314228773117,
           -0.26161468029022217
          ],
          [
           -0.036676328629255295,
           -0.05242763087153435,
           -0.18749821186065674,
           0.0010295893298462033,
           0.13398370146751404,
           0.2279575616121292,
           -0.10069622099399567,
           -0.041976604610681534,
           -0.16870297491550446,
           0.027266403660178185,
           -0.05108358711004257,
           -0.07358194142580032,
           -0.1614236831665039,
           1.0000001192092896,
           -0.3289068639278412,
           0.03934241831302643,
           0.026027057319879532,
           -0.22814515233039856,
           0.2976245880126953,
           0.08171398937702179
          ],
          [
           0.13259439170360565,
           -0.1932062953710556,
           -0.1174602210521698,
           0.16399815678596497,
           0.14600422978401184,
           0.007520885206758976,
           0.1326919049024582,
           -0.08203884214162827,
           -0.08843402564525604,
           -0.08687321841716766,
           0.10337679088115692,
           0.06305085122585297,
           -0.008262718096375465,
           -0.3289068639278412,
           1,
           -0.028782326728105545,
           0.37222525477409363,
           0.022153053432703018,
           -0.071016825735569,
           -0.11461953818798065
          ],
          [
           0.23711974918842316,
           -0.02108432911336422,
           -0.015155215747654438,
           0.2279903143644333,
           -0.30267810821533203,
           0.06155950203537941,
           0.11458033323287964,
           0.008379769511520863,
           0.26641032099723816,
           0.35314616560935974,
           -0.096979521214962,
           -0.12067971378564835,
           0.14754009246826172,
           0.03934241831302643,
           -0.028782326728105545,
           0.9999999403953552,
           -0.10533121973276138,
           0.04550714045763016,
           -0.2066047638654709,
           -0.14253349602222443
          ],
          [
           0.09228979051113129,
           -0.12138916552066803,
           -0.08384909480810165,
           0.12071038782596588,
           0.16400663554668427,
           0.18025049567222595,
           -0.10055608302354813,
           0.14536777138710022,
           0.09531913697719574,
           0.32210615277290344,
           -0.13977427780628204,
           0.079245425760746,
           0.05399277061223984,
           0.026027057319879532,
           0.37222525477409363,
           -0.10533121973276138,
           0.9999999403953552,
           -0.14326491951942444,
           0.12787331640720367,
           0.061537034809589386
          ],
          [
           0.08285577595233917,
           -0.19623027741909027,
           0.2772027850151062,
           0.1369297057390213,
           -0.05634768679738045,
           -0.18654471635818481,
           0.174141988158226,
           0.01914222724735737,
           -0.2151142954826355,
           -0.10390395671129227,
           -0.014997064135968685,
           0.24108119308948517,
           0.2130713164806366,
           -0.22814515233039856,
           0.022153053432703018,
           0.04550714045763016,
           -0.14326491951942444,
           0.9999998807907104,
           0.1029822826385498,
           -0.17865107953548431
          ],
          [
           -0.15904229879379272,
           -0.1825607717037201,
           0.1659124493598938,
           0.2152530401945114,
           -0.04265900328755379,
           -0.053389035165309906,
           -0.05375608056783676,
           -0.028440626338124275,
           -0.12426027655601501,
           -0.13684161007404327,
           0.056143518537282944,
           0.2422761768102646,
           0.1776314228773117,
           0.2976245880126953,
           -0.071016825735569,
           -0.2066047638654709,
           0.12787331640720367,
           0.1029822826385498,
           0.9999997615814209,
           0.159286767244339
          ],
          [
           -0.20868831872940063,
           0.052322279661893845,
           0.1649128943681717,
           -0.18179450929164886,
           -0.24518612027168274,
           0.032345257699489594,
           -0.23210641741752625,
           0.053416959941387177,
           0.1229812353849411,
           -0.06956318765878677,
           -0.03842298686504364,
           -0.20459797978401184,
           -0.26161468029022217,
           0.08171398937702179,
           -0.11461953818798065,
           -0.14253349602222443,
           0.061537034809589386,
           -0.17865107953548431,
           0.159286767244339,
           1
          ]
         ]
        }
       ],
       "layout": {
        "coloraxis": {
         "colorscale": [
          [
           0,
           "#440154"
          ],
          [
           0.1111111111111111,
           "#482878"
          ],
          [
           0.2222222222222222,
           "#3e4989"
          ],
          [
           0.3333333333333333,
           "#31688e"
          ],
          [
           0.4444444444444444,
           "#26828e"
          ],
          [
           0.5555555555555556,
           "#1f9e89"
          ],
          [
           0.6666666666666666,
           "#35b779"
          ],
          [
           0.7777777777777778,
           "#6ece58"
          ],
          [
           0.8888888888888888,
           "#b5de2b"
          ],
          [
           1,
           "#fde725"
          ]
         ]
        },
        "template": {
         "data": {
          "bar": [
           {
            "error_x": {
             "color": "#2a3f5f"
            },
            "error_y": {
             "color": "#2a3f5f"
            },
            "marker": {
             "line": {
              "color": "#E5ECF6",
              "width": 0.5
             },
             "pattern": {
              "fillmode": "overlay",
              "size": 10,
              "solidity": 0.2
             }
            },
            "type": "bar"
           }
          ],
          "barpolar": [
           {
            "marker": {
             "line": {
              "color": "#E5ECF6",
              "width": 0.5
             },
             "pattern": {
              "fillmode": "overlay",
              "size": 10,
              "solidity": 0.2
             }
            },
            "type": "barpolar"
           }
          ],
          "carpet": [
           {
            "aaxis": {
             "endlinecolor": "#2a3f5f",
             "gridcolor": "white",
             "linecolor": "white",
             "minorgridcolor": "white",
             "startlinecolor": "#2a3f5f"
            },
            "baxis": {
             "endlinecolor": "#2a3f5f",
             "gridcolor": "white",
             "linecolor": "white",
             "minorgridcolor": "white",
             "startlinecolor": "#2a3f5f"
            },
            "type": "carpet"
           }
          ],
          "choropleth": [
           {
            "colorbar": {
             "outlinewidth": 0,
             "ticks": ""
            },
            "type": "choropleth"
           }
          ],
          "contour": [
           {
            "colorbar": {
             "outlinewidth": 0,
             "ticks": ""
            },
            "colorscale": [
             [
              0,
              "#0d0887"
             ],
             [
              0.1111111111111111,
              "#46039f"
             ],
             [
              0.2222222222222222,
              "#7201a8"
             ],
             [
              0.3333333333333333,
              "#9c179e"
             ],
             [
              0.4444444444444444,
              "#bd3786"
             ],
             [
              0.5555555555555556,
              "#d8576b"
             ],
             [
              0.6666666666666666,
              "#ed7953"
             ],
             [
              0.7777777777777778,
              "#fb9f3a"
             ],
             [
              0.8888888888888888,
              "#fdca26"
             ],
             [
              1,
              "#f0f921"
             ]
            ],
            "type": "contour"
           }
          ],
          "contourcarpet": [
           {
            "colorbar": {
             "outlinewidth": 0,
             "ticks": ""
            },
            "type": "contourcarpet"
           }
          ],
          "heatmap": [
           {
            "colorbar": {
             "outlinewidth": 0,
             "ticks": ""
            },
            "colorscale": [
             [
              0,
              "#0d0887"
             ],
             [
              0.1111111111111111,
              "#46039f"
             ],
             [
              0.2222222222222222,
              "#7201a8"
             ],
             [
              0.3333333333333333,
              "#9c179e"
             ],
             [
              0.4444444444444444,
              "#bd3786"
             ],
             [
              0.5555555555555556,
              "#d8576b"
             ],
             [
              0.6666666666666666,
              "#ed7953"
             ],
             [
              0.7777777777777778,
              "#fb9f3a"
             ],
             [
              0.8888888888888888,
              "#fdca26"
             ],
             [
              1,
              "#f0f921"
             ]
            ],
            "type": "heatmap"
           }
          ],
          "heatmapgl": [
           {
            "colorbar": {
             "outlinewidth": 0,
             "ticks": ""
            },
            "colorscale": [
             [
              0,
              "#0d0887"
             ],
             [
              0.1111111111111111,
              "#46039f"
             ],
             [
              0.2222222222222222,
              "#7201a8"
             ],
             [
              0.3333333333333333,
              "#9c179e"
             ],
             [
              0.4444444444444444,
              "#bd3786"
             ],
             [
              0.5555555555555556,
              "#d8576b"
             ],
             [
              0.6666666666666666,
              "#ed7953"
             ],
             [
              0.7777777777777778,
              "#fb9f3a"
             ],
             [
              0.8888888888888888,
              "#fdca26"
             ],
             [
              1,
              "#f0f921"
             ]
            ],
            "type": "heatmapgl"
           }
          ],
          "histogram": [
           {
            "marker": {
             "pattern": {
              "fillmode": "overlay",
              "size": 10,
              "solidity": 0.2
             }
            },
            "type": "histogram"
           }
          ],
          "histogram2d": [
           {
            "colorbar": {
             "outlinewidth": 0,
             "ticks": ""
            },
            "colorscale": [
             [
              0,
              "#0d0887"
             ],
             [
              0.1111111111111111,
              "#46039f"
             ],
             [
              0.2222222222222222,
              "#7201a8"
             ],
             [
              0.3333333333333333,
              "#9c179e"
             ],
             [
              0.4444444444444444,
              "#bd3786"
             ],
             [
              0.5555555555555556,
              "#d8576b"
             ],
             [
              0.6666666666666666,
              "#ed7953"
             ],
             [
              0.7777777777777778,
              "#fb9f3a"
             ],
             [
              0.8888888888888888,
              "#fdca26"
             ],
             [
              1,
              "#f0f921"
             ]
            ],
            "type": "histogram2d"
           }
          ],
          "histogram2dcontour": [
           {
            "colorbar": {
             "outlinewidth": 0,
             "ticks": ""
            },
            "colorscale": [
             [
              0,
              "#0d0887"
             ],
             [
              0.1111111111111111,
              "#46039f"
             ],
             [
              0.2222222222222222,
              "#7201a8"
             ],
             [
              0.3333333333333333,
              "#9c179e"
             ],
             [
              0.4444444444444444,
              "#bd3786"
             ],
             [
              0.5555555555555556,
              "#d8576b"
             ],
             [
              0.6666666666666666,
              "#ed7953"
             ],
             [
              0.7777777777777778,
              "#fb9f3a"
             ],
             [
              0.8888888888888888,
              "#fdca26"
             ],
             [
              1,
              "#f0f921"
             ]
            ],
            "type": "histogram2dcontour"
           }
          ],
          "mesh3d": [
           {
            "colorbar": {
             "outlinewidth": 0,
             "ticks": ""
            },
            "type": "mesh3d"
           }
          ],
          "parcoords": [
           {
            "line": {
             "colorbar": {
              "outlinewidth": 0,
              "ticks": ""
             }
            },
            "type": "parcoords"
           }
          ],
          "pie": [
           {
            "automargin": true,
            "type": "pie"
           }
          ],
          "scatter": [
           {
            "fillpattern": {
             "fillmode": "overlay",
             "size": 10,
             "solidity": 0.2
            },
            "type": "scatter"
           }
          ],
          "scatter3d": [
           {
            "line": {
             "colorbar": {
              "outlinewidth": 0,
              "ticks": ""
             }
            },
            "marker": {
             "colorbar": {
              "outlinewidth": 0,
              "ticks": ""
             }
            },
            "type": "scatter3d"
           }
          ],
          "scattercarpet": [
           {
            "marker": {
             "colorbar": {
              "outlinewidth": 0,
              "ticks": ""
             }
            },
            "type": "scattercarpet"
           }
          ],
          "scattergeo": [
           {
            "marker": {
             "colorbar": {
              "outlinewidth": 0,
              "ticks": ""
             }
            },
            "type": "scattergeo"
           }
          ],
          "scattergl": [
           {
            "marker": {
             "colorbar": {
              "outlinewidth": 0,
              "ticks": ""
             }
            },
            "type": "scattergl"
           }
          ],
          "scattermapbox": [
           {
            "marker": {
             "colorbar": {
              "outlinewidth": 0,
              "ticks": ""
             }
            },
            "type": "scattermapbox"
           }
          ],
          "scatterpolar": [
           {
            "marker": {
             "colorbar": {
              "outlinewidth": 0,
              "ticks": ""
             }
            },
            "type": "scatterpolar"
           }
          ],
          "scatterpolargl": [
           {
            "marker": {
             "colorbar": {
              "outlinewidth": 0,
              "ticks": ""
             }
            },
            "type": "scatterpolargl"
           }
          ],
          "scatterternary": [
           {
            "marker": {
             "colorbar": {
              "outlinewidth": 0,
              "ticks": ""
             }
            },
            "type": "scatterternary"
           }
          ],
          "surface": [
           {
            "colorbar": {
             "outlinewidth": 0,
             "ticks": ""
            },
            "colorscale": [
             [
              0,
              "#0d0887"
             ],
             [
              0.1111111111111111,
              "#46039f"
             ],
             [
              0.2222222222222222,
              "#7201a8"
             ],
             [
              0.3333333333333333,
              "#9c179e"
             ],
             [
              0.4444444444444444,
              "#bd3786"
             ],
             [
              0.5555555555555556,
              "#d8576b"
             ],
             [
              0.6666666666666666,
              "#ed7953"
             ],
             [
              0.7777777777777778,
              "#fb9f3a"
             ],
             [
              0.8888888888888888,
              "#fdca26"
             ],
             [
              1,
              "#f0f921"
             ]
            ],
            "type": "surface"
           }
          ],
          "table": [
           {
            "cells": {
             "fill": {
              "color": "#EBF0F8"
             },
             "line": {
              "color": "white"
             }
            },
            "header": {
             "fill": {
              "color": "#C8D4E3"
             },
             "line": {
              "color": "white"
             }
            },
            "type": "table"
           }
          ]
         },
         "layout": {
          "annotationdefaults": {
           "arrowcolor": "#2a3f5f",
           "arrowhead": 0,
           "arrowwidth": 1
          },
          "autotypenumbers": "strict",
          "coloraxis": {
           "colorbar": {
            "outlinewidth": 0,
            "ticks": ""
           }
          },
          "colorscale": {
           "diverging": [
            [
             0,
             "#8e0152"
            ],
            [
             0.1,
             "#c51b7d"
            ],
            [
             0.2,
             "#de77ae"
            ],
            [
             0.3,
             "#f1b6da"
            ],
            [
             0.4,
             "#fde0ef"
            ],
            [
             0.5,
             "#f7f7f7"
            ],
            [
             0.6,
             "#e6f5d0"
            ],
            [
             0.7,
             "#b8e186"
            ],
            [
             0.8,
             "#7fbc41"
            ],
            [
             0.9,
             "#4d9221"
            ],
            [
             1,
             "#276419"
            ]
           ],
           "sequential": [
            [
             0,
             "#0d0887"
            ],
            [
             0.1111111111111111,
             "#46039f"
            ],
            [
             0.2222222222222222,
             "#7201a8"
            ],
            [
             0.3333333333333333,
             "#9c179e"
            ],
            [
             0.4444444444444444,
             "#bd3786"
            ],
            [
             0.5555555555555556,
             "#d8576b"
            ],
            [
             0.6666666666666666,
             "#ed7953"
            ],
            [
             0.7777777777777778,
             "#fb9f3a"
            ],
            [
             0.8888888888888888,
             "#fdca26"
            ],
            [
             1,
             "#f0f921"
            ]
           ],
           "sequentialminus": [
            [
             0,
             "#0d0887"
            ],
            [
             0.1111111111111111,
             "#46039f"
            ],
            [
             0.2222222222222222,
             "#7201a8"
            ],
            [
             0.3333333333333333,
             "#9c179e"
            ],
            [
             0.4444444444444444,
             "#bd3786"
            ],
            [
             0.5555555555555556,
             "#d8576b"
            ],
            [
             0.6666666666666666,
             "#ed7953"
            ],
            [
             0.7777777777777778,
             "#fb9f3a"
            ],
            [
             0.8888888888888888,
             "#fdca26"
            ],
            [
             1,
             "#f0f921"
            ]
           ]
          },
          "colorway": [
           "#636efa",
           "#EF553B",
           "#00cc96",
           "#ab63fa",
           "#FFA15A",
           "#19d3f3",
           "#FF6692",
           "#B6E880",
           "#FF97FF",
           "#FECB52"
          ],
          "font": {
           "color": "#2a3f5f"
          },
          "geo": {
           "bgcolor": "white",
           "lakecolor": "white",
           "landcolor": "#E5ECF6",
           "showlakes": true,
           "showland": true,
           "subunitcolor": "white"
          },
          "hoverlabel": {
           "align": "left"
          },
          "hovermode": "closest",
          "mapbox": {
           "style": "light"
          },
          "paper_bgcolor": "white",
          "plot_bgcolor": "#E5ECF6",
          "polar": {
           "angularaxis": {
            "gridcolor": "white",
            "linecolor": "white",
            "ticks": ""
           },
           "bgcolor": "#E5ECF6",
           "radialaxis": {
            "gridcolor": "white",
            "linecolor": "white",
            "ticks": ""
           }
          },
          "scene": {
           "xaxis": {
            "backgroundcolor": "#E5ECF6",
            "gridcolor": "white",
            "gridwidth": 2,
            "linecolor": "white",
            "showbackground": true,
            "ticks": "",
            "zerolinecolor": "white"
           },
           "yaxis": {
            "backgroundcolor": "#E5ECF6",
            "gridcolor": "white",
            "gridwidth": 2,
            "linecolor": "white",
            "showbackground": true,
            "ticks": "",
            "zerolinecolor": "white"
           },
           "zaxis": {
            "backgroundcolor": "#E5ECF6",
            "gridcolor": "white",
            "gridwidth": 2,
            "linecolor": "white",
            "showbackground": true,
            "ticks": "",
            "zerolinecolor": "white"
           }
          },
          "shapedefaults": {
           "line": {
            "color": "#2a3f5f"
           }
          },
          "ternary": {
           "aaxis": {
            "gridcolor": "white",
            "linecolor": "white",
            "ticks": ""
           },
           "baxis": {
            "gridcolor": "white",
            "linecolor": "white",
            "ticks": ""
           },
           "bgcolor": "#E5ECF6",
           "caxis": {
            "gridcolor": "white",
            "linecolor": "white",
            "ticks": ""
           }
          },
          "title": {
           "x": 0.05
          },
          "xaxis": {
           "automargin": true,
           "gridcolor": "white",
           "linecolor": "white",
           "ticks": "",
           "title": {
            "standoff": 15
           },
           "zerolinecolor": "white",
           "zerolinewidth": 2
          },
          "yaxis": {
           "automargin": true,
           "gridcolor": "white",
           "linecolor": "white",
           "ticks": "",
           "title": {
            "standoff": 15
           },
           "zerolinecolor": "white",
           "zerolinewidth": 2
          }
         }
        },
        "title": {
         "text": "Pairwise Cosine Similarity Heatmap"
        },
        "xaxis": {
         "anchor": "y",
         "constrain": "domain",
         "domain": [
          0,
          1
         ],
         "scaleanchor": "y"
        },
        "yaxis": {
         "anchor": "x",
         "autorange": "reversed",
         "constrain": "domain",
         "domain": [
          0,
          1
         ]
        }
       }
      }
     },
     "metadata": {},
     "output_type": "display_data"
    },
    {
     "data": {
      "application/vnd.plotly.v1+json": {
       "config": {
        "plotlyServerURL": "https://plotly.com"
       },
       "data": [
        {
         "coloraxis": "coloraxis",
         "hovertemplate": "x: %{x}<br>y: %{y}<br>color: %{z}<extra></extra>",
         "name": "0",
         "type": "heatmap",
         "xaxis": "x",
         "yaxis": "y",
         "z": [
          [
           0,
           0,
           0,
           0,
           0,
           0,
           0
          ],
          [
           2,
           2,
           2,
           2,
           2,
           2,
           2
          ],
          [
           2,
           6,
           1,
           1,
           1,
           5,
           2
          ],
          [
           0,
           2,
           2,
           1,
           2,
           2,
           0
          ],
          [
           0,
           2,
           1,
           1,
           1,
           2,
           0
          ],
          [
           0,
           2,
           1,
           1,
           1,
           2,
           0
          ],
          [
           0,
           2,
           5,
           1,
           1,
           2,
           0
          ]
         ]
        }
       ],
       "layout": {
        "coloraxis": {
         "colorscale": [
          [
           0,
           "#0d0887"
          ],
          [
           0.1111111111111111,
           "#46039f"
          ],
          [
           0.2222222222222222,
           "#7201a8"
          ],
          [
           0.3333333333333333,
           "#9c179e"
          ],
          [
           0.4444444444444444,
           "#bd3786"
          ],
          [
           0.5555555555555556,
           "#d8576b"
          ],
          [
           0.6666666666666666,
           "#ed7953"
          ],
          [
           0.7777777777777778,
           "#fb9f3a"
          ],
          [
           0.8888888888888888,
           "#fdca26"
          ],
          [
           1,
           "#f0f921"
          ]
         ]
        },
        "margin": {
         "t": 60
        },
        "template": {
         "data": {
          "bar": [
           {
            "error_x": {
             "color": "#2a3f5f"
            },
            "error_y": {
             "color": "#2a3f5f"
            },
            "marker": {
             "line": {
              "color": "#E5ECF6",
              "width": 0.5
             },
             "pattern": {
              "fillmode": "overlay",
              "size": 10,
              "solidity": 0.2
             }
            },
            "type": "bar"
           }
          ],
          "barpolar": [
           {
            "marker": {
             "line": {
              "color": "#E5ECF6",
              "width": 0.5
             },
             "pattern": {
              "fillmode": "overlay",
              "size": 10,
              "solidity": 0.2
             }
            },
            "type": "barpolar"
           }
          ],
          "carpet": [
           {
            "aaxis": {
             "endlinecolor": "#2a3f5f",
             "gridcolor": "white",
             "linecolor": "white",
             "minorgridcolor": "white",
             "startlinecolor": "#2a3f5f"
            },
            "baxis": {
             "endlinecolor": "#2a3f5f",
             "gridcolor": "white",
             "linecolor": "white",
             "minorgridcolor": "white",
             "startlinecolor": "#2a3f5f"
            },
            "type": "carpet"
           }
          ],
          "choropleth": [
           {
            "colorbar": {
             "outlinewidth": 0,
             "ticks": ""
            },
            "type": "choropleth"
           }
          ],
          "contour": [
           {
            "colorbar": {
             "outlinewidth": 0,
             "ticks": ""
            },
            "colorscale": [
             [
              0,
              "#0d0887"
             ],
             [
              0.1111111111111111,
              "#46039f"
             ],
             [
              0.2222222222222222,
              "#7201a8"
             ],
             [
              0.3333333333333333,
              "#9c179e"
             ],
             [
              0.4444444444444444,
              "#bd3786"
             ],
             [
              0.5555555555555556,
              "#d8576b"
             ],
             [
              0.6666666666666666,
              "#ed7953"
             ],
             [
              0.7777777777777778,
              "#fb9f3a"
             ],
             [
              0.8888888888888888,
              "#fdca26"
             ],
             [
              1,
              "#f0f921"
             ]
            ],
            "type": "contour"
           }
          ],
          "contourcarpet": [
           {
            "colorbar": {
             "outlinewidth": 0,
             "ticks": ""
            },
            "type": "contourcarpet"
           }
          ],
          "heatmap": [
           {
            "colorbar": {
             "outlinewidth": 0,
             "ticks": ""
            },
            "colorscale": [
             [
              0,
              "#0d0887"
             ],
             [
              0.1111111111111111,
              "#46039f"
             ],
             [
              0.2222222222222222,
              "#7201a8"
             ],
             [
              0.3333333333333333,
              "#9c179e"
             ],
             [
              0.4444444444444444,
              "#bd3786"
             ],
             [
              0.5555555555555556,
              "#d8576b"
             ],
             [
              0.6666666666666666,
              "#ed7953"
             ],
             [
              0.7777777777777778,
              "#fb9f3a"
             ],
             [
              0.8888888888888888,
              "#fdca26"
             ],
             [
              1,
              "#f0f921"
             ]
            ],
            "type": "heatmap"
           }
          ],
          "heatmapgl": [
           {
            "colorbar": {
             "outlinewidth": 0,
             "ticks": ""
            },
            "colorscale": [
             [
              0,
              "#0d0887"
             ],
             [
              0.1111111111111111,
              "#46039f"
             ],
             [
              0.2222222222222222,
              "#7201a8"
             ],
             [
              0.3333333333333333,
              "#9c179e"
             ],
             [
              0.4444444444444444,
              "#bd3786"
             ],
             [
              0.5555555555555556,
              "#d8576b"
             ],
             [
              0.6666666666666666,
              "#ed7953"
             ],
             [
              0.7777777777777778,
              "#fb9f3a"
             ],
             [
              0.8888888888888888,
              "#fdca26"
             ],
             [
              1,
              "#f0f921"
             ]
            ],
            "type": "heatmapgl"
           }
          ],
          "histogram": [
           {
            "marker": {
             "pattern": {
              "fillmode": "overlay",
              "size": 10,
              "solidity": 0.2
             }
            },
            "type": "histogram"
           }
          ],
          "histogram2d": [
           {
            "colorbar": {
             "outlinewidth": 0,
             "ticks": ""
            },
            "colorscale": [
             [
              0,
              "#0d0887"
             ],
             [
              0.1111111111111111,
              "#46039f"
             ],
             [
              0.2222222222222222,
              "#7201a8"
             ],
             [
              0.3333333333333333,
              "#9c179e"
             ],
             [
              0.4444444444444444,
              "#bd3786"
             ],
             [
              0.5555555555555556,
              "#d8576b"
             ],
             [
              0.6666666666666666,
              "#ed7953"
             ],
             [
              0.7777777777777778,
              "#fb9f3a"
             ],
             [
              0.8888888888888888,
              "#fdca26"
             ],
             [
              1,
              "#f0f921"
             ]
            ],
            "type": "histogram2d"
           }
          ],
          "histogram2dcontour": [
           {
            "colorbar": {
             "outlinewidth": 0,
             "ticks": ""
            },
            "colorscale": [
             [
              0,
              "#0d0887"
             ],
             [
              0.1111111111111111,
              "#46039f"
             ],
             [
              0.2222222222222222,
              "#7201a8"
             ],
             [
              0.3333333333333333,
              "#9c179e"
             ],
             [
              0.4444444444444444,
              "#bd3786"
             ],
             [
              0.5555555555555556,
              "#d8576b"
             ],
             [
              0.6666666666666666,
              "#ed7953"
             ],
             [
              0.7777777777777778,
              "#fb9f3a"
             ],
             [
              0.8888888888888888,
              "#fdca26"
             ],
             [
              1,
              "#f0f921"
             ]
            ],
            "type": "histogram2dcontour"
           }
          ],
          "mesh3d": [
           {
            "colorbar": {
             "outlinewidth": 0,
             "ticks": ""
            },
            "type": "mesh3d"
           }
          ],
          "parcoords": [
           {
            "line": {
             "colorbar": {
              "outlinewidth": 0,
              "ticks": ""
             }
            },
            "type": "parcoords"
           }
          ],
          "pie": [
           {
            "automargin": true,
            "type": "pie"
           }
          ],
          "scatter": [
           {
            "fillpattern": {
             "fillmode": "overlay",
             "size": 10,
             "solidity": 0.2
            },
            "type": "scatter"
           }
          ],
          "scatter3d": [
           {
            "line": {
             "colorbar": {
              "outlinewidth": 0,
              "ticks": ""
             }
            },
            "marker": {
             "colorbar": {
              "outlinewidth": 0,
              "ticks": ""
             }
            },
            "type": "scatter3d"
           }
          ],
          "scattercarpet": [
           {
            "marker": {
             "colorbar": {
              "outlinewidth": 0,
              "ticks": ""
             }
            },
            "type": "scattercarpet"
           }
          ],
          "scattergeo": [
           {
            "marker": {
             "colorbar": {
              "outlinewidth": 0,
              "ticks": ""
             }
            },
            "type": "scattergeo"
           }
          ],
          "scattergl": [
           {
            "marker": {
             "colorbar": {
              "outlinewidth": 0,
              "ticks": ""
             }
            },
            "type": "scattergl"
           }
          ],
          "scattermapbox": [
           {
            "marker": {
             "colorbar": {
              "outlinewidth": 0,
              "ticks": ""
             }
            },
            "type": "scattermapbox"
           }
          ],
          "scatterpolar": [
           {
            "marker": {
             "colorbar": {
              "outlinewidth": 0,
              "ticks": ""
             }
            },
            "type": "scatterpolar"
           }
          ],
          "scatterpolargl": [
           {
            "marker": {
             "colorbar": {
              "outlinewidth": 0,
              "ticks": ""
             }
            },
            "type": "scatterpolargl"
           }
          ],
          "scatterternary": [
           {
            "marker": {
             "colorbar": {
              "outlinewidth": 0,
              "ticks": ""
             }
            },
            "type": "scatterternary"
           }
          ],
          "surface": [
           {
            "colorbar": {
             "outlinewidth": 0,
             "ticks": ""
            },
            "colorscale": [
             [
              0,
              "#0d0887"
             ],
             [
              0.1111111111111111,
              "#46039f"
             ],
             [
              0.2222222222222222,
              "#7201a8"
             ],
             [
              0.3333333333333333,
              "#9c179e"
             ],
             [
              0.4444444444444444,
              "#bd3786"
             ],
             [
              0.5555555555555556,
              "#d8576b"
             ],
             [
              0.6666666666666666,
              "#ed7953"
             ],
             [
              0.7777777777777778,
              "#fb9f3a"
             ],
             [
              0.8888888888888888,
              "#fdca26"
             ],
             [
              1,
              "#f0f921"
             ]
            ],
            "type": "surface"
           }
          ],
          "table": [
           {
            "cells": {
             "fill": {
              "color": "#EBF0F8"
             },
             "line": {
              "color": "white"
             }
            },
            "header": {
             "fill": {
              "color": "#C8D4E3"
             },
             "line": {
              "color": "white"
             }
            },
            "type": "table"
           }
          ]
         },
         "layout": {
          "annotationdefaults": {
           "arrowcolor": "#2a3f5f",
           "arrowhead": 0,
           "arrowwidth": 1
          },
          "autotypenumbers": "strict",
          "coloraxis": {
           "colorbar": {
            "outlinewidth": 0,
            "ticks": ""
           }
          },
          "colorscale": {
           "diverging": [
            [
             0,
             "#8e0152"
            ],
            [
             0.1,
             "#c51b7d"
            ],
            [
             0.2,
             "#de77ae"
            ],
            [
             0.3,
             "#f1b6da"
            ],
            [
             0.4,
             "#fde0ef"
            ],
            [
             0.5,
             "#f7f7f7"
            ],
            [
             0.6,
             "#e6f5d0"
            ],
            [
             0.7,
             "#b8e186"
            ],
            [
             0.8,
             "#7fbc41"
            ],
            [
             0.9,
             "#4d9221"
            ],
            [
             1,
             "#276419"
            ]
           ],
           "sequential": [
            [
             0,
             "#0d0887"
            ],
            [
             0.1111111111111111,
             "#46039f"
            ],
            [
             0.2222222222222222,
             "#7201a8"
            ],
            [
             0.3333333333333333,
             "#9c179e"
            ],
            [
             0.4444444444444444,
             "#bd3786"
            ],
            [
             0.5555555555555556,
             "#d8576b"
            ],
            [
             0.6666666666666666,
             "#ed7953"
            ],
            [
             0.7777777777777778,
             "#fb9f3a"
            ],
            [
             0.8888888888888888,
             "#fdca26"
            ],
            [
             1,
             "#f0f921"
            ]
           ],
           "sequentialminus": [
            [
             0,
             "#0d0887"
            ],
            [
             0.1111111111111111,
             "#46039f"
            ],
            [
             0.2222222222222222,
             "#7201a8"
            ],
            [
             0.3333333333333333,
             "#9c179e"
            ],
            [
             0.4444444444444444,
             "#bd3786"
            ],
            [
             0.5555555555555556,
             "#d8576b"
            ],
            [
             0.6666666666666666,
             "#ed7953"
            ],
            [
             0.7777777777777778,
             "#fb9f3a"
            ],
            [
             0.8888888888888888,
             "#fdca26"
            ],
            [
             1,
             "#f0f921"
            ]
           ]
          },
          "colorway": [
           "#636efa",
           "#EF553B",
           "#00cc96",
           "#ab63fa",
           "#FFA15A",
           "#19d3f3",
           "#FF6692",
           "#B6E880",
           "#FF97FF",
           "#FECB52"
          ],
          "font": {
           "color": "#2a3f5f"
          },
          "geo": {
           "bgcolor": "white",
           "lakecolor": "white",
           "landcolor": "#E5ECF6",
           "showlakes": true,
           "showland": true,
           "subunitcolor": "white"
          },
          "hoverlabel": {
           "align": "left"
          },
          "hovermode": "closest",
          "mapbox": {
           "style": "light"
          },
          "paper_bgcolor": "white",
          "plot_bgcolor": "#E5ECF6",
          "polar": {
           "angularaxis": {
            "gridcolor": "white",
            "linecolor": "white",
            "ticks": ""
           },
           "bgcolor": "#E5ECF6",
           "radialaxis": {
            "gridcolor": "white",
            "linecolor": "white",
            "ticks": ""
           }
          },
          "scene": {
           "xaxis": {
            "backgroundcolor": "#E5ECF6",
            "gridcolor": "white",
            "gridwidth": 2,
            "linecolor": "white",
            "showbackground": true,
            "ticks": "",
            "zerolinecolor": "white"
           },
           "yaxis": {
            "backgroundcolor": "#E5ECF6",
            "gridcolor": "white",
            "gridwidth": 2,
            "linecolor": "white",
            "showbackground": true,
            "ticks": "",
            "zerolinecolor": "white"
           },
           "zaxis": {
            "backgroundcolor": "#E5ECF6",
            "gridcolor": "white",
            "gridwidth": 2,
            "linecolor": "white",
            "showbackground": true,
            "ticks": "",
            "zerolinecolor": "white"
           }
          },
          "shapedefaults": {
           "line": {
            "color": "#2a3f5f"
           }
          },
          "ternary": {
           "aaxis": {
            "gridcolor": "white",
            "linecolor": "white",
            "ticks": ""
           },
           "baxis": {
            "gridcolor": "white",
            "linecolor": "white",
            "ticks": ""
           },
           "bgcolor": "#E5ECF6",
           "caxis": {
            "gridcolor": "white",
            "linecolor": "white",
            "ticks": ""
           }
          },
          "title": {
           "x": 0.05
          },
          "xaxis": {
           "automargin": true,
           "gridcolor": "white",
           "linecolor": "white",
           "ticks": "",
           "title": {
            "standoff": 15
           },
           "zerolinecolor": "white",
           "zerolinewidth": 2
          },
          "yaxis": {
           "automargin": true,
           "gridcolor": "white",
           "linecolor": "white",
           "ticks": "",
           "title": {
            "standoff": 15
           },
           "zerolinecolor": "white",
           "zerolinewidth": 2
          }
         }
        },
        "xaxis": {
         "anchor": "y",
         "constrain": "domain",
         "domain": [
          0,
          1
         ],
         "scaleanchor": "y"
        },
        "yaxis": {
         "anchor": "x",
         "autorange": "reversed",
         "constrain": "domain",
         "domain": [
          0,
          1
         ]
        }
       }
      }
     },
     "metadata": {},
     "output_type": "display_data"
    }
   ],
   "source": [
    "import sys \n",
    "sys.path.append('..')\n",
    "\n",
    "import torch\n",
    "from src.environments.memory import MemoryEnv\n",
    "from src.models.components import MiniGridBOWEmbedding\n",
    "from src.visualization import tensor_cosine_similarity_heatmap, tensor_2d_embedding_similarity\n",
    "from minigrid.wrappers import ViewSizeWrapper\n",
    "import plotly.express as px \n",
    "\n",
    "env = ViewSizeWrapper(MemoryEnv(size = 7, random_length=False, random_start_pos=False, max_steps=200, render_mode='rgb_array'), 7)\n",
    "obs, info = env.reset()\n",
    "obs['image'].shape\n",
    "# px.imshow(env.render()).show()\n",
    "# px.imshow(obs['image'][:,:,0].T).show()\n",
    "\n",
    "\n",
    "bow_embedding = MiniGridBOWEmbedding(\n",
    "    embedding_dim=32, \n",
    "    max_values=[11, 6, 3], \n",
    "    channel_names=['object', 'color', 'state'], \n",
    "    view_size=7,\n",
    "    add_positional_enc=True)\n",
    "\n",
    "print(bow_embedding)\n",
    "obs, info = env.reset()\n",
    "obs = torch.from_numpy(obs['image']).unsqueeze(0)\n",
    "print(bow_embedding(obs).shape)\n",
    "print(\"--\")\n",
    "print(bow_embedding.get_channel_embedding('object').shape)\n",
    "print(bow_embedding.get_channel_embedding('color').shape)\n",
    "print(bow_embedding.get_channel_embedding('state').shape)\n",
    "print(bow_embedding.get_all_channel_embeddings().shape)\n",
    "print(bow_embedding.get_positional_encoding().shape) # 2D positional encoding\n",
    "print(\"--\")\n",
    "print(\"average norm channel embeddings:\", torch.norm(bow_embedding.get_all_channel_embeddings(), dim = 1).mean())\n",
    "print(\"average norm positional encoding:\", torch.norm(bow_embedding.get_positional_encoding(), dim = 1).mean())\n",
    "\n",
    "\n",
    "# Test the function with a sample PyTorch tensor\n",
    "for channel in ['object', 'color', 'state']:\n",
    "    tensor_cosine_similarity_heatmap(bow_embedding.get_channel_embedding(channel).detach())\n",
    "tensor_cosine_similarity_heatmap(bow_embedding.get_all_channel_embeddings().detach())\n",
    "\n",
    "env = ViewSizeWrapper(MemoryEnv(size = 7, random_length=False, random_start_pos=False, max_steps=200, render_mode='rgb_array'), 7)\n",
    "obs, info = env.reset()\n",
    "obs['image'].shape\n",
    "# px.imshow(env.render()).show()\n",
    "px.imshow(obs['image'][:,:,0].T).show()"
   ]
  },
  {
   "cell_type": "code",
   "execution_count": 2,
   "metadata": {},
   "outputs": [
    {
     "name": "stdout",
     "output_type": "stream",
     "text": [
      "torch.Size([32, 7, 7])\n"
     ]
    },
    {
     "data": {
      "application/vnd.plotly.v1+json": {
       "config": {
        "plotlyServerURL": "https://plotly.com"
       },
       "data": [
        {
         "coloraxis": "coloraxis",
         "hovertemplate": "x: %{x}<br>y: %{y}<br>color: %{z}<extra></extra>",
         "name": "0",
         "type": "heatmap",
         "x": [
          0,
          1,
          2,
          3,
          4,
          5,
          6
         ],
         "xaxis": "x",
         "y": [
          0,
          1,
          2,
          3,
          4,
          5,
          6
         ],
         "yaxis": "y",
         "z": [
          [
           0.7545607089996338,
           0.8660918474197388,
           0.8905378580093384,
           0.8153553009033203,
           0.7483018636703491,
           0.7042507529258728,
           0.7171845436096191
          ],
          [
           0.7872470021247864,
           0.8972382545471191,
           1,
           0.9019238948822021,
           0.8501670360565186,
           0.8077976703643799,
           0.8072558641433716
          ],
          [
           0.7368809580802917,
           0.8810251951217651,
           0.8816628456115723,
           0.8854203224182129,
           0.7864347100257874,
           0.7468390464782715,
           0.7557193040847778
          ],
          [
           0.656535804271698,
           0.827842116355896,
           0.8259227275848389,
           0.7932310104370117,
           0.732243537902832,
           0.6932794451713562,
           0.7041175365447998
          ],
          [
           0.6029775142669678,
           0.7768194675445557,
           0.7879256010055542,
           0.7801810503005981,
           0.6927194595336914,
           0.6531320810317993,
           0.6642913818359375
          ],
          [
           0.604749858379364,
           0.7611532211303711,
           0.7649648785591125,
           0.764476478099823,
           0.712490975856781,
           0.6718214750289917,
           0.6738183498382568
          ],
          [
           0.6457827687263489,
           0.7814719676971436,
           0.8058987259864807,
           0.7066855430603027,
           0.6400078535079956,
           0.5964581966400146,
           0.6098513603210449
          ]
         ]
        }
       ],
       "layout": {
        "coloraxis": {
         "colorscale": [
          [
           0,
           "#440154"
          ],
          [
           0.1111111111111111,
           "#482878"
          ],
          [
           0.2222222222222222,
           "#3e4989"
          ],
          [
           0.3333333333333333,
           "#31688e"
          ],
          [
           0.4444444444444444,
           "#26828e"
          ],
          [
           0.5555555555555556,
           "#1f9e89"
          ],
          [
           0.6666666666666666,
           "#35b779"
          ],
          [
           0.7777777777777778,
           "#6ece58"
          ],
          [
           0.8888888888888888,
           "#b5de2b"
          ],
          [
           1,
           "#fde725"
          ]
         ]
        },
        "template": {
         "data": {
          "bar": [
           {
            "error_x": {
             "color": "#2a3f5f"
            },
            "error_y": {
             "color": "#2a3f5f"
            },
            "marker": {
             "line": {
              "color": "#E5ECF6",
              "width": 0.5
             },
             "pattern": {
              "fillmode": "overlay",
              "size": 10,
              "solidity": 0.2
             }
            },
            "type": "bar"
           }
          ],
          "barpolar": [
           {
            "marker": {
             "line": {
              "color": "#E5ECF6",
              "width": 0.5
             },
             "pattern": {
              "fillmode": "overlay",
              "size": 10,
              "solidity": 0.2
             }
            },
            "type": "barpolar"
           }
          ],
          "carpet": [
           {
            "aaxis": {
             "endlinecolor": "#2a3f5f",
             "gridcolor": "white",
             "linecolor": "white",
             "minorgridcolor": "white",
             "startlinecolor": "#2a3f5f"
            },
            "baxis": {
             "endlinecolor": "#2a3f5f",
             "gridcolor": "white",
             "linecolor": "white",
             "minorgridcolor": "white",
             "startlinecolor": "#2a3f5f"
            },
            "type": "carpet"
           }
          ],
          "choropleth": [
           {
            "colorbar": {
             "outlinewidth": 0,
             "ticks": ""
            },
            "type": "choropleth"
           }
          ],
          "contour": [
           {
            "colorbar": {
             "outlinewidth": 0,
             "ticks": ""
            },
            "colorscale": [
             [
              0,
              "#0d0887"
             ],
             [
              0.1111111111111111,
              "#46039f"
             ],
             [
              0.2222222222222222,
              "#7201a8"
             ],
             [
              0.3333333333333333,
              "#9c179e"
             ],
             [
              0.4444444444444444,
              "#bd3786"
             ],
             [
              0.5555555555555556,
              "#d8576b"
             ],
             [
              0.6666666666666666,
              "#ed7953"
             ],
             [
              0.7777777777777778,
              "#fb9f3a"
             ],
             [
              0.8888888888888888,
              "#fdca26"
             ],
             [
              1,
              "#f0f921"
             ]
            ],
            "type": "contour"
           }
          ],
          "contourcarpet": [
           {
            "colorbar": {
             "outlinewidth": 0,
             "ticks": ""
            },
            "type": "contourcarpet"
           }
          ],
          "heatmap": [
           {
            "colorbar": {
             "outlinewidth": 0,
             "ticks": ""
            },
            "colorscale": [
             [
              0,
              "#0d0887"
             ],
             [
              0.1111111111111111,
              "#46039f"
             ],
             [
              0.2222222222222222,
              "#7201a8"
             ],
             [
              0.3333333333333333,
              "#9c179e"
             ],
             [
              0.4444444444444444,
              "#bd3786"
             ],
             [
              0.5555555555555556,
              "#d8576b"
             ],
             [
              0.6666666666666666,
              "#ed7953"
             ],
             [
              0.7777777777777778,
              "#fb9f3a"
             ],
             [
              0.8888888888888888,
              "#fdca26"
             ],
             [
              1,
              "#f0f921"
             ]
            ],
            "type": "heatmap"
           }
          ],
          "heatmapgl": [
           {
            "colorbar": {
             "outlinewidth": 0,
             "ticks": ""
            },
            "colorscale": [
             [
              0,
              "#0d0887"
             ],
             [
              0.1111111111111111,
              "#46039f"
             ],
             [
              0.2222222222222222,
              "#7201a8"
             ],
             [
              0.3333333333333333,
              "#9c179e"
             ],
             [
              0.4444444444444444,
              "#bd3786"
             ],
             [
              0.5555555555555556,
              "#d8576b"
             ],
             [
              0.6666666666666666,
              "#ed7953"
             ],
             [
              0.7777777777777778,
              "#fb9f3a"
             ],
             [
              0.8888888888888888,
              "#fdca26"
             ],
             [
              1,
              "#f0f921"
             ]
            ],
            "type": "heatmapgl"
           }
          ],
          "histogram": [
           {
            "marker": {
             "pattern": {
              "fillmode": "overlay",
              "size": 10,
              "solidity": 0.2
             }
            },
            "type": "histogram"
           }
          ],
          "histogram2d": [
           {
            "colorbar": {
             "outlinewidth": 0,
             "ticks": ""
            },
            "colorscale": [
             [
              0,
              "#0d0887"
             ],
             [
              0.1111111111111111,
              "#46039f"
             ],
             [
              0.2222222222222222,
              "#7201a8"
             ],
             [
              0.3333333333333333,
              "#9c179e"
             ],
             [
              0.4444444444444444,
              "#bd3786"
             ],
             [
              0.5555555555555556,
              "#d8576b"
             ],
             [
              0.6666666666666666,
              "#ed7953"
             ],
             [
              0.7777777777777778,
              "#fb9f3a"
             ],
             [
              0.8888888888888888,
              "#fdca26"
             ],
             [
              1,
              "#f0f921"
             ]
            ],
            "type": "histogram2d"
           }
          ],
          "histogram2dcontour": [
           {
            "colorbar": {
             "outlinewidth": 0,
             "ticks": ""
            },
            "colorscale": [
             [
              0,
              "#0d0887"
             ],
             [
              0.1111111111111111,
              "#46039f"
             ],
             [
              0.2222222222222222,
              "#7201a8"
             ],
             [
              0.3333333333333333,
              "#9c179e"
             ],
             [
              0.4444444444444444,
              "#bd3786"
             ],
             [
              0.5555555555555556,
              "#d8576b"
             ],
             [
              0.6666666666666666,
              "#ed7953"
             ],
             [
              0.7777777777777778,
              "#fb9f3a"
             ],
             [
              0.8888888888888888,
              "#fdca26"
             ],
             [
              1,
              "#f0f921"
             ]
            ],
            "type": "histogram2dcontour"
           }
          ],
          "mesh3d": [
           {
            "colorbar": {
             "outlinewidth": 0,
             "ticks": ""
            },
            "type": "mesh3d"
           }
          ],
          "parcoords": [
           {
            "line": {
             "colorbar": {
              "outlinewidth": 0,
              "ticks": ""
             }
            },
            "type": "parcoords"
           }
          ],
          "pie": [
           {
            "automargin": true,
            "type": "pie"
           }
          ],
          "scatter": [
           {
            "fillpattern": {
             "fillmode": "overlay",
             "size": 10,
             "solidity": 0.2
            },
            "type": "scatter"
           }
          ],
          "scatter3d": [
           {
            "line": {
             "colorbar": {
              "outlinewidth": 0,
              "ticks": ""
             }
            },
            "marker": {
             "colorbar": {
              "outlinewidth": 0,
              "ticks": ""
             }
            },
            "type": "scatter3d"
           }
          ],
          "scattercarpet": [
           {
            "marker": {
             "colorbar": {
              "outlinewidth": 0,
              "ticks": ""
             }
            },
            "type": "scattercarpet"
           }
          ],
          "scattergeo": [
           {
            "marker": {
             "colorbar": {
              "outlinewidth": 0,
              "ticks": ""
             }
            },
            "type": "scattergeo"
           }
          ],
          "scattergl": [
           {
            "marker": {
             "colorbar": {
              "outlinewidth": 0,
              "ticks": ""
             }
            },
            "type": "scattergl"
           }
          ],
          "scattermapbox": [
           {
            "marker": {
             "colorbar": {
              "outlinewidth": 0,
              "ticks": ""
             }
            },
            "type": "scattermapbox"
           }
          ],
          "scatterpolar": [
           {
            "marker": {
             "colorbar": {
              "outlinewidth": 0,
              "ticks": ""
             }
            },
            "type": "scatterpolar"
           }
          ],
          "scatterpolargl": [
           {
            "marker": {
             "colorbar": {
              "outlinewidth": 0,
              "ticks": ""
             }
            },
            "type": "scatterpolargl"
           }
          ],
          "scatterternary": [
           {
            "marker": {
             "colorbar": {
              "outlinewidth": 0,
              "ticks": ""
             }
            },
            "type": "scatterternary"
           }
          ],
          "surface": [
           {
            "colorbar": {
             "outlinewidth": 0,
             "ticks": ""
            },
            "colorscale": [
             [
              0,
              "#0d0887"
             ],
             [
              0.1111111111111111,
              "#46039f"
             ],
             [
              0.2222222222222222,
              "#7201a8"
             ],
             [
              0.3333333333333333,
              "#9c179e"
             ],
             [
              0.4444444444444444,
              "#bd3786"
             ],
             [
              0.5555555555555556,
              "#d8576b"
             ],
             [
              0.6666666666666666,
              "#ed7953"
             ],
             [
              0.7777777777777778,
              "#fb9f3a"
             ],
             [
              0.8888888888888888,
              "#fdca26"
             ],
             [
              1,
              "#f0f921"
             ]
            ],
            "type": "surface"
           }
          ],
          "table": [
           {
            "cells": {
             "fill": {
              "color": "#EBF0F8"
             },
             "line": {
              "color": "white"
             }
            },
            "header": {
             "fill": {
              "color": "#C8D4E3"
             },
             "line": {
              "color": "white"
             }
            },
            "type": "table"
           }
          ]
         },
         "layout": {
          "annotationdefaults": {
           "arrowcolor": "#2a3f5f",
           "arrowhead": 0,
           "arrowwidth": 1
          },
          "autotypenumbers": "strict",
          "coloraxis": {
           "colorbar": {
            "outlinewidth": 0,
            "ticks": ""
           }
          },
          "colorscale": {
           "diverging": [
            [
             0,
             "#8e0152"
            ],
            [
             0.1,
             "#c51b7d"
            ],
            [
             0.2,
             "#de77ae"
            ],
            [
             0.3,
             "#f1b6da"
            ],
            [
             0.4,
             "#fde0ef"
            ],
            [
             0.5,
             "#f7f7f7"
            ],
            [
             0.6,
             "#e6f5d0"
            ],
            [
             0.7,
             "#b8e186"
            ],
            [
             0.8,
             "#7fbc41"
            ],
            [
             0.9,
             "#4d9221"
            ],
            [
             1,
             "#276419"
            ]
           ],
           "sequential": [
            [
             0,
             "#0d0887"
            ],
            [
             0.1111111111111111,
             "#46039f"
            ],
            [
             0.2222222222222222,
             "#7201a8"
            ],
            [
             0.3333333333333333,
             "#9c179e"
            ],
            [
             0.4444444444444444,
             "#bd3786"
            ],
            [
             0.5555555555555556,
             "#d8576b"
            ],
            [
             0.6666666666666666,
             "#ed7953"
            ],
            [
             0.7777777777777778,
             "#fb9f3a"
            ],
            [
             0.8888888888888888,
             "#fdca26"
            ],
            [
             1,
             "#f0f921"
            ]
           ],
           "sequentialminus": [
            [
             0,
             "#0d0887"
            ],
            [
             0.1111111111111111,
             "#46039f"
            ],
            [
             0.2222222222222222,
             "#7201a8"
            ],
            [
             0.3333333333333333,
             "#9c179e"
            ],
            [
             0.4444444444444444,
             "#bd3786"
            ],
            [
             0.5555555555555556,
             "#d8576b"
            ],
            [
             0.6666666666666666,
             "#ed7953"
            ],
            [
             0.7777777777777778,
             "#fb9f3a"
            ],
            [
             0.8888888888888888,
             "#fdca26"
            ],
            [
             1,
             "#f0f921"
            ]
           ]
          },
          "colorway": [
           "#636efa",
           "#EF553B",
           "#00cc96",
           "#ab63fa",
           "#FFA15A",
           "#19d3f3",
           "#FF6692",
           "#B6E880",
           "#FF97FF",
           "#FECB52"
          ],
          "font": {
           "color": "#2a3f5f"
          },
          "geo": {
           "bgcolor": "white",
           "lakecolor": "white",
           "landcolor": "#E5ECF6",
           "showlakes": true,
           "showland": true,
           "subunitcolor": "white"
          },
          "hoverlabel": {
           "align": "left"
          },
          "hovermode": "closest",
          "mapbox": {
           "style": "light"
          },
          "paper_bgcolor": "white",
          "plot_bgcolor": "#E5ECF6",
          "polar": {
           "angularaxis": {
            "gridcolor": "white",
            "linecolor": "white",
            "ticks": ""
           },
           "bgcolor": "#E5ECF6",
           "radialaxis": {
            "gridcolor": "white",
            "linecolor": "white",
            "ticks": ""
           }
          },
          "scene": {
           "xaxis": {
            "backgroundcolor": "#E5ECF6",
            "gridcolor": "white",
            "gridwidth": 2,
            "linecolor": "white",
            "showbackground": true,
            "ticks": "",
            "zerolinecolor": "white"
           },
           "yaxis": {
            "backgroundcolor": "#E5ECF6",
            "gridcolor": "white",
            "gridwidth": 2,
            "linecolor": "white",
            "showbackground": true,
            "ticks": "",
            "zerolinecolor": "white"
           },
           "zaxis": {
            "backgroundcolor": "#E5ECF6",
            "gridcolor": "white",
            "gridwidth": 2,
            "linecolor": "white",
            "showbackground": true,
            "ticks": "",
            "zerolinecolor": "white"
           }
          },
          "shapedefaults": {
           "line": {
            "color": "#2a3f5f"
           }
          },
          "ternary": {
           "aaxis": {
            "gridcolor": "white",
            "linecolor": "white",
            "ticks": ""
           },
           "baxis": {
            "gridcolor": "white",
            "linecolor": "white",
            "ticks": ""
           },
           "bgcolor": "#E5ECF6",
           "caxis": {
            "gridcolor": "white",
            "linecolor": "white",
            "ticks": ""
           }
          },
          "title": {
           "x": 0.05
          },
          "xaxis": {
           "automargin": true,
           "gridcolor": "white",
           "linecolor": "white",
           "ticks": "",
           "title": {
            "standoff": 15
           },
           "zerolinecolor": "white",
           "zerolinewidth": 2
          },
          "yaxis": {
           "automargin": true,
           "gridcolor": "white",
           "linecolor": "white",
           "ticks": "",
           "title": {
            "standoff": 15
           },
           "zerolinecolor": "white",
           "zerolinewidth": 2
          }
         }
        },
        "title": {
         "text": "Cosine Similarity Heatmap for Embedding at (2, 1)"
        },
        "xaxis": {
         "anchor": "y",
         "constrain": "domain",
         "domain": [
          0,
          1
         ],
         "scaleanchor": "y"
        },
        "yaxis": {
         "anchor": "x",
         "autorange": "reversed",
         "constrain": "domain",
         "domain": [
          0,
          1
         ]
        }
       }
      }
     },
     "metadata": {},
     "output_type": "display_data"
    }
   ],
   "source": [
    "# Test the function with an example image sample PyTorch tensor\n",
    "obs, info = env.reset()\n",
    "obs = torch.from_numpy(obs['image']).unsqueeze(0)\n",
    "embed_2d = bow_embedding(obs).detach()\n",
    "x = 2; y = 1\n",
    "print(embed_2d[0].shape)\n",
    "tensor_2d_embedding_similarity(embed_2d[0].permute(1,2,0), x, y)\n",
    "# tensor_2d_embedding_similarity(embed_2d[0], x, y, mode=\"contour\")"
   ]
  },
  {
   "cell_type": "code",
   "execution_count": 3,
   "metadata": {},
   "outputs": [
    {
     "data": {
      "application/vnd.plotly.v1+json": {
       "config": {
        "plotlyServerURL": "https://plotly.com"
       },
       "data": [
        {
         "coloraxis": "coloraxis",
         "hovertemplate": "x: %{x}<br>y: %{y}<br>color: %{z}<extra></extra>",
         "name": "0",
         "type": "heatmap",
         "x": [
          0,
          1,
          2,
          3,
          4,
          5,
          6,
          7,
          8,
          9,
          10,
          11,
          12,
          13,
          14,
          15,
          16,
          17,
          18,
          19,
          20,
          21,
          22,
          23,
          24,
          25,
          26,
          27,
          28,
          29,
          30,
          31,
          32,
          33,
          34,
          35,
          36,
          37,
          38,
          39,
          40,
          41,
          42,
          43,
          44,
          45,
          46,
          47,
          48,
          49,
          50,
          51,
          52,
          53,
          54,
          55,
          56,
          57,
          58,
          59,
          60,
          61,
          62,
          63,
          64,
          65,
          66,
          67,
          68
         ],
         "xaxis": "x",
         "y": [
          0,
          1,
          2,
          3,
          4,
          5,
          6,
          7,
          8,
          9,
          10,
          11,
          12,
          13,
          14,
          15,
          16,
          17,
          18,
          19,
          20,
          21,
          22,
          23,
          24,
          25,
          26,
          27,
          28,
          29,
          30,
          31,
          32,
          33,
          34,
          35,
          36,
          37,
          38,
          39,
          40,
          41,
          42,
          43,
          44,
          45,
          46,
          47,
          48,
          49,
          50,
          51,
          52,
          53,
          54,
          55,
          56,
          57,
          58,
          59,
          60,
          61,
          62,
          63,
          64,
          65,
          66,
          67,
          68
         ],
         "yaxis": "y",
         "z": [
          [
           0.9999998807907104,
           -0.08611362427473068,
           -0.18147605657577515,
           0.007492648437619209,
           0.13198599219322205,
           -0.24902497231960297,
           -0.01157892495393753,
           -0.1976451575756073,
           -0.1901574283838272,
           0.3319210410118103,
           -0.23681677877902985,
           0.14072608947753906,
           -0.08122339844703674,
           -0.036676328629255295,
           0.13259439170360565,
           0.23711974918842316,
           0.09228979051113129,
           0.08285577595233917,
           -0.15904229879379272,
           -0.20868831872940063,
           -0.1334812194108963,
           -0.19872435927391052,
           -0.2338959276676178,
           -0.20811322331428528,
           -0.15163728594779968,
           -0.1277245730161667,
           -0.17365741729736328,
           -0.1690146028995514,
           -0.2342577576637268,
           -0.26942935585975647,
           -0.24364660680294037,
           -0.18717066943645477,
           -0.16325797140598297,
           -0.20919081568717957,
           -0.11634519696235657,
           -0.1815883368253708,
           -0.21675989031791687,
           -0.19097724556922913,
           -0.13450126349925995,
           -0.11058855056762695,
           -0.15652142465114594,
           -0.032240234315395355,
           -0.09748338162899017,
           -0.13265496492385864,
           -0.10687221586704254,
           -0.05039628967642784,
           -0.02648358792066574,
           -0.07241643965244293,
           0.0017488524317741394,
           -0.06349430233240128,
           -0.09866590052843094,
           -0.07288313657045364,
           -0.016407201066613197,
           0.007505498826503754,
           -0.03842734917998314,
           -0.04528367519378662,
           -0.11052681505680084,
           -0.1456983983516693,
           -0.1199156641960144,
           -0.0634397342801094,
           -0.03952702879905701,
           -0.085459865629673,
           -0.1251717507839203,
           -0.1904148906469345,
           -0.2255864441394806,
           -0.19980373978614807,
           -0.14332781732082367,
           -0.11941510438919067,
           -0.16534796357154846
          ],
          [
           -0.08611362427473068,
           0.9999998211860657,
           0.154814675450325,
           -0.49419206380844116,
           0.13353924453258514,
           0.16273805499076843,
           0.037086863070726395,
           0.44369983673095703,
           0.5024686455726624,
           -0.07976376265287399,
           0.04325822368264198,
           -0.20123431086540222,
           0.009868067689239979,
           -0.05242763087153435,
           -0.1932062953710556,
           -0.02108432911336422,
           -0.12138916552066803,
           -0.19623027741909027,
           -0.1825607717037201,
           0.052322279661893845,
           0.3504810929298401,
           0.2811405658721924,
           0.2585960626602173,
           0.30408185720443726,
           0.3770888149738312,
           0.41196510195732117,
           0.3776090443134308,
           0.3869169354438782,
           0.3175763785839081,
           0.29503190517425537,
           0.34051769971847534,
           0.4135246276855469,
           0.44840091466903687,
           0.41404488682746887,
           0.38135474920272827,
           0.31201422214508057,
           0.28946971893310547,
           0.33495551347732544,
           0.407962441444397,
           0.44283872842788696,
           0.40848270058631897,
           0.3437761962413788,
           0.2744356691837311,
           0.251891165971756,
           0.29737696051597595,
           0.3703838884830475,
           0.40526020526885986,
           0.3709041476249695,
           0.31016436219215393,
           0.24082383513450623,
           0.21827933192253113,
           0.2637650966644287,
           0.33677202463150024,
           0.371648371219635,
           0.337292343378067,
           0.30951398611068726,
           0.24017345905303955,
           0.21762895584106445,
           0.26311472058296204,
           0.33612164855003357,
           0.37099799513816833,
           0.33664196729660034,
           0.33754032850265503,
           0.2681998014450073,
           0.24565528333187103,
           0.2911410927772522,
           0.36414802074432373,
           0.3990243375301361,
           0.3646683096885681
          ],
          [
           -0.18147605657577515,
           0.154814675450325,
           0.9999998807907104,
           -0.08882970362901688,
           -0.045663755387067795,
           0.07690205425024033,
           -0.0016106816474348307,
           0.07015533745288849,
           0.3362847566604614,
           -0.016123004257678986,
           -0.18393507599830627,
           0.1429719775915146,
           0.2165067046880722,
           -0.18749821186065674,
           -0.1174602210521698,
           -0.015155215747654438,
           -0.08384909480810165,
           0.2772027850151062,
           0.1659124493598938,
           0.1649128943681717,
           0.06417582184076309,
           0.06044275686144829,
           0.02824477292597294,
           -0.00014857991482131183,
           0.004912471864372492,
           0.04205949977040291,
           0.07909034937620163,
           0.11165329068899155,
           0.10792024433612823,
           0.07572222501039505,
           0.047328874468803406,
           0.052389927208423615,
           0.08953695744276047,
           0.12656782567501068,
           0.11944260448217392,
           0.11570955067873001,
           0.08351155370473862,
           0.05511821061372757,
           0.06017926335334778,
           0.09732627868652344,
           0.13435713946819305,
           0.10072838515043259,
           0.09699533134698868,
           0.06479733437299728,
           0.03640397638082504,
           0.04146502912044525,
           0.0786120668053627,
           0.11564292758703232,
           0.08950028568506241,
           0.0857672318816185,
           0.053569238632917404,
           0.025175875052809715,
           0.030236922204494476,
           0.06738396733999252,
           0.10441482812166214,
           0.10788289457559586,
           0.10414984822273254,
           0.07195184379816055,
           0.04355848580598831,
           0.04861953854560852,
           0.08576656877994537,
           0.12279743701219559,
           0.14484798908233643,
           0.1411149501800537,
           0.10891693830490112,
           0.08052359521389008,
           0.08558463305234909,
           0.12273166328668594,
           0.15976253151893616
          ],
          [
           0.007492648437619209,
           -0.49419206380844116,
           -0.08882970362901688,
           1.0000001192092896,
           -0.19603919982910156,
           -0.0979115217924118,
           -0.16082412004470825,
           -0.20331113040447235,
           -0.4209921956062317,
           0.2647625803947449,
           0.0516882948577404,
           0.5481332540512085,
           0.1785391867160797,
           0.0010295893298462033,
           0.16399815678596497,
           0.2279903143644333,
           0.12071038782596588,
           0.1369297057390213,
           0.2152530401945114,
           -0.18179450929164886,
           -0.45001769065856934,
           -0.42499619722366333,
           -0.4175111651420593,
           -0.4262474775314331,
           -0.43281829357147217,
           -0.419864296913147,
           -0.3882847726345062,
           -0.4371098279953003,
           -0.4120883047580719,
           -0.4046032726764679,
           -0.41333964467048645,
           -0.4199104607105255,
           -0.4069564640522003,
           -0.3753769099712372,
           -0.40673887729644775,
           -0.38171735405921936,
           -0.37423232197761536,
           -0.3829687237739563,
           -0.38953953981399536,
           -0.3765854835510254,
           -0.34500595927238464,
           -0.41112184524536133,
           -0.38610032200813293,
           -0.3786153197288513,
           -0.3873516917228699,
           -0.3939225375652313,
           -0.38096848130226135,
           -0.3493889272212982,
           -0.46305525302886963,
           -0.43803372979164124,
           -0.43054869771003723,
           -0.4392850399017334,
           -0.4458558261394501,
           -0.4329018294811249,
           -0.40132230520248413,
           -0.5230515003204346,
           -0.4980299770832062,
           -0.49054497480392456,
           -0.4992813169956207,
           -0.5058521032333374,
           -0.4928981065750122,
           -0.46131858229637146,
           -0.5353392958641052,
           -0.5103178024291992,
           -0.5028327107429504,
           -0.511569082736969,
           -0.5181398987770081,
           -0.5051859021186829,
           -0.4736063778400421
          ],
          [
           0.13198599219322205,
           0.13353924453258514,
           -0.045663755387067795,
           -0.19603919982910156,
           1.0000001192092896,
           0.32276350259780884,
           0.0856688916683197,
           0.050581224262714386,
           -0.09258352965116501,
           -0.24612613022327423,
           -0.1803571879863739,
           0.0481448769569397,
           -0.08354898542165756,
           0.13398370146751404,
           0.14600422978401184,
           -0.30267810821533203,
           0.16400663554668427,
           -0.05634768679738045,
           -0.04265900328755379,
           -0.24518612027168274,
           0.09524892270565033,
           0.08616161346435547,
           0.08867987990379333,
           0.09680693596601486,
           0.10617158561944962,
           0.11754396557807922,
           0.1350458264350891,
           0.12011638283729553,
           0.11102905124425888,
           0.11354735493659973,
           0.12167436629533768,
           0.13103903830051422,
           0.14241142570972443,
           0.15991327166557312,
           0.11089348793029785,
           0.10180618613958359,
           0.10432444512844086,
           0.11245150119066238,
           0.12181615829467773,
           0.13318853080272675,
           0.15069039165973663,
           0.08397310972213745,
           0.074885793030262,
           0.07740406692028046,
           0.08553111553192139,
           0.09489576518535614,
           0.10626814514398575,
           0.12377000600099564,
           0.07218621671199799,
           0.06309890747070312,
           0.06561718136072159,
           0.07374422252178192,
           0.08310887962579727,
           0.09448126703500748,
           0.11198311299085617,
           0.09408622980117798,
           0.08499892055988312,
           0.08751718699932098,
           0.09564424306154251,
           0.10500889271497726,
           0.11638127267360687,
           0.13388313353061676,
           0.13636639714241028,
           0.12727907299995422,
           0.12979735434055328,
           0.1379244029521942,
           0.14728905260562897,
           0.15866145491600037,
           0.17616331577301025
          ],
          [
           -0.24902497231960297,
           0.16273805499076843,
           0.07690205425024033,
           -0.0979115217924118,
           0.32276350259780884,
           0.9999999403953552,
           0.0674026682972908,
           0.04914141818881035,
           0.16605737805366516,
           -0.12082163989543915,
           -0.06520302593708038,
           -0.0612233504652977,
           0.15120801329612732,
           0.2279575616121292,
           0.007520885206758976,
           0.06155950203537941,
           0.18025049567222595,
           -0.18654471635818481,
           -0.053389035165309906,
           0.032345257699489594,
           0.2346305251121521,
           0.24287711083889008,
           0.22473935782909393,
           0.18466763198375702,
           0.15065309405326843,
           0.14944376051425934,
           0.18248434364795685,
           0.25141069293022156,
           0.2596572935581207,
           0.24151954054832458,
           0.20144779980182648,
           0.1674332469701767,
           0.1662239134311676,
           0.1992644965648651,
           0.21507948637008667,
           0.22332607209682465,
           0.2051883339881897,
           0.16511660814285278,
           0.131102055311203,
           0.1298927217721939,
           0.16293330490589142,
           0.15946486592292786,
           0.16771145164966583,
           0.1495736986398697,
           0.10950197279453278,
           0.075487419962883,
           0.0742780938744545,
           0.10731866955757141,
           0.13400107622146606,
           0.14224767684936523,
           0.1241099163889885,
           0.08403819799423218,
           0.050023630261421204,
           0.0488143227994442,
           0.08185487240552902,
           0.15877659618854523,
           0.1670231968164444,
           0.14888544380664825,
           0.10881370306015015,
           0.07479915022850037,
           0.07358983904123306,
           0.10663040727376938,
           0.2067466676235199,
           0.21499326825141907,
           0.19685551524162292,
           0.156783789396286,
           0.12276923656463623,
           0.12155990302562714,
           0.15460048615932465
          ],
          [
           -0.01157892495393753,
           0.037086863070726395,
           -0.0016106816474348307,
           -0.16082412004470825,
           0.0856688916683197,
           0.0674026682972908,
           1,
           0.3226289749145508,
           0.2549043893814087,
           -0.5965344309806824,
           -0.10535477101802826,
           0.1315426230430603,
           0.2625649571418762,
           -0.10069622099399567,
           0.1326919049024582,
           0.11458033323287964,
           -0.10055608302354813,
           0.174141988158226,
           -0.05375608056783676,
           -0.23210641741752625,
           -0.030197646468877792,
           -0.051207251846790314,
           -0.039928507059812546,
           0.0009908188367262483,
           0.048807866871356964,
           0.08096852898597717,
           0.09457635879516602,
           -0.06570932269096375,
           -0.08671891689300537,
           -0.07544027268886566,
           -0.034520894289016724,
           0.01329618040472269,
           0.04545684903860092,
           0.05906466022133827,
           -0.05421167239546776,
           -0.07522127777338028,
           -0.06394254416227341,
           -0.023023201152682304,
           0.024793842807412148,
           0.056954506784677505,
           0.07056232541799545,
           0.005246374756097794,
           -0.01576322130858898,
           -0.004484530072659254,
           0.0364348404109478,
           0.08425189554691315,
           0.11641257256269455,
           0.1300203651189804,
           0.0743202269077301,
           0.05331063270568848,
           0.06458933651447296,
           0.10550869256258011,
           0.15332576632499695,
           0.18548643589019775,
           0.1990942358970642,
           0.10903383791446686,
           0.08802422881126404,
           0.09930291026830673,
           0.14022228121757507,
           0.1880393624305725,
           0.22020003199577332,
           0.23380783200263977,
           0.09828761219978333,
           0.07727798819541931,
           0.0885566771030426,
           0.12947605550289154,
           0.17729312181472778,
           0.20945380628108978,
           0.22306159138679504
          ],
          [
           -0.1976451575756073,
           0.44369983673095703,
           0.07015533745288849,
           -0.20331113040447235,
           0.050581224262714386,
           0.04914141818881035,
           0.3226289749145508,
           1,
           0.26404163241386414,
           -0.11891129612922668,
           -0.14518612623214722,
           -0.09028703719377518,
           0.06019774079322815,
           -0.041976604610681534,
           -0.08203884214162827,
           0.008379769511520863,
           0.14536777138710022,
           0.01914222724735737,
           -0.028440626338124275,
           0.053416959941387177,
           0.31020838022232056,
           0.29780930280685425,
           0.28350695967674255,
           0.2892213463783264,
           0.3194015324115753,
           0.3564733564853668,
           0.376415491104126,
           0.3399728834629059,
           0.32757383584976196,
           0.3132714629173279,
           0.31898581981658936,
           0.34916603565216064,
           0.38623785972595215,
           0.4061800241470337,
           0.37780511379241943,
           0.3654060661792755,
           0.35110369324684143,
           0.3568181097507477,
           0.3869982659816742,
           0.4240700900554657,
           0.44401222467422485,
           0.3948334753513336,
           0.3824344277381897,
           0.3681320548057556,
           0.3738464117050171,
           0.404026597738266,
           0.4410984516143799,
           0.46104055643081665,
           0.3813581168651581,
           0.36895906925201416,
           0.35465672612190247,
           0.36037105321884155,
           0.39055126905441284,
           0.42762309312820435,
           0.4475652277469635,
           0.35518333315849304,
           0.3427842855453491,
           0.32848191261291504,
           0.3341962695121765,
           0.3643764853477478,
           0.4014483094215393,
           0.42139044404029846,
           0.34466803073883057,
           0.33226898312568665,
           0.31796661019325256,
           0.32368096709251404,
           0.3538611829280853,
           0.39093300700187683,
           0.4108751714229584
          ],
          [
           -0.1901574283838272,
           0.5024686455726624,
           0.3362847566604614,
           -0.4209921956062317,
           -0.09258352965116501,
           0.16605737805366516,
           0.2549043893814087,
           0.26404163241386414,
           1,
           0.021587476134300232,
           -0.1324344277381897,
           -0.2658828794956207,
           0.233510360121727,
           -0.16870297491550446,
           -0.08843402564525604,
           0.26641032099723816,
           0.09531913697719574,
           -0.2151142954826355,
           -0.12426027655601501,
           0.1229812353849411,
           0.31682297587394714,
           0.27196618914604187,
           0.2563440501689911,
           0.28979283571243286,
           0.3505140542984009,
           0.39418262243270874,
           0.3935020864009857,
           0.2208375781774521,
           0.1759808212518692,
           0.16035869717597961,
           0.1938074678182602,
           0.25452864170074463,
           0.2981972098350525,
           0.297516793012619,
           0.1349785178899765,
           0.09012172371149063,
           0.07449962198734283,
           0.1079484075307846,
           0.16866958141326904,
           0.2123381644487381,
           0.21165770292282104,
           0.13044524192810059,
           0.08558844774961472,
           0.06996633857488632,
           0.10341513156890869,
           0.16413630545139313,
           0.20780488848686218,
           0.20712442696094513,
           0.19985783100128174,
           0.15500104427337646,
           0.13937892019748688,
           0.17282772064208984,
           0.2335488647222519,
           0.27721744775772095,
           0.2765370309352875,
           0.2653449773788452,
           0.22048822045326233,
           0.20486609637737274,
           0.23831488192081451,
           0.29903605580329895,
           0.3427046537399292,
           0.34202417731285095,
           0.25164809823036194,
           0.20679134130477905,
           0.19116921722888947,
           0.22461798787117004,
           0.2853391766548157,
           0.32900774478912354,
           0.3283272981643677
          ],
          [
           0.3319210410118103,
           -0.07976376265287399,
           -0.016123004257678986,
           0.2647625803947449,
           -0.24612613022327423,
           -0.12082163989543915,
           -0.5965344309806824,
           -0.11891129612922668,
           0.021587476134300232,
           1.0000001192092896,
           -0.10570917278528214,
           0.06180776283144951,
           0.1306619942188263,
           0.027266403660178185,
           -0.08687321841716766,
           0.35314616560935974,
           0.32210615277290344,
           -0.10390395671129227,
           -0.13684161007404327,
           -0.06956318765878677,
           0.14996442198753357,
           0.18013255298137665,
           0.15742932260036469,
           0.1120314672589302,
           0.0867033302783966,
           0.0967186987400055,
           0.11592084169387817,
           0.11594963818788528,
           0.14611771702766418,
           0.1234145388007164,
           0.07801666855812073,
           0.05268852040171623,
           0.06270387768745422,
           0.08190601319074631,
           0.11736408621072769,
           0.1475321650505066,
           0.12482897192239761,
           0.07943114638328552,
           0.05410296842455864,
           0.06411834061145782,
           0.08332046121358871,
           0.11727065593004227,
           0.14743873476982117,
           0.12473554164171219,
           0.07933768630027771,
           0.054009538143873215,
           0.0640248954296112,
           0.08322703093290329,
           0.08174428343772888,
           0.11191239953041077,
           0.08920920640230179,
           0.043811339884996414,
           0.018483171239495277,
           0.028498535975813866,
           0.0477006770670414,
           0.014013257808983326,
           0.04418136924505234,
           0.02147815190255642,
           -0.023919686675071716,
           -0.049247849732637405,
           -0.03923248499631882,
           -0.020030342042446136,
           -0.045989155769348145,
           -0.01582103967666626,
           -0.03852427378296852,
           -0.08392210304737091,
           -0.1092502623796463,
           -0.0992349162697792,
           -0.08003275096416473
          ],
          [
           -0.23681677877902985,
           0.04325822368264198,
           -0.18393507599830627,
           0.0516882948577404,
           -0.1803571879863739,
           -0.06520302593708038,
           -0.10535477101802826,
           -0.14518612623214722,
           -0.1324344277381897,
           -0.10570917278528214,
           1,
           -0.01196067500859499,
           -0.33178916573524475,
           -0.05108358711004257,
           0.10337679088115692,
           -0.096979521214962,
           -0.13977427780628204,
           -0.014997064135968685,
           0.056143518537282944,
           -0.03842298686504364,
           -0.030789392068982124,
           -0.00596543587744236,
           -0.005495243240147829,
           -0.04321867227554321,
           -0.10062988847494125,
           -0.1422184705734253,
           -0.14631403982639313,
           -0.020417170599102974,
           0.004406791180372238,
           0.004876995459198952,
           -0.03284643590450287,
           -0.09025764465332031,
           -0.13184624910354614,
           -0.13594181835651398,
           -0.00925295241177082,
           0.015570994466543198,
           0.01604120060801506,
           -0.021682243794202805,
           -0.07909344136714935,
           -0.12068204581737518,
           -0.12477760016918182,
           -0.018297092989087105,
           0.0065268538892269135,
           0.006997059565037489,
           -0.030726371333003044,
           -0.08813758194446564,
           -0.12972617149353027,
           -0.1338217407464981,
           -0.05231890082359314,
           -0.027494946494698524,
           -0.027024755254387856,
           -0.06474819779396057,
           -0.12215938419103622,
           -0.16374799609184265,
           -0.1678435504436493,
           -0.0944974422454834,
           -0.06967350095510483,
           -0.06920326501131058,
           -0.10692673176527023,
           -0.1643379032611847,
           -0.20592652261257172,
           -0.21002209186553955,
           -0.12078717350959778,
           -0.09596320986747742,
           -0.09549301117658615,
           -0.13321645557880402,
           -0.19062763452529907,
           -0.23221619427204132,
           -0.23631182312965393
          ],
          [
           0.14072608947753906,
           -0.20123431086540222,
           0.1429719775915146,
           0.5481332540512085,
           0.0481448769569397,
           -0.0612233504652977,
           0.1315426230430603,
           -0.09028703719377518,
           -0.2658828794956207,
           0.06180776283144951,
           -0.01196067500859499,
           0.9999999403953552,
           0.4314291179180145,
           -0.07358194142580032,
           0.06305085122585297,
           -0.12067971378564835,
           0.079245425760746,
           0.24108119308948517,
           0.2422761768102646,
           -0.20459797978401184,
           -0.46506810188293457,
           -0.4281501770019531,
           -0.41111746430397034,
           -0.4286324679851532,
           -0.45702508091926575,
           -0.45717817544937134,
           -0.4120936393737793,
           -0.44855132699012756,
           -0.4116334021091461,
           -0.39460068941116333,
           -0.4121156930923462,
           -0.44050830602645874,
           -0.44066140055656433,
           -0.3955768644809723,
           -0.39466312527656555,
           -0.3577452003955841,
           -0.3407124876976013,
           -0.35822755098342896,
           -0.38662010431289673,
           -0.3867731988430023,
           -0.34168869256973267,
           -0.358110249042511,
           -0.32119232416152954,
           -0.30415964126586914,
           -0.3216746747493744,
           -0.35006722807884216,
           -0.35022032260894775,
           -0.3051358163356781,
           -0.3701324760913849,
           -0.33321455121040344,
           -0.31618186831474304,
           -0.3336968719959259,
           -0.36208945512771606,
           -0.36224254965782166,
           -0.317158043384552,
           -0.41070443391799927,
           -0.3737865090370178,
           -0.35675379633903503,
           -0.3742688000202179,
           -0.40266141295433044,
           -0.40281450748443604,
           -0.357729971408844,
           -0.4284696877002716,
           -0.39155176281929016,
           -0.3745190501213074,
           -0.39203405380249023,
           -0.4204266667366028,
           -0.4205797612667084,
           -0.37549522519111633
          ],
          [
           -0.08122339844703674,
           0.009868067689239979,
           0.2165067046880722,
           0.1785391867160797,
           -0.08354898542165756,
           0.15120801329612732,
           0.2625649571418762,
           0.06019774079322815,
           0.233510360121727,
           0.1306619942188263,
           -0.33178916573524475,
           0.4314291179180145,
           1,
           -0.1614236831665039,
           -0.008262718096375465,
           0.14754009246826172,
           0.05399277061223984,
           0.2130713164806366,
           0.1776314228773117,
           -0.26161468029022217,
           -0.09662782400846481,
           -0.13646739721298218,
           -0.14029234647750854,
           -0.09809666126966476,
           -0.03448466956615448,
           0.012415437027812004,
           0.02385805733501911,
           -0.1281852424144745,
           -0.16802477836608887,
           -0.17184971272945404,
           -0.12965406477451324,
           -0.06604205816984177,
           -0.01914193667471409,
           -0.007699323818087578,
           -0.10168340057134628,
           -0.14152295887470245,
           -0.14534792304039001,
           -0.10315224528312683,
           -0.03954024612903595,
           0.007359882351011038,
           0.01880248822271824,
           -0.05641355738043785,
           -0.09625308215618134,
           -0.1000780537724495,
           -0.05788237601518631,
           0.005729609169065952,
           0.052629727870225906,
           0.06407234072685242,
           -0.047347839921712875,
           -0.08718734979629517,
           -0.09101232141256332,
           -0.048816658556461334,
           0.014795334078371525,
           0.06169545650482178,
           0.07313806563615799,
           -0.09367363899946213,
           -0.1335131973028183,
           -0.13733816146850586,
           -0.09514247626066208,
           -0.031530484557151794,
           0.015369629487395287,
           0.026812249794602394,
           -0.1604415476322174,
           -0.20028111338615417,
           -0.20410606265068054,
           -0.16191039979457855,
           -0.09829839318990707,
           -0.05139826610684395,
           -0.03995564207434654
          ],
          [
           -0.036676328629255295,
           -0.05242763087153435,
           -0.18749821186065674,
           0.0010295893298462033,
           0.13398370146751404,
           0.2279575616121292,
           -0.10069622099399567,
           -0.041976604610681534,
           -0.16870297491550446,
           0.027266403660178185,
           -0.05108358711004257,
           -0.07358194142580032,
           -0.1614236831665039,
           1.0000001192092896,
           -0.3289068639278412,
           0.03934241831302643,
           0.026027057319879532,
           -0.22814515233039856,
           0.2976245880126953,
           0.08171398937702179,
           0.06575557589530945,
           0.08026406913995743,
           0.16366976499557495,
           0.2370564192533493,
           0.22795256972312927,
           0.13739457726478577,
           0.03963477537035942,
           0.07987008988857269,
           0.09437856823205948,
           0.17778432369232178,
           0.25117090344429016,
           0.2420670986175537,
           0.151509091258049,
           0.053749289363622665,
           0.07727484405040741,
           0.0917833223938942,
           0.1751890480518341,
           0.24857565760612488,
           0.23947185277938843,
           0.14891384541988373,
           0.05115405097603798,
           0.06330674886703491,
           0.07781524956226349,
           0.1612209528684616,
           0.23460759222507477,
           0.22550377249717712,
           0.13494575023651123,
           0.03718595579266548,
           0.05187445878982544,
           0.06638294458389282,
           0.14978866279125214,
           0.2231753021478653,
           0.21407148241996765,
           0.12351345270872116,
           0.025753656402230263,
           0.052760183811187744,
           0.06726866960525513,
           0.15067438781261444,
           0.2240610271692276,
           0.21495720744132996,
           0.12439917773008347,
           0.026639385148882866,
           0.06284628808498383,
           0.0773547887802124,
           0.16076050698757172,
           0.23414714634418488,
           0.22504329681396484,
           0.13448528945446014,
           0.036725495010614395
          ],
          [
           0.13259439170360565,
           -0.1932062953710556,
           -0.1174602210521698,
           0.16399815678596497,
           0.14600422978401184,
           0.007520885206758976,
           0.1326919049024582,
           -0.08203884214162827,
           -0.08843402564525604,
           -0.08687321841716766,
           0.10337679088115692,
           0.06305085122585297,
           -0.008262718096375465,
           -0.3289068639278412,
           1,
           -0.028782326728105545,
           0.37222525477409363,
           0.022153053432703018,
           -0.071016825735569,
           -0.11461953818798065,
           -0.1670045405626297,
           -0.1718837320804596,
           -0.21464580297470093,
           -0.26108768582344055,
           -0.26933470368385315,
           -0.22826403379440308,
           -0.16800974309444427,
           -0.21962471306324005,
           -0.22450388967990875,
           -0.26726600527763367,
           -0.3137078285217285,
           -0.3219549059867859,
           -0.2808842062950134,
           -0.22062990069389343,
           -0.17523474991321564,
           -0.18011391162872314,
           -0.22287598252296448,
           -0.2693178653717041,
           -0.2775649130344391,
           -0.23649421334266663,
           -0.17623993754386902,
           -0.07048781216144562,
           -0.07536701112985611,
           -0.11812908202409744,
           -0.16457092761993408,
           -0.17281799018383026,
           -0.131747305393219,
           -0.071492999792099,
           0.001866668462753296,
           -0.0030125253833830357,
           -0.04577460512518883,
           -0.09221645444631577,
           -0.10046350955963135,
           -0.05939283221960068,
           0.0008614831604063511,
           -0.02153000980615616,
           -0.026409199461340904,
           -0.06917127966880798,
           -0.11561312526464462,
           -0.1238601952791214,
           -0.08278951048851013,
           -0.022535188123583794,
           -0.11612607538700104,
           -0.12100525945425034,
           -0.16376735270023346,
           -0.2102091908454895,
           -0.21845625340938568,
           -0.17738555371761322,
           -0.11713126301765442
          ],
          [
           0.23711974918842316,
           -0.02108432911336422,
           -0.015155215747654438,
           0.2279903143644333,
           -0.30267810821533203,
           0.06155950203537941,
           0.11458033323287964,
           0.008379769511520863,
           0.26641032099723816,
           0.35314616560935974,
           -0.096979521214962,
           -0.12067971378564835,
           0.14754009246826172,
           0.03934241831302643,
           -0.028782326728105545,
           0.9999999403953552,
           -0.10533121973276138,
           0.04550714045763016,
           -0.2066047638654709,
           -0.14253349602222443,
           0.1440211832523346,
           0.12473112344741821,
           0.07317002862691879,
           0.030715899541974068,
           0.02608301490545273,
           0.049624353647232056,
           0.06319057941436768,
           0.11626096069812775,
           0.09697089344263077,
           0.045409779995679855,
           0.0029556748922914267,
           -0.0016771969385445118,
           0.02186412364244461,
           0.03543036803603172,
           0.16208095848560333,
           0.14279091358184814,
           0.09122981876134872,
           0.04877568408846855,
           0.04414280503988266,
           0.0676841288805008,
           0.0812503769993782,
           0.21938608586788177,
           0.2000960409641266,
           0.14853493869304657,
           0.10608083009719849,
           0.1014479473233223,
           0.12498924881219864,
           0.13855551183223724,
           0.21907798945903778,
           0.1997879296541214,
           0.14822684228420258,
           0.10577273368835449,
           0.1011398434638977,
           0.12468115240335464,
           0.13824741542339325,
           0.15047813951969147,
           0.13118807971477509,
           0.07962699234485626,
           0.03717286139726639,
           0.0325399748980999,
           0.05608131363987923,
           0.06964755058288574,
           0.07247054576873779,
           0.053180497139692307,
           0.0016193914925679564,
           -0.04083474352955818,
           -0.04546761512756348,
           -0.0219262782484293,
           -0.008360040374100208
          ],
          [
           0.09228979051113129,
           -0.12138916552066803,
           -0.08384909480810165,
           0.12071038782596588,
           0.16400663554668427,
           0.18025049567222595,
           -0.10055608302354813,
           0.14536777138710022,
           0.09531913697719574,
           0.32210615277290344,
           -0.13977427780628204,
           0.079245425760746,
           0.05399277061223984,
           0.026027057319879532,
           0.37222525477409363,
           -0.10533121973276138,
           0.9999999403953552,
           -0.14326491951942444,
           0.12787331640720367,
           0.061537034809589386,
           0.25334352254867554,
           0.2940416634082794,
           0.304863303899765,
           0.2969343066215515,
           0.2967771887779236,
           0.3201698362827301,
           0.35626327991485596,
           0.16343718767166138,
           0.20413532853126526,
           0.21495698392391205,
           0.20702797174453735,
           0.20687085390090942,
           0.23026347160339355,
           0.2663569748401642,
           0.10680874437093735,
           0.14750689268112183,
           0.15832854807376862,
           0.15039955079555511,
           0.150242418050766,
           0.17363505065441132,
           0.20972853899002075,
           0.12288279831409454,
           0.16358093917369843,
           0.17440259456634521,
           0.1664735972881317,
           0.1663164645433426,
           0.18970908224582672,
           0.22580260038375854,
           0.18416449427604675,
           0.22486263513565063,
           0.23568429052829742,
           0.22775527834892273,
           0.227598175406456,
           0.25099077820777893,
           0.28708428144454956,
           0.22259588539600372,
           0.2632940113544464,
           0.2741156816482544,
           0.2661866545677185,
           0.2660295367240906,
           0.2894221544265747,
           0.32551562786102295,
           0.19312505424022675,
           0.23382318019866943,
           0.24464485049247742,
           0.23671582341194153,
           0.2365587204694748,
           0.25995132327079773,
           0.29604482650756836
          ],
          [
           0.08285577595233917,
           -0.19623027741909027,
           0.2772027850151062,
           0.1369297057390213,
           -0.05634768679738045,
           -0.18654471635818481,
           0.174141988158226,
           0.01914222724735737,
           -0.2151142954826355,
           -0.10390395671129227,
           -0.014997064135968685,
           0.24108119308948517,
           0.2130713164806366,
           -0.22814515233039856,
           0.022153053432703018,
           0.04550714045763016,
           -0.14326491951942444,
           0.9999998807907104,
           0.1029822826385498,
           -0.17865107953548431,
           -0.13636711239814758,
           -0.08438912779092789,
           -0.05444565787911415,
           -0.0710267573595047,
           -0.11517602950334549,
           -0.1420811414718628,
           -0.12244760990142822,
           -0.07524213194847107,
           -0.023264141753315926,
           0.006679327227175236,
           -0.009901775978505611,
           -0.054051052778959274,
           -0.08095618337392807,
           -0.06132262200117111,
           0.040473658591508865,
           0.09245163947343826,
           0.1223951205611229,
           0.10581400245428085,
           0.061664726585149765,
           0.03475961089134216,
           0.05439315736293793,
           0.10907801985740662,
           0.16105599701404572,
           0.19099949300289154,
           0.1744183897972107,
           0.13026908040046692,
           0.10336395353078842,
           0.12299752235412598,
           0.06991437077522278,
           0.12189237028360367,
           0.1518358439207077,
           0.13525474071502686,
           0.09110543876886368,
           0.06420031934976578,
           0.08383385837078094,
           -0.041634488850831985,
           0.010343506000936031,
           0.040286969393491745,
           0.023705877363681793,
           -0.02044341154396534,
           -0.047348540276288986,
           -0.027714986354112625,
           -0.1271594911813736,
           -0.0751814991235733,
           -0.045238036662340164,
           -0.06181913986802101,
           -0.1059684157371521,
           -0.13287353515625,
           -0.11323999613523483
          ],
          [
           -0.15904229879379272,
           -0.1825607717037201,
           0.1659124493598938,
           0.2152530401945114,
           -0.04265900328755379,
           -0.053389035165309906,
           -0.05375608056783676,
           -0.028440626338124275,
           -0.12426027655601501,
           -0.13684161007404327,
           0.056143518537282944,
           0.2422761768102646,
           0.1776314228773117,
           0.2976245880126953,
           -0.071016825735569,
           -0.2066047638654709,
           0.12787331640720367,
           0.1029822826385498,
           0.9999997615814209,
           0.159286767244339,
           -0.3209759593009949,
           -0.34752780199050903,
           -0.3276507556438446,
           -0.2866237759590149,
           -0.26589691638946533,
           -0.28457459807395935,
           -0.3217369019985199,
           -0.3217407464981079,
           -0.34829258918762207,
           -0.32841554284095764,
           -0.28738856315612793,
           -0.26666170358657837,
           -0.2853393852710724,
           -0.32250168919563293,
           -0.31341981887817383,
           -0.339971661567688,
           -0.32009458541870117,
           -0.27906763553619385,
           -0.2583407461643219,
           -0.2770184874534607,
           -0.31418073177337646,
           -0.30770599842071533,
           -0.3342578113079071,
           -0.3143807649612427,
           -0.27335378527641296,
           -0.2526269257068634,
           -0.2713046669960022,
           -0.30846691131591797,
           -0.3111450672149658,
           -0.33769693970680237,
           -0.31781986355781555,
           -0.2767929136753082,
           -0.2560660243034363,
           -0.2747437655925751,
           -0.31190603971481323,
           -0.3190566301345825,
           -0.34560850262641907,
           -0.32573142647743225,
           -0.28470444679260254,
           -0.26397761702537537,
           -0.2826552987098694,
           -0.31981760263442993,
           -0.3200969099998474,
           -0.3466487228870392,
           -0.32677167654037476,
           -0.28574466705322266,
           -0.2650178372859955,
           -0.2836955487728119,
           -0.32085782289505005
          ],
          [
           -0.20868831872940063,
           0.052322279661893845,
           0.1649128943681717,
           -0.18179450929164886,
           -0.24518612027168274,
           0.032345257699489594,
           -0.23210641741752625,
           0.053416959941387177,
           0.1229812353849411,
           -0.06956318765878677,
           -0.03842298686504364,
           -0.20459797978401184,
           -0.26161468029022217,
           0.08171398937702179,
           -0.11461953818798065,
           -0.14253349602222443,
           0.061537034809589386,
           -0.17865107953548431,
           0.159286767244339,
           1,
           -0.03306102007627487,
           0.007242175750434399,
           0.07347352057695389,
           0.1049063578248024,
           0.07396221160888672,
           0.011337673291563988,
           -0.022568389773368835,
           0.0387597382068634,
           0.07906293123960495,
           0.14529426395893097,
           0.1767270863056183,
           0.1457829773426056,
           0.08315843343734741,
           0.04925237223505974,
           0.08043612539768219,
           0.12073933333158493,
           0.18697066605091095,
           0.21840347349643707,
           0.18745934963226318,
           0.1248348280787468,
           0.09092876315116882,
           0.07588312029838562,
           0.11618632823228836,
           0.18241766095161438,
           0.2138504832983017,
           0.1829063445329666,
           0.12028182297945023,
           0.08637575805187225,
           0.0459994375705719,
           0.08630263805389404,
           0.15253396332263947,
           0.18396678566932678,
           0.1530226767063141,
           0.09039813280105591,
           0.056492071598768234,
           0.028165405616164207,
           0.0684686005115509,
           0.13469994068145752,
           0.16613276302814484,
           0.13518863916397095,
           0.07256409525871277,
           0.03865804523229599,
           0.04123378545045853,
           0.08153697848320007,
           0.1477683037519455,
           0.179201140999794,
           0.14825701713562012,
           0.08563248068094254,
           0.05172641947865486
          ],
          [
           -0.1334812194108963,
           0.3504810929298401,
           0.06417582184076309,
           -0.45001769065856934,
           0.09524892270565033,
           0.2346305251121521,
           -0.030197646468877792,
           0.31020838022232056,
           0.31682297587394714,
           0.14996442198753357,
           -0.030789392068982124,
           -0.46506810188293457,
           -0.09662782400846481,
           0.06575557589530945,
           -0.1670045405626297,
           0.1440211832523346,
           0.25334352254867554,
           -0.13636711239814758,
           -0.3209759593009949,
           -0.03306102007627487,
           1,
           0.9678229093551636,
           0.8980172872543335,
           0.846443772315979,
           0.8474798202514648,
           0.8835650086402893,
           0.9027977585792542,
           0.9678229093551636,
           0.9356458187103271,
           0.8658402562141418,
           0.8142666816711426,
           0.8153026700019836,
           0.8513879179954529,
           0.870620608329773,
           0.8980172872543335,
           0.8658401966094971,
           0.796034574508667,
           0.744461178779602,
           0.7454971075057983,
           0.7815823554992676,
           0.8008149862289429,
           0.8464438319206238,
           0.8142668008804321,
           0.7444611191749573,
           0.6928876638412476,
           0.6939236521720886,
           0.7300089001655579,
           0.7492415308952332,
           0.8474798202514648,
           0.8153027296066284,
           0.7454971075057983,
           0.6939235925674438,
           0.6949595808982849,
           0.7310448288917542,
           0.7502775192260742,
           0.8835649490356445,
           0.8513878583908081,
           0.7815822958946228,
           0.7300088405609131,
           0.7310447692871094,
           0.7671300768852234,
           0.7863627076148987,
           0.9027977585792542,
           0.8706207275390625,
           0.8008150458335876,
           0.7492415904998779,
           0.750277578830719,
           0.7863628268241882,
           0.8055954575538635
          ],
          [
           -0.19872435927391052,
           0.2811405658721924,
           0.06044275686144829,
           -0.42499619722366333,
           0.08616161346435547,
           0.24287711083889008,
           -0.051207251846790314,
           0.29780930280685425,
           0.27196618914604187,
           0.18013255298137665,
           -0.00596543587744236,
           -0.4281501770019531,
           -0.13646739721298218,
           0.08026406913995743,
           -0.1718837320804596,
           0.12473112344741821,
           0.2940416634082794,
           -0.08438912779092789,
           -0.34752780199050903,
           0.007242175750434399,
           0.9678229093551636,
           1,
           0.9678228497505188,
           0.8980172276496887,
           0.846443772315979,
           0.8474797606468201,
           0.8835650682449341,
           0.9356458187103271,
           0.9678228497505188,
           0.9356457591056824,
           0.8658400774002075,
           0.8142666220664978,
           0.8153026103973389,
           0.8513879179954529,
           0.8658401966094971,
           0.8980172872543335,
           0.8658401370048523,
           0.7960346341133118,
           0.7444610595703125,
           0.7454971075057983,
           0.7815823554992676,
           0.8142668008804321,
           0.8464438319206238,
           0.8142666816711426,
           0.7444610595703125,
           0.6928876042366028,
           0.6939236521720886,
           0.7300089001655579,
           0.8153027296066284,
           0.8474798202514648,
           0.8153026700019836,
           0.7454969882965088,
           0.6939235925674438,
           0.6949595808982849,
           0.7310448288917542,
           0.8513878583908081,
           0.8835649490356445,
           0.8513878583908081,
           0.781582236289978,
           0.7300087809562683,
           0.7310447692871094,
           0.7671300172805786,
           0.8706207275390625,
           0.9027977585792542,
           0.870620608329773,
           0.8008150458335876,
           0.7492415308952332,
           0.7502775192260742,
           0.7863628268241882
          ],
          [
           -0.2338959276676178,
           0.2585960626602173,
           0.02824477292597294,
           -0.4175111651420593,
           0.08867987990379333,
           0.22473935782909393,
           -0.039928507059812546,
           0.28350695967674255,
           0.2563440501689911,
           0.15742932260036469,
           -0.005495243240147829,
           -0.41111746430397034,
           -0.14029234647750854,
           0.16366976499557495,
           -0.21464580297470093,
           0.07317002862691879,
           0.304863303899765,
           -0.05444565787911415,
           -0.3276507556438446,
           0.07347352057695389,
           0.8980172872543335,
           0.9678228497505188,
           1,
           0.9678229689598083,
           0.8980174660682678,
           0.8464438319206238,
           0.8474797606468201,
           0.8658401966094971,
           0.9356457591056824,
           0.9678229689598083,
           0.9356458783149719,
           0.8658402562141418,
           0.8142667412757874,
           0.8153026700019836,
           0.796034574508667,
           0.8658401370048523,
           0.8980172872543335,
           0.8658401966094971,
           0.796034574508667,
           0.7444611191749573,
           0.7454971075057983,
           0.7444611191749573,
           0.8142666816711426,
           0.8464438319206238,
           0.8142667412757874,
           0.7444611191749573,
           0.6928876638412476,
           0.6939236521720886,
           0.7454971075057983,
           0.8153026700019836,
           0.8474797606468201,
           0.8153026700019836,
           0.7454970479011536,
           0.6939236521720886,
           0.6949595808982849,
           0.7815822958946228,
           0.8513878583908081,
           0.8835649490356445,
           0.8513878583908081,
           0.7815822958946228,
           0.7300088405609131,
           0.7310447692871094,
           0.8008150458335876,
           0.870620608329773,
           0.9027977585792542,
           0.8706206679344177,
           0.8008150458335876,
           0.7492415904998779,
           0.7502775192260742
          ],
          [
           -0.20811322331428528,
           0.30408185720443726,
           -0.00014857991482131183,
           -0.4262474775314331,
           0.09680693596601486,
           0.18466763198375702,
           0.0009908188367262483,
           0.2892213463783264,
           0.28979283571243286,
           0.1120314672589302,
           -0.04321867227554321,
           -0.4286324679851532,
           -0.09809666126966476,
           0.2370564192533493,
           -0.26108768582344055,
           0.030715899541974068,
           0.2969343066215515,
           -0.0710267573595047,
           -0.2866237759590149,
           0.1049063578248024,
           0.846443772315979,
           0.8980172276496887,
           0.9678229689598083,
           1,
           0.9678229689598083,
           0.8980172872543335,
           0.8464438319206238,
           0.8142666816711426,
           0.8658400774002075,
           0.9356458783149719,
           0.9678228497505188,
           0.9356458187103271,
           0.8658401966094971,
           0.8142667412757874,
           0.7444610595703125,
           0.796034574508667,
           0.8658401966094971,
           0.8980172872543335,
           0.8658402562141418,
           0.7960345149040222,
           0.7444611191749573,
           0.6928876638412476,
           0.7444610595703125,
           0.8142667412757874,
           0.8464438319206238,
           0.8142668008804321,
           0.7444611191749573,
           0.6928876638412476,
           0.6939235925674438,
           0.7454969882965088,
           0.8153026700019836,
           0.8474798202514648,
           0.8153027296066284,
           0.7454970479011536,
           0.6939235925674438,
           0.7300088405609131,
           0.781582236289978,
           0.8513878583908081,
           0.8835649490356445,
           0.8513879179954529,
           0.781582236289978,
           0.7300087809562683,
           0.7492415904998779,
           0.8008150458335876,
           0.8706206679344177,
           0.9027977585792542,
           0.8706207275390625,
           0.8008149862289429,
           0.7492415904998779
          ],
          [
           -0.15163728594779968,
           0.3770888149738312,
           0.004912471864372492,
           -0.43281829357147217,
           0.10617158561944962,
           0.15065309405326843,
           0.048807866871356964,
           0.3194015324115753,
           0.3505140542984009,
           0.0867033302783966,
           -0.10062988847494125,
           -0.45702508091926575,
           -0.03448466956615448,
           0.22795256972312927,
           -0.26933470368385315,
           0.02608301490545273,
           0.2967771887779236,
           -0.11517602950334549,
           -0.26589691638946533,
           0.07396221160888672,
           0.8474798202514648,
           0.846443772315979,
           0.8980174660682678,
           0.9678229689598083,
           1,
           0.9678229093551636,
           0.8980172276496887,
           0.8153026700019836,
           0.8142666220664978,
           0.8658402562141418,
           0.9356458187103271,
           0.9678228497505188,
           0.9356457591056824,
           0.8658401370048523,
           0.7454971075057983,
           0.7444610595703125,
           0.796034574508667,
           0.8658402562141418,
           0.8980172872543335,
           0.8658402562141418,
           0.796034574508667,
           0.6939236521720886,
           0.6928876042366028,
           0.7444611191749573,
           0.8142668008804321,
           0.8464438319206238,
           0.8142668008804321,
           0.7444611191749573,
           0.6949595808982849,
           0.6939235925674438,
           0.7454970479011536,
           0.8153027296066284,
           0.8474797606468201,
           0.8153027296066284,
           0.7454971075057983,
           0.7310447692871094,
           0.7300087809562683,
           0.7815822958946228,
           0.8513879179954529,
           0.8835650086402893,
           0.8513879179954529,
           0.7815822958946228,
           0.750277578830719,
           0.7492415308952332,
           0.8008150458335876,
           0.8706207275390625,
           0.9027977585792542,
           0.8706207275390625,
           0.8008150458335876
          ],
          [
           -0.1277245730161667,
           0.41196510195732117,
           0.04205949977040291,
           -0.419864296913147,
           0.11754396557807922,
           0.14944376051425934,
           0.08096852898597717,
           0.3564733564853668,
           0.39418262243270874,
           0.0967186987400055,
           -0.1422184705734253,
           -0.45717817544937134,
           0.012415437027812004,
           0.13739457726478577,
           -0.22826403379440308,
           0.049624353647232056,
           0.3201698362827301,
           -0.1420811414718628,
           -0.28457459807395935,
           0.011337673291563988,
           0.8835650086402893,
           0.8474797606468201,
           0.8464438319206238,
           0.8980172872543335,
           0.9678229093551636,
           1,
           0.9678229689598083,
           0.8513879179954529,
           0.8153026103973389,
           0.8142667412757874,
           0.8658401966094971,
           0.9356457591056824,
           0.9678229093551636,
           0.9356458187103271,
           0.7815823554992676,
           0.7454971075057983,
           0.7444611191749573,
           0.796034574508667,
           0.8658402562141418,
           0.8980172872543335,
           0.8658402562141418,
           0.7300089001655579,
           0.6939236521720886,
           0.6928876638412476,
           0.7444611191749573,
           0.8142668008804321,
           0.8464438319206238,
           0.8142668008804321,
           0.7310448288917542,
           0.6949595808982849,
           0.6939236521720886,
           0.7454970479011536,
           0.8153027296066284,
           0.8474797606468201,
           0.8153027296066284,
           0.7671300768852234,
           0.7310447692871094,
           0.7300088405609131,
           0.781582236289978,
           0.8513879179954529,
           0.8835649490356445,
           0.8513879179954529,
           0.7863628268241882,
           0.7502775192260742,
           0.7492415904998779,
           0.8008149862289429,
           0.8706207275390625,
           0.9027977585792542,
           0.8706207275390625
          ],
          [
           -0.17365741729736328,
           0.3776090443134308,
           0.07909034937620163,
           -0.3882847726345062,
           0.1350458264350891,
           0.18248434364795685,
           0.09457635879516602,
           0.376415491104126,
           0.3935020864009857,
           0.11592084169387817,
           -0.14631403982639313,
           -0.4120936393737793,
           0.02385805733501911,
           0.03963477537035942,
           -0.16800974309444427,
           0.06319057941436768,
           0.35626327991485596,
           -0.12244760990142822,
           -0.3217369019985199,
           -0.022568389773368835,
           0.9027977585792542,
           0.8835650682449341,
           0.8474797606468201,
           0.8464438319206238,
           0.8980172276496887,
           0.9678229689598083,
           0.9999999403953552,
           0.870620608329773,
           0.8513879179954529,
           0.8153026700019836,
           0.8142667412757874,
           0.8658401370048523,
           0.9356458187103271,
           0.9678228497505188,
           0.8008149862289429,
           0.7815823554992676,
           0.7454971075057983,
           0.7444612383842468,
           0.796034574508667,
           0.8658402562141418,
           0.8980172872543335,
           0.7492415308952332,
           0.7300089001655579,
           0.6939236521720886,
           0.6928876638412476,
           0.7444611191749573,
           0.8142668008804321,
           0.8464438319206238,
           0.7502775192260742,
           0.7310448288917542,
           0.6949595808982849,
           0.6939235925674438,
           0.7454971075057983,
           0.8153027296066284,
           0.8474798202514648,
           0.7863627076148987,
           0.7671300172805786,
           0.7310447692871094,
           0.7300087809562683,
           0.7815822958946228,
           0.8513879179954529,
           0.8835649490356445,
           0.8055954575538635,
           0.7863628268241882,
           0.7502775192260742,
           0.7492415904998779,
           0.8008150458335876,
           0.8706207275390625,
           0.9027977585792542
          ],
          [
           -0.1690146028995514,
           0.3869169354438782,
           0.11165329068899155,
           -0.4371098279953003,
           0.12011638283729553,
           0.25141069293022156,
           -0.06570932269096375,
           0.3399728834629059,
           0.2208375781774521,
           0.11594963818788528,
           -0.020417170599102974,
           -0.44855132699012756,
           -0.1281852424144745,
           0.07987008988857269,
           -0.21962471306324005,
           0.11626096069812775,
           0.16343718767166138,
           -0.07524213194847107,
           -0.3217407464981079,
           0.0387597382068634,
           0.9678229093551636,
           0.9356458187103271,
           0.8658401966094971,
           0.8142666816711426,
           0.8153026700019836,
           0.8513879179954529,
           0.870620608329773,
           1,
           0.9678229093551636,
           0.8980172872543335,
           0.846443772315979,
           0.8474798202514648,
           0.8835650086402893,
           0.9027977585792542,
           0.9678229093551636,
           0.9356458187103271,
           0.8658401966094971,
           0.8142667412757874,
           0.8153027296066284,
           0.8513879776000977,
           0.8706206679344177,
           0.8980172872543335,
           0.8658401966094971,
           0.7960346341133118,
           0.744461178779602,
           0.7454971075057983,
           0.7815824151039124,
           0.8008150458335876,
           0.8464438319206238,
           0.8142668008804321,
           0.7444611191749573,
           0.6928876638412476,
           0.6939236521720886,
           0.7300089001655579,
           0.7492415308952332,
           0.8474798202514648,
           0.8153027296066284,
           0.7454971075057983,
           0.6939235925674438,
           0.6949595808982849,
           0.7310448288917542,
           0.7502775192260742,
           0.8835650086402893,
           0.8513879776000977,
           0.7815822958946228,
           0.7300088405609131,
           0.7310448288917542,
           0.7671300768852234,
           0.7863627076148987
          ],
          [
           -0.2342577576637268,
           0.3175763785839081,
           0.10792024433612823,
           -0.4120883047580719,
           0.11102905124425888,
           0.2596572935581207,
           -0.08671891689300537,
           0.32757383584976196,
           0.1759808212518692,
           0.14611771702766418,
           0.004406791180372238,
           -0.4116334021091461,
           -0.16802477836608887,
           0.09437856823205948,
           -0.22450388967990875,
           0.09697089344263077,
           0.20413532853126526,
           -0.023264141753315926,
           -0.34829258918762207,
           0.07906293123960495,
           0.9356458187103271,
           0.9678228497505188,
           0.9356457591056824,
           0.8658400774002075,
           0.8142666220664978,
           0.8153026103973389,
           0.8513879179954529,
           0.9678229093551636,
           1,
           0.9678228497505188,
           0.8980172276496887,
           0.846443772315979,
           0.8474797606468201,
           0.8835650682449341,
           0.9356458187103271,
           0.9678229093551636,
           0.9356457591056824,
           0.8658401966094971,
           0.8142666816711426,
           0.8153026700019836,
           0.8513879776000977,
           0.8658401966094971,
           0.8980172872543335,
           0.8658401966094971,
           0.796034574508667,
           0.7444611191749573,
           0.7454971075057983,
           0.7815823554992676,
           0.8142668008804321,
           0.8464438319206238,
           0.8142666816711426,
           0.7444610595703125,
           0.6928876042366028,
           0.6939236521720886,
           0.7300089001655579,
           0.8153027296066284,
           0.8474798202514648,
           0.8153026700019836,
           0.7454969882965088,
           0.6939235925674438,
           0.6949595808982849,
           0.7310448288917542,
           0.8513879776000977,
           0.8835650086402893,
           0.8513878583908081,
           0.7815822958946228,
           0.7300087809562683,
           0.7310448288917542,
           0.7671300768852234
          ],
          [
           -0.26942935585975647,
           0.29503190517425537,
           0.07572222501039505,
           -0.4046032726764679,
           0.11354735493659973,
           0.24151954054832458,
           -0.07544027268886566,
           0.3132714629173279,
           0.16035869717597961,
           0.1234145388007164,
           0.004876995459198952,
           -0.39460068941116333,
           -0.17184971272945404,
           0.17778432369232178,
           -0.26726600527763367,
           0.045409779995679855,
           0.21495698392391205,
           0.006679327227175236,
           -0.32841554284095764,
           0.14529426395893097,
           0.8658402562141418,
           0.9356457591056824,
           0.9678229689598083,
           0.9356458783149719,
           0.8658402562141418,
           0.8142667412757874,
           0.8153026700019836,
           0.8980172872543335,
           0.9678228497505188,
           1.0000001192092896,
           0.9678229689598083,
           0.8980174660682678,
           0.8464438319206238,
           0.8474797606468201,
           0.8658402562141418,
           0.9356458187103271,
           0.9678229689598083,
           0.9356459379196167,
           0.8658403158187866,
           0.8142668008804321,
           0.8153027296066284,
           0.7960346341133118,
           0.8658401966094971,
           0.8980173468589783,
           0.8658401966094971,
           0.7960346341133118,
           0.744461178779602,
           0.7454971671104431,
           0.744461178779602,
           0.8142667412757874,
           0.8464438915252686,
           0.8142667412757874,
           0.7444611191749573,
           0.6928876638412476,
           0.6939236521720886,
           0.7454971671104431,
           0.8153027296066284,
           0.8474798798561096,
           0.8153027296066284,
           0.7454971075057983,
           0.6939236521720886,
           0.6949596405029297,
           0.7815823554992676,
           0.8513879179954529,
           0.8835650086402893,
           0.8513879179954529,
           0.7815823554992676,
           0.7300088405609131,
           0.7310448288917542
          ],
          [
           -0.24364660680294037,
           0.34051769971847534,
           0.047328874468803406,
           -0.41333964467048645,
           0.12167436629533768,
           0.20144779980182648,
           -0.034520894289016724,
           0.31898581981658936,
           0.1938074678182602,
           0.07801666855812073,
           -0.03284643590450287,
           -0.4121156930923462,
           -0.12965406477451324,
           0.25117090344429016,
           -0.3137078285217285,
           0.0029556748922914267,
           0.20702797174453735,
           -0.009901775978505611,
           -0.28738856315612793,
           0.1767270863056183,
           0.8142666816711426,
           0.8658400774002075,
           0.9356458783149719,
           0.9678228497505188,
           0.9356458187103271,
           0.8658401966094971,
           0.8142667412757874,
           0.846443772315979,
           0.8980172276496887,
           0.9678229689598083,
           1,
           0.9678229689598083,
           0.8980172872543335,
           0.8464438319206238,
           0.8142666816711426,
           0.8658401370048523,
           0.9356458783149719,
           0.9678229093551636,
           0.9356458783149719,
           0.8658401966094971,
           0.8142667412757874,
           0.744461178779602,
           0.796034574508667,
           0.8658401966094971,
           0.8980172872543335,
           0.8658402562141418,
           0.796034574508667,
           0.7444611191749573,
           0.6928876638412476,
           0.7444610595703125,
           0.8142667412757874,
           0.8464438319206238,
           0.8142668008804321,
           0.7444611191749573,
           0.6928876638412476,
           0.6939235925674438,
           0.7454969882965088,
           0.8153026700019836,
           0.8474798202514648,
           0.8153027296066284,
           0.7454970479011536,
           0.6939235925674438,
           0.7300088405609131,
           0.7815822958946228,
           0.8513879179954529,
           0.8835650086402893,
           0.8513879776000977,
           0.781582236289978,
           0.7300088405609131
          ],
          [
           -0.18717066943645477,
           0.4135246276855469,
           0.052389927208423615,
           -0.4199104607105255,
           0.13103903830051422,
           0.1674332469701767,
           0.01329618040472269,
           0.34916603565216064,
           0.25452864170074463,
           0.05268852040171623,
           -0.09025764465332031,
           -0.44050830602645874,
           -0.06604205816984177,
           0.2420670986175537,
           -0.3219549059867859,
           -0.0016771969385445118,
           0.20687085390090942,
           -0.054051052778959274,
           -0.26666170358657837,
           0.1457829773426056,
           0.8153026700019836,
           0.8142666220664978,
           0.8658402562141418,
           0.9356458187103271,
           0.9678228497505188,
           0.9356457591056824,
           0.8658401370048523,
           0.8474798202514648,
           0.846443772315979,
           0.8980174660682678,
           0.9678229689598083,
           1,
           0.9678229093551636,
           0.8980172276496887,
           0.8153027296066284,
           0.8142666816711426,
           0.8658402562141418,
           0.9356458783149719,
           0.9678229093551636,
           0.9356458187103271,
           0.8658401966094971,
           0.7454971075057983,
           0.7444611191749573,
           0.7960346341133118,
           0.8658402562141418,
           0.8980173468589783,
           0.8658402562141418,
           0.7960346341133118,
           0.6939236521720886,
           0.6928876042366028,
           0.7444611191749573,
           0.8142668008804321,
           0.8464438319206238,
           0.8142668008804321,
           0.7444611191749573,
           0.6949595808982849,
           0.6939235925674438,
           0.7454970479011536,
           0.8153027296066284,
           0.8474797606468201,
           0.8153027296066284,
           0.7454971075057983,
           0.7310448288917542,
           0.7300087809562683,
           0.7815822958946228,
           0.8513879776000977,
           0.8835650086402893,
           0.8513879776000977,
           0.7815822958946228
          ],
          [
           -0.16325797140598297,
           0.44840091466903687,
           0.08953695744276047,
           -0.4069564640522003,
           0.14241142570972443,
           0.1662239134311676,
           0.04545684903860092,
           0.38623785972595215,
           0.2981972098350525,
           0.06270387768745422,
           -0.13184624910354614,
           -0.44066140055656433,
           -0.01914193667471409,
           0.151509091258049,
           -0.2808842062950134,
           0.02186412364244461,
           0.23026347160339355,
           -0.08095618337392807,
           -0.2853393852710724,
           0.08315843343734741,
           0.8513879179954529,
           0.8153026103973389,
           0.8142667412757874,
           0.8658401966094971,
           0.9356457591056824,
           0.9678229093551636,
           0.9356458187103271,
           0.8835650086402893,
           0.8474797606468201,
           0.8464438319206238,
           0.8980172872543335,
           0.9678229093551636,
           1,
           0.9678229689598083,
           0.8513879776000977,
           0.8153026700019836,
           0.8142667412757874,
           0.8658402562141418,
           0.9356458187103271,
           0.9678229093551636,
           0.9356458783149719,
           0.7815824151039124,
           0.7454971075057983,
           0.744461178779602,
           0.796034574508667,
           0.8658402562141418,
           0.8980172872543335,
           0.8658402562141418,
           0.7300089001655579,
           0.6939236521720886,
           0.6928876638412476,
           0.7444611191749573,
           0.8142668008804321,
           0.8464438319206238,
           0.8142668008804321,
           0.7310448288917542,
           0.6949595808982849,
           0.6939236521720886,
           0.7454970479011536,
           0.8153027296066284,
           0.8474797606468201,
           0.8153027296066284,
           0.7671300768852234,
           0.7310448288917542,
           0.7300088405609131,
           0.781582236289978,
           0.8513879776000977,
           0.8835650086402893,
           0.8513879776000977
          ],
          [
           -0.20919081568717957,
           0.41404488682746887,
           0.12656782567501068,
           -0.3753769099712372,
           0.15991327166557312,
           0.1992644965648651,
           0.05906466022133827,
           0.4061800241470337,
           0.297516793012619,
           0.08190601319074631,
           -0.13594181835651398,
           -0.3955768644809723,
           -0.007699323818087578,
           0.053749289363622665,
           -0.22062990069389343,
           0.03543036803603172,
           0.2663569748401642,
           -0.06132262200117111,
           -0.32250168919563293,
           0.04925237223505974,
           0.870620608329773,
           0.8513879179954529,
           0.8153026700019836,
           0.8142667412757874,
           0.8658401370048523,
           0.9356458187103271,
           0.9678228497505188,
           0.9027977585792542,
           0.8835650682449341,
           0.8474797606468201,
           0.8464438319206238,
           0.8980172276496887,
           0.9678229689598083,
           0.9999999403953552,
           0.8706206679344177,
           0.8513879776000977,
           0.8153026700019836,
           0.8142668604850769,
           0.8658401966094971,
           0.9356458783149719,
           0.9678229093551636,
           0.8008150458335876,
           0.7815823554992676,
           0.7454971075057983,
           0.7444611191749573,
           0.7960346341133118,
           0.8658402562141418,
           0.8980172872543335,
           0.7492415308952332,
           0.7300089001655579,
           0.6939236521720886,
           0.6928876638412476,
           0.7444611191749573,
           0.8142668008804321,
           0.8464438319206238,
           0.7502775192260742,
           0.7310448288917542,
           0.6949595808982849,
           0.6939235925674438,
           0.7454971075057983,
           0.8153027296066284,
           0.8474798202514648,
           0.7863627076148987,
           0.7671300768852234,
           0.7310448288917542,
           0.7300088405609131,
           0.7815822958946228,
           0.8513879776000977,
           0.8835650086402893
          ],
          [
           -0.11634519696235657,
           0.38135474920272827,
           0.11944260448217392,
           -0.40673887729644775,
           0.11089348793029785,
           0.21507948637008667,
           -0.05421167239546776,
           0.37780511379241943,
           0.1349785178899765,
           0.11736408621072769,
           -0.00925295241177082,
           -0.39466312527656555,
           -0.10168340057134628,
           0.07727484405040741,
           -0.17523474991321564,
           0.16208095848560333,
           0.10680874437093735,
           0.040473658591508865,
           -0.31341981887817383,
           0.08043612539768219,
           0.8980172872543335,
           0.8658401966094971,
           0.796034574508667,
           0.7444610595703125,
           0.7454971075057983,
           0.7815823554992676,
           0.8008149862289429,
           0.9678229093551636,
           0.9356458187103271,
           0.8658402562141418,
           0.8142666816711426,
           0.8153027296066284,
           0.8513879776000977,
           0.8706206679344177,
           1,
           0.9678229093551636,
           0.8980172872543335,
           0.8464438319206238,
           0.8474798202514648,
           0.8835650086402893,
           0.9027977585792542,
           0.9678229093551636,
           0.9356458187103271,
           0.8658401966094971,
           0.8142666816711426,
           0.8153027296066284,
           0.8513879776000977,
           0.8706206679344177,
           0.8980172872543335,
           0.8658401966094971,
           0.7960346341133118,
           0.744461178779602,
           0.7454971075057983,
           0.7815824151039124,
           0.8008150458335876,
           0.8464438319206238,
           0.8142668008804321,
           0.7444611191749573,
           0.6928876638412476,
           0.6939236521720886,
           0.7300089001655579,
           0.7492415308952332,
           0.8474798202514648,
           0.8153027296066284,
           0.7454971075057983,
           0.6939235925674438,
           0.6949596405029297,
           0.7310448884963989,
           0.7502775192260742
          ],
          [
           -0.1815883368253708,
           0.31201422214508057,
           0.11570955067873001,
           -0.38171735405921936,
           0.10180618613958359,
           0.22332607209682465,
           -0.07522127777338028,
           0.3654060661792755,
           0.09012172371149063,
           0.1475321650505066,
           0.015570994466543198,
           -0.3577452003955841,
           -0.14152295887470245,
           0.0917833223938942,
           -0.18011391162872314,
           0.14279091358184814,
           0.14750689268112183,
           0.09245163947343826,
           -0.339971661567688,
           0.12073933333158493,
           0.8658401966094971,
           0.8980172872543335,
           0.8658401370048523,
           0.796034574508667,
           0.7444610595703125,
           0.7454971075057983,
           0.7815823554992676,
           0.9356458187103271,
           0.9678229093551636,
           0.9356458187103271,
           0.8658401370048523,
           0.8142666816711426,
           0.8153026700019836,
           0.8513879776000977,
           0.9678229093551636,
           1,
           0.9678228497505188,
           0.8980172872543335,
           0.846443772315979,
           0.8474797606468201,
           0.8835650682449341,
           0.9356458187103271,
           0.9678229093551636,
           0.9356457591056824,
           0.8658401370048523,
           0.8142666816711426,
           0.8153026700019836,
           0.8513879776000977,
           0.8658401966094971,
           0.8980172872543335,
           0.8658401966094971,
           0.796034574508667,
           0.7444611191749573,
           0.7454971075057983,
           0.7815823554992676,
           0.8142668008804321,
           0.8464438319206238,
           0.8142666816711426,
           0.7444610595703125,
           0.6928876042366028,
           0.6939236521720886,
           0.7300089001655579,
           0.8153027296066284,
           0.8474798202514648,
           0.8153026700019836,
           0.7454970479011536,
           0.6939235925674438,
           0.6949596405029297,
           0.7310448884963989
          ],
          [
           -0.21675989031791687,
           0.28946971893310547,
           0.08351155370473862,
           -0.37423232197761536,
           0.10432444512844086,
           0.2051883339881897,
           -0.06394254416227341,
           0.35110369324684143,
           0.07449962198734283,
           0.12482897192239761,
           0.01604120060801506,
           -0.3407124876976013,
           -0.14534792304039001,
           0.1751890480518341,
           -0.22287598252296448,
           0.09122981876134872,
           0.15832854807376862,
           0.1223951205611229,
           -0.32009458541870117,
           0.18697066605091095,
           0.796034574508667,
           0.8658401370048523,
           0.8980172872543335,
           0.8658401966094971,
           0.796034574508667,
           0.7444611191749573,
           0.7454971075057983,
           0.8658401966094971,
           0.9356457591056824,
           0.9678229689598083,
           0.9356458783149719,
           0.8658402562141418,
           0.8142667412757874,
           0.8153026700019836,
           0.8980172872543335,
           0.9678228497505188,
           1,
           0.9678229689598083,
           0.8980174660682678,
           0.8464438319206238,
           0.8474797606468201,
           0.8658401966094971,
           0.9356457591056824,
           0.9678229093551636,
           0.9356458783149719,
           0.8658402562141418,
           0.8142667412757874,
           0.8153026700019836,
           0.7960346341133118,
           0.8658401966094971,
           0.8980172872543335,
           0.8658401966094971,
           0.7960346341133118,
           0.744461178779602,
           0.7454971075057983,
           0.7444611191749573,
           0.8142666816711426,
           0.8464438319206238,
           0.8142667412757874,
           0.7444611191749573,
           0.6928876638412476,
           0.6939236521720886,
           0.7454971075057983,
           0.8153026700019836,
           0.8474798202514648,
           0.8153027296066284,
           0.7454971075057983,
           0.6939236521720886,
           0.6949596405029297
          ],
          [
           -0.19097724556922913,
           0.33495551347732544,
           0.05511821061372757,
           -0.3829687237739563,
           0.11245150119066238,
           0.16511660814285278,
           -0.023023201152682304,
           0.3568181097507477,
           0.1079484075307846,
           0.07943114638328552,
           -0.021682243794202805,
           -0.35822755098342896,
           -0.10315224528312683,
           0.24857565760612488,
           -0.2693178653717041,
           0.04877568408846855,
           0.15039955079555511,
           0.10581400245428085,
           -0.27906763553619385,
           0.21840347349643707,
           0.744461178779602,
           0.7960346341133118,
           0.8658401966094971,
           0.8980172872543335,
           0.8658402562141418,
           0.796034574508667,
           0.7444612383842468,
           0.8142667412757874,
           0.8658401966094971,
           0.9356459379196167,
           0.9678229093551636,
           0.9356458783149719,
           0.8658402562141418,
           0.8142668604850769,
           0.8464438319206238,
           0.8980172872543335,
           0.9678229689598083,
           1.0000001192092896,
           0.9678229689598083,
           0.8980172872543335,
           0.8464438915252686,
           0.8142667412757874,
           0.8658401966094971,
           0.9356459379196167,
           0.9678229093551636,
           0.9356458783149719,
           0.8658402562141418,
           0.8142668604850769,
           0.744461178779602,
           0.7960346341133118,
           0.8658401966094971,
           0.8980172872543335,
           0.8658402562141418,
           0.796034574508667,
           0.7444612383842468,
           0.6928876638412476,
           0.7444611191749573,
           0.8142667412757874,
           0.8464438915252686,
           0.8142668008804321,
           0.7444611191749573,
           0.6928877234458923,
           0.6939237117767334,
           0.7454971075057983,
           0.8153027296066284,
           0.8474798798561096,
           0.8153027892112732,
           0.7454971075057983,
           0.6939237713813782
          ],
          [
           -0.13450126349925995,
           0.407962441444397,
           0.06017926335334778,
           -0.38953953981399536,
           0.12181615829467773,
           0.131102055311203,
           0.024793842807412148,
           0.3869982659816742,
           0.16866958141326904,
           0.05410296842455864,
           -0.07909344136714935,
           -0.38662010431289673,
           -0.03954024612903595,
           0.23947185277938843,
           -0.2775649130344391,
           0.04414280503988266,
           0.150242418050766,
           0.061664726585149765,
           -0.2583407461643219,
           0.18745934963226318,
           0.7454971075057983,
           0.7444610595703125,
           0.796034574508667,
           0.8658402562141418,
           0.8980172872543335,
           0.8658402562141418,
           0.796034574508667,
           0.8153027296066284,
           0.8142666816711426,
           0.8658403158187866,
           0.9356458783149719,
           0.9678229093551636,
           0.9356458187103271,
           0.8658401966094971,
           0.8474798202514648,
           0.846443772315979,
           0.8980174660682678,
           0.9678229689598083,
           1,
           0.9678229093551636,
           0.8980172276496887,
           0.8153027296066284,
           0.8142666816711426,
           0.8658402562141418,
           0.9356458783149719,
           0.9678229093551636,
           0.9356458187103271,
           0.8658401966094971,
           0.7454971075057983,
           0.7444611191749573,
           0.7960346341133118,
           0.8658402562141418,
           0.8980173468589783,
           0.8658402562141418,
           0.7960346341133118,
           0.6939236521720886,
           0.6928876042366028,
           0.7444611191749573,
           0.8142668008804321,
           0.8464438319206238,
           0.8142668008804321,
           0.7444611191749573,
           0.6949596405029297,
           0.6939235925674438,
           0.7454971075057983,
           0.8153027892112732,
           0.8474798202514648,
           0.8153027892112732,
           0.7454971075057983
          ],
          [
           -0.11058855056762695,
           0.44283872842788696,
           0.09732627868652344,
           -0.3765854835510254,
           0.13318853080272675,
           0.1298927217721939,
           0.056954506784677505,
           0.4240700900554657,
           0.2123381644487381,
           0.06411834061145782,
           -0.12068204581737518,
           -0.3867731988430023,
           0.007359882351011038,
           0.14891384541988373,
           -0.23649421334266663,
           0.0676841288805008,
           0.17363505065441132,
           0.03475961089134216,
           -0.2770184874534607,
           0.1248348280787468,
           0.7815823554992676,
           0.7454971075057983,
           0.7444611191749573,
           0.7960345149040222,
           0.8658402562141418,
           0.8980172872543335,
           0.8658402562141418,
           0.8513879776000977,
           0.8153026700019836,
           0.8142668008804321,
           0.8658401966094971,
           0.9356458187103271,
           0.9678229093551636,
           0.9356458783149719,
           0.8835650086402893,
           0.8474797606468201,
           0.8464438319206238,
           0.8980172872543335,
           0.9678229093551636,
           1,
           0.9678229689598083,
           0.8513879776000977,
           0.8153026700019836,
           0.8142667412757874,
           0.8658401966094971,
           0.9356458187103271,
           0.9678229093551636,
           0.9356458783149719,
           0.7815824151039124,
           0.7454971075057983,
           0.744461178779602,
           0.796034574508667,
           0.8658402562141418,
           0.8980172872543335,
           0.8658402562141418,
           0.7300089001655579,
           0.6939236521720886,
           0.6928876638412476,
           0.7444611191749573,
           0.8142668008804321,
           0.8464438319206238,
           0.8142668008804321,
           0.7310448884963989,
           0.6949596405029297,
           0.6939236521720886,
           0.7454971075057983,
           0.8153027892112732,
           0.8474798202514648,
           0.8153027892112732
          ],
          [
           -0.15652142465114594,
           0.40848270058631897,
           0.13435713946819305,
           -0.34500595927238464,
           0.15069039165973663,
           0.16293330490589142,
           0.07056232541799545,
           0.44401222467422485,
           0.21165770292282104,
           0.08332046121358871,
           -0.12477760016918182,
           -0.34168869256973267,
           0.01880248822271824,
           0.05115405097603798,
           -0.17623993754386902,
           0.0812503769993782,
           0.20972853899002075,
           0.05439315736293793,
           -0.31418073177337646,
           0.09092876315116882,
           0.8008149862289429,
           0.7815823554992676,
           0.7454971075057983,
           0.7444611191749573,
           0.796034574508667,
           0.8658402562141418,
           0.8980172872543335,
           0.8706206679344177,
           0.8513879776000977,
           0.8153027296066284,
           0.8142667412757874,
           0.8658401966094971,
           0.9356458783149719,
           0.9678229093551636,
           0.9027977585792542,
           0.8835650682449341,
           0.8474797606468201,
           0.8464438915252686,
           0.8980172276496887,
           0.9678229689598083,
           0.9999999403953552,
           0.8706206679344177,
           0.8513879776000977,
           0.8153026700019836,
           0.8142667412757874,
           0.8658401966094971,
           0.9356458783149719,
           0.9678229093551636,
           0.8008150458335876,
           0.7815823554992676,
           0.7454971075057983,
           0.7444611191749573,
           0.7960346341133118,
           0.8658402562141418,
           0.8980172872543335,
           0.7492415308952332,
           0.7300089001655579,
           0.6939236521720886,
           0.6928876638412476,
           0.7444611191749573,
           0.8142668008804321,
           0.8464438319206238,
           0.7502775192260742,
           0.7310448884963989,
           0.6949596405029297,
           0.6939236521720886,
           0.7454971075057983,
           0.8153027892112732,
           0.8474798202514648
          ],
          [
           -0.032240234315395355,
           0.3437761962413788,
           0.10072838515043259,
           -0.41112184524536133,
           0.08397310972213745,
           0.15946486592292786,
           0.005246374756097794,
           0.3948334753513336,
           0.13044524192810059,
           0.11727065593004227,
           -0.018297092989087105,
           -0.358110249042511,
           -0.05641355738043785,
           0.06330674886703491,
           -0.07048781216144562,
           0.21938608586788177,
           0.12288279831409454,
           0.10907801985740662,
           -0.30770599842071533,
           0.07588312029838562,
           0.8464438319206238,
           0.8142668008804321,
           0.7444611191749573,
           0.6928876638412476,
           0.6939236521720886,
           0.7300089001655579,
           0.7492415308952332,
           0.8980172872543335,
           0.8658401966094971,
           0.7960346341133118,
           0.744461178779602,
           0.7454971075057983,
           0.7815824151039124,
           0.8008150458335876,
           0.9678229093551636,
           0.9356458187103271,
           0.8658401966094971,
           0.8142667412757874,
           0.8153027296066284,
           0.8513879776000977,
           0.8706206679344177,
           1,
           0.9678229093551636,
           0.8980172872543335,
           0.846443772315979,
           0.8474798202514648,
           0.8835650086402893,
           0.9027977585792542,
           0.9678229093551636,
           0.9356458187103271,
           0.8658401966094971,
           0.8142666816711426,
           0.8153027296066284,
           0.8513879776000977,
           0.8706206679344177,
           0.8980172872543335,
           0.8658401966094971,
           0.796034574508667,
           0.7444610595703125,
           0.7454970479011536,
           0.7815823554992676,
           0.8008149862289429,
           0.846443772315979,
           0.8142666816711426,
           0.7444611191749573,
           0.6928876638412476,
           0.6939235925674438,
           0.7300088405609131,
           0.7492415308952332
          ],
          [
           -0.09748338162899017,
           0.2744356691837311,
           0.09699533134698868,
           -0.38610032200813293,
           0.074885793030262,
           0.16771145164966583,
           -0.01576322130858898,
           0.3824344277381897,
           0.08558844774961472,
           0.14743873476982117,
           0.0065268538892269135,
           -0.32119232416152954,
           -0.09625308215618134,
           0.07781524956226349,
           -0.07536701112985611,
           0.2000960409641266,
           0.16358093917369843,
           0.16105599701404572,
           -0.3342578113079071,
           0.11618632823228836,
           0.8142668008804321,
           0.8464438319206238,
           0.8142666816711426,
           0.7444610595703125,
           0.6928876042366028,
           0.6939236521720886,
           0.7300089001655579,
           0.8658401966094971,
           0.8980172872543335,
           0.8658401966094971,
           0.796034574508667,
           0.7444611191749573,
           0.7454971075057983,
           0.7815823554992676,
           0.9356458187103271,
           0.9678229093551636,
           0.9356457591056824,
           0.8658401966094971,
           0.8142666816711426,
           0.8153026700019836,
           0.8513879776000977,
           0.9678229093551636,
           1,
           0.9678228497505188,
           0.8980172276496887,
           0.846443772315979,
           0.8474797606468201,
           0.8835650682449341,
           0.9356458187103271,
           0.9678229093551636,
           0.9356457591056824,
           0.8658401370048523,
           0.8142666816711426,
           0.8153026700019836,
           0.8513879776000977,
           0.8658401966094971,
           0.8980172276496887,
           0.8658401370048523,
           0.7960345149040222,
           0.7444610595703125,
           0.7454970479011536,
           0.7815822958946228,
           0.8142666816711426,
           0.8464438319206238,
           0.8142666816711426,
           0.7444609999656677,
           0.6928876042366028,
           0.6939235925674438,
           0.7300088405609131
          ],
          [
           -0.13265496492385864,
           0.251891165971756,
           0.06479733437299728,
           -0.3786153197288513,
           0.07740406692028046,
           0.1495736986398697,
           -0.004484530072659254,
           0.3681320548057556,
           0.06996633857488632,
           0.12473554164171219,
           0.006997059565037489,
           -0.30415964126586914,
           -0.1000780537724495,
           0.1612209528684616,
           -0.11812908202409744,
           0.14853493869304657,
           0.17440259456634521,
           0.19099949300289154,
           -0.3143807649612427,
           0.18241766095161438,
           0.7444611191749573,
           0.8142666816711426,
           0.8464438319206238,
           0.8142667412757874,
           0.7444611191749573,
           0.6928876638412476,
           0.6939236521720886,
           0.7960346341133118,
           0.8658401966094971,
           0.8980173468589783,
           0.8658401966094971,
           0.7960346341133118,
           0.744461178779602,
           0.7454971075057983,
           0.8658401966094971,
           0.9356457591056824,
           0.9678229093551636,
           0.9356459379196167,
           0.8658402562141418,
           0.8142667412757874,
           0.8153026700019836,
           0.8980172872543335,
           0.9678228497505188,
           1,
           0.9678229689598083,
           0.8980174660682678,
           0.8464438319206238,
           0.8474797606468201,
           0.8658401966094971,
           0.9356457591056824,
           0.9678229093551636,
           0.9356458783149719,
           0.8658402562141418,
           0.8142667412757874,
           0.8153026700019836,
           0.796034574508667,
           0.8658401370048523,
           0.8980172276496887,
           0.8658401370048523,
           0.796034574508667,
           0.7444611191749573,
           0.7454970479011536,
           0.7444611191749573,
           0.8142666816711426,
           0.846443772315979,
           0.8142666816711426,
           0.7444610595703125,
           0.6928876638412476,
           0.6939235925674438
          ],
          [
           -0.10687221586704254,
           0.29737696051597595,
           0.03640397638082504,
           -0.3873516917228699,
           0.08553111553192139,
           0.10950197279453278,
           0.0364348404109478,
           0.3738464117050171,
           0.10341513156890869,
           0.07933768630027771,
           -0.030726371333003044,
           -0.3216746747493744,
           -0.05788237601518631,
           0.23460759222507477,
           -0.16457092761993408,
           0.10608083009719849,
           0.1664735972881317,
           0.1744183897972107,
           -0.27335378527641296,
           0.2138504832983017,
           0.6928876638412476,
           0.7444610595703125,
           0.8142667412757874,
           0.8464438319206238,
           0.8142668008804321,
           0.7444611191749573,
           0.6928876638412476,
           0.744461178779602,
           0.796034574508667,
           0.8658401966094971,
           0.8980172872543335,
           0.8658402562141418,
           0.796034574508667,
           0.7444611191749573,
           0.8142666816711426,
           0.8658401370048523,
           0.9356458783149719,
           0.9678229093551636,
           0.9356458783149719,
           0.8658401966094971,
           0.8142667412757874,
           0.846443772315979,
           0.8980172276496887,
           0.9678229689598083,
           1,
           0.9678229689598083,
           0.8980172872543335,
           0.8464438319206238,
           0.8142666816711426,
           0.8658401370048523,
           0.9356458783149719,
           0.9678229093551636,
           0.9356458783149719,
           0.8658401966094971,
           0.8142667412757874,
           0.7444610595703125,
           0.7960345149040222,
           0.8658401370048523,
           0.8980172276496887,
           0.8658401966094971,
           0.7960345149040222,
           0.7444610595703125,
           0.6928876638412476,
           0.7444609999656677,
           0.8142666816711426,
           0.8464438319206238,
           0.8142667412757874,
           0.7444610595703125,
           0.6928876042366028
          ],
          [
           -0.05039628967642784,
           0.3703838884830475,
           0.04146502912044525,
           -0.3939225375652313,
           0.09489576518535614,
           0.075487419962883,
           0.08425189554691315,
           0.404026597738266,
           0.16413630545139313,
           0.054009538143873215,
           -0.08813758194446564,
           -0.35006722807884216,
           0.005729609169065952,
           0.22550377249717712,
           -0.17281799018383026,
           0.1014479473233223,
           0.1663164645433426,
           0.13026908040046692,
           -0.2526269257068634,
           0.1829063445329666,
           0.6939236521720886,
           0.6928876042366028,
           0.7444611191749573,
           0.8142668008804321,
           0.8464438319206238,
           0.8142668008804321,
           0.7444611191749573,
           0.7454971075057983,
           0.7444611191749573,
           0.7960346341133118,
           0.8658402562141418,
           0.8980173468589783,
           0.8658402562141418,
           0.7960346341133118,
           0.8153027296066284,
           0.8142666816711426,
           0.8658402562141418,
           0.9356458783149719,
           0.9678229093551636,
           0.9356458187103271,
           0.8658401966094971,
           0.8474798202514648,
           0.846443772315979,
           0.8980174660682678,
           0.9678229689598083,
           1,
           0.9678229093551636,
           0.8980172276496887,
           0.8153027296066284,
           0.8142666816711426,
           0.8658402562141418,
           0.9356458783149719,
           0.9678229093551636,
           0.9356458187103271,
           0.8658401966094971,
           0.7454970479011536,
           0.7444610595703125,
           0.796034574508667,
           0.8658401966094971,
           0.8980172872543335,
           0.8658401966094971,
           0.796034574508667,
           0.6939235925674438,
           0.6928876042366028,
           0.7444610595703125,
           0.8142667412757874,
           0.846443772315979,
           0.8142667412757874,
           0.7444611191749573
          ],
          [
           -0.02648358792066574,
           0.40526020526885986,
           0.0786120668053627,
           -0.38096848130226135,
           0.10626814514398575,
           0.0742780938744545,
           0.11641257256269455,
           0.4410984516143799,
           0.20780488848686218,
           0.0640248954296112,
           -0.12972617149353027,
           -0.35022032260894775,
           0.052629727870225906,
           0.13494575023651123,
           -0.131747305393219,
           0.12498924881219864,
           0.18970908224582672,
           0.10336395353078842,
           -0.2713046669960022,
           0.12028182297945023,
           0.7300089001655579,
           0.6939236521720886,
           0.6928876638412476,
           0.7444611191749573,
           0.8142668008804321,
           0.8464438319206238,
           0.8142668008804321,
           0.7815824151039124,
           0.7454971075057983,
           0.744461178779602,
           0.796034574508667,
           0.8658402562141418,
           0.8980172872543335,
           0.8658402562141418,
           0.8513879776000977,
           0.8153026700019836,
           0.8142667412757874,
           0.8658402562141418,
           0.9356458187103271,
           0.9678229093551636,
           0.9356458783149719,
           0.8835650086402893,
           0.8474797606468201,
           0.8464438319206238,
           0.8980172872543335,
           0.9678229093551636,
           1,
           0.9678229689598083,
           0.8513879776000977,
           0.8153026700019836,
           0.8142667412757874,
           0.8658401966094971,
           0.9356458187103271,
           0.9678229093551636,
           0.9356458783149719,
           0.7815823554992676,
           0.7454970479011536,
           0.7444611191749573,
           0.7960345149040222,
           0.8658401966094971,
           0.8980172276496887,
           0.8658401966094971,
           0.7300088405609131,
           0.6939235925674438,
           0.6928876638412476,
           0.7444610595703125,
           0.8142667412757874,
           0.846443772315979,
           0.8142667412757874
          ],
          [
           -0.07241643965244293,
           0.3709041476249695,
           0.11564292758703232,
           -0.3493889272212982,
           0.12377000600099564,
           0.10731866955757141,
           0.1300203651189804,
           0.46104055643081665,
           0.20712442696094513,
           0.08322703093290329,
           -0.1338217407464981,
           -0.3051358163356781,
           0.06407234072685242,
           0.03718595579266548,
           -0.071492999792099,
           0.13855551183223724,
           0.22580260038375854,
           0.12299752235412598,
           -0.30846691131591797,
           0.08637575805187225,
           0.7492415308952332,
           0.7300089001655579,
           0.6939236521720886,
           0.6928876638412476,
           0.7444611191749573,
           0.8142668008804321,
           0.8464438319206238,
           0.8008150458335876,
           0.7815823554992676,
           0.7454971671104431,
           0.7444611191749573,
           0.7960346341133118,
           0.8658402562141418,
           0.8980172872543335,
           0.8706206679344177,
           0.8513879776000977,
           0.8153026700019836,
           0.8142668604850769,
           0.8658401966094971,
           0.9356458783149719,
           0.9678229093551636,
           0.9027977585792542,
           0.8835650682449341,
           0.8474797606468201,
           0.8464438319206238,
           0.8980172276496887,
           0.9678229689598083,
           0.9999999403953552,
           0.8706206679344177,
           0.8513879776000977,
           0.8153026700019836,
           0.8142667412757874,
           0.8658401966094971,
           0.9356458783149719,
           0.9678229093551636,
           0.8008149862289429,
           0.7815822958946228,
           0.7454970479011536,
           0.7444610595703125,
           0.796034574508667,
           0.8658401966094971,
           0.8980172276496887,
           0.7492415308952332,
           0.7300088405609131,
           0.6939235925674438,
           0.6928876042366028,
           0.7444611191749573,
           0.8142667412757874,
           0.8464438319206238
          ],
          [
           0.0017488524317741394,
           0.31016436219215393,
           0.08950028568506241,
           -0.46305525302886963,
           0.07218621671199799,
           0.13400107622146606,
           0.0743202269077301,
           0.3813581168651581,
           0.19985783100128174,
           0.08174428343772888,
           -0.05231890082359314,
           -0.3701324760913849,
           -0.047347839921712875,
           0.05187445878982544,
           0.001866668462753296,
           0.21907798945903778,
           0.18416449427604675,
           0.06991437077522278,
           -0.3111450672149658,
           0.0459994375705719,
           0.8474798202514648,
           0.8153027296066284,
           0.7454971075057983,
           0.6939235925674438,
           0.6949595808982849,
           0.7310448288917542,
           0.7502775192260742,
           0.8464438319206238,
           0.8142668008804321,
           0.744461178779602,
           0.6928876638412476,
           0.6939236521720886,
           0.7300089001655579,
           0.7492415308952332,
           0.8980172872543335,
           0.8658401966094971,
           0.7960346341133118,
           0.744461178779602,
           0.7454971075057983,
           0.7815824151039124,
           0.8008150458335876,
           0.9678229093551636,
           0.9356458187103271,
           0.8658401966094971,
           0.8142666816711426,
           0.8153027296066284,
           0.8513879776000977,
           0.8706206679344177,
           1,
           0.9678230285644531,
           0.8980173468589783,
           0.8464438915252686,
           0.8474798798561096,
           0.8835650682449341,
           0.9027977585792542,
           0.9678229093551636,
           0.9356458187103271,
           0.8658401966094971,
           0.8142666816711426,
           0.8153026700019836,
           0.8513879179954529,
           0.870620608329773,
           0.8980172872543335,
           0.8658401966094971,
           0.7960346341133118,
           0.744461178779602,
           0.7454971075057983,
           0.7815824151039124,
           0.8008150458335876
          ],
          [
           -0.06349430233240128,
           0.24082383513450623,
           0.0857672318816185,
           -0.43803372979164124,
           0.06309890747070312,
           0.14224767684936523,
           0.05331063270568848,
           0.36895906925201416,
           0.15500104427337646,
           0.11191239953041077,
           -0.027494946494698524,
           -0.33321455121040344,
           -0.08718734979629517,
           0.06638294458389282,
           -0.0030125253833830357,
           0.1997879296541214,
           0.22486263513565063,
           0.12189237028360367,
           -0.33769693970680237,
           0.08630263805389404,
           0.8153027296066284,
           0.8474798202514648,
           0.8153026700019836,
           0.7454969882965088,
           0.6939235925674438,
           0.6949595808982849,
           0.7310448288917542,
           0.8142668008804321,
           0.8464438319206238,
           0.8142667412757874,
           0.7444610595703125,
           0.6928876042366028,
           0.6939236521720886,
           0.7300089001655579,
           0.8658401966094971,
           0.8980172872543335,
           0.8658401966094971,
           0.7960346341133118,
           0.7444611191749573,
           0.7454971075057983,
           0.7815823554992676,
           0.9356458187103271,
           0.9678229093551636,
           0.9356457591056824,
           0.8658401370048523,
           0.8142666816711426,
           0.8153026700019836,
           0.8513879776000977,
           0.9678230285644531,
           1,
           0.9678229093551636,
           0.8980172872543335,
           0.8464438319206238,
           0.8474798202514648,
           0.8835651278495789,
           0.9356458187103271,
           0.9678228497505188,
           0.9356457591056824,
           0.8658400774002075,
           0.8142666220664978,
           0.8153026103973389,
           0.8513879179954529,
           0.8658401966094971,
           0.8980172872543335,
           0.8658401966094971,
           0.796034574508667,
           0.7444611191749573,
           0.7454971075057983,
           0.7815823554992676
          ],
          [
           -0.09866590052843094,
           0.21827933192253113,
           0.053569238632917404,
           -0.43054869771003723,
           0.06561718136072159,
           0.1241099163889885,
           0.06458933651447296,
           0.35465672612190247,
           0.13937892019748688,
           0.08920920640230179,
           -0.027024755254387856,
           -0.31618186831474304,
           -0.09101232141256332,
           0.14978866279125214,
           -0.04577460512518883,
           0.14822684228420258,
           0.23568429052829742,
           0.1518358439207077,
           -0.31781986355781555,
           0.15253396332263947,
           0.7454971075057983,
           0.8153026700019836,
           0.8474797606468201,
           0.8153026700019836,
           0.7454970479011536,
           0.6939236521720886,
           0.6949595808982849,
           0.7444611191749573,
           0.8142666816711426,
           0.8464438915252686,
           0.8142667412757874,
           0.7444611191749573,
           0.6928876638412476,
           0.6939236521720886,
           0.7960346341133118,
           0.8658401966094971,
           0.8980172872543335,
           0.8658401966094971,
           0.7960346341133118,
           0.744461178779602,
           0.7454971075057983,
           0.8658401966094971,
           0.9356457591056824,
           0.9678229093551636,
           0.9356458783149719,
           0.8658402562141418,
           0.8142667412757874,
           0.8153026700019836,
           0.8980173468589783,
           0.9678229093551636,
           1,
           0.9678230285644531,
           0.8980175256729126,
           0.8464438915252686,
           0.8474798202514648,
           0.8658401966094971,
           0.9356457591056824,
           0.9678229093551636,
           0.9356458783149719,
           0.8658402562141418,
           0.8142667412757874,
           0.8153026700019836,
           0.7960346341133118,
           0.8658401966094971,
           0.8980172872543335,
           0.8658401966094971,
           0.7960346341133118,
           0.744461178779602,
           0.7454971075057983
          ],
          [
           -0.07288313657045364,
           0.2637650966644287,
           0.025175875052809715,
           -0.4392850399017334,
           0.07374422252178192,
           0.08403819799423218,
           0.10550869256258011,
           0.36037105321884155,
           0.17282772064208984,
           0.043811339884996414,
           -0.06474819779396057,
           -0.3336968719959259,
           -0.048816658556461334,
           0.2231753021478653,
           -0.09221645444631577,
           0.10577273368835449,
           0.22775527834892273,
           0.13525474071502686,
           -0.2767929136753082,
           0.18396678566932678,
           0.6939235925674438,
           0.7454969882965088,
           0.8153026700019836,
           0.8474798202514648,
           0.8153027296066284,
           0.7454970479011536,
           0.6939235925674438,
           0.6928876638412476,
           0.7444610595703125,
           0.8142667412757874,
           0.8464438319206238,
           0.8142668008804321,
           0.7444611191749573,
           0.6928876638412476,
           0.744461178779602,
           0.796034574508667,
           0.8658401966094971,
           0.8980172872543335,
           0.8658402562141418,
           0.796034574508667,
           0.7444611191749573,
           0.8142666816711426,
           0.8658401370048523,
           0.9356458783149719,
           0.9678229093551636,
           0.9356458783149719,
           0.8658401966094971,
           0.8142667412757874,
           0.8464438915252686,
           0.8980172872543335,
           0.9678230285644531,
           1.0000001192092896,
           0.9678230285644531,
           0.8980173468589783,
           0.8464438915252686,
           0.8142666816711426,
           0.8658400774002075,
           0.9356458783149719,
           0.9678228497505188,
           0.9356458187103271,
           0.8658401966094971,
           0.8142667412757874,
           0.744461178779602,
           0.796034574508667,
           0.8658401966094971,
           0.8980172872543335,
           0.8658402562141418,
           0.796034574508667,
           0.7444611191749573
          ],
          [
           -0.016407201066613197,
           0.33677202463150024,
           0.030236922204494476,
           -0.4458558261394501,
           0.08310887962579727,
           0.050023630261421204,
           0.15332576632499695,
           0.39055126905441284,
           0.2335488647222519,
           0.018483171239495277,
           -0.12215938419103622,
           -0.36208945512771606,
           0.014795334078371525,
           0.21407148241996765,
           -0.10046350955963135,
           0.1011398434638977,
           0.227598175406456,
           0.09110543876886368,
           -0.2560660243034363,
           0.1530226767063141,
           0.6949595808982849,
           0.6939235925674438,
           0.7454970479011536,
           0.8153027296066284,
           0.8474797606468201,
           0.8153027296066284,
           0.7454971075057983,
           0.6939236521720886,
           0.6928876042366028,
           0.7444611191749573,
           0.8142668008804321,
           0.8464438319206238,
           0.8142668008804321,
           0.7444611191749573,
           0.7454971075057983,
           0.7444611191749573,
           0.7960346341133118,
           0.8658402562141418,
           0.8980173468589783,
           0.8658402562141418,
           0.7960346341133118,
           0.8153027296066284,
           0.8142666816711426,
           0.8658402562141418,
           0.9356458783149719,
           0.9678229093551636,
           0.9356458187103271,
           0.8658401966094971,
           0.8474798798561096,
           0.8464438319206238,
           0.8980175256729126,
           0.9678230285644531,
           1.0000001192092896,
           0.9678229689598083,
           0.8980172872543335,
           0.8153026700019836,
           0.8142666220664978,
           0.8658402562141418,
           0.9356458187103271,
           0.9678228497505188,
           0.9356457591056824,
           0.8658401370048523,
           0.7454971075057983,
           0.7444611191749573,
           0.7960346341133118,
           0.8658402562141418,
           0.8980173468589783,
           0.8658402562141418,
           0.7960346341133118
          ],
          [
           0.007505498826503754,
           0.371648371219635,
           0.06738396733999252,
           -0.4329018294811249,
           0.09448126703500748,
           0.0488143227994442,
           0.18548643589019775,
           0.42762309312820435,
           0.27721744775772095,
           0.028498535975813866,
           -0.16374799609184265,
           -0.36224254965782166,
           0.06169545650482178,
           0.12351345270872116,
           -0.05939283221960068,
           0.12468115240335464,
           0.25099077820777893,
           0.06420031934976578,
           -0.2747437655925751,
           0.09039813280105591,
           0.7310448288917542,
           0.6949595808982849,
           0.6939236521720886,
           0.7454970479011536,
           0.8153027296066284,
           0.8474797606468201,
           0.8153027296066284,
           0.7300089001655579,
           0.6939236521720886,
           0.6928876638412476,
           0.7444611191749573,
           0.8142668008804321,
           0.8464438319206238,
           0.8142668008804321,
           0.7815824151039124,
           0.7454971075057983,
           0.744461178779602,
           0.796034574508667,
           0.8658402562141418,
           0.8980172872543335,
           0.8658402562141418,
           0.8513879776000977,
           0.8153026700019836,
           0.8142667412757874,
           0.8658401966094971,
           0.9356458187103271,
           0.9678229093551636,
           0.9356458783149719,
           0.8835650682449341,
           0.8474798202514648,
           0.8464438915252686,
           0.8980173468589783,
           0.9678229689598083,
           1.0000001192092896,
           0.9678230285644531,
           0.8513879179954529,
           0.8153026103973389,
           0.8142667412757874,
           0.8658401966094971,
           0.9356457591056824,
           0.9678229093551636,
           0.9356458187103271,
           0.7815824151039124,
           0.7454971075057983,
           0.744461178779602,
           0.796034574508667,
           0.8658402562141418,
           0.8980172872543335,
           0.8658402562141418
          ],
          [
           -0.03842734917998314,
           0.337292343378067,
           0.10441482812166214,
           -0.40132230520248413,
           0.11198311299085617,
           0.08185487240552902,
           0.1990942358970642,
           0.4475652277469635,
           0.2765370309352875,
           0.0477006770670414,
           -0.1678435504436493,
           -0.317158043384552,
           0.07313806563615799,
           0.025753656402230263,
           0.0008614831604063511,
           0.13824741542339325,
           0.28708428144454956,
           0.08383385837078094,
           -0.31190603971481323,
           0.056492071598768234,
           0.7502775192260742,
           0.7310448288917542,
           0.6949595808982849,
           0.6939235925674438,
           0.7454971075057983,
           0.8153027296066284,
           0.8474798202514648,
           0.7492415308952332,
           0.7300089001655579,
           0.6939236521720886,
           0.6928876638412476,
           0.7444611191749573,
           0.8142668008804321,
           0.8464438319206238,
           0.8008150458335876,
           0.7815823554992676,
           0.7454971075057983,
           0.7444612383842468,
           0.7960346341133118,
           0.8658402562141418,
           0.8980172872543335,
           0.8706206679344177,
           0.8513879776000977,
           0.8153026700019836,
           0.8142667412757874,
           0.8658401966094971,
           0.9356458783149719,
           0.9678229093551636,
           0.9027977585792542,
           0.8835651278495789,
           0.8474798202514648,
           0.8464438915252686,
           0.8980172872543335,
           0.9678230285644531,
           1,
           0.870620608329773,
           0.8513879179954529,
           0.8153026700019836,
           0.8142667412757874,
           0.8658401370048523,
           0.9356458187103271,
           0.9678228497505188,
           0.8008150458335876,
           0.7815823554992676,
           0.7454971075057983,
           0.7444611191749573,
           0.7960346341133118,
           0.8658402562141418,
           0.8980172872543335
          ],
          [
           -0.04528367519378662,
           0.30951398611068726,
           0.10788289457559586,
           -0.5230515003204346,
           0.09408622980117798,
           0.15877659618854523,
           0.10903383791446686,
           0.35518333315849304,
           0.2653449773788452,
           0.014013257808983326,
           -0.0944974422454834,
           -0.41070443391799927,
           -0.09367363899946213,
           0.052760183811187744,
           -0.02153000980615616,
           0.15047813951969147,
           0.22259588539600372,
           -0.041634488850831985,
           -0.3190566301345825,
           0.028165405616164207,
           0.8835649490356445,
           0.8513878583908081,
           0.7815822958946228,
           0.7300088405609131,
           0.7310447692871094,
           0.7671300768852234,
           0.7863627076148987,
           0.8474798202514648,
           0.8153027296066284,
           0.7454971671104431,
           0.6939235925674438,
           0.6949595808982849,
           0.7310448288917542,
           0.7502775192260742,
           0.8464438319206238,
           0.8142668008804321,
           0.7444611191749573,
           0.6928876638412476,
           0.6939236521720886,
           0.7300089001655579,
           0.7492415308952332,
           0.8980172872543335,
           0.8658401966094971,
           0.796034574508667,
           0.7444610595703125,
           0.7454970479011536,
           0.7815823554992676,
           0.8008149862289429,
           0.9678229093551636,
           0.9356458187103271,
           0.8658401966094971,
           0.8142666816711426,
           0.8153026700019836,
           0.8513879179954529,
           0.870620608329773,
           1,
           0.9678229093551636,
           0.8980172872543335,
           0.846443772315979,
           0.8474798202514648,
           0.8835650086402893,
           0.9027977585792542,
           0.9678229093551636,
           0.9356458187103271,
           0.8658401966094971,
           0.8142666816711426,
           0.8153026700019836,
           0.8513879179954529,
           0.870620608329773
          ],
          [
           -0.11052681505680084,
           0.24017345905303955,
           0.10414984822273254,
           -0.4980299770832062,
           0.08499892055988312,
           0.1670231968164444,
           0.08802422881126404,
           0.3427842855453491,
           0.22048822045326233,
           0.04418136924505234,
           -0.06967350095510483,
           -0.3737865090370178,
           -0.1335131973028183,
           0.06726866960525513,
           -0.026409199461340904,
           0.13118807971477509,
           0.2632940113544464,
           0.010343506000936031,
           -0.34560850262641907,
           0.0684686005115509,
           0.8513878583908081,
           0.8835649490356445,
           0.8513878583908081,
           0.781582236289978,
           0.7300087809562683,
           0.7310447692871094,
           0.7671300172805786,
           0.8153027296066284,
           0.8474798202514648,
           0.8153027296066284,
           0.7454969882965088,
           0.6939235925674438,
           0.6949595808982849,
           0.7310448288917542,
           0.8142668008804321,
           0.8464438319206238,
           0.8142666816711426,
           0.7444611191749573,
           0.6928876042366028,
           0.6939236521720886,
           0.7300089001655579,
           0.8658401966094971,
           0.8980172276496887,
           0.8658401370048523,
           0.7960345149040222,
           0.7444610595703125,
           0.7454970479011536,
           0.7815822958946228,
           0.9356458187103271,
           0.9678228497505188,
           0.9356457591056824,
           0.8658400774002075,
           0.8142666220664978,
           0.8153026103973389,
           0.8513879179954529,
           0.9678229093551636,
           1,
           0.9678228497505188,
           0.8980172276496887,
           0.846443772315979,
           0.8474797606468201,
           0.8835650682449341,
           0.9356458187103271,
           0.9678228497505188,
           0.9356457591056824,
           0.8658400774002075,
           0.8142666220664978,
           0.8153026103973389,
           0.8513879179954529
          ],
          [
           -0.1456983983516693,
           0.21762895584106445,
           0.07195184379816055,
           -0.49054497480392456,
           0.08751718699932098,
           0.14888544380664825,
           0.09930291026830673,
           0.32848191261291504,
           0.20486609637737274,
           0.02147815190255642,
           -0.06920326501131058,
           -0.35675379633903503,
           -0.13733816146850586,
           0.15067438781261444,
           -0.06917127966880798,
           0.07962699234485626,
           0.2741156816482544,
           0.040286969393491745,
           -0.32573142647743225,
           0.13469994068145752,
           0.7815822958946228,
           0.8513878583908081,
           0.8835649490356445,
           0.8513878583908081,
           0.7815822958946228,
           0.7300088405609131,
           0.7310447692871094,
           0.7454971075057983,
           0.8153026700019836,
           0.8474798798561096,
           0.8153026700019836,
           0.7454970479011536,
           0.6939236521720886,
           0.6949595808982849,
           0.7444611191749573,
           0.8142666816711426,
           0.8464438319206238,
           0.8142667412757874,
           0.7444611191749573,
           0.6928876638412476,
           0.6939236521720886,
           0.796034574508667,
           0.8658401370048523,
           0.8980172276496887,
           0.8658401370048523,
           0.796034574508667,
           0.7444611191749573,
           0.7454970479011536,
           0.8658401966094971,
           0.9356457591056824,
           0.9678229093551636,
           0.9356458783149719,
           0.8658402562141418,
           0.8142667412757874,
           0.8153026700019836,
           0.8980172872543335,
           0.9678228497505188,
           1,
           0.9678229689598083,
           0.8980174660682678,
           0.8464438319206238,
           0.8474797606468201,
           0.8658401966094971,
           0.9356457591056824,
           0.9678229093551636,
           0.9356458783149719,
           0.8658402562141418,
           0.8142667412757874,
           0.8153026700019836
          ],
          [
           -0.1199156641960144,
           0.26311472058296204,
           0.04355848580598831,
           -0.4992813169956207,
           0.09564424306154251,
           0.10881370306015015,
           0.14022228121757507,
           0.3341962695121765,
           0.23831488192081451,
           -0.023919686675071716,
           -0.10692673176527023,
           -0.3742688000202179,
           -0.09514247626066208,
           0.2240610271692276,
           -0.11561312526464462,
           0.03717286139726639,
           0.2661866545677185,
           0.023705877363681793,
           -0.28470444679260254,
           0.16613276302814484,
           0.7300088405609131,
           0.781582236289978,
           0.8513878583908081,
           0.8835649490356445,
           0.8513879179954529,
           0.781582236289978,
           0.7300087809562683,
           0.6939235925674438,
           0.7454969882965088,
           0.8153027296066284,
           0.8474798202514648,
           0.8153027296066284,
           0.7454970479011536,
           0.6939235925674438,
           0.6928876638412476,
           0.7444610595703125,
           0.8142667412757874,
           0.8464438915252686,
           0.8142668008804321,
           0.7444611191749573,
           0.6928876638412476,
           0.7444610595703125,
           0.7960345149040222,
           0.8658401370048523,
           0.8980172276496887,
           0.8658401966094971,
           0.7960345149040222,
           0.7444610595703125,
           0.8142666816711426,
           0.8658400774002075,
           0.9356458783149719,
           0.9678228497505188,
           0.9356458187103271,
           0.8658401966094971,
           0.8142667412757874,
           0.846443772315979,
           0.8980172276496887,
           0.9678229689598083,
           1,
           0.9678229689598083,
           0.8980172872543335,
           0.8464438319206238,
           0.8142666816711426,
           0.8658400774002075,
           0.9356458783149719,
           0.9678228497505188,
           0.9356458187103271,
           0.8658401966094971,
           0.8142667412757874
          ],
          [
           -0.0634397342801094,
           0.33612164855003357,
           0.04861953854560852,
           -0.5058521032333374,
           0.10500889271497726,
           0.07479915022850037,
           0.1880393624305725,
           0.3643764853477478,
           0.29903605580329895,
           -0.049247849732637405,
           -0.1643379032611847,
           -0.40266141295433044,
           -0.031530484557151794,
           0.21495720744132996,
           -0.1238601952791214,
           0.0325399748980999,
           0.2660295367240906,
           -0.02044341154396534,
           -0.26397761702537537,
           0.13518863916397095,
           0.7310447692871094,
           0.7300087809562683,
           0.7815822958946228,
           0.8513879179954529,
           0.8835650086402893,
           0.8513879179954529,
           0.7815822958946228,
           0.6949595808982849,
           0.6939235925674438,
           0.7454971075057983,
           0.8153027296066284,
           0.8474797606468201,
           0.8153027296066284,
           0.7454971075057983,
           0.6939236521720886,
           0.6928876042366028,
           0.7444611191749573,
           0.8142668008804321,
           0.8464438319206238,
           0.8142668008804321,
           0.7444611191749573,
           0.7454970479011536,
           0.7444610595703125,
           0.796034574508667,
           0.8658401966094971,
           0.8980172872543335,
           0.8658401966094971,
           0.796034574508667,
           0.8153026700019836,
           0.8142666220664978,
           0.8658402562141418,
           0.9356458187103271,
           0.9678228497505188,
           0.9356457591056824,
           0.8658401370048523,
           0.8474798202514648,
           0.846443772315979,
           0.8980174660682678,
           0.9678229689598083,
           1,
           0.9678229093551636,
           0.8980172276496887,
           0.8153026700019836,
           0.8142666220664978,
           0.8658402562141418,
           0.9356458187103271,
           0.9678228497505188,
           0.9356457591056824,
           0.8658401370048523
          ],
          [
           -0.03952702879905701,
           0.37099799513816833,
           0.08576656877994537,
           -0.4928981065750122,
           0.11638127267360687,
           0.07358983904123306,
           0.22020003199577332,
           0.4014483094215393,
           0.3427046537399292,
           -0.03923248499631882,
           -0.20592652261257172,
           -0.40281450748443604,
           0.015369629487395287,
           0.12439917773008347,
           -0.08278951048851013,
           0.05608131363987923,
           0.2894221544265747,
           -0.047348540276288986,
           -0.2826552987098694,
           0.07256409525871277,
           0.7671300768852234,
           0.7310447692871094,
           0.7300088405609131,
           0.781582236289978,
           0.8513879179954529,
           0.8835649490356445,
           0.8513879179954529,
           0.7310448288917542,
           0.6949595808982849,
           0.6939236521720886,
           0.7454970479011536,
           0.8153027296066284,
           0.8474797606468201,
           0.8153027296066284,
           0.7300089001655579,
           0.6939236521720886,
           0.6928876638412476,
           0.7444611191749573,
           0.8142668008804321,
           0.8464438319206238,
           0.8142668008804321,
           0.7815823554992676,
           0.7454970479011536,
           0.7444611191749573,
           0.7960345149040222,
           0.8658401966094971,
           0.8980172276496887,
           0.8658401966094971,
           0.8513879179954529,
           0.8153026103973389,
           0.8142667412757874,
           0.8658401966094971,
           0.9356457591056824,
           0.9678229093551636,
           0.9356458187103271,
           0.8835650086402893,
           0.8474797606468201,
           0.8464438319206238,
           0.8980172872543335,
           0.9678229093551636,
           1,
           0.9678229689598083,
           0.8513879179954529,
           0.8153026103973389,
           0.8142667412757874,
           0.8658401966094971,
           0.9356457591056824,
           0.9678229093551636,
           0.9356458187103271
          ],
          [
           -0.085459865629673,
           0.33664196729660034,
           0.12279743701219559,
           -0.46131858229637146,
           0.13388313353061676,
           0.10663040727376938,
           0.23380783200263977,
           0.42139044404029846,
           0.34202417731285095,
           -0.020030342042446136,
           -0.21002209186553955,
           -0.357729971408844,
           0.026812249794602394,
           0.026639385148882866,
           -0.022535188123583794,
           0.06964755058288574,
           0.32551562786102295,
           -0.027714986354112625,
           -0.31981760263442993,
           0.03865804523229599,
           0.7863627076148987,
           0.7671300172805786,
           0.7310447692871094,
           0.7300087809562683,
           0.7815822958946228,
           0.8513879179954529,
           0.8835649490356445,
           0.7502775192260742,
           0.7310448288917542,
           0.6949596405029297,
           0.6939235925674438,
           0.7454971075057983,
           0.8153027296066284,
           0.8474798202514648,
           0.7492415308952332,
           0.7300089001655579,
           0.6939236521720886,
           0.6928877234458923,
           0.7444611191749573,
           0.8142668008804321,
           0.8464438319206238,
           0.8008149862289429,
           0.7815822958946228,
           0.7454970479011536,
           0.7444610595703125,
           0.796034574508667,
           0.8658401966094971,
           0.8980172276496887,
           0.870620608329773,
           0.8513879179954529,
           0.8153026700019836,
           0.8142667412757874,
           0.8658401370048523,
           0.9356458187103271,
           0.9678228497505188,
           0.9027977585792542,
           0.8835650682449341,
           0.8474797606468201,
           0.8464438319206238,
           0.8980172276496887,
           0.9678229689598083,
           0.9999999403953552,
           0.870620608329773,
           0.8513879179954529,
           0.8153026700019836,
           0.8142667412757874,
           0.8658401370048523,
           0.9356458187103271,
           0.9678228497505188
          ],
          [
           -0.1251717507839203,
           0.33754032850265503,
           0.14484798908233643,
           -0.5353392958641052,
           0.13636639714241028,
           0.2067466676235199,
           0.09828761219978333,
           0.34466803073883057,
           0.25164809823036194,
           -0.045989155769348145,
           -0.12078717350959778,
           -0.4284696877002716,
           -0.1604415476322174,
           0.06284628808498383,
           -0.11612607538700104,
           0.07247054576873779,
           0.19312505424022675,
           -0.1271594911813736,
           -0.3200969099998474,
           0.04123378545045853,
           0.9027977585792542,
           0.8706207275390625,
           0.8008150458335876,
           0.7492415904998779,
           0.750277578830719,
           0.7863628268241882,
           0.8055954575538635,
           0.8835650086402893,
           0.8513879776000977,
           0.7815823554992676,
           0.7300088405609131,
           0.7310448288917542,
           0.7671300768852234,
           0.7863627076148987,
           0.8474798202514648,
           0.8153027296066284,
           0.7454971075057983,
           0.6939237117767334,
           0.6949596405029297,
           0.7310448884963989,
           0.7502775192260742,
           0.846443772315979,
           0.8142666816711426,
           0.7444611191749573,
           0.6928876638412476,
           0.6939235925674438,
           0.7300088405609131,
           0.7492415308952332,
           0.8980172872543335,
           0.8658401966094971,
           0.7960346341133118,
           0.744461178779602,
           0.7454971075057983,
           0.7815824151039124,
           0.8008150458335876,
           0.9678229093551636,
           0.9356458187103271,
           0.8658401966094971,
           0.8142666816711426,
           0.8153026700019836,
           0.8513879179954529,
           0.870620608329773,
           1,
           0.9678229093551636,
           0.8980172872543335,
           0.846443772315979,
           0.8474798202514648,
           0.8835650086402893,
           0.9027977585792542
          ],
          [
           -0.1904148906469345,
           0.2681998014450073,
           0.1411149501800537,
           -0.5103178024291992,
           0.12727907299995422,
           0.21499326825141907,
           0.07727798819541931,
           0.33226898312568665,
           0.20679134130477905,
           -0.01582103967666626,
           -0.09596320986747742,
           -0.39155176281929016,
           -0.20028111338615417,
           0.0773547887802124,
           -0.12100525945425034,
           0.053180497139692307,
           0.23382318019866943,
           -0.0751814991235733,
           -0.3466487228870392,
           0.08153697848320007,
           0.8706207275390625,
           0.9027977585792542,
           0.870620608329773,
           0.8008150458335876,
           0.7492415308952332,
           0.7502775192260742,
           0.7863628268241882,
           0.8513879776000977,
           0.8835650086402893,
           0.8513879179954529,
           0.7815822958946228,
           0.7300087809562683,
           0.7310448288917542,
           0.7671300768852234,
           0.8153027296066284,
           0.8474798202514648,
           0.8153026700019836,
           0.7454971075057983,
           0.6939235925674438,
           0.6949596405029297,
           0.7310448884963989,
           0.8142666816711426,
           0.8464438319206238,
           0.8142666816711426,
           0.7444609999656677,
           0.6928876042366028,
           0.6939235925674438,
           0.7300088405609131,
           0.8658401966094971,
           0.8980172872543335,
           0.8658401966094971,
           0.796034574508667,
           0.7444611191749573,
           0.7454971075057983,
           0.7815823554992676,
           0.9356458187103271,
           0.9678228497505188,
           0.9356457591056824,
           0.8658400774002075,
           0.8142666220664978,
           0.8153026103973389,
           0.8513879179954529,
           0.9678229093551636,
           1,
           0.9678228497505188,
           0.8980172276496887,
           0.846443772315979,
           0.8474797606468201,
           0.8835650682449341
          ],
          [
           -0.2255864441394806,
           0.24565528333187103,
           0.10891693830490112,
           -0.5028327107429504,
           0.12979735434055328,
           0.19685551524162292,
           0.0885566771030426,
           0.31796661019325256,
           0.19116921722888947,
           -0.03852427378296852,
           -0.09549301117658615,
           -0.3745190501213074,
           -0.20410606265068054,
           0.16076050698757172,
           -0.16376735270023346,
           0.0016193914925679564,
           0.24464485049247742,
           -0.045238036662340164,
           -0.32677167654037476,
           0.1477683037519455,
           0.8008150458335876,
           0.870620608329773,
           0.9027977585792542,
           0.8706206679344177,
           0.8008150458335876,
           0.7492415904998779,
           0.7502775192260742,
           0.7815822958946228,
           0.8513878583908081,
           0.8835650086402893,
           0.8513879179954529,
           0.7815822958946228,
           0.7300088405609131,
           0.7310448288917542,
           0.7454971075057983,
           0.8153026700019836,
           0.8474798202514648,
           0.8153027296066284,
           0.7454971075057983,
           0.6939236521720886,
           0.6949596405029297,
           0.7444611191749573,
           0.8142666816711426,
           0.846443772315979,
           0.8142666816711426,
           0.7444610595703125,
           0.6928876638412476,
           0.6939235925674438,
           0.7960346341133118,
           0.8658401966094971,
           0.8980172872543335,
           0.8658401966094971,
           0.7960346341133118,
           0.744461178779602,
           0.7454971075057983,
           0.8658401966094971,
           0.9356457591056824,
           0.9678229093551636,
           0.9356458783149719,
           0.8658402562141418,
           0.8142667412757874,
           0.8153026700019836,
           0.8980172872543335,
           0.9678228497505188,
           1,
           0.9678229689598083,
           0.8980174660682678,
           0.8464438319206238,
           0.8474797606468201
          ],
          [
           -0.19980373978614807,
           0.2911410927772522,
           0.08052359521389008,
           -0.511569082736969,
           0.1379244029521942,
           0.156783789396286,
           0.12947605550289154,
           0.32368096709251404,
           0.22461798787117004,
           -0.08392210304737091,
           -0.13321645557880402,
           -0.39203405380249023,
           -0.16191039979457855,
           0.23414714634418488,
           -0.2102091908454895,
           -0.04083474352955818,
           0.23671582341194153,
           -0.06181913986802101,
           -0.28574466705322266,
           0.179201140999794,
           0.7492415904998779,
           0.8008150458335876,
           0.8706206679344177,
           0.9027977585792542,
           0.8706207275390625,
           0.8008149862289429,
           0.7492415904998779,
           0.7300088405609131,
           0.7815822958946228,
           0.8513879179954529,
           0.8835650086402893,
           0.8513879776000977,
           0.781582236289978,
           0.7300088405609131,
           0.6939235925674438,
           0.7454970479011536,
           0.8153027296066284,
           0.8474798798561096,
           0.8153027892112732,
           0.7454971075057983,
           0.6939236521720886,
           0.6928876638412476,
           0.7444609999656677,
           0.8142666816711426,
           0.8464438319206238,
           0.8142667412757874,
           0.7444610595703125,
           0.6928876042366028,
           0.744461178779602,
           0.796034574508667,
           0.8658401966094971,
           0.8980172872543335,
           0.8658402562141418,
           0.796034574508667,
           0.7444611191749573,
           0.8142666816711426,
           0.8658400774002075,
           0.9356458783149719,
           0.9678228497505188,
           0.9356458187103271,
           0.8658401966094971,
           0.8142667412757874,
           0.846443772315979,
           0.8980172276496887,
           0.9678229689598083,
           1,
           0.9678229689598083,
           0.8980172872543335,
           0.8464438319206238
          ],
          [
           -0.14332781732082367,
           0.36414802074432373,
           0.08558463305234909,
           -0.5181398987770081,
           0.14728905260562897,
           0.12276923656463623,
           0.17729312181472778,
           0.3538611829280853,
           0.2853391766548157,
           -0.1092502623796463,
           -0.19062763452529907,
           -0.4204266667366028,
           -0.09829839318990707,
           0.22504329681396484,
           -0.21845625340938568,
           -0.04546761512756348,
           0.2365587204694748,
           -0.1059684157371521,
           -0.2650178372859955,
           0.14825701713562012,
           0.750277578830719,
           0.7492415308952332,
           0.8008150458335876,
           0.8706207275390625,
           0.9027977585792542,
           0.8706207275390625,
           0.8008150458335876,
           0.7310448288917542,
           0.7300087809562683,
           0.7815823554992676,
           0.8513879776000977,
           0.8835650086402893,
           0.8513879776000977,
           0.7815822958946228,
           0.6949596405029297,
           0.6939235925674438,
           0.7454971075057983,
           0.8153027892112732,
           0.8474798202514648,
           0.8153027892112732,
           0.7454971075057983,
           0.6939235925674438,
           0.6928876042366028,
           0.7444610595703125,
           0.8142667412757874,
           0.846443772315979,
           0.8142667412757874,
           0.7444611191749573,
           0.7454971075057983,
           0.7444611191749573,
           0.7960346341133118,
           0.8658402562141418,
           0.8980173468589783,
           0.8658402562141418,
           0.7960346341133118,
           0.8153026700019836,
           0.8142666220664978,
           0.8658402562141418,
           0.9356458187103271,
           0.9678228497505188,
           0.9356457591056824,
           0.8658401370048523,
           0.8474798202514648,
           0.846443772315979,
           0.8980174660682678,
           0.9678229689598083,
           1,
           0.9678229093551636,
           0.8980172276496887
          ],
          [
           -0.11941510438919067,
           0.3990243375301361,
           0.12273166328668594,
           -0.5051859021186829,
           0.15866145491600037,
           0.12155990302562714,
           0.20945380628108978,
           0.39093300700187683,
           0.32900774478912354,
           -0.0992349162697792,
           -0.23221619427204132,
           -0.4205797612667084,
           -0.05139826610684395,
           0.13448528945446014,
           -0.17738555371761322,
           -0.0219262782484293,
           0.25995132327079773,
           -0.13287353515625,
           -0.2836955487728119,
           0.08563248068094254,
           0.7863628268241882,
           0.7502775192260742,
           0.7492415904998779,
           0.8008149862289429,
           0.8706207275390625,
           0.9027977585792542,
           0.8706207275390625,
           0.7671300768852234,
           0.7310448288917542,
           0.7300088405609131,
           0.781582236289978,
           0.8513879776000977,
           0.8835650086402893,
           0.8513879776000977,
           0.7310448884963989,
           0.6949596405029297,
           0.6939236521720886,
           0.7454971075057983,
           0.8153027892112732,
           0.8474798202514648,
           0.8153027892112732,
           0.7300088405609131,
           0.6939235925674438,
           0.6928876638412476,
           0.7444610595703125,
           0.8142667412757874,
           0.846443772315979,
           0.8142667412757874,
           0.7815824151039124,
           0.7454971075057983,
           0.744461178779602,
           0.796034574508667,
           0.8658402562141418,
           0.8980172872543335,
           0.8658402562141418,
           0.8513879179954529,
           0.8153026103973389,
           0.8142667412757874,
           0.8658401966094971,
           0.9356457591056824,
           0.9678229093551636,
           0.9356458187103271,
           0.8835650086402893,
           0.8474797606468201,
           0.8464438319206238,
           0.8980172872543335,
           0.9678229093551636,
           1,
           0.9678229689598083
          ],
          [
           -0.16534796357154846,
           0.3646683096885681,
           0.15976253151893616,
           -0.4736063778400421,
           0.17616331577301025,
           0.15460048615932465,
           0.22306159138679504,
           0.4108751714229584,
           0.3283272981643677,
           -0.08003275096416473,
           -0.23631182312965393,
           -0.37549522519111633,
           -0.03995564207434654,
           0.036725495010614395,
           -0.11713126301765442,
           -0.008360040374100208,
           0.29604482650756836,
           -0.11323999613523483,
           -0.32085782289505005,
           0.05172641947865486,
           0.8055954575538635,
           0.7863628268241882,
           0.7502775192260742,
           0.7492415904998779,
           0.8008150458335876,
           0.8706207275390625,
           0.9027977585792542,
           0.7863627076148987,
           0.7671300768852234,
           0.7310448288917542,
           0.7300088405609131,
           0.7815822958946228,
           0.8513879776000977,
           0.8835650086402893,
           0.7502775192260742,
           0.7310448884963989,
           0.6949596405029297,
           0.6939237713813782,
           0.7454971075057983,
           0.8153027892112732,
           0.8474798202514648,
           0.7492415308952332,
           0.7300088405609131,
           0.6939235925674438,
           0.6928876042366028,
           0.7444611191749573,
           0.8142667412757874,
           0.8464438319206238,
           0.8008150458335876,
           0.7815823554992676,
           0.7454971075057983,
           0.7444611191749573,
           0.7960346341133118,
           0.8658402562141418,
           0.8980172872543335,
           0.870620608329773,
           0.8513879179954529,
           0.8153026700019836,
           0.8142667412757874,
           0.8658401370048523,
           0.9356458187103271,
           0.9678228497505188,
           0.9027977585792542,
           0.8835650682449341,
           0.8474797606468201,
           0.8464438319206238,
           0.8980172276496887,
           0.9678229689598083,
           0.9999999403953552
          ]
         ]
        }
       ],
       "layout": {
        "coloraxis": {
         "colorscale": [
          [
           0,
           "#440154"
          ],
          [
           0.1111111111111111,
           "#482878"
          ],
          [
           0.2222222222222222,
           "#3e4989"
          ],
          [
           0.3333333333333333,
           "#31688e"
          ],
          [
           0.4444444444444444,
           "#26828e"
          ],
          [
           0.5555555555555556,
           "#1f9e89"
          ],
          [
           0.6666666666666666,
           "#35b779"
          ],
          [
           0.7777777777777778,
           "#6ece58"
          ],
          [
           0.8888888888888888,
           "#b5de2b"
          ],
          [
           1,
           "#fde725"
          ]
         ]
        },
        "template": {
         "data": {
          "bar": [
           {
            "error_x": {
             "color": "#2a3f5f"
            },
            "error_y": {
             "color": "#2a3f5f"
            },
            "marker": {
             "line": {
              "color": "#E5ECF6",
              "width": 0.5
             },
             "pattern": {
              "fillmode": "overlay",
              "size": 10,
              "solidity": 0.2
             }
            },
            "type": "bar"
           }
          ],
          "barpolar": [
           {
            "marker": {
             "line": {
              "color": "#E5ECF6",
              "width": 0.5
             },
             "pattern": {
              "fillmode": "overlay",
              "size": 10,
              "solidity": 0.2
             }
            },
            "type": "barpolar"
           }
          ],
          "carpet": [
           {
            "aaxis": {
             "endlinecolor": "#2a3f5f",
             "gridcolor": "white",
             "linecolor": "white",
             "minorgridcolor": "white",
             "startlinecolor": "#2a3f5f"
            },
            "baxis": {
             "endlinecolor": "#2a3f5f",
             "gridcolor": "white",
             "linecolor": "white",
             "minorgridcolor": "white",
             "startlinecolor": "#2a3f5f"
            },
            "type": "carpet"
           }
          ],
          "choropleth": [
           {
            "colorbar": {
             "outlinewidth": 0,
             "ticks": ""
            },
            "type": "choropleth"
           }
          ],
          "contour": [
           {
            "colorbar": {
             "outlinewidth": 0,
             "ticks": ""
            },
            "colorscale": [
             [
              0,
              "#0d0887"
             ],
             [
              0.1111111111111111,
              "#46039f"
             ],
             [
              0.2222222222222222,
              "#7201a8"
             ],
             [
              0.3333333333333333,
              "#9c179e"
             ],
             [
              0.4444444444444444,
              "#bd3786"
             ],
             [
              0.5555555555555556,
              "#d8576b"
             ],
             [
              0.6666666666666666,
              "#ed7953"
             ],
             [
              0.7777777777777778,
              "#fb9f3a"
             ],
             [
              0.8888888888888888,
              "#fdca26"
             ],
             [
              1,
              "#f0f921"
             ]
            ],
            "type": "contour"
           }
          ],
          "contourcarpet": [
           {
            "colorbar": {
             "outlinewidth": 0,
             "ticks": ""
            },
            "type": "contourcarpet"
           }
          ],
          "heatmap": [
           {
            "colorbar": {
             "outlinewidth": 0,
             "ticks": ""
            },
            "colorscale": [
             [
              0,
              "#0d0887"
             ],
             [
              0.1111111111111111,
              "#46039f"
             ],
             [
              0.2222222222222222,
              "#7201a8"
             ],
             [
              0.3333333333333333,
              "#9c179e"
             ],
             [
              0.4444444444444444,
              "#bd3786"
             ],
             [
              0.5555555555555556,
              "#d8576b"
             ],
             [
              0.6666666666666666,
              "#ed7953"
             ],
             [
              0.7777777777777778,
              "#fb9f3a"
             ],
             [
              0.8888888888888888,
              "#fdca26"
             ],
             [
              1,
              "#f0f921"
             ]
            ],
            "type": "heatmap"
           }
          ],
          "heatmapgl": [
           {
            "colorbar": {
             "outlinewidth": 0,
             "ticks": ""
            },
            "colorscale": [
             [
              0,
              "#0d0887"
             ],
             [
              0.1111111111111111,
              "#46039f"
             ],
             [
              0.2222222222222222,
              "#7201a8"
             ],
             [
              0.3333333333333333,
              "#9c179e"
             ],
             [
              0.4444444444444444,
              "#bd3786"
             ],
             [
              0.5555555555555556,
              "#d8576b"
             ],
             [
              0.6666666666666666,
              "#ed7953"
             ],
             [
              0.7777777777777778,
              "#fb9f3a"
             ],
             [
              0.8888888888888888,
              "#fdca26"
             ],
             [
              1,
              "#f0f921"
             ]
            ],
            "type": "heatmapgl"
           }
          ],
          "histogram": [
           {
            "marker": {
             "pattern": {
              "fillmode": "overlay",
              "size": 10,
              "solidity": 0.2
             }
            },
            "type": "histogram"
           }
          ],
          "histogram2d": [
           {
            "colorbar": {
             "outlinewidth": 0,
             "ticks": ""
            },
            "colorscale": [
             [
              0,
              "#0d0887"
             ],
             [
              0.1111111111111111,
              "#46039f"
             ],
             [
              0.2222222222222222,
              "#7201a8"
             ],
             [
              0.3333333333333333,
              "#9c179e"
             ],
             [
              0.4444444444444444,
              "#bd3786"
             ],
             [
              0.5555555555555556,
              "#d8576b"
             ],
             [
              0.6666666666666666,
              "#ed7953"
             ],
             [
              0.7777777777777778,
              "#fb9f3a"
             ],
             [
              0.8888888888888888,
              "#fdca26"
             ],
             [
              1,
              "#f0f921"
             ]
            ],
            "type": "histogram2d"
           }
          ],
          "histogram2dcontour": [
           {
            "colorbar": {
             "outlinewidth": 0,
             "ticks": ""
            },
            "colorscale": [
             [
              0,
              "#0d0887"
             ],
             [
              0.1111111111111111,
              "#46039f"
             ],
             [
              0.2222222222222222,
              "#7201a8"
             ],
             [
              0.3333333333333333,
              "#9c179e"
             ],
             [
              0.4444444444444444,
              "#bd3786"
             ],
             [
              0.5555555555555556,
              "#d8576b"
             ],
             [
              0.6666666666666666,
              "#ed7953"
             ],
             [
              0.7777777777777778,
              "#fb9f3a"
             ],
             [
              0.8888888888888888,
              "#fdca26"
             ],
             [
              1,
              "#f0f921"
             ]
            ],
            "type": "histogram2dcontour"
           }
          ],
          "mesh3d": [
           {
            "colorbar": {
             "outlinewidth": 0,
             "ticks": ""
            },
            "type": "mesh3d"
           }
          ],
          "parcoords": [
           {
            "line": {
             "colorbar": {
              "outlinewidth": 0,
              "ticks": ""
             }
            },
            "type": "parcoords"
           }
          ],
          "pie": [
           {
            "automargin": true,
            "type": "pie"
           }
          ],
          "scatter": [
           {
            "fillpattern": {
             "fillmode": "overlay",
             "size": 10,
             "solidity": 0.2
            },
            "type": "scatter"
           }
          ],
          "scatter3d": [
           {
            "line": {
             "colorbar": {
              "outlinewidth": 0,
              "ticks": ""
             }
            },
            "marker": {
             "colorbar": {
              "outlinewidth": 0,
              "ticks": ""
             }
            },
            "type": "scatter3d"
           }
          ],
          "scattercarpet": [
           {
            "marker": {
             "colorbar": {
              "outlinewidth": 0,
              "ticks": ""
             }
            },
            "type": "scattercarpet"
           }
          ],
          "scattergeo": [
           {
            "marker": {
             "colorbar": {
              "outlinewidth": 0,
              "ticks": ""
             }
            },
            "type": "scattergeo"
           }
          ],
          "scattergl": [
           {
            "marker": {
             "colorbar": {
              "outlinewidth": 0,
              "ticks": ""
             }
            },
            "type": "scattergl"
           }
          ],
          "scattermapbox": [
           {
            "marker": {
             "colorbar": {
              "outlinewidth": 0,
              "ticks": ""
             }
            },
            "type": "scattermapbox"
           }
          ],
          "scatterpolar": [
           {
            "marker": {
             "colorbar": {
              "outlinewidth": 0,
              "ticks": ""
             }
            },
            "type": "scatterpolar"
           }
          ],
          "scatterpolargl": [
           {
            "marker": {
             "colorbar": {
              "outlinewidth": 0,
              "ticks": ""
             }
            },
            "type": "scatterpolargl"
           }
          ],
          "scatterternary": [
           {
            "marker": {
             "colorbar": {
              "outlinewidth": 0,
              "ticks": ""
             }
            },
            "type": "scatterternary"
           }
          ],
          "surface": [
           {
            "colorbar": {
             "outlinewidth": 0,
             "ticks": ""
            },
            "colorscale": [
             [
              0,
              "#0d0887"
             ],
             [
              0.1111111111111111,
              "#46039f"
             ],
             [
              0.2222222222222222,
              "#7201a8"
             ],
             [
              0.3333333333333333,
              "#9c179e"
             ],
             [
              0.4444444444444444,
              "#bd3786"
             ],
             [
              0.5555555555555556,
              "#d8576b"
             ],
             [
              0.6666666666666666,
              "#ed7953"
             ],
             [
              0.7777777777777778,
              "#fb9f3a"
             ],
             [
              0.8888888888888888,
              "#fdca26"
             ],
             [
              1,
              "#f0f921"
             ]
            ],
            "type": "surface"
           }
          ],
          "table": [
           {
            "cells": {
             "fill": {
              "color": "#EBF0F8"
             },
             "line": {
              "color": "white"
             }
            },
            "header": {
             "fill": {
              "color": "#C8D4E3"
             },
             "line": {
              "color": "white"
             }
            },
            "type": "table"
           }
          ]
         },
         "layout": {
          "annotationdefaults": {
           "arrowcolor": "#2a3f5f",
           "arrowhead": 0,
           "arrowwidth": 1
          },
          "autotypenumbers": "strict",
          "coloraxis": {
           "colorbar": {
            "outlinewidth": 0,
            "ticks": ""
           }
          },
          "colorscale": {
           "diverging": [
            [
             0,
             "#8e0152"
            ],
            [
             0.1,
             "#c51b7d"
            ],
            [
             0.2,
             "#de77ae"
            ],
            [
             0.3,
             "#f1b6da"
            ],
            [
             0.4,
             "#fde0ef"
            ],
            [
             0.5,
             "#f7f7f7"
            ],
            [
             0.6,
             "#e6f5d0"
            ],
            [
             0.7,
             "#b8e186"
            ],
            [
             0.8,
             "#7fbc41"
            ],
            [
             0.9,
             "#4d9221"
            ],
            [
             1,
             "#276419"
            ]
           ],
           "sequential": [
            [
             0,
             "#0d0887"
            ],
            [
             0.1111111111111111,
             "#46039f"
            ],
            [
             0.2222222222222222,
             "#7201a8"
            ],
            [
             0.3333333333333333,
             "#9c179e"
            ],
            [
             0.4444444444444444,
             "#bd3786"
            ],
            [
             0.5555555555555556,
             "#d8576b"
            ],
            [
             0.6666666666666666,
             "#ed7953"
            ],
            [
             0.7777777777777778,
             "#fb9f3a"
            ],
            [
             0.8888888888888888,
             "#fdca26"
            ],
            [
             1,
             "#f0f921"
            ]
           ],
           "sequentialminus": [
            [
             0,
             "#0d0887"
            ],
            [
             0.1111111111111111,
             "#46039f"
            ],
            [
             0.2222222222222222,
             "#7201a8"
            ],
            [
             0.3333333333333333,
             "#9c179e"
            ],
            [
             0.4444444444444444,
             "#bd3786"
            ],
            [
             0.5555555555555556,
             "#d8576b"
            ],
            [
             0.6666666666666666,
             "#ed7953"
            ],
            [
             0.7777777777777778,
             "#fb9f3a"
            ],
            [
             0.8888888888888888,
             "#fdca26"
            ],
            [
             1,
             "#f0f921"
            ]
           ]
          },
          "colorway": [
           "#636efa",
           "#EF553B",
           "#00cc96",
           "#ab63fa",
           "#FFA15A",
           "#19d3f3",
           "#FF6692",
           "#B6E880",
           "#FF97FF",
           "#FECB52"
          ],
          "font": {
           "color": "#2a3f5f"
          },
          "geo": {
           "bgcolor": "white",
           "lakecolor": "white",
           "landcolor": "#E5ECF6",
           "showlakes": true,
           "showland": true,
           "subunitcolor": "white"
          },
          "hoverlabel": {
           "align": "left"
          },
          "hovermode": "closest",
          "mapbox": {
           "style": "light"
          },
          "paper_bgcolor": "white",
          "plot_bgcolor": "#E5ECF6",
          "polar": {
           "angularaxis": {
            "gridcolor": "white",
            "linecolor": "white",
            "ticks": ""
           },
           "bgcolor": "#E5ECF6",
           "radialaxis": {
            "gridcolor": "white",
            "linecolor": "white",
            "ticks": ""
           }
          },
          "scene": {
           "xaxis": {
            "backgroundcolor": "#E5ECF6",
            "gridcolor": "white",
            "gridwidth": 2,
            "linecolor": "white",
            "showbackground": true,
            "ticks": "",
            "zerolinecolor": "white"
           },
           "yaxis": {
            "backgroundcolor": "#E5ECF6",
            "gridcolor": "white",
            "gridwidth": 2,
            "linecolor": "white",
            "showbackground": true,
            "ticks": "",
            "zerolinecolor": "white"
           },
           "zaxis": {
            "backgroundcolor": "#E5ECF6",
            "gridcolor": "white",
            "gridwidth": 2,
            "linecolor": "white",
            "showbackground": true,
            "ticks": "",
            "zerolinecolor": "white"
           }
          },
          "shapedefaults": {
           "line": {
            "color": "#2a3f5f"
           }
          },
          "ternary": {
           "aaxis": {
            "gridcolor": "white",
            "linecolor": "white",
            "ticks": ""
           },
           "baxis": {
            "gridcolor": "white",
            "linecolor": "white",
            "ticks": ""
           },
           "bgcolor": "#E5ECF6",
           "caxis": {
            "gridcolor": "white",
            "linecolor": "white",
            "ticks": ""
           }
          },
          "title": {
           "x": 0.05
          },
          "xaxis": {
           "automargin": true,
           "gridcolor": "white",
           "linecolor": "white",
           "ticks": "",
           "title": {
            "standoff": 15
           },
           "zerolinecolor": "white",
           "zerolinewidth": 2
          },
          "yaxis": {
           "automargin": true,
           "gridcolor": "white",
           "linecolor": "white",
           "ticks": "",
           "title": {
            "standoff": 15
           },
           "zerolinecolor": "white",
           "zerolinewidth": 2
          }
         }
        },
        "title": {
         "text": "Pairwise Cosine Similarity Heatmap"
        },
        "xaxis": {
         "anchor": "y",
         "constrain": "domain",
         "domain": [
          0,
          1
         ],
         "scaleanchor": "y"
        },
        "yaxis": {
         "anchor": "x",
         "autorange": "reversed",
         "constrain": "domain",
         "domain": [
          0,
          1
         ]
        }
       }
      }
     },
     "metadata": {},
     "output_type": "display_data"
    }
   ],
   "source": [
    "non_positional_embeddings = bow_embedding.get_all_channel_embeddings().detach()\n",
    "positional_encoding = bow_embedding.get_positional_encoding().detach()\n",
    "concatenated_embeddings = torch.cat(\n",
    "    [non_positional_embeddings, \n",
    "     positional_encoding.squeeze(0).view(-1, 32)], dim=0)\n",
    "\n",
    "tensor_cosine_similarity_heatmap(concatenated_embeddings)"
   ]
  },
  {
   "attachments": {},
   "cell_type": "markdown",
   "metadata": {},
   "source": [
    "## Building a ViT using HookedTransformer\n",
    "\n",
    "- things to note:\n",
    "    - tradition ViT's are encoder models which use an mlp head and a class token. \n",
    "    - I suspect an attention only decoder ViT, will be perfectly fine for this task.\n",
    "    - However, it's not going to be that hard to turn that on/off so can try both.\n",
    "\n",
    "resource: https://github.com/lucidrains/vit-pytorch"
   ]
  },
  {
   "cell_type": "code",
   "execution_count": 6,
   "metadata": {},
   "outputs": [
    {
     "name": "stdout",
     "output_type": "stream",
     "text": [
      "torch.Size([1, 64, 7, 7])\n",
      "torch.Size([1, 49, 64])\n"
     ]
    },
    {
     "data": {
      "text/plain": [
       "torch.Size([1, 128])"
      ]
     },
     "execution_count": 6,
     "metadata": {},
     "output_type": "execute_result"
    }
   ],
   "source": [
    "import torch.nn as nn \n",
    "from transformer_lens import HookedTransformer, HookedTransformerConfig\n",
    "\n",
    "bow_embedding = MiniGridBOWEmbedding(\n",
    "    embedding_dim=64, \n",
    "    max_values=[11, 6, 3], \n",
    "    channel_names=['object', 'color', 'state'], \n",
    "    view_size=7,\n",
    "    add_positional_enc=True)\n",
    "\n",
    "vit_config = HookedTransformerConfig(\n",
    "        n_layers=2,\n",
    "        d_model=64,\n",
    "        d_head=32,\n",
    "        n_heads=2,\n",
    "        d_mlp=256,\n",
    "        d_vocab=128, # needs to match the model.\n",
    "        n_ctx=7*7, # 7x7 grid\n",
    "        normalization_type=None,\n",
    "        attention_dir=\"causal\",\n",
    "        attn_only=True,\n",
    "        )\n",
    "\n",
    "vit = HookedTransformer(vit_config)\n",
    "vit.embed = nn.Identity()\n",
    "vit.unembed \n",
    "\n",
    "\n",
    "obs, info = env.reset()\n",
    "obs = torch.from_numpy(obs['image']).unsqueeze(0)\n",
    "bow = bow_embedding(obs)\n",
    "print(bow.shape)\n",
    "bow = bow.flatten(-2,-1).permute(0,2,1) # convert into 49 tokens (n_ctx)\n",
    "print(bow.shape)\n",
    "state_embedding = vit(bow)\n",
    "state_embedding[:,-1].shape # 1 sequence token. \n",
    "\n"
   ]
  },
  {
   "attachments": {},
   "cell_type": "markdown",
   "metadata": {},
   "source": [
    "# Comparing Model Sizes\n",
    "Since we are using a learned embedding for the position which is provided by T-Lens and helps the model recognize different tokens I guess.  "
   ]
  },
  {
   "cell_type": "code",
   "execution_count": 1,
   "metadata": {},
   "outputs": [
    {
     "data": {
      "text/plain": [
       "===============================================================================================\n",
       "Layer (type:depth-idx)                        Output Shape              Param #\n",
       "===============================================================================================\n",
       "DecisionTransformer                           [2, 9, 147]               --\n",
       "├─Linear: 1-1                                 [18, 128]                 18,816\n",
       "├─Sequential: 1-2                             [16, 1, 128]              --\n",
       "│    └─Embedding: 2-1                         [16, 1, 128]              512\n",
       "├─Sequential: 1-3                             [18, 128]                 --\n",
       "│    └─Linear: 2-2                            [18, 128]                 128\n",
       "├─Embedding: 1-4                              [18, 1, 128]              128,128\n",
       "├─HookedTransformer: 1-5                      [2, 26, 128]              --\n",
       "│    └─Identity: 2-3                          [2, 26, 128]              --\n",
       "│    └─HookPoint: 2-4                         [2, 26, 128]              --\n",
       "│    └─PosEmbedTokens: 2-5                    [2, 26, 128]              3,328\n",
       "│    └─HookPoint: 2-6                         [2, 26, 128]              --\n",
       "│    └─ModuleList: 2-7                        --                        --\n",
       "│    │    └─TransformerBlock: 3-1             [2, 26, 128]              131,968\n",
       "│    │    └─TransformerBlock: 3-2             [2, 26, 128]              131,968\n",
       "│    └─Identity: 2-8                          [2, 26, 128]              --\n",
       "├─Linear: 1-6                                 [2, 9, 1]                 129\n",
       "├─Linear: 1-7                                 [2, 9, 147]               18,963\n",
       "├─Linear: 1-8                                 [2, 9, 3]                 387\n",
       "===============================================================================================\n",
       "Total params: 434,327\n",
       "Trainable params: 434,327\n",
       "Non-trainable params: 0\n",
       "Total mult-adds (M): 2.69\n",
       "===============================================================================================\n",
       "Input size (MB): 0.01\n",
       "Forward/backward pass size (MB): 0.15\n",
       "Params size (MB): 0.68\n",
       "Estimated Total Size (MB): 0.84\n",
       "==============================================================================================="
      ]
     },
     "execution_count": 1,
     "metadata": {},
     "output_type": "execute_result"
    }
   ],
   "source": [
    "import sys \n",
    "sys.path.append('..')\n",
    "import torch\n",
    "from src.config import TransformerModelConfig, EnvironmentConfig, OnlineTrainConfig, LSTMModelConfig\n",
    "from src.models.trajectory_transformer import DecisionTransformer\n",
    "from src.environments.environments import make_env\n",
    "from torchinfo import summary\n",
    "\n",
    "env_config = EnvironmentConfig()\n",
    "transformer_config = TransformerModelConfig(n_ctx=26)\n",
    "DT = DecisionTransformer(env_config, transformer_config)\n",
    "env = make_env(env_config, 0, 0, \"test\")()\n",
    "obs, info = env.reset()\n",
    "\n",
    "summary(DT, \n",
    "        input_size=[\n",
    "            (2, 9, 7, 7, 3), # n_ctx + 1 // 3 is seq length\n",
    "            (2, 8, 1), # one less action\n",
    "            (2, 9, 1), # same rtg for each step\n",
    "            (2, 9, 1), # time of each step\n",
    "            ],\n",
    "        dtypes=[torch.float32, torch.int, torch.int, torch.int],\n",
    "        depth=3,\n",
    "        )"
   ]
  },
  {
   "cell_type": "code",
   "execution_count": 2,
   "metadata": {},
   "outputs": [
    {
     "data": {
      "text/plain": [
       "===============================================================================================\n",
       "Layer (type:depth-idx)                        Output Shape              Param #\n",
       "===============================================================================================\n",
       "DecisionTransformer                           [2, 9, 147]               --\n",
       "├─Linear: 1-1                                 [18, 128]                 18,816\n",
       "├─Sequential: 1-2                             [16, 1, 128]              --\n",
       "│    └─Embedding: 2-1                         [16, 1, 128]              512\n",
       "├─Sequential: 1-3                             [18, 128]                 --\n",
       "│    └─Linear: 2-2                            [18, 128]                 128\n",
       "├─Embedding: 1-4                              [18, 1, 128]              128,128\n",
       "├─HookedTransformer: 1-5                      [2, 26, 128]              --\n",
       "│    └─Identity: 2-3                          [2, 26, 128]              --\n",
       "│    └─HookPoint: 2-4                         [2, 26, 128]              --\n",
       "│    └─PosEmbedTokens: 2-5                    [2, 26, 128]              3,328\n",
       "│    └─HookPoint: 2-6                         [2, 26, 128]              --\n",
       "│    └─ModuleList: 2-7                        --                        --\n",
       "│    │    └─TransformerBlock: 3-1             [2, 26, 128]              --\n",
       "│    │    │    └─HookPoint: 4-1               [2, 26, 128]              --\n",
       "│    │    │    └─Identity: 4-2                [2, 26, 128]              --\n",
       "│    │    │    └─Identity: 4-3                [2, 26, 128]              --\n",
       "│    │    │    └─Identity: 4-4                [2, 26, 128]              --\n",
       "│    │    │    └─Attention: 4-5               [2, 26, 128]              66,048\n",
       "│    │    │    │    └─HookPoint: 5-1          [2, 26, 4, 32]            --\n",
       "│    │    │    │    └─HookPoint: 5-2          [2, 26, 4, 32]            --\n",
       "│    │    │    │    └─HookPoint: 5-3          [2, 26, 4, 32]            --\n",
       "│    │    │    │    └─HookPoint: 5-4          [2, 4, 26, 26]            --\n",
       "│    │    │    │    └─HookPoint: 5-5          [2, 4, 26, 26]            --\n",
       "│    │    │    │    └─HookPoint: 5-6          [2, 26, 4, 32]            --\n",
       "│    │    │    └─HookPoint: 4-6               [2, 26, 128]              --\n",
       "│    │    │    └─HookPoint: 4-7               [2, 26, 128]              --\n",
       "│    │    │    └─Identity: 4-8                [2, 26, 128]              --\n",
       "│    │    │    └─MLP: 4-9                     [2, 26, 128]              65,920\n",
       "│    │    │    │    └─HookPoint: 5-7          [2, 26, 256]              --\n",
       "│    │    │    │    └─HookPoint: 5-8          [2, 26, 256]              --\n",
       "│    │    │    └─HookPoint: 4-10              [2, 26, 128]              --\n",
       "│    │    │    └─HookPoint: 4-11              [2, 26, 128]              --\n",
       "│    │    └─TransformerBlock: 3-2             [2, 26, 128]              --\n",
       "│    │    │    └─HookPoint: 4-12              [2, 26, 128]              --\n",
       "│    │    │    └─Identity: 4-13               [2, 26, 128]              --\n",
       "│    │    │    └─Identity: 4-14               [2, 26, 128]              --\n",
       "│    │    │    └─Identity: 4-15               [2, 26, 128]              --\n",
       "│    │    │    └─Attention: 4-16              [2, 26, 128]              66,048\n",
       "│    │    │    │    └─HookPoint: 5-9          [2, 26, 4, 32]            --\n",
       "│    │    │    │    └─HookPoint: 5-10         [2, 26, 4, 32]            --\n",
       "│    │    │    │    └─HookPoint: 5-11         [2, 26, 4, 32]            --\n",
       "│    │    │    │    └─HookPoint: 5-12         [2, 4, 26, 26]            --\n",
       "│    │    │    │    └─HookPoint: 5-13         [2, 4, 26, 26]            --\n",
       "│    │    │    │    └─HookPoint: 5-14         [2, 26, 4, 32]            --\n",
       "│    │    │    └─HookPoint: 4-17              [2, 26, 128]              --\n",
       "│    │    │    └─HookPoint: 4-18              [2, 26, 128]              --\n",
       "│    │    │    └─Identity: 4-19               [2, 26, 128]              --\n",
       "│    │    │    └─MLP: 4-20                    [2, 26, 128]              65,920\n",
       "│    │    │    │    └─HookPoint: 5-15         [2, 26, 256]              --\n",
       "│    │    │    │    └─HookPoint: 5-16         [2, 26, 256]              --\n",
       "│    │    │    └─HookPoint: 4-21              [2, 26, 128]              --\n",
       "│    │    │    └─HookPoint: 4-22              [2, 26, 128]              --\n",
       "│    └─Identity: 2-8                          [2, 26, 128]              --\n",
       "├─Linear: 1-6                                 [2, 9, 1]                 129\n",
       "├─Linear: 1-7                                 [2, 9, 147]               18,963\n",
       "├─Linear: 1-8                                 [2, 9, 3]                 387\n",
       "===============================================================================================\n",
       "Total params: 434,327\n",
       "Trainable params: 434,327\n",
       "Non-trainable params: 0\n",
       "Total mult-adds (M): 2.69\n",
       "===============================================================================================\n",
       "Input size (MB): 0.01\n",
       "Forward/backward pass size (MB): 0.15\n",
       "Params size (MB): 0.68\n",
       "Estimated Total Size (MB): 0.84\n",
       "==============================================================================================="
      ]
     },
     "execution_count": 2,
     "metadata": {},
     "output_type": "execute_result"
    }
   ],
   "source": [
    "transformer_config = TransformerModelConfig(n_ctx=26)\n",
    "DT = DecisionTransformer(env_config, transformer_config)\n",
    "env = make_env(env_config, 0, 0, \"test\")()\n",
    "obs, info = env.reset()\n",
    "\n",
    "summary(DT, \n",
    "        input_size=[\n",
    "            (2, 9, 7, 7, 3), # n_ctx + 1 // 3 is seq length\n",
    "            (2, 8, 1), # one less action\n",
    "            (2, 9, 1), # same rtg for each step\n",
    "            (2, 9, 1), # time of each step\n",
    "            ],\n",
    "        dtypes=[torch.float32, torch.int, torch.int, torch.int],\n",
    "        depth=6,\n",
    "        )"
   ]
  },
  {
   "cell_type": "code",
   "execution_count": 8,
   "metadata": {},
   "outputs": [
    {
     "name": "stderr",
     "output_type": "stream",
     "text": [
      "/Users/josephbloom/miniforge3/envs/decision_transformer_interpretability/lib/python3.10/site-packages/pandas/core/arraylike.py:402: RuntimeWarning:\n",
      "\n",
      "divide by zero encountered in log\n",
      "\n"
     ]
    },
    {
     "data": {
      "application/vnd.plotly.v1+json": {
       "config": {
        "plotlyServerURL": "https://plotly.com"
       },
       "data": [
        {
         "hovertemplate": "Parameter: %{hovertext}<br>Mean: %{text:.4f}",
         "hovertext": [
          "weight",
          "weight",
          "weight",
          "W_pos",
          "W_Q",
          "W_K",
          "W_V",
          "W_O",
          "b_Q",
          "b_K",
          "b_V",
          "b_O",
          "W_in",
          "b_in",
          "W_out",
          "b_out",
          "W_Q",
          "W_K",
          "W_V",
          "W_O",
          "b_Q",
          "b_K",
          "b_V",
          "b_O",
          "W_in",
          "b_in",
          "W_out",
          "b_out",
          "weight",
          "bias",
          "weight",
          "bias",
          "weight",
          "weight",
          "bias"
         ],
         "marker": {
          "color": [
           "purple",
           "purple",
           "purple",
           "red",
           "red",
           "red",
           "red",
           "red",
           "blue",
           "blue",
           "blue",
           "blue",
           "red",
           "blue",
           "red",
           "blue",
           "red",
           "red",
           "red",
           "red",
           "blue",
           "blue",
           "blue",
           "blue",
           "red",
           "blue",
           "red",
           "blue",
           "red",
           "blue",
           "red",
           "blue",
           "purple",
           "red",
           "blue"
          ]
         },
         "text": [
          0.0008183741010725498,
          -0.00005183396933716722,
          -0.00007748506322968751,
          0.00012800435069948435,
          0.0001898652990348637,
          -0.0001388618693454191,
          0.00004994859773432836,
          -0.00009797355596674606,
          0,
          0,
          0,
          0,
          -0.00013319267600309104,
          0,
          0.00013006756489630789,
          0,
          -0.00010319819557480514,
          0.0001141270186053589,
          0.0000769648322602734,
          0.000023054031771607697,
          0,
          0,
          0,
          0,
          0.00006427903281291947,
          0,
          0.00011084217840107158,
          0,
          -0.000944716390222311,
          0,
          0.00019976316252723336,
          0,
          0.00012253830209374428,
          0.0013645553262904286,
          0
         ],
         "textposition": "outside",
         "texttemplate": "%{text:.4f}",
         "type": "bar",
         "x": [
          "action_embedding.0.weight",
          "time_embedding.weight",
          "state_embedding.weight",
          "transformer.pos_embed.W_pos",
          "transformer.blocks.0.attn.W_Q",
          "transformer.blocks.0.attn.W_K",
          "transformer.blocks.0.attn.W_V",
          "transformer.blocks.0.attn.W_O",
          "transformer.blocks.0.attn.b_Q",
          "transformer.blocks.0.attn.b_K",
          "transformer.blocks.0.attn.b_V",
          "transformer.blocks.0.attn.b_O",
          "transformer.blocks.0.mlp.W_in",
          "transformer.blocks.0.mlp.b_in",
          "transformer.blocks.0.mlp.W_out",
          "transformer.blocks.0.mlp.b_out",
          "transformer.blocks.1.attn.W_Q",
          "transformer.blocks.1.attn.W_K",
          "transformer.blocks.1.attn.W_V",
          "transformer.blocks.1.attn.W_O",
          "transformer.blocks.1.attn.b_Q",
          "transformer.blocks.1.attn.b_K",
          "transformer.blocks.1.attn.b_V",
          "transformer.blocks.1.attn.b_O",
          "transformer.blocks.1.mlp.W_in",
          "transformer.blocks.1.mlp.b_in",
          "transformer.blocks.1.mlp.W_out",
          "transformer.blocks.1.mlp.b_out",
          "action_predictor.weight",
          "action_predictor.bias",
          "state_predictor.weight",
          "state_predictor.bias",
          "reward_embedding.0.weight",
          "reward_predictor.weight",
          "reward_predictor.bias"
         ],
         "y": [
          0.0008183741010725498,
          -0.00005183396933716722,
          -0.00007748506322968751,
          0.00012800435069948435,
          0.0001898652990348637,
          -0.0001388618693454191,
          0.00004994859773432836,
          -0.00009797355596674606,
          0,
          0,
          0,
          0,
          -0.00013319267600309104,
          0,
          0.00013006756489630789,
          0,
          -0.00010319819557480514,
          0.0001141270186053589,
          0.0000769648322602734,
          0.000023054031771607697,
          0,
          0,
          0,
          0,
          0.00006427903281291947,
          0,
          0.00011084217840107158,
          0,
          -0.000944716390222311,
          0,
          0.00019976316252723336,
          0,
          0.00012253830209374428,
          0.0013645553262904286,
          0
         ]
        }
       ],
       "layout": {
        "template": {
         "data": {
          "bar": [
           {
            "error_x": {
             "color": "#2a3f5f"
            },
            "error_y": {
             "color": "#2a3f5f"
            },
            "marker": {
             "line": {
              "color": "#E5ECF6",
              "width": 0.5
             },
             "pattern": {
              "fillmode": "overlay",
              "size": 10,
              "solidity": 0.2
             }
            },
            "type": "bar"
           }
          ],
          "barpolar": [
           {
            "marker": {
             "line": {
              "color": "#E5ECF6",
              "width": 0.5
             },
             "pattern": {
              "fillmode": "overlay",
              "size": 10,
              "solidity": 0.2
             }
            },
            "type": "barpolar"
           }
          ],
          "carpet": [
           {
            "aaxis": {
             "endlinecolor": "#2a3f5f",
             "gridcolor": "white",
             "linecolor": "white",
             "minorgridcolor": "white",
             "startlinecolor": "#2a3f5f"
            },
            "baxis": {
             "endlinecolor": "#2a3f5f",
             "gridcolor": "white",
             "linecolor": "white",
             "minorgridcolor": "white",
             "startlinecolor": "#2a3f5f"
            },
            "type": "carpet"
           }
          ],
          "choropleth": [
           {
            "colorbar": {
             "outlinewidth": 0,
             "ticks": ""
            },
            "type": "choropleth"
           }
          ],
          "contour": [
           {
            "colorbar": {
             "outlinewidth": 0,
             "ticks": ""
            },
            "colorscale": [
             [
              0,
              "#0d0887"
             ],
             [
              0.1111111111111111,
              "#46039f"
             ],
             [
              0.2222222222222222,
              "#7201a8"
             ],
             [
              0.3333333333333333,
              "#9c179e"
             ],
             [
              0.4444444444444444,
              "#bd3786"
             ],
             [
              0.5555555555555556,
              "#d8576b"
             ],
             [
              0.6666666666666666,
              "#ed7953"
             ],
             [
              0.7777777777777778,
              "#fb9f3a"
             ],
             [
              0.8888888888888888,
              "#fdca26"
             ],
             [
              1,
              "#f0f921"
             ]
            ],
            "type": "contour"
           }
          ],
          "contourcarpet": [
           {
            "colorbar": {
             "outlinewidth": 0,
             "ticks": ""
            },
            "type": "contourcarpet"
           }
          ],
          "heatmap": [
           {
            "colorbar": {
             "outlinewidth": 0,
             "ticks": ""
            },
            "colorscale": [
             [
              0,
              "#0d0887"
             ],
             [
              0.1111111111111111,
              "#46039f"
             ],
             [
              0.2222222222222222,
              "#7201a8"
             ],
             [
              0.3333333333333333,
              "#9c179e"
             ],
             [
              0.4444444444444444,
              "#bd3786"
             ],
             [
              0.5555555555555556,
              "#d8576b"
             ],
             [
              0.6666666666666666,
              "#ed7953"
             ],
             [
              0.7777777777777778,
              "#fb9f3a"
             ],
             [
              0.8888888888888888,
              "#fdca26"
             ],
             [
              1,
              "#f0f921"
             ]
            ],
            "type": "heatmap"
           }
          ],
          "heatmapgl": [
           {
            "colorbar": {
             "outlinewidth": 0,
             "ticks": ""
            },
            "colorscale": [
             [
              0,
              "#0d0887"
             ],
             [
              0.1111111111111111,
              "#46039f"
             ],
             [
              0.2222222222222222,
              "#7201a8"
             ],
             [
              0.3333333333333333,
              "#9c179e"
             ],
             [
              0.4444444444444444,
              "#bd3786"
             ],
             [
              0.5555555555555556,
              "#d8576b"
             ],
             [
              0.6666666666666666,
              "#ed7953"
             ],
             [
              0.7777777777777778,
              "#fb9f3a"
             ],
             [
              0.8888888888888888,
              "#fdca26"
             ],
             [
              1,
              "#f0f921"
             ]
            ],
            "type": "heatmapgl"
           }
          ],
          "histogram": [
           {
            "marker": {
             "pattern": {
              "fillmode": "overlay",
              "size": 10,
              "solidity": 0.2
             }
            },
            "type": "histogram"
           }
          ],
          "histogram2d": [
           {
            "colorbar": {
             "outlinewidth": 0,
             "ticks": ""
            },
            "colorscale": [
             [
              0,
              "#0d0887"
             ],
             [
              0.1111111111111111,
              "#46039f"
             ],
             [
              0.2222222222222222,
              "#7201a8"
             ],
             [
              0.3333333333333333,
              "#9c179e"
             ],
             [
              0.4444444444444444,
              "#bd3786"
             ],
             [
              0.5555555555555556,
              "#d8576b"
             ],
             [
              0.6666666666666666,
              "#ed7953"
             ],
             [
              0.7777777777777778,
              "#fb9f3a"
             ],
             [
              0.8888888888888888,
              "#fdca26"
             ],
             [
              1,
              "#f0f921"
             ]
            ],
            "type": "histogram2d"
           }
          ],
          "histogram2dcontour": [
           {
            "colorbar": {
             "outlinewidth": 0,
             "ticks": ""
            },
            "colorscale": [
             [
              0,
              "#0d0887"
             ],
             [
              0.1111111111111111,
              "#46039f"
             ],
             [
              0.2222222222222222,
              "#7201a8"
             ],
             [
              0.3333333333333333,
              "#9c179e"
             ],
             [
              0.4444444444444444,
              "#bd3786"
             ],
             [
              0.5555555555555556,
              "#d8576b"
             ],
             [
              0.6666666666666666,
              "#ed7953"
             ],
             [
              0.7777777777777778,
              "#fb9f3a"
             ],
             [
              0.8888888888888888,
              "#fdca26"
             ],
             [
              1,
              "#f0f921"
             ]
            ],
            "type": "histogram2dcontour"
           }
          ],
          "mesh3d": [
           {
            "colorbar": {
             "outlinewidth": 0,
             "ticks": ""
            },
            "type": "mesh3d"
           }
          ],
          "parcoords": [
           {
            "line": {
             "colorbar": {
              "outlinewidth": 0,
              "ticks": ""
             }
            },
            "type": "parcoords"
           }
          ],
          "pie": [
           {
            "automargin": true,
            "type": "pie"
           }
          ],
          "scatter": [
           {
            "fillpattern": {
             "fillmode": "overlay",
             "size": 10,
             "solidity": 0.2
            },
            "type": "scatter"
           }
          ],
          "scatter3d": [
           {
            "line": {
             "colorbar": {
              "outlinewidth": 0,
              "ticks": ""
             }
            },
            "marker": {
             "colorbar": {
              "outlinewidth": 0,
              "ticks": ""
             }
            },
            "type": "scatter3d"
           }
          ],
          "scattercarpet": [
           {
            "marker": {
             "colorbar": {
              "outlinewidth": 0,
              "ticks": ""
             }
            },
            "type": "scattercarpet"
           }
          ],
          "scattergeo": [
           {
            "marker": {
             "colorbar": {
              "outlinewidth": 0,
              "ticks": ""
             }
            },
            "type": "scattergeo"
           }
          ],
          "scattergl": [
           {
            "marker": {
             "colorbar": {
              "outlinewidth": 0,
              "ticks": ""
             }
            },
            "type": "scattergl"
           }
          ],
          "scattermapbox": [
           {
            "marker": {
             "colorbar": {
              "outlinewidth": 0,
              "ticks": ""
             }
            },
            "type": "scattermapbox"
           }
          ],
          "scatterpolar": [
           {
            "marker": {
             "colorbar": {
              "outlinewidth": 0,
              "ticks": ""
             }
            },
            "type": "scatterpolar"
           }
          ],
          "scatterpolargl": [
           {
            "marker": {
             "colorbar": {
              "outlinewidth": 0,
              "ticks": ""
             }
            },
            "type": "scatterpolargl"
           }
          ],
          "scatterternary": [
           {
            "marker": {
             "colorbar": {
              "outlinewidth": 0,
              "ticks": ""
             }
            },
            "type": "scatterternary"
           }
          ],
          "surface": [
           {
            "colorbar": {
             "outlinewidth": 0,
             "ticks": ""
            },
            "colorscale": [
             [
              0,
              "#0d0887"
             ],
             [
              0.1111111111111111,
              "#46039f"
             ],
             [
              0.2222222222222222,
              "#7201a8"
             ],
             [
              0.3333333333333333,
              "#9c179e"
             ],
             [
              0.4444444444444444,
              "#bd3786"
             ],
             [
              0.5555555555555556,
              "#d8576b"
             ],
             [
              0.6666666666666666,
              "#ed7953"
             ],
             [
              0.7777777777777778,
              "#fb9f3a"
             ],
             [
              0.8888888888888888,
              "#fdca26"
             ],
             [
              1,
              "#f0f921"
             ]
            ],
            "type": "surface"
           }
          ],
          "table": [
           {
            "cells": {
             "fill": {
              "color": "#EBF0F8"
             },
             "line": {
              "color": "white"
             }
            },
            "header": {
             "fill": {
              "color": "#C8D4E3"
             },
             "line": {
              "color": "white"
             }
            },
            "type": "table"
           }
          ]
         },
         "layout": {
          "annotationdefaults": {
           "arrowcolor": "#2a3f5f",
           "arrowhead": 0,
           "arrowwidth": 1
          },
          "autotypenumbers": "strict",
          "coloraxis": {
           "colorbar": {
            "outlinewidth": 0,
            "ticks": ""
           }
          },
          "colorscale": {
           "diverging": [
            [
             0,
             "#8e0152"
            ],
            [
             0.1,
             "#c51b7d"
            ],
            [
             0.2,
             "#de77ae"
            ],
            [
             0.3,
             "#f1b6da"
            ],
            [
             0.4,
             "#fde0ef"
            ],
            [
             0.5,
             "#f7f7f7"
            ],
            [
             0.6,
             "#e6f5d0"
            ],
            [
             0.7,
             "#b8e186"
            ],
            [
             0.8,
             "#7fbc41"
            ],
            [
             0.9,
             "#4d9221"
            ],
            [
             1,
             "#276419"
            ]
           ],
           "sequential": [
            [
             0,
             "#0d0887"
            ],
            [
             0.1111111111111111,
             "#46039f"
            ],
            [
             0.2222222222222222,
             "#7201a8"
            ],
            [
             0.3333333333333333,
             "#9c179e"
            ],
            [
             0.4444444444444444,
             "#bd3786"
            ],
            [
             0.5555555555555556,
             "#d8576b"
            ],
            [
             0.6666666666666666,
             "#ed7953"
            ],
            [
             0.7777777777777778,
             "#fb9f3a"
            ],
            [
             0.8888888888888888,
             "#fdca26"
            ],
            [
             1,
             "#f0f921"
            ]
           ],
           "sequentialminus": [
            [
             0,
             "#0d0887"
            ],
            [
             0.1111111111111111,
             "#46039f"
            ],
            [
             0.2222222222222222,
             "#7201a8"
            ],
            [
             0.3333333333333333,
             "#9c179e"
            ],
            [
             0.4444444444444444,
             "#bd3786"
            ],
            [
             0.5555555555555556,
             "#d8576b"
            ],
            [
             0.6666666666666666,
             "#ed7953"
            ],
            [
             0.7777777777777778,
             "#fb9f3a"
            ],
            [
             0.8888888888888888,
             "#fdca26"
            ],
            [
             1,
             "#f0f921"
            ]
           ]
          },
          "colorway": [
           "#636efa",
           "#EF553B",
           "#00cc96",
           "#ab63fa",
           "#FFA15A",
           "#19d3f3",
           "#FF6692",
           "#B6E880",
           "#FF97FF",
           "#FECB52"
          ],
          "font": {
           "color": "#2a3f5f"
          },
          "geo": {
           "bgcolor": "white",
           "lakecolor": "white",
           "landcolor": "#E5ECF6",
           "showlakes": true,
           "showland": true,
           "subunitcolor": "white"
          },
          "hoverlabel": {
           "align": "left"
          },
          "hovermode": "closest",
          "mapbox": {
           "style": "light"
          },
          "paper_bgcolor": "white",
          "plot_bgcolor": "#E5ECF6",
          "polar": {
           "angularaxis": {
            "gridcolor": "white",
            "linecolor": "white",
            "ticks": ""
           },
           "bgcolor": "#E5ECF6",
           "radialaxis": {
            "gridcolor": "white",
            "linecolor": "white",
            "ticks": ""
           }
          },
          "scene": {
           "xaxis": {
            "backgroundcolor": "#E5ECF6",
            "gridcolor": "white",
            "gridwidth": 2,
            "linecolor": "white",
            "showbackground": true,
            "ticks": "",
            "zerolinecolor": "white"
           },
           "yaxis": {
            "backgroundcolor": "#E5ECF6",
            "gridcolor": "white",
            "gridwidth": 2,
            "linecolor": "white",
            "showbackground": true,
            "ticks": "",
            "zerolinecolor": "white"
           },
           "zaxis": {
            "backgroundcolor": "#E5ECF6",
            "gridcolor": "white",
            "gridwidth": 2,
            "linecolor": "white",
            "showbackground": true,
            "ticks": "",
            "zerolinecolor": "white"
           }
          },
          "shapedefaults": {
           "line": {
            "color": "#2a3f5f"
           }
          },
          "ternary": {
           "aaxis": {
            "gridcolor": "white",
            "linecolor": "white",
            "ticks": ""
           },
           "baxis": {
            "gridcolor": "white",
            "linecolor": "white",
            "ticks": ""
           },
           "bgcolor": "#E5ECF6",
           "caxis": {
            "gridcolor": "white",
            "linecolor": "white",
            "ticks": ""
           }
          },
          "title": {
           "x": 0.05
          },
          "xaxis": {
           "automargin": true,
           "gridcolor": "white",
           "linecolor": "white",
           "ticks": "",
           "title": {
            "standoff": 15
           },
           "zerolinecolor": "white",
           "zerolinewidth": 2
          },
          "yaxis": {
           "automargin": true,
           "gridcolor": "white",
           "linecolor": "white",
           "ticks": "",
           "title": {
            "standoff": 15
           },
           "zerolinecolor": "white",
           "zerolinewidth": 2
          }
         }
        },
        "title": {
         "text": "Mean of Model Parameters"
        },
        "xaxis": {
         "title": {
          "text": "Parameter Name"
         }
        },
        "yaxis": {
         "title": {
          "text": "Mean"
         }
        }
       }
      }
     },
     "metadata": {},
     "output_type": "display_data"
    },
    {
     "data": {
      "application/vnd.plotly.v1+json": {
       "config": {
        "plotlyServerURL": "https://plotly.com"
       },
       "data": [
        {
         "hovertemplate": "Parameter: %{hovertext}<br>Log Std: %{text:.4f}",
         "hovertext": [
          "weight",
          "weight",
          "weight",
          "W_pos",
          "W_Q",
          "W_K",
          "W_V",
          "W_O",
          "b_Q",
          "b_K",
          "b_V",
          "b_O",
          "W_in",
          "b_in",
          "W_out",
          "b_out",
          "W_Q",
          "W_K",
          "W_V",
          "W_O",
          "b_Q",
          "b_K",
          "b_V",
          "b_O",
          "W_in",
          "b_in",
          "W_out",
          "b_out",
          "weight",
          "bias",
          "weight",
          "bias",
          "weight",
          "weight",
          "bias"
         ],
         "marker": {
          "color": [
           "purple",
           "purple",
           "purple",
           "red",
           "red",
           "red",
           "red",
           "red",
           "blue",
           "blue",
           "blue",
           "blue",
           "red",
           "blue",
           "red",
           "blue",
           "red",
           "red",
           "red",
           "red",
           "blue",
           "blue",
           "blue",
           "blue",
           "red",
           "blue",
           "red",
           "blue",
           "red",
           "blue",
           "red",
           "blue",
           "purple",
           "red",
           "blue"
          ]
         },
         "text": [
          3.9443917765628904,
          3.9127998662208223,
          3.9099668271419232,
          3.9039483663232324,
          3.921433384837252,
          3.9049625096975435,
          3.9023133187737904,
          3.912929801925202,
          null,
          null,
          null,
          null,
          3.9097384043584245,
          null,
          3.913032625284131,
          null,
          3.906488897417644,
          3.913929211838044,
          3.917100615476135,
          3.916504146528315,
          null,
          null,
          null,
          null,
          3.9161201017955722,
          null,
          3.914957829780216,
          null,
          3.9859411141218333,
          null,
          3.9104164836345348,
          null,
          3.831108623993503,
          3.9699218651241095,
          null
         ],
         "textposition": "outside",
         "texttemplate": "%{text:.4f}",
         "type": "bar",
         "x": [
          "action_embedding.0.weight",
          "time_embedding.weight",
          "state_embedding.weight",
          "transformer.pos_embed.W_pos",
          "transformer.blocks.0.attn.W_Q",
          "transformer.blocks.0.attn.W_K",
          "transformer.blocks.0.attn.W_V",
          "transformer.blocks.0.attn.W_O",
          "transformer.blocks.0.attn.b_Q",
          "transformer.blocks.0.attn.b_K",
          "transformer.blocks.0.attn.b_V",
          "transformer.blocks.0.attn.b_O",
          "transformer.blocks.0.mlp.W_in",
          "transformer.blocks.0.mlp.b_in",
          "transformer.blocks.0.mlp.W_out",
          "transformer.blocks.0.mlp.b_out",
          "transformer.blocks.1.attn.W_Q",
          "transformer.blocks.1.attn.W_K",
          "transformer.blocks.1.attn.W_V",
          "transformer.blocks.1.attn.W_O",
          "transformer.blocks.1.attn.b_Q",
          "transformer.blocks.1.attn.b_K",
          "transformer.blocks.1.attn.b_V",
          "transformer.blocks.1.attn.b_O",
          "transformer.blocks.1.mlp.W_in",
          "transformer.blocks.1.mlp.b_in",
          "transformer.blocks.1.mlp.W_out",
          "transformer.blocks.1.mlp.b_out",
          "action_predictor.weight",
          "action_predictor.bias",
          "state_predictor.weight",
          "state_predictor.bias",
          "reward_embedding.0.weight",
          "reward_predictor.weight",
          "reward_predictor.bias"
         ],
         "y": [
          3.9443917765628904,
          3.9127998662208223,
          3.9099668271419232,
          3.9039483663232324,
          3.921433384837252,
          3.9049625096975435,
          3.9023133187737904,
          3.912929801925202,
          null,
          null,
          null,
          null,
          3.9097384043584245,
          null,
          3.913032625284131,
          null,
          3.906488897417644,
          3.913929211838044,
          3.917100615476135,
          3.916504146528315,
          null,
          null,
          null,
          null,
          3.9161201017955722,
          null,
          3.914957829780216,
          null,
          3.9859411141218333,
          null,
          3.9104164836345348,
          null,
          3.831108623993503,
          3.9699218651241095,
          null
         ]
        }
       ],
       "layout": {
        "shapes": [
         {
          "line": {
           "color": "red",
           "dash": "dash",
           "width": 2
          },
          "type": "line",
          "x0": 0,
          "x1": 35,
          "y0": 3.912023005428146,
          "y1": 3.912023005428146
         }
        ],
        "template": {
         "data": {
          "bar": [
           {
            "error_x": {
             "color": "#2a3f5f"
            },
            "error_y": {
             "color": "#2a3f5f"
            },
            "marker": {
             "line": {
              "color": "#E5ECF6",
              "width": 0.5
             },
             "pattern": {
              "fillmode": "overlay",
              "size": 10,
              "solidity": 0.2
             }
            },
            "type": "bar"
           }
          ],
          "barpolar": [
           {
            "marker": {
             "line": {
              "color": "#E5ECF6",
              "width": 0.5
             },
             "pattern": {
              "fillmode": "overlay",
              "size": 10,
              "solidity": 0.2
             }
            },
            "type": "barpolar"
           }
          ],
          "carpet": [
           {
            "aaxis": {
             "endlinecolor": "#2a3f5f",
             "gridcolor": "white",
             "linecolor": "white",
             "minorgridcolor": "white",
             "startlinecolor": "#2a3f5f"
            },
            "baxis": {
             "endlinecolor": "#2a3f5f",
             "gridcolor": "white",
             "linecolor": "white",
             "minorgridcolor": "white",
             "startlinecolor": "#2a3f5f"
            },
            "type": "carpet"
           }
          ],
          "choropleth": [
           {
            "colorbar": {
             "outlinewidth": 0,
             "ticks": ""
            },
            "type": "choropleth"
           }
          ],
          "contour": [
           {
            "colorbar": {
             "outlinewidth": 0,
             "ticks": ""
            },
            "colorscale": [
             [
              0,
              "#0d0887"
             ],
             [
              0.1111111111111111,
              "#46039f"
             ],
             [
              0.2222222222222222,
              "#7201a8"
             ],
             [
              0.3333333333333333,
              "#9c179e"
             ],
             [
              0.4444444444444444,
              "#bd3786"
             ],
             [
              0.5555555555555556,
              "#d8576b"
             ],
             [
              0.6666666666666666,
              "#ed7953"
             ],
             [
              0.7777777777777778,
              "#fb9f3a"
             ],
             [
              0.8888888888888888,
              "#fdca26"
             ],
             [
              1,
              "#f0f921"
             ]
            ],
            "type": "contour"
           }
          ],
          "contourcarpet": [
           {
            "colorbar": {
             "outlinewidth": 0,
             "ticks": ""
            },
            "type": "contourcarpet"
           }
          ],
          "heatmap": [
           {
            "colorbar": {
             "outlinewidth": 0,
             "ticks": ""
            },
            "colorscale": [
             [
              0,
              "#0d0887"
             ],
             [
              0.1111111111111111,
              "#46039f"
             ],
             [
              0.2222222222222222,
              "#7201a8"
             ],
             [
              0.3333333333333333,
              "#9c179e"
             ],
             [
              0.4444444444444444,
              "#bd3786"
             ],
             [
              0.5555555555555556,
              "#d8576b"
             ],
             [
              0.6666666666666666,
              "#ed7953"
             ],
             [
              0.7777777777777778,
              "#fb9f3a"
             ],
             [
              0.8888888888888888,
              "#fdca26"
             ],
             [
              1,
              "#f0f921"
             ]
            ],
            "type": "heatmap"
           }
          ],
          "heatmapgl": [
           {
            "colorbar": {
             "outlinewidth": 0,
             "ticks": ""
            },
            "colorscale": [
             [
              0,
              "#0d0887"
             ],
             [
              0.1111111111111111,
              "#46039f"
             ],
             [
              0.2222222222222222,
              "#7201a8"
             ],
             [
              0.3333333333333333,
              "#9c179e"
             ],
             [
              0.4444444444444444,
              "#bd3786"
             ],
             [
              0.5555555555555556,
              "#d8576b"
             ],
             [
              0.6666666666666666,
              "#ed7953"
             ],
             [
              0.7777777777777778,
              "#fb9f3a"
             ],
             [
              0.8888888888888888,
              "#fdca26"
             ],
             [
              1,
              "#f0f921"
             ]
            ],
            "type": "heatmapgl"
           }
          ],
          "histogram": [
           {
            "marker": {
             "pattern": {
              "fillmode": "overlay",
              "size": 10,
              "solidity": 0.2
             }
            },
            "type": "histogram"
           }
          ],
          "histogram2d": [
           {
            "colorbar": {
             "outlinewidth": 0,
             "ticks": ""
            },
            "colorscale": [
             [
              0,
              "#0d0887"
             ],
             [
              0.1111111111111111,
              "#46039f"
             ],
             [
              0.2222222222222222,
              "#7201a8"
             ],
             [
              0.3333333333333333,
              "#9c179e"
             ],
             [
              0.4444444444444444,
              "#bd3786"
             ],
             [
              0.5555555555555556,
              "#d8576b"
             ],
             [
              0.6666666666666666,
              "#ed7953"
             ],
             [
              0.7777777777777778,
              "#fb9f3a"
             ],
             [
              0.8888888888888888,
              "#fdca26"
             ],
             [
              1,
              "#f0f921"
             ]
            ],
            "type": "histogram2d"
           }
          ],
          "histogram2dcontour": [
           {
            "colorbar": {
             "outlinewidth": 0,
             "ticks": ""
            },
            "colorscale": [
             [
              0,
              "#0d0887"
             ],
             [
              0.1111111111111111,
              "#46039f"
             ],
             [
              0.2222222222222222,
              "#7201a8"
             ],
             [
              0.3333333333333333,
              "#9c179e"
             ],
             [
              0.4444444444444444,
              "#bd3786"
             ],
             [
              0.5555555555555556,
              "#d8576b"
             ],
             [
              0.6666666666666666,
              "#ed7953"
             ],
             [
              0.7777777777777778,
              "#fb9f3a"
             ],
             [
              0.8888888888888888,
              "#fdca26"
             ],
             [
              1,
              "#f0f921"
             ]
            ],
            "type": "histogram2dcontour"
           }
          ],
          "mesh3d": [
           {
            "colorbar": {
             "outlinewidth": 0,
             "ticks": ""
            },
            "type": "mesh3d"
           }
          ],
          "parcoords": [
           {
            "line": {
             "colorbar": {
              "outlinewidth": 0,
              "ticks": ""
             }
            },
            "type": "parcoords"
           }
          ],
          "pie": [
           {
            "automargin": true,
            "type": "pie"
           }
          ],
          "scatter": [
           {
            "fillpattern": {
             "fillmode": "overlay",
             "size": 10,
             "solidity": 0.2
            },
            "type": "scatter"
           }
          ],
          "scatter3d": [
           {
            "line": {
             "colorbar": {
              "outlinewidth": 0,
              "ticks": ""
             }
            },
            "marker": {
             "colorbar": {
              "outlinewidth": 0,
              "ticks": ""
             }
            },
            "type": "scatter3d"
           }
          ],
          "scattercarpet": [
           {
            "marker": {
             "colorbar": {
              "outlinewidth": 0,
              "ticks": ""
             }
            },
            "type": "scattercarpet"
           }
          ],
          "scattergeo": [
           {
            "marker": {
             "colorbar": {
              "outlinewidth": 0,
              "ticks": ""
             }
            },
            "type": "scattergeo"
           }
          ],
          "scattergl": [
           {
            "marker": {
             "colorbar": {
              "outlinewidth": 0,
              "ticks": ""
             }
            },
            "type": "scattergl"
           }
          ],
          "scattermapbox": [
           {
            "marker": {
             "colorbar": {
              "outlinewidth": 0,
              "ticks": ""
             }
            },
            "type": "scattermapbox"
           }
          ],
          "scatterpolar": [
           {
            "marker": {
             "colorbar": {
              "outlinewidth": 0,
              "ticks": ""
             }
            },
            "type": "scatterpolar"
           }
          ],
          "scatterpolargl": [
           {
            "marker": {
             "colorbar": {
              "outlinewidth": 0,
              "ticks": ""
             }
            },
            "type": "scatterpolargl"
           }
          ],
          "scatterternary": [
           {
            "marker": {
             "colorbar": {
              "outlinewidth": 0,
              "ticks": ""
             }
            },
            "type": "scatterternary"
           }
          ],
          "surface": [
           {
            "colorbar": {
             "outlinewidth": 0,
             "ticks": ""
            },
            "colorscale": [
             [
              0,
              "#0d0887"
             ],
             [
              0.1111111111111111,
              "#46039f"
             ],
             [
              0.2222222222222222,
              "#7201a8"
             ],
             [
              0.3333333333333333,
              "#9c179e"
             ],
             [
              0.4444444444444444,
              "#bd3786"
             ],
             [
              0.5555555555555556,
              "#d8576b"
             ],
             [
              0.6666666666666666,
              "#ed7953"
             ],
             [
              0.7777777777777778,
              "#fb9f3a"
             ],
             [
              0.8888888888888888,
              "#fdca26"
             ],
             [
              1,
              "#f0f921"
             ]
            ],
            "type": "surface"
           }
          ],
          "table": [
           {
            "cells": {
             "fill": {
              "color": "#EBF0F8"
             },
             "line": {
              "color": "white"
             }
            },
            "header": {
             "fill": {
              "color": "#C8D4E3"
             },
             "line": {
              "color": "white"
             }
            },
            "type": "table"
           }
          ]
         },
         "layout": {
          "annotationdefaults": {
           "arrowcolor": "#2a3f5f",
           "arrowhead": 0,
           "arrowwidth": 1
          },
          "autotypenumbers": "strict",
          "coloraxis": {
           "colorbar": {
            "outlinewidth": 0,
            "ticks": ""
           }
          },
          "colorscale": {
           "diverging": [
            [
             0,
             "#8e0152"
            ],
            [
             0.1,
             "#c51b7d"
            ],
            [
             0.2,
             "#de77ae"
            ],
            [
             0.3,
             "#f1b6da"
            ],
            [
             0.4,
             "#fde0ef"
            ],
            [
             0.5,
             "#f7f7f7"
            ],
            [
             0.6,
             "#e6f5d0"
            ],
            [
             0.7,
             "#b8e186"
            ],
            [
             0.8,
             "#7fbc41"
            ],
            [
             0.9,
             "#4d9221"
            ],
            [
             1,
             "#276419"
            ]
           ],
           "sequential": [
            [
             0,
             "#0d0887"
            ],
            [
             0.1111111111111111,
             "#46039f"
            ],
            [
             0.2222222222222222,
             "#7201a8"
            ],
            [
             0.3333333333333333,
             "#9c179e"
            ],
            [
             0.4444444444444444,
             "#bd3786"
            ],
            [
             0.5555555555555556,
             "#d8576b"
            ],
            [
             0.6666666666666666,
             "#ed7953"
            ],
            [
             0.7777777777777778,
             "#fb9f3a"
            ],
            [
             0.8888888888888888,
             "#fdca26"
            ],
            [
             1,
             "#f0f921"
            ]
           ],
           "sequentialminus": [
            [
             0,
             "#0d0887"
            ],
            [
             0.1111111111111111,
             "#46039f"
            ],
            [
             0.2222222222222222,
             "#7201a8"
            ],
            [
             0.3333333333333333,
             "#9c179e"
            ],
            [
             0.4444444444444444,
             "#bd3786"
            ],
            [
             0.5555555555555556,
             "#d8576b"
            ],
            [
             0.6666666666666666,
             "#ed7953"
            ],
            [
             0.7777777777777778,
             "#fb9f3a"
            ],
            [
             0.8888888888888888,
             "#fdca26"
            ],
            [
             1,
             "#f0f921"
            ]
           ]
          },
          "colorway": [
           "#636efa",
           "#EF553B",
           "#00cc96",
           "#ab63fa",
           "#FFA15A",
           "#19d3f3",
           "#FF6692",
           "#B6E880",
           "#FF97FF",
           "#FECB52"
          ],
          "font": {
           "color": "#2a3f5f"
          },
          "geo": {
           "bgcolor": "white",
           "lakecolor": "white",
           "landcolor": "#E5ECF6",
           "showlakes": true,
           "showland": true,
           "subunitcolor": "white"
          },
          "hoverlabel": {
           "align": "left"
          },
          "hovermode": "closest",
          "mapbox": {
           "style": "light"
          },
          "paper_bgcolor": "white",
          "plot_bgcolor": "#E5ECF6",
          "polar": {
           "angularaxis": {
            "gridcolor": "white",
            "linecolor": "white",
            "ticks": ""
           },
           "bgcolor": "#E5ECF6",
           "radialaxis": {
            "gridcolor": "white",
            "linecolor": "white",
            "ticks": ""
           }
          },
          "scene": {
           "xaxis": {
            "backgroundcolor": "#E5ECF6",
            "gridcolor": "white",
            "gridwidth": 2,
            "linecolor": "white",
            "showbackground": true,
            "ticks": "",
            "zerolinecolor": "white"
           },
           "yaxis": {
            "backgroundcolor": "#E5ECF6",
            "gridcolor": "white",
            "gridwidth": 2,
            "linecolor": "white",
            "showbackground": true,
            "ticks": "",
            "zerolinecolor": "white"
           },
           "zaxis": {
            "backgroundcolor": "#E5ECF6",
            "gridcolor": "white",
            "gridwidth": 2,
            "linecolor": "white",
            "showbackground": true,
            "ticks": "",
            "zerolinecolor": "white"
           }
          },
          "shapedefaults": {
           "line": {
            "color": "#2a3f5f"
           }
          },
          "ternary": {
           "aaxis": {
            "gridcolor": "white",
            "linecolor": "white",
            "ticks": ""
           },
           "baxis": {
            "gridcolor": "white",
            "linecolor": "white",
            "ticks": ""
           },
           "bgcolor": "#E5ECF6",
           "caxis": {
            "gridcolor": "white",
            "linecolor": "white",
            "ticks": ""
           }
          },
          "title": {
           "x": 0.05
          },
          "xaxis": {
           "automargin": true,
           "gridcolor": "white",
           "linecolor": "white",
           "ticks": "",
           "title": {
            "standoff": 15
           },
           "zerolinecolor": "white",
           "zerolinewidth": 2
          },
          "yaxis": {
           "automargin": true,
           "gridcolor": "white",
           "linecolor": "white",
           "ticks": "",
           "title": {
            "standoff": 15
           },
           "zerolinecolor": "white",
           "zerolinewidth": 2
          }
         }
        },
        "title": {
         "text": "Log of Standard Deviation of Model Parameters"
        },
        "xaxis": {
         "title": {
          "text": "Parameter Name"
         }
        },
        "yaxis": {
         "title": {
          "text": "Log of Standard Deviation"
         }
        }
       }
      }
     },
     "metadata": {},
     "output_type": "display_data"
    },
    {
     "data": {
      "application/vnd.plotly.v1+json": {
       "config": {
        "plotlyServerURL": "https://plotly.com"
       },
       "data": [
        {
         "hovertemplate": "Parameter: %{hovertext}<br>Norm: %{text:.4f}",
         "hovertext": [
          "weight",
          "weight",
          "weight",
          "W_pos",
          "W_Q",
          "W_K",
          "W_V",
          "W_O",
          "b_Q",
          "b_K",
          "b_V",
          "b_O",
          "W_in",
          "b_in",
          "W_out",
          "b_out",
          "W_Q",
          "W_K",
          "W_V",
          "W_O",
          "b_Q",
          "b_K",
          "b_V",
          "b_O",
          "W_in",
          "b_in",
          "W_out",
          "b_out",
          "weight",
          "bias",
          "weight",
          "bias",
          "weight",
          "weight",
          "bias"
         ],
         "marker": {
          "color": [
           "purple",
           "purple",
           "purple",
           "red",
           "red",
           "red",
           "red",
           "red",
           "blue",
           "blue",
           "blue",
           "blue",
           "red",
           "blue",
           "red",
           "blue",
           "red",
           "red",
           "red",
           "red",
           "blue",
           "blue",
           "blue",
           "blue",
           "red",
           "blue",
           "red",
           "blue",
           "red",
           "blue",
           "red",
           "blue",
           "purple",
           "red",
           "blue"
          ]
         },
         "text": [
          0.21884000301361084,
          0.22567570209503174,
          0.24259889125823975,
          0.22757066786289215,
          0.22376704216003418,
          0.22746329009532928,
          0.22806717455387115,
          0.11216764152050018,
          0,
          0,
          0,
          0,
          0.32049813866615295,
          0,
          0.22554461658000946,
          0,
          0.22718551754951477,
          0.22543780505657196,
          0.2248203605413437,
          0.11179904639720917,
          0,
          0,
          0,
          0,
          0.3183993697166443,
          0,
          0.22520269453525543,
          0,
          0.2100122570991516,
          0,
          0.22617724537849426,
          0,
          0.01734909974038601,
          0.21326890587806702,
          0
         ],
         "textposition": "outside",
         "texttemplate": "%{text:.4f}",
         "type": "bar",
         "x": [
          "action_embedding.0.weight",
          "time_embedding.weight",
          "state_embedding.weight",
          "transformer.pos_embed.W_pos",
          "transformer.blocks.0.attn.W_Q",
          "transformer.blocks.0.attn.W_K",
          "transformer.blocks.0.attn.W_V",
          "transformer.blocks.0.attn.W_O",
          "transformer.blocks.0.attn.b_Q",
          "transformer.blocks.0.attn.b_K",
          "transformer.blocks.0.attn.b_V",
          "transformer.blocks.0.attn.b_O",
          "transformer.blocks.0.mlp.W_in",
          "transformer.blocks.0.mlp.b_in",
          "transformer.blocks.0.mlp.W_out",
          "transformer.blocks.0.mlp.b_out",
          "transformer.blocks.1.attn.W_Q",
          "transformer.blocks.1.attn.W_K",
          "transformer.blocks.1.attn.W_V",
          "transformer.blocks.1.attn.W_O",
          "transformer.blocks.1.attn.b_Q",
          "transformer.blocks.1.attn.b_K",
          "transformer.blocks.1.attn.b_V",
          "transformer.blocks.1.attn.b_O",
          "transformer.blocks.1.mlp.W_in",
          "transformer.blocks.1.mlp.b_in",
          "transformer.blocks.1.mlp.W_out",
          "transformer.blocks.1.mlp.b_out",
          "action_predictor.weight",
          "action_predictor.bias",
          "state_predictor.weight",
          "state_predictor.bias",
          "reward_embedding.0.weight",
          "reward_predictor.weight",
          "reward_predictor.bias"
         ],
         "y": [
          0.21884000301361084,
          0.22567570209503174,
          0.24259889125823975,
          0.22757066786289215,
          0.22376704216003418,
          0.22746329009532928,
          0.22806717455387115,
          0.11216764152050018,
          0,
          0,
          0,
          0,
          0.32049813866615295,
          0,
          0.22554461658000946,
          0,
          0.22718551754951477,
          0.22543780505657196,
          0.2248203605413437,
          0.11179904639720917,
          0,
          0,
          0,
          0,
          0.3183993697166443,
          0,
          0.22520269453525543,
          0,
          0.2100122570991516,
          0,
          0.22617724537849426,
          0,
          0.01734909974038601,
          0.21326890587806702,
          0
         ]
        }
       ],
       "layout": {
        "template": {
         "data": {
          "bar": [
           {
            "error_x": {
             "color": "#2a3f5f"
            },
            "error_y": {
             "color": "#2a3f5f"
            },
            "marker": {
             "line": {
              "color": "#E5ECF6",
              "width": 0.5
             },
             "pattern": {
              "fillmode": "overlay",
              "size": 10,
              "solidity": 0.2
             }
            },
            "type": "bar"
           }
          ],
          "barpolar": [
           {
            "marker": {
             "line": {
              "color": "#E5ECF6",
              "width": 0.5
             },
             "pattern": {
              "fillmode": "overlay",
              "size": 10,
              "solidity": 0.2
             }
            },
            "type": "barpolar"
           }
          ],
          "carpet": [
           {
            "aaxis": {
             "endlinecolor": "#2a3f5f",
             "gridcolor": "white",
             "linecolor": "white",
             "minorgridcolor": "white",
             "startlinecolor": "#2a3f5f"
            },
            "baxis": {
             "endlinecolor": "#2a3f5f",
             "gridcolor": "white",
             "linecolor": "white",
             "minorgridcolor": "white",
             "startlinecolor": "#2a3f5f"
            },
            "type": "carpet"
           }
          ],
          "choropleth": [
           {
            "colorbar": {
             "outlinewidth": 0,
             "ticks": ""
            },
            "type": "choropleth"
           }
          ],
          "contour": [
           {
            "colorbar": {
             "outlinewidth": 0,
             "ticks": ""
            },
            "colorscale": [
             [
              0,
              "#0d0887"
             ],
             [
              0.1111111111111111,
              "#46039f"
             ],
             [
              0.2222222222222222,
              "#7201a8"
             ],
             [
              0.3333333333333333,
              "#9c179e"
             ],
             [
              0.4444444444444444,
              "#bd3786"
             ],
             [
              0.5555555555555556,
              "#d8576b"
             ],
             [
              0.6666666666666666,
              "#ed7953"
             ],
             [
              0.7777777777777778,
              "#fb9f3a"
             ],
             [
              0.8888888888888888,
              "#fdca26"
             ],
             [
              1,
              "#f0f921"
             ]
            ],
            "type": "contour"
           }
          ],
          "contourcarpet": [
           {
            "colorbar": {
             "outlinewidth": 0,
             "ticks": ""
            },
            "type": "contourcarpet"
           }
          ],
          "heatmap": [
           {
            "colorbar": {
             "outlinewidth": 0,
             "ticks": ""
            },
            "colorscale": [
             [
              0,
              "#0d0887"
             ],
             [
              0.1111111111111111,
              "#46039f"
             ],
             [
              0.2222222222222222,
              "#7201a8"
             ],
             [
              0.3333333333333333,
              "#9c179e"
             ],
             [
              0.4444444444444444,
              "#bd3786"
             ],
             [
              0.5555555555555556,
              "#d8576b"
             ],
             [
              0.6666666666666666,
              "#ed7953"
             ],
             [
              0.7777777777777778,
              "#fb9f3a"
             ],
             [
              0.8888888888888888,
              "#fdca26"
             ],
             [
              1,
              "#f0f921"
             ]
            ],
            "type": "heatmap"
           }
          ],
          "heatmapgl": [
           {
            "colorbar": {
             "outlinewidth": 0,
             "ticks": ""
            },
            "colorscale": [
             [
              0,
              "#0d0887"
             ],
             [
              0.1111111111111111,
              "#46039f"
             ],
             [
              0.2222222222222222,
              "#7201a8"
             ],
             [
              0.3333333333333333,
              "#9c179e"
             ],
             [
              0.4444444444444444,
              "#bd3786"
             ],
             [
              0.5555555555555556,
              "#d8576b"
             ],
             [
              0.6666666666666666,
              "#ed7953"
             ],
             [
              0.7777777777777778,
              "#fb9f3a"
             ],
             [
              0.8888888888888888,
              "#fdca26"
             ],
             [
              1,
              "#f0f921"
             ]
            ],
            "type": "heatmapgl"
           }
          ],
          "histogram": [
           {
            "marker": {
             "pattern": {
              "fillmode": "overlay",
              "size": 10,
              "solidity": 0.2
             }
            },
            "type": "histogram"
           }
          ],
          "histogram2d": [
           {
            "colorbar": {
             "outlinewidth": 0,
             "ticks": ""
            },
            "colorscale": [
             [
              0,
              "#0d0887"
             ],
             [
              0.1111111111111111,
              "#46039f"
             ],
             [
              0.2222222222222222,
              "#7201a8"
             ],
             [
              0.3333333333333333,
              "#9c179e"
             ],
             [
              0.4444444444444444,
              "#bd3786"
             ],
             [
              0.5555555555555556,
              "#d8576b"
             ],
             [
              0.6666666666666666,
              "#ed7953"
             ],
             [
              0.7777777777777778,
              "#fb9f3a"
             ],
             [
              0.8888888888888888,
              "#fdca26"
             ],
             [
              1,
              "#f0f921"
             ]
            ],
            "type": "histogram2d"
           }
          ],
          "histogram2dcontour": [
           {
            "colorbar": {
             "outlinewidth": 0,
             "ticks": ""
            },
            "colorscale": [
             [
              0,
              "#0d0887"
             ],
             [
              0.1111111111111111,
              "#46039f"
             ],
             [
              0.2222222222222222,
              "#7201a8"
             ],
             [
              0.3333333333333333,
              "#9c179e"
             ],
             [
              0.4444444444444444,
              "#bd3786"
             ],
             [
              0.5555555555555556,
              "#d8576b"
             ],
             [
              0.6666666666666666,
              "#ed7953"
             ],
             [
              0.7777777777777778,
              "#fb9f3a"
             ],
             [
              0.8888888888888888,
              "#fdca26"
             ],
             [
              1,
              "#f0f921"
             ]
            ],
            "type": "histogram2dcontour"
           }
          ],
          "mesh3d": [
           {
            "colorbar": {
             "outlinewidth": 0,
             "ticks": ""
            },
            "type": "mesh3d"
           }
          ],
          "parcoords": [
           {
            "line": {
             "colorbar": {
              "outlinewidth": 0,
              "ticks": ""
             }
            },
            "type": "parcoords"
           }
          ],
          "pie": [
           {
            "automargin": true,
            "type": "pie"
           }
          ],
          "scatter": [
           {
            "fillpattern": {
             "fillmode": "overlay",
             "size": 10,
             "solidity": 0.2
            },
            "type": "scatter"
           }
          ],
          "scatter3d": [
           {
            "line": {
             "colorbar": {
              "outlinewidth": 0,
              "ticks": ""
             }
            },
            "marker": {
             "colorbar": {
              "outlinewidth": 0,
              "ticks": ""
             }
            },
            "type": "scatter3d"
           }
          ],
          "scattercarpet": [
           {
            "marker": {
             "colorbar": {
              "outlinewidth": 0,
              "ticks": ""
             }
            },
            "type": "scattercarpet"
           }
          ],
          "scattergeo": [
           {
            "marker": {
             "colorbar": {
              "outlinewidth": 0,
              "ticks": ""
             }
            },
            "type": "scattergeo"
           }
          ],
          "scattergl": [
           {
            "marker": {
             "colorbar": {
              "outlinewidth": 0,
              "ticks": ""
             }
            },
            "type": "scattergl"
           }
          ],
          "scattermapbox": [
           {
            "marker": {
             "colorbar": {
              "outlinewidth": 0,
              "ticks": ""
             }
            },
            "type": "scattermapbox"
           }
          ],
          "scatterpolar": [
           {
            "marker": {
             "colorbar": {
              "outlinewidth": 0,
              "ticks": ""
             }
            },
            "type": "scatterpolar"
           }
          ],
          "scatterpolargl": [
           {
            "marker": {
             "colorbar": {
              "outlinewidth": 0,
              "ticks": ""
             }
            },
            "type": "scatterpolargl"
           }
          ],
          "scatterternary": [
           {
            "marker": {
             "colorbar": {
              "outlinewidth": 0,
              "ticks": ""
             }
            },
            "type": "scatterternary"
           }
          ],
          "surface": [
           {
            "colorbar": {
             "outlinewidth": 0,
             "ticks": ""
            },
            "colorscale": [
             [
              0,
              "#0d0887"
             ],
             [
              0.1111111111111111,
              "#46039f"
             ],
             [
              0.2222222222222222,
              "#7201a8"
             ],
             [
              0.3333333333333333,
              "#9c179e"
             ],
             [
              0.4444444444444444,
              "#bd3786"
             ],
             [
              0.5555555555555556,
              "#d8576b"
             ],
             [
              0.6666666666666666,
              "#ed7953"
             ],
             [
              0.7777777777777778,
              "#fb9f3a"
             ],
             [
              0.8888888888888888,
              "#fdca26"
             ],
             [
              1,
              "#f0f921"
             ]
            ],
            "type": "surface"
           }
          ],
          "table": [
           {
            "cells": {
             "fill": {
              "color": "#EBF0F8"
             },
             "line": {
              "color": "white"
             }
            },
            "header": {
             "fill": {
              "color": "#C8D4E3"
             },
             "line": {
              "color": "white"
             }
            },
            "type": "table"
           }
          ]
         },
         "layout": {
          "annotationdefaults": {
           "arrowcolor": "#2a3f5f",
           "arrowhead": 0,
           "arrowwidth": 1
          },
          "autotypenumbers": "strict",
          "coloraxis": {
           "colorbar": {
            "outlinewidth": 0,
            "ticks": ""
           }
          },
          "colorscale": {
           "diverging": [
            [
             0,
             "#8e0152"
            ],
            [
             0.1,
             "#c51b7d"
            ],
            [
             0.2,
             "#de77ae"
            ],
            [
             0.3,
             "#f1b6da"
            ],
            [
             0.4,
             "#fde0ef"
            ],
            [
             0.5,
             "#f7f7f7"
            ],
            [
             0.6,
             "#e6f5d0"
            ],
            [
             0.7,
             "#b8e186"
            ],
            [
             0.8,
             "#7fbc41"
            ],
            [
             0.9,
             "#4d9221"
            ],
            [
             1,
             "#276419"
            ]
           ],
           "sequential": [
            [
             0,
             "#0d0887"
            ],
            [
             0.1111111111111111,
             "#46039f"
            ],
            [
             0.2222222222222222,
             "#7201a8"
            ],
            [
             0.3333333333333333,
             "#9c179e"
            ],
            [
             0.4444444444444444,
             "#bd3786"
            ],
            [
             0.5555555555555556,
             "#d8576b"
            ],
            [
             0.6666666666666666,
             "#ed7953"
            ],
            [
             0.7777777777777778,
             "#fb9f3a"
            ],
            [
             0.8888888888888888,
             "#fdca26"
            ],
            [
             1,
             "#f0f921"
            ]
           ],
           "sequentialminus": [
            [
             0,
             "#0d0887"
            ],
            [
             0.1111111111111111,
             "#46039f"
            ],
            [
             0.2222222222222222,
             "#7201a8"
            ],
            [
             0.3333333333333333,
             "#9c179e"
            ],
            [
             0.4444444444444444,
             "#bd3786"
            ],
            [
             0.5555555555555556,
             "#d8576b"
            ],
            [
             0.6666666666666666,
             "#ed7953"
            ],
            [
             0.7777777777777778,
             "#fb9f3a"
            ],
            [
             0.8888888888888888,
             "#fdca26"
            ],
            [
             1,
             "#f0f921"
            ]
           ]
          },
          "colorway": [
           "#636efa",
           "#EF553B",
           "#00cc96",
           "#ab63fa",
           "#FFA15A",
           "#19d3f3",
           "#FF6692",
           "#B6E880",
           "#FF97FF",
           "#FECB52"
          ],
          "font": {
           "color": "#2a3f5f"
          },
          "geo": {
           "bgcolor": "white",
           "lakecolor": "white",
           "landcolor": "#E5ECF6",
           "showlakes": true,
           "showland": true,
           "subunitcolor": "white"
          },
          "hoverlabel": {
           "align": "left"
          },
          "hovermode": "closest",
          "mapbox": {
           "style": "light"
          },
          "paper_bgcolor": "white",
          "plot_bgcolor": "#E5ECF6",
          "polar": {
           "angularaxis": {
            "gridcolor": "white",
            "linecolor": "white",
            "ticks": ""
           },
           "bgcolor": "#E5ECF6",
           "radialaxis": {
            "gridcolor": "white",
            "linecolor": "white",
            "ticks": ""
           }
          },
          "scene": {
           "xaxis": {
            "backgroundcolor": "#E5ECF6",
            "gridcolor": "white",
            "gridwidth": 2,
            "linecolor": "white",
            "showbackground": true,
            "ticks": "",
            "zerolinecolor": "white"
           },
           "yaxis": {
            "backgroundcolor": "#E5ECF6",
            "gridcolor": "white",
            "gridwidth": 2,
            "linecolor": "white",
            "showbackground": true,
            "ticks": "",
            "zerolinecolor": "white"
           },
           "zaxis": {
            "backgroundcolor": "#E5ECF6",
            "gridcolor": "white",
            "gridwidth": 2,
            "linecolor": "white",
            "showbackground": true,
            "ticks": "",
            "zerolinecolor": "white"
           }
          },
          "shapedefaults": {
           "line": {
            "color": "#2a3f5f"
           }
          },
          "ternary": {
           "aaxis": {
            "gridcolor": "white",
            "linecolor": "white",
            "ticks": ""
           },
           "baxis": {
            "gridcolor": "white",
            "linecolor": "white",
            "ticks": ""
           },
           "bgcolor": "#E5ECF6",
           "caxis": {
            "gridcolor": "white",
            "linecolor": "white",
            "ticks": ""
           }
          },
          "title": {
           "x": 0.05
          },
          "xaxis": {
           "automargin": true,
           "gridcolor": "white",
           "linecolor": "white",
           "ticks": "",
           "title": {
            "standoff": 15
           },
           "zerolinecolor": "white",
           "zerolinewidth": 2
          },
          "yaxis": {
           "automargin": true,
           "gridcolor": "white",
           "linecolor": "white",
           "ticks": "",
           "title": {
            "standoff": 15
           },
           "zerolinecolor": "white",
           "zerolinewidth": 2
          }
         }
        },
        "title": {
         "text": "Norm of Model Parameters"
        },
        "xaxis": {
         "title": {
          "text": "Parameter Name"
         }
        },
        "yaxis": {
         "title": {
          "text": "Norm"
         }
        }
       }
      }
     },
     "metadata": {},
     "output_type": "display_data"
    }
   ],
   "source": [
    "import torch\n",
    "import pandas as pd\n",
    "\n",
    "def get_param_stats(model):\n",
    "    param_stats = []\n",
    "\n",
    "    for name, param in model.named_parameters():\n",
    "        mean = param.data.mean().item()\n",
    "        std = param.data.std().item()\n",
    "        if param.data.dim() > 1:\n",
    "            norm = torch.norm(param.data, dim=1).mean().item()\n",
    "        else:\n",
    "            norm = torch.norm(param.data).item()\n",
    "        param_stats.append({'name': name, 'mean': mean, 'std': std, 'norm': norm})\n",
    "\n",
    "    df = pd.DataFrame(param_stats)\n",
    "    return df\n",
    "\n",
    "\n",
    "import plotly.express as px\n",
    "import plotly.graph_objects as go\n",
    "import numpy as np \n",
    "\n",
    "def plot_param_stats(df):\n",
    "    # Calculate log of standard deviation\n",
    "    df['log_std'] = -1*np.log(df['std'])\n",
    "\n",
    "    # add color column to df, red for ends with weight, blue for ends with bias, purple if embedding\n",
    "    df['color'] = 'green'\n",
    "    df.loc[df['name'].str.endswith('weight'), 'color'] = 'red'\n",
    "    df.loc[df['name'].str.contains('W_'), 'color'] = 'red'\n",
    "    df.loc[df['name'].str.endswith('bias'), 'color'] = 'blue'\n",
    "    df.loc[df['name'].str.contains('b_'), 'color'] = 'blue'\n",
    "    df.loc[df['name'].str.contains('embedding'), 'color'] = 'purple'\n",
    "\n",
    "    # make a name label which is name.split('.')[-1]\n",
    "    df['name_label'] = df['name'].apply(lambda x: x.split('.')[-1])\n",
    "\n",
    "    # Create the mean bar chart\n",
    "    fig_mean = go.Figure()\n",
    "    fig_mean.add_trace(go.Bar(x=df['name'], y=df['mean'], text=df['mean'], textposition='outside', \n",
    "                          hovertext=df['name_label'], marker_color=df['color']))\n",
    "    fig_mean.update_traces(texttemplate='%{text:.4f}', hovertemplate='Parameter: %{hovertext}<br>Mean: %{text:.4f}')\n",
    "    fig_mean.update_yaxes(title_text='Mean')\n",
    "    fig_mean.update_xaxes(title_text='Parameter Name')\n",
    "    fig_mean.update_layout(title_text='Mean of Model Parameters')\n",
    "    \n",
    "\n",
    "    # Create the norm chart\n",
    "    fig_norm = go.Figure()\n",
    "    fig_norm.add_trace(go.Bar(x=df['name'], y=df['norm'], text=df['norm'], textposition='outside', \n",
    "                              hovertext=df['name_label'], marker_color=df['color']))\n",
    "    fig_norm.update_traces(texttemplate='%{text:.4f}', hovertemplate='Parameter: %{hovertext}<br>Norm: %{text:.4f}')\n",
    "    fig_norm.update_yaxes(title_text='Norm')\n",
    "    fig_norm.update_xaxes(title_text='Parameter Name')\n",
    "    fig_norm.update_layout(title_text='Norm of Model Parameters')\n",
    "\n",
    "    # Create the log of standard deviation bar chart\n",
    "    fig_log_std = go.Figure()\n",
    "    fig_log_std.add_trace(go.Bar(x=df['name'], y=df['log_std'], text=df['log_std'], textposition='outside', \n",
    "                                 hovertext=df['name_label'], marker_color=df['color']))\n",
    "    fig_log_std.update_traces(texttemplate='%{text:.4f}', hovertemplate='Parameter: %{hovertext}<br>Log Std: %{text:.4f}')\n",
    "    fig_log_std.update_yaxes(title_text='Log of Standard Deviation')\n",
    "    fig_log_std.update_xaxes(title_text='Parameter Name')\n",
    "    fig_log_std.update_layout(title_text='Log of Standard Deviation of Model Parameters')\n",
    "    # add a horizontal line at y = 1.69\n",
    "    fig_log_std.add_shape(type='line', x0=0, y0=-np.log(0.02), x1=len(df['name']), y1=-np.log(0.02), line=dict(color='red', width=2, dash='dash'))\n",
    "\n",
    "    # Show both plots\n",
    "    fig_mean.show()\n",
    "    fig_log_std.show()\n",
    "    fig_norm.show()\n",
    "\n",
    "\n",
    "df = get_param_stats(DT)\n",
    "plot_param_stats(df)\n",
    "\n",
    "# df = get_param_stats(lstm_model)\n",
    "# plot_param_stats(df)"
   ]
  },
  {
   "cell_type": "code",
   "execution_count": null,
   "metadata": {},
   "outputs": [],
   "source": [
    "\n",
    "\n",
    "import gymnasium as gym \n",
    "from src.models.trajectory_lstm import TrajectoryLSTM\n",
    "\n",
    "lstm_config = LSTMModelConfig(env_config)\n",
    "lstm_model = TrajectoryLSTM(lstm_config)\n",
    "\n",
    "print(lstm_config)\n",
    "summary(lstm_model, depth=4)"
   ]
  }
 ],
 "metadata": {
  "kernelspec": {
   "display_name": "decision_transformer_interpretability",
   "language": "python",
   "name": "python3"
  },
  "language_info": {
   "codemirror_mode": {
    "name": "ipython",
    "version": 3
   },
   "file_extension": ".py",
   "mimetype": "text/x-python",
   "name": "python",
   "nbconvert_exporter": "python",
   "pygments_lexer": "ipython3",
   "version": "3.10.9"
  },
  "orig_nbformat": 4
 },
 "nbformat": 4,
 "nbformat_minor": 2
}
